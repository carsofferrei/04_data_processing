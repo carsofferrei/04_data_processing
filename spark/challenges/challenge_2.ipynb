{
  "cells": [
    {
      "cell_type": "markdown",
      "metadata": {
        "id": "view-in-github",
        "colab_type": "text"
      },
      "source": [
        "<a href=\"https://colab.research.google.com/github/carsofferrei/04_data_processing/blob/main/spark/challenges/challenge_2.ipynb\" target=\"_parent\"><img src=\"https://colab.research.google.com/assets/colab-badge.svg\" alt=\"Open In Colab\"/></a>"
      ]
    },
    {
      "cell_type": "markdown",
      "metadata": {
        "id": "BOA_wQSmLd9z"
      },
      "source": [
        "# CHALLENGE 2\n",
        "##  Implement CLEANSING process\n",
        "- Set up path in the \"lake\"\n",
        "  - !mkdir -p /content/lake/silver\n",
        "\n",
        "- Read data from BRONZE layer as PARQUET:\n",
        "    - vehicles - path: /content/lake/bronze/vehicles\n",
        "    - lines - path: /content/lake/bronze/lines\n",
        "    - municipalities - path: /content/lake/bronze/municipalities\n",
        "\n",
        "- Transformations\n",
        "  - vehicles\n",
        "    - rename \"lat\" and \"lon\" to \"latitude\" and \"longitude\" respectively\n",
        "    - remove possible duplicates\n",
        "    - remove rows when the column CURRENT_STATUS is null\n",
        "    - remove any corrupted record\n",
        "  - lines\n",
        "    - remove duplicates\n",
        "    - remove rows when the column LONG_NAME is null\n",
        "    - remove any corrupted record\n",
        "  - municipalities\n",
        "    - remove duplicates\n",
        "    - remove rows when the columns NAME or DISTRICT_NAME are null\n",
        "    - remove any corrupted record\n",
        "\n",
        "- Write data as PARQUET into the SILVER layer (/content/lake/silver)\n",
        "  - Partition \"vehicles\" by \"date\"(created in the ingestion)\n",
        "  - Paths:\n",
        "    - vehicles - path: /content/lake/silver/vehicles\n",
        "    - lines - path: /content/lake/silver/lines\n",
        "    - municipalities - path: /content/lake/silver/municipalities"
      ]
    },
    {
      "cell_type": "markdown",
      "metadata": {
        "id": "d9LeYFsPTjAb"
      },
      "source": [
        "# Setting up PySpark"
      ]
    },
    {
      "cell_type": "code",
      "execution_count": 1,
      "metadata": {
        "colab": {
          "base_uri": "https://localhost:8080/"
        },
        "id": "uYXeODL0T1fO",
        "outputId": "9e810712-3d5f-44e3-d7f7-b84234a8403f"
      },
      "outputs": [
        {
          "output_type": "stream",
          "name": "stdout",
          "text": [
            "Requirement already satisfied: pyspark in /usr/local/lib/python3.10/dist-packages (3.5.3)\n",
            "Requirement already satisfied: py4j==0.10.9.7 in /usr/local/lib/python3.10/dist-packages (from pyspark) (0.10.9.7)\n"
          ]
        }
      ],
      "source": [
        "%pip install pyspark"
      ]
    },
    {
      "cell_type": "code",
      "source": [
        "# Import SparkSession\n",
        "\n",
        "from pyspark.sql import SparkSession\n",
        "spark = SparkSession.builder.master('local').appName('Carla_Ferreira_API_challenge').config('spark.ui.port', '4050').getOrCreate()\n",
        "sc = spark.sparkContext"
      ],
      "metadata": {
        "id": "vvYTjvntXojv"
      },
      "execution_count": 2,
      "outputs": []
    },
    {
      "cell_type": "markdown",
      "source": [
        "Read the data from the Lake"
      ],
      "metadata": {
        "id": "PHB-8p8fX4Dn"
      }
    },
    {
      "cell_type": "code",
      "source": [
        "!ls /content/lake/bronze"
      ],
      "metadata": {
        "colab": {
          "base_uri": "https://localhost:8080/"
        },
        "id": "DwXc5Yonp1Ei",
        "outputId": "0485828a-512c-47e7-dc8f-05cbc3db3e9e"
      },
      "execution_count": 4,
      "outputs": [
        {
          "output_type": "stream",
          "name": "stdout",
          "text": [
            "ls: cannot access '/content/lake/bronze': No such file or directory\n"
          ]
        }
      ]
    },
    {
      "cell_type": "code",
      "source": [
        "vehicles = spark.read.parquet(\"/content/lake/bronze/vehicles\").show()\n",
        "lines = spark.read.parquet(\"/content/lake/bronze/lines\").show()\n",
        "municipalities = spark.read.parquet(\"/content/lake/bronze/municipalities\").show()"
      ],
      "metadata": {
        "colab": {
          "base_uri": "https://localhost:8080/",
          "height": 335
        },
        "id": "0jpjHonNX1Z1",
        "outputId": "38cec2c0-70be-43d5-ee6f-55149b8ad826"
      },
      "execution_count": 3,
      "outputs": [
        {
          "output_type": "error",
          "ename": "AnalysisException",
          "evalue": "[PATH_NOT_FOUND] Path does not exist: file:/content/lake/bronze/vehicles.",
          "traceback": [
            "\u001b[0;31m---------------------------------------------------------------------------\u001b[0m",
            "\u001b[0;31mAnalysisException\u001b[0m                         Traceback (most recent call last)",
            "\u001b[0;32m<ipython-input-3-79cc93447a05>\u001b[0m in \u001b[0;36m<cell line: 1>\u001b[0;34m()\u001b[0m\n\u001b[0;32m----> 1\u001b[0;31m \u001b[0mvehicles\u001b[0m \u001b[0;34m=\u001b[0m \u001b[0mspark\u001b[0m\u001b[0;34m.\u001b[0m\u001b[0mread\u001b[0m\u001b[0;34m.\u001b[0m\u001b[0mparquet\u001b[0m\u001b[0;34m(\u001b[0m\u001b[0;34m\"/content/lake/bronze/vehicles\"\u001b[0m\u001b[0;34m)\u001b[0m\u001b[0;34m.\u001b[0m\u001b[0mshow\u001b[0m\u001b[0;34m(\u001b[0m\u001b[0;34m)\u001b[0m\u001b[0;34m\u001b[0m\u001b[0;34m\u001b[0m\u001b[0m\n\u001b[0m\u001b[1;32m      2\u001b[0m \u001b[0mlines\u001b[0m \u001b[0;34m=\u001b[0m \u001b[0mspark\u001b[0m\u001b[0;34m.\u001b[0m\u001b[0mread\u001b[0m\u001b[0;34m.\u001b[0m\u001b[0mparquet\u001b[0m\u001b[0;34m(\u001b[0m\u001b[0;34m\"/content/lake/bronze/lines\"\u001b[0m\u001b[0;34m)\u001b[0m\u001b[0;34m.\u001b[0m\u001b[0mshow\u001b[0m\u001b[0;34m(\u001b[0m\u001b[0;34m)\u001b[0m\u001b[0;34m\u001b[0m\u001b[0;34m\u001b[0m\u001b[0m\n\u001b[1;32m      3\u001b[0m \u001b[0mmunicipalities\u001b[0m \u001b[0;34m=\u001b[0m \u001b[0mspark\u001b[0m\u001b[0;34m.\u001b[0m\u001b[0mread\u001b[0m\u001b[0;34m.\u001b[0m\u001b[0mparquet\u001b[0m\u001b[0;34m(\u001b[0m\u001b[0;34m\"/content/lake/bronze/municipalities\"\u001b[0m\u001b[0;34m)\u001b[0m\u001b[0;34m.\u001b[0m\u001b[0mshow\u001b[0m\u001b[0;34m(\u001b[0m\u001b[0;34m)\u001b[0m\u001b[0;34m\u001b[0m\u001b[0;34m\u001b[0m\u001b[0m\n",
            "\u001b[0;32m/usr/local/lib/python3.10/dist-packages/pyspark/sql/readwriter.py\u001b[0m in \u001b[0;36mparquet\u001b[0;34m(self, *paths, **options)\u001b[0m\n\u001b[1;32m    542\u001b[0m         )\n\u001b[1;32m    543\u001b[0m \u001b[0;34m\u001b[0m\u001b[0m\n\u001b[0;32m--> 544\u001b[0;31m         \u001b[0;32mreturn\u001b[0m \u001b[0mself\u001b[0m\u001b[0;34m.\u001b[0m\u001b[0m_df\u001b[0m\u001b[0;34m(\u001b[0m\u001b[0mself\u001b[0m\u001b[0;34m.\u001b[0m\u001b[0m_jreader\u001b[0m\u001b[0;34m.\u001b[0m\u001b[0mparquet\u001b[0m\u001b[0;34m(\u001b[0m\u001b[0m_to_seq\u001b[0m\u001b[0;34m(\u001b[0m\u001b[0mself\u001b[0m\u001b[0;34m.\u001b[0m\u001b[0m_spark\u001b[0m\u001b[0;34m.\u001b[0m\u001b[0m_sc\u001b[0m\u001b[0;34m,\u001b[0m \u001b[0mpaths\u001b[0m\u001b[0;34m)\u001b[0m\u001b[0;34m)\u001b[0m\u001b[0;34m)\u001b[0m\u001b[0;34m\u001b[0m\u001b[0;34m\u001b[0m\u001b[0m\n\u001b[0m\u001b[1;32m    545\u001b[0m \u001b[0;34m\u001b[0m\u001b[0m\n\u001b[1;32m    546\u001b[0m     def text(\n",
            "\u001b[0;32m/usr/local/lib/python3.10/dist-packages/py4j/java_gateway.py\u001b[0m in \u001b[0;36m__call__\u001b[0;34m(self, *args)\u001b[0m\n\u001b[1;32m   1320\u001b[0m \u001b[0;34m\u001b[0m\u001b[0m\n\u001b[1;32m   1321\u001b[0m         \u001b[0manswer\u001b[0m \u001b[0;34m=\u001b[0m \u001b[0mself\u001b[0m\u001b[0;34m.\u001b[0m\u001b[0mgateway_client\u001b[0m\u001b[0;34m.\u001b[0m\u001b[0msend_command\u001b[0m\u001b[0;34m(\u001b[0m\u001b[0mcommand\u001b[0m\u001b[0;34m)\u001b[0m\u001b[0;34m\u001b[0m\u001b[0;34m\u001b[0m\u001b[0m\n\u001b[0;32m-> 1322\u001b[0;31m         return_value = get_return_value(\n\u001b[0m\u001b[1;32m   1323\u001b[0m             answer, self.gateway_client, self.target_id, self.name)\n\u001b[1;32m   1324\u001b[0m \u001b[0;34m\u001b[0m\u001b[0m\n",
            "\u001b[0;32m/usr/local/lib/python3.10/dist-packages/pyspark/errors/exceptions/captured.py\u001b[0m in \u001b[0;36mdeco\u001b[0;34m(*a, **kw)\u001b[0m\n\u001b[1;32m    183\u001b[0m                 \u001b[0;31m# Hide where the exception came from that shows a non-Pythonic\u001b[0m\u001b[0;34m\u001b[0m\u001b[0;34m\u001b[0m\u001b[0m\n\u001b[1;32m    184\u001b[0m                 \u001b[0;31m# JVM exception message.\u001b[0m\u001b[0;34m\u001b[0m\u001b[0;34m\u001b[0m\u001b[0m\n\u001b[0;32m--> 185\u001b[0;31m                 \u001b[0;32mraise\u001b[0m \u001b[0mconverted\u001b[0m \u001b[0;32mfrom\u001b[0m \u001b[0;32mNone\u001b[0m\u001b[0;34m\u001b[0m\u001b[0;34m\u001b[0m\u001b[0m\n\u001b[0m\u001b[1;32m    186\u001b[0m             \u001b[0;32melse\u001b[0m\u001b[0;34m:\u001b[0m\u001b[0;34m\u001b[0m\u001b[0;34m\u001b[0m\u001b[0m\n\u001b[1;32m    187\u001b[0m                 \u001b[0;32mraise\u001b[0m\u001b[0;34m\u001b[0m\u001b[0;34m\u001b[0m\u001b[0m\n",
            "\u001b[0;31mAnalysisException\u001b[0m: [PATH_NOT_FOUND] Path does not exist: file:/content/lake/bronze/vehicles."
          ]
        }
      ]
    },
    {
      "cell_type": "markdown",
      "source": [
        "**Transformations**"
      ],
      "metadata": {
        "id": "J1RTXJm2YoCc"
      }
    },
    {
      "cell_type": "code",
      "source": [
        "# Vehicles\n",
        "# rename \"lat\" and \"lon\" to \"latitude\" and \"longitude\" respectively\n",
        "vehicles = vehicles.withColumnRenamed(\"lat\", \"latitude\") \\\n",
        "                   .withColumnRenamed(\"lon\", \"longitude\")\n",
        "\n",
        "# remove possible duplicates\n",
        "vehicles = vehicles.drop_duplicates()\n",
        "# remove rows when the column CURRENT_STATUS is null\n",
        "vehicles = vehicles.filter(vehicles[\"current_status\"].isNotNull())\n",
        "# remove any corrupted record (????)"
      ],
      "metadata": {
        "id": "wzbsFiseYqTP"
      },
      "execution_count": null,
      "outputs": []
    },
    {
      "cell_type": "code",
      "source": [
        "# Lines\n",
        "# remove duplicates\n",
        "lines = lines.drop_duplicates()\n",
        "# remove rows when the column LONG_NAME is null\n",
        "lines = lines.filter(vehicles[\"long_name\"].isNotNull())\n",
        "# remove any corrupted record\n",
        "lines = lines.filter(vehicles[\"_corrupt_record\"].isNull())"
      ],
      "metadata": {
        "id": "3LWR8D0pYnKR"
      },
      "execution_count": null,
      "outputs": []
    },
    {
      "cell_type": "code",
      "source": [
        "# Municipalities\n",
        "# remove duplicates\n",
        "municipalities = municipalities.drop_duplicates()\n",
        "# remove rows when the columns NAME or DISTRICT_NAME are null\n",
        "municipalities = municipalities.filter(municipalities[\"name\"].isNotNull() & municipalities[\"district_name\"].isNotNull())\n",
        "# remove any corrupted record"
      ],
      "metadata": {
        "id": "1Ox4uTF6nAgp"
      },
      "execution_count": null,
      "outputs": []
    },
    {
      "cell_type": "markdown",
      "source": [
        "**Create the silver folder** (step 2 on the process)"
      ],
      "metadata": {
        "id": "wp6eStdjYL4N"
      }
    },
    {
      "cell_type": "code",
      "source": [
        "!mkdir -p /content/lake/silver"
      ],
      "metadata": {
        "id": "DKVD4YxdYKKl"
      },
      "execution_count": null,
      "outputs": []
    },
    {
      "cell_type": "code",
      "source": [
        "path_vehicles = \"/content/lake/silver/vehicles\"\n",
        "path_lines = \"/content/lake/silver/lines\"\n",
        "path_municipalities = \"/content/lake/silver/municipalities\""
      ],
      "metadata": {
        "id": "AGonR3QapHb8"
      },
      "execution_count": null,
      "outputs": []
    },
    {
      "cell_type": "code",
      "source": [
        "(vehicles\n",
        ".coalesce(1)\n",
        ".write\n",
        ".mode(\"overwrite\")\n",
        ".partitionBy(\"date\")\n",
        ".format(\"parquet\")\n",
        ".save(path_vehicles)\n",
        ")\n",
        "\n",
        "\n",
        "(lines\n",
        ".write\n",
        ".mode(\"overwrite\")\n",
        ".format(\"parquet\")\n",
        ".save(path_lines)\n",
        ")\n",
        "\n",
        "\n",
        "(municipalities\n",
        ".write\n",
        ".mode(\"overwrite\")\n",
        ".format(\"parquet\")\n",
        ".save(path_municipalities)\n",
        ")"
      ],
      "metadata": {
        "id": "rDIK2LVApNBO"
      },
      "execution_count": null,
      "outputs": []
    }
  ],
  "metadata": {
    "colab": {
      "provenance": [],
      "include_colab_link": true
    },
    "kernelspec": {
      "display_name": "Python 3",
      "name": "python3"
    },
    "language_info": {
      "name": "python"
    }
  },
  "nbformat": 4,
  "nbformat_minor": 0
}