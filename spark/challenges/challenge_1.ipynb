{
  "cells": [
    {
      "cell_type": "markdown",
      "metadata": {
        "id": "view-in-github",
        "colab_type": "text"
      },
      "source": [
        "<a href=\"https://colab.research.google.com/github/carsofferrei/04_data_processing/blob/main/spark/challenges/challenge_1.ipynb\" target=\"_parent\"><img src=\"https://colab.research.google.com/assets/colab-badge.svg\" alt=\"Open In Colab\"/></a>"
      ]
    },
    {
      "cell_type": "markdown",
      "metadata": {
        "id": "BOA_wQSmLd9z"
      },
      "source": [
        "# CHALLENGE 1\n",
        "##  Implement INGESTION process\n",
        "- Set up path in the \"lake\"\n",
        "  - !mkdir -p /content/lake/bronze\n",
        "\n",
        "- Read data from API https://api.carrismetropolitana.pt/\n",
        "  - Endpoints:\n",
        "    - vehicles\n",
        "    - lines\n",
        "    - municipalities\n",
        "  - Use StructFields to enforce schema\n",
        "\n",
        "- Transformations\n",
        "  - vehicles\n",
        "    - create \"date\" extracted from \"timestamp\" column (format: hh24miss)\n",
        "\n",
        "- Write data as PARQUET into the BRONZE layer (/content/lake/bronze)\n",
        "  - Partition \"vehicles\" by \"date\" column\n",
        "  - Paths:\n",
        "    - vehicles - path: /content/lake/bronze/vehicles\n",
        "    - lines - path: /content/lake/bronze/lines\n",
        "    - municipalities - path: /content/lake/bronze/municipalities\n",
        "  - Make sure there is only 1 single parquet created\n",
        "  - Use overwrite as write mode"
      ]
    },
    {
      "cell_type": "markdown",
      "metadata": {
        "id": "d9LeYFsPTjAb"
      },
      "source": [
        "# Setting up PySpark"
      ]
    },
    {
      "cell_type": "code",
      "execution_count": 53,
      "metadata": {
        "colab": {
          "base_uri": "https://localhost:8080/"
        },
        "id": "uYXeODL0T1fO",
        "outputId": "b9f1a84a-effc-4257-f313-5397b3f56d70"
      },
      "outputs": [
        {
          "output_type": "stream",
          "name": "stdout",
          "text": [
            "Requirement already satisfied: pyspark in /usr/local/lib/python3.10/dist-packages (3.5.3)\n",
            "Requirement already satisfied: py4j==0.10.9.7 in /usr/local/lib/python3.10/dist-packages (from pyspark) (0.10.9.7)\n"
          ]
        }
      ],
      "source": [
        "%pip install pyspark"
      ]
    },
    {
      "cell_type": "code",
      "source": [
        "# Import SparkSession\n",
        "\n",
        "from pyspark.sql import SparkSession\n",
        "spark = SparkSession.builder.master('local').appName('Carla_Ferreira_API_challenge').config('spark.ui.port', '4050').getOrCreate()\n",
        "sc = spark.sparkContext"
      ],
      "metadata": {
        "id": "KCW7ptFOsV25"
      },
      "execution_count": 54,
      "outputs": []
    },
    {
      "cell_type": "code",
      "source": [
        "import requests\n",
        "from pyspark.sql.types import *\n",
        "\n",
        "def readFromAPI(url: str, schema: StructType = None):\n",
        "  response = requests.get(url)\n",
        "  rdd = sc.parallelize(response.json())\n",
        "\n",
        "  if schema:\n",
        "    df = spark.read.schema(schema).json(rdd)\n",
        "  else:\n",
        "    df = spark.read.json(rdd)\n",
        "  return df"
      ],
      "metadata": {
        "id": "lv3fhVbEskQ3"
      },
      "execution_count": 55,
      "outputs": []
    },
    {
      "cell_type": "code",
      "source": [
        "#Schemas\n",
        "vehicle_schema = StructType([StructField('bearing', IntegerType(), True),\n",
        "                             StructField('block_id', StringType(), True),\n",
        "                             StructField('current_status', StringType(), True),\n",
        "                             StructField('id', StringType(), True),\n",
        "                             StructField('lat', FloatType(), True),\n",
        "                             StructField('line_id', StringType(), True),\n",
        "                             StructField('lon', FloatType(), True),\n",
        "                             StructField('pattern_id', StringType(), True),\n",
        "                             StructField('route_id', StringType(), True),\n",
        "                             StructField('schedule_relationship', StringType(), True),\n",
        "                             StructField('shift_id', StringType(), True),\n",
        "                             StructField('speed', FloatType(), True),\n",
        "                             StructField('stop_id', StringType(), True),\n",
        "                             StructField('timestamp', TimestampType(), True),\n",
        "                             StructField('trip_id', StringType(), True)\n",
        "                             ])\n",
        "\n",
        "\n",
        "lines_schema = StructType([StructField('_corrupt_record', StringType(), True),\n",
        "                           StructField('color', StringType(), True),\n",
        "                           StructField('facilities', StringType(), True),\n",
        "                           StructField('id', StringType(), True),\n",
        "                           StructField('localities', ArrayType(StringType()), True),\n",
        "                           StructField('long_name', StringType(), True),\n",
        "                           StructField('municipalities', ArrayType(StringType()), True),\n",
        "                           StructField('patterns', ArrayType(StringType()), True),\n",
        "                           StructField('routes', StringType(), True),\n",
        "                           StructField('short_name', StringType(), True),\n",
        "                           StructField('text_color', StringType(), True)\n",
        "                           ])\n",
        "\n",
        "municipalities_schema = StructType([StructField('district_id', StringType(), True),\n",
        "                                    StructField('district_name', StringType(), True),\n",
        "                                    StructField('id', StringType(), True),\n",
        "                                    StructField('name', StringType(), True),\n",
        "                                    StructField('prefix', StringType(), True),\n",
        "                                    StructField('region_id', StringType(), True),\n",
        "                                    StructField('region_name', StringType(), True)\n",
        "                                    ])"
      ],
      "metadata": {
        "id": "1HJlN4hgOvl0"
      },
      "execution_count": 57,
      "outputs": []
    },
    {
      "cell_type": "code",
      "source": [
        "vehicles = readFromAPI(\"https://api.carrismetropolitana.pt/vehicles\", schema = vehicle_schema)\n",
        "lines = readFromAPI(\"https://api.carrismetropolitana.pt/lines\", schema = lines_schema)\n",
        "municipalities = readFromAPI(\"https://api.carrismetropolitana.pt/municipalities\", schema = municipalities_schema)"
      ],
      "metadata": {
        "id": "R4E9v8rMsu3n"
      },
      "execution_count": 58,
      "outputs": []
    },
    {
      "cell_type": "code",
      "source": [
        "# create \"date\" extracted from \"timestamp\" column (format: hh24miss) -- this format doesnt make sense, the correct is yyyyMMdd\n",
        "from pyspark.sql.functions import date_format\n",
        "vehicles = vehicles.withColumn(\"date\", date_format('timestamp', \"yyyyMMdd\"))\n",
        "\n",
        "vehicles.show()"
      ],
      "metadata": {
        "colab": {
          "base_uri": "https://localhost:8080/"
        },
        "id": "lWmvyntFR_MW",
        "outputId": "5b6a063b-9087-44ed-87d8-77f1f0b9679d"
      },
      "execution_count": 59,
      "outputs": [
        {
          "output_type": "stream",
          "name": "stdout",
          "text": [
            "+-------+--------------------+--------------+--------+---------+-------+---------+----------+--------+---------------------+------------+---------+-------+-------------------+--------------------+--------+\n",
            "|bearing|            block_id|current_status|      id|      lat|line_id|      lon|pattern_id|route_id|schedule_relationship|    shift_id|    speed|stop_id|          timestamp|             trip_id|    date|\n",
            "+-------+--------------------+--------------+--------+---------+-------+---------+----------+--------+---------------------+------------+---------+-------+-------------------+--------------------+--------+\n",
            "|    145|20241121-64010054...| IN_TRANSIT_TO|44|12535|38.700203|   4504|-9.005495|  4504_0_1|  4504_0|            SCHEDULED|121890234560|      0.0| 100138|2024-11-21 21:28:20|4504_0_1|2100|213...|20241121|\n",
            "|      7|           1_1033-11| IN_TRANSIT_TO| 41|1176|38.763058|   1710|-9.197116|  1710_3_2|  1710_3|            SCHEDULED|        1140|0.2777778| 110045|2024-11-21 21:28:06|1710_3_2_2100_212...|20241121|\n",
            "|     45|20241121-64010200...| IN_TRANSIT_TO|44|12087| 38.52082|   4438|-8.901303|  4438_1_2|  4438_1|            SCHEDULED|112500234560|      0.0| 160347|2024-11-21 21:28:21|4438_1_2|2100|213...|20241121|\n",
            "|     13|           1_1606-11| IN_TRANSIT_TO| 41|1300| 38.74764|   1717|-9.264065|  1717_0_2|  1717_0|            SCHEDULED|        1695|11.944445| 170921|2024-11-21 21:28:25|1717_0_2_2100_212...|20241121|\n",
            "|    111|             1528-11| IN_TRANSIT_TO|  42|281| 38.76444|   2833| -9.19933|  2833_0_3|  2833_0|            SCHEDULED|        1653|6.9444447| 060372|2024-11-21 21:27:38|2833_0_3|1|1|2055...|20241121|\n",
            "|    195|             1155-11| IN_TRANSIT_TO| 42|2315|38.879757|   2790|-9.051224|  2790_0_1|  2790_0|            SCHEDULED|        1149|     12.5| 180727|2024-11-21 21:27:59|2790_0_1|1|1|2120...|20241121|\n",
            "|     77|20241121-64010259...| IN_TRANSIT_TO|44|12550|38.570484|   4562|-8.904285|  4562_0_1|  4562_0|            SCHEDULED|111640234560|5.8333335| 130135|2024-11-21 21:28:23|4562_0_1|2100|204...|20241121|\n",
            "|    184|20241121-64010566...| IN_TRANSIT_TO|44|12712|38.767815|   4702|-9.100478|  4702_0_1|  4702_0|            SCHEDULED|123540234560|      0.0| 060009|2024-11-21 21:28:23|4702_0_1|2100|213...|20241121|\n",
            "|      4|20241121-64010324...|   INCOMING_AT|44|12539|38.526375|   4412|-8.886907|  4412_0_2|  4412_0|            SCHEDULED|111650234560|     10.0| 160141|2024-11-21 21:28:34|4412_0_2|2100|212...|20241121|\n",
            "|     10|20241121-64010050...| IN_TRANSIT_TO|44|12521| 38.74857|   4600|-8.967109|  4600_0_2|  4600_0|            SCHEDULED|121930234560| 6.111111| 010082|2024-11-21 21:28:24|4600_0_2|2100|200...|20241121|\n",
            "|    169|20241121-64010569...|   INCOMING_AT|44|12659|38.696247|   4704|-8.928884|  4704_0_2|  4704_0|            SCHEDULED|123530234560|     12.5| 100171|2024-11-21 21:28:15|4704_0_2|2100|205...|20241121|\n",
            "|    159|           1_1717-11| IN_TRANSIT_TO| 41|1225|38.903763|   1245|-9.417565|  1245_0_2|  1245_0|            SCHEDULED|        1798|     10.0| 171626|2024-11-21 21:28:26|1245_0_2_2100_212...|20241121|\n",
            "|    184|           1_1021-11| IN_TRANSIT_TO| 41|1327|38.770756|   1006| -9.22761|  1006_0_1|  1006_0|            SCHEDULED|        1133|     10.0| 030185|2024-11-21 21:28:23|1006_0_1_2100_212...|20241121|\n",
            "|    347|                1098| IN_TRANSIT_TO| 42|1098|38.958473|   2805|-9.315992|  2805_0_2|  2805_0|            SCHEDULED|       45914|13.333333| 080184|2024-11-21 21:28:21|2805_0_2|140|1|20...|20241121|\n",
            "|    135|           1_1057-11| IN_TRANSIT_TO| 41|1316|38.787434|   1709|-9.225895|  1709_0_1|  1709_0|            SCHEDULED|        1137|11.388889| 030801|2024-11-21 21:28:19|1709_0_1_2100_212...|20241121|\n",
            "|    141|           1_1703-11|   INCOMING_AT| 41|1204|  38.8362|   1245|-9.369827|  1245_0_1|  1245_0|            SCHEDULED|        1824| 8.333333| 171517|2024-11-21 21:28:21|1245_0_1_2100_212...|20241121|\n",
            "|    349|           1_1911-11|    STOPPED_AT| 41|1265|38.860996|   1240| -9.33191|  1240_0_2|  1240_0|            SCHEDULED|        1911|1.9444444| 172101|2024-11-21 21:28:30|1240_0_2_2100_212...|20241121|\n",
            "|    351|             1030-11| IN_TRANSIT_TO| 42|2357|38.775223|   2708|-9.100956|  2708_0_2|  2708_0|            SCHEDULED|        1201|5.5555553| 071311|2024-11-21 21:28:13|2708_0_2|1|1|2120...|20241121|\n",
            "|    279|20241121-64010188...|   INCOMING_AT|44|12075| 38.52211|   4426|-8.860842|  4426_0_1|  4426_0|            SCHEDULED|112600234500|4.1666665| 160237|2024-11-21 21:28:12|4426_0_1|2100|210...|20241121|\n",
            "|    275|             1522-11|   INCOMING_AT| 42|2577|38.791084|   2823|-9.203083|  2823_0_1|  2823_0|            SCHEDULED|        1640|     10.0| 110675|2024-11-21 21:28:26|2823_0_1|1|1|2115...|20241121|\n",
            "+-------+--------------------+--------------+--------+---------+-------+---------+----------+--------+---------------------+------------+---------+-------+-------------------+--------------------+--------+\n",
            "only showing top 20 rows\n",
            "\n"
          ]
        }
      ]
    },
    {
      "cell_type": "code",
      "source": [
        "from pyspark.sql import functions as F\n",
        "\n",
        "vehicles.select(\"date\").distinct().agg(F.min(\"date\").alias(\"min_date\")).show()\n",
        "vehicles.select(\"date\").distinct().agg(F.max(\"date\").alias(\"max_date\")).show()\n",
        "\n",
        "# there's only one day in this file."
      ],
      "metadata": {
        "colab": {
          "base_uri": "https://localhost:8080/"
        },
        "id": "cjiItiw-WtDe",
        "outputId": "165660de-5b42-4517-a335-384ed2fa21fc"
      },
      "execution_count": 60,
      "outputs": [
        {
          "output_type": "stream",
          "name": "stdout",
          "text": [
            "+--------+\n",
            "|min_date|\n",
            "+--------+\n",
            "|20241121|\n",
            "+--------+\n",
            "\n",
            "+--------+\n",
            "|max_date|\n",
            "+--------+\n",
            "|20241121|\n",
            "+--------+\n",
            "\n"
          ]
        }
      ]
    },
    {
      "cell_type": "markdown",
      "source": [
        "Write data as PARQUET into the BRONZE layer (/content/lake/bronze)\n",
        "\n",
        "*   Partition \"vehicles\" by \"date\" column\n",
        "*   Paths: /content/lake/bronze/vehicles, /content/lake/bronze/lines\n",
        ", /content/lake/bronze/municipalities\n",
        "\n",
        "Make sure there is only 1 single parquet created /\n",
        "Use overwrite as write mode"
      ],
      "metadata": {
        "id": "o8kPFFtKU6P8"
      }
    },
    {
      "cell_type": "markdown",
      "source": [
        "Declare the directory to write the data that came from API carrismetropolitana"
      ],
      "metadata": {
        "id": "S9PXODmNQlF4"
      }
    },
    {
      "cell_type": "code",
      "source": [
        "!mkdir -p /content/lake/bronze\n",
        "\n",
        "path_vehicles = \"/content/lake/bronze/vehicles\"\n",
        "path_lines = \"/content/lake/bronze/lines\"\n",
        "path_municipalities = \"/content/lake/bronze/municipalities\""
      ],
      "metadata": {
        "id": "iU_dlCvkQkhr"
      },
      "execution_count": 61,
      "outputs": []
    },
    {
      "cell_type": "code",
      "source": [
        "(vehicles\n",
        ".coalesce(1)\n",
        ".write\n",
        ".mode(\"overwrite\")\n",
        ".partitionBy(\"date\")\n",
        ".format(\"parquet\")\n",
        ".save(path_vehicles)\n",
        ")\n",
        "\n",
        "\n",
        "(lines\n",
        ".write\n",
        ".mode(\"overwrite\")\n",
        ".format(\"parquet\")\n",
        ".save(path_lines)\n",
        ")\n",
        "\n",
        "\n",
        "(municipalities\n",
        ".write\n",
        ".mode(\"overwrite\")\n",
        ".format(\"parquet\")\n",
        ".save(path_municipalities)\n",
        ")"
      ],
      "metadata": {
        "id": "RUow9UvrUL1v"
      },
      "execution_count": 62,
      "outputs": []
    },
    {
      "cell_type": "markdown",
      "source": [
        "# CHALLENGE 2\n",
        "##  Implement CLEANSING process\n",
        "- Set up path in the \"lake\"\n",
        "  - !mkdir -p /content/lake/silver\n",
        "\n",
        "- Read data from BRONZE layer as PARQUET:\n",
        "    - vehicles - path: /content/lake/bronze/vehicles\n",
        "    - lines - path: /content/lake/bronze/lines\n",
        "    - municipalities - path: /content/lake/bronze/municipalities\n",
        "\n",
        "- Transformations\n",
        "  - vehicles\n",
        "    - rename \"lat\" and \"lon\" to \"latitude\" and \"longitude\" respectively\n",
        "    - remove possible duplicates\n",
        "    - remove rows when the column CURRENT_STATUS is null\n",
        "    - remove any corrupted record\n",
        "  - lines\n",
        "    - remove duplicates\n",
        "    - remove rows when the column LONG_NAME is null\n",
        "    - remove any corrupted record\n",
        "  - municipalities\n",
        "    - remove duplicates\n",
        "    - remove rows when the columns NAME or DISTRICT_NAME are null\n",
        "    - remove any corrupted record\n",
        "\n",
        "- Write data as PARQUET into the SILVER layer (/content/lake/silver)\n",
        "  - Partition \"vehicles\" by \"date\"(created in the ingestion)\n",
        "  - Paths:\n",
        "    - vehicles - path: /content/lake/silver/vehicles\n",
        "    - lines - path: /content/lake/silver/lines\n",
        "    - municipalities - path: /content/lake/silver/municipalities"
      ],
      "metadata": {
        "id": "hWFaXrPgcL1X"
      }
    },
    {
      "cell_type": "code",
      "source": [
        "vehicles = spark.read.parquet(\"/content/lake/bronze/vehicles\", schema = vehicle_schema)"
      ],
      "metadata": {
        "id": "1QktKE37cEE6"
      },
      "execution_count": 63,
      "outputs": []
    },
    {
      "cell_type": "code",
      "source": [
        "lines = spark.read.parquet(\"/content/lake/bronze/lines\", schema = lines_schema)"
      ],
      "metadata": {
        "id": "qhfNgrt4lb3I"
      },
      "execution_count": 64,
      "outputs": []
    },
    {
      "cell_type": "code",
      "source": [
        "municipalities = spark.read.parquet(\"/content/lake/bronze/municipalities\", schema = municipalities_schema)"
      ],
      "metadata": {
        "id": "J12-5awTldp7"
      },
      "execution_count": 65,
      "outputs": []
    },
    {
      "cell_type": "code",
      "source": [
        "from pyspark.sql.functions import *\n",
        "\n",
        "# Vehicles\n",
        "# rename \"lat\" and \"lon\" to \"latitude\" and \"longitude\" respectively\n",
        "vehicles = vehicles.withColumnRenamed(\"lat\", \"latitude\").withColumnRenamed(\"lon\", \"longitude\")\n",
        "\n",
        "# remove possible duplicates\n",
        "vehicles = vehicles.drop_duplicates()\n",
        "# remove rows when the column CURRENT_STATUS is null\n",
        "vehicles = vehicles.filter(vehicles[\"current_status\"].isNotNull())\n",
        "# remove any corrupted record (????)"
      ],
      "metadata": {
        "id": "RagHE9U_cJgY"
      },
      "execution_count": 66,
      "outputs": []
    },
    {
      "cell_type": "code",
      "source": [
        "from pyspark.sql.functions import *\n",
        "\n",
        "# Lines\n",
        "# remove duplicates\n",
        "lines = lines.drop_duplicates()\n",
        "# remove rows when the column LONG_NAME is null\n",
        "lines = lines.filter(lines[\"long_name\"].isNotNull())\n",
        "# remove any corrupted record\n",
        "lines = lines.filter(lines[\"_corrupt_record\"].isNull())"
      ],
      "metadata": {
        "id": "Z9naexDYcM9p"
      },
      "execution_count": 67,
      "outputs": []
    },
    {
      "cell_type": "code",
      "source": [
        "# Municipalities\n",
        "# remove duplicates\n",
        "municipalities = municipalities.drop_duplicates()\n",
        "# remove rows when the columns NAME or DISTRICT_NAME are null\n",
        "municipalities = municipalities.filter(municipalities[\"name\"].isNotNull() & municipalities[\"district_name\"].isNotNull())\n",
        "# remove any corrupted record"
      ],
      "metadata": {
        "id": "ybMMG-pUcP0W"
      },
      "execution_count": 68,
      "outputs": []
    },
    {
      "cell_type": "code",
      "source": [
        "!mkdir -p /content/lake/silver"
      ],
      "metadata": {
        "id": "YFYbcgiacXdi"
      },
      "execution_count": 69,
      "outputs": []
    },
    {
      "cell_type": "code",
      "source": [
        "path_vehicles = \"/content/lake/silver/vehicles\"\n",
        "path_lines = \"/content/lake/silver/lines\"\n",
        "path_municipalities = \"/content/lake/silver/municipalities\""
      ],
      "metadata": {
        "id": "wPOVuVsFcZ19"
      },
      "execution_count": 70,
      "outputs": []
    },
    {
      "cell_type": "code",
      "source": [
        "(vehicles\n",
        ".coalesce(1)\n",
        ".write\n",
        ".mode(\"overwrite\")\n",
        ".partitionBy(\"date\")\n",
        ".format(\"parquet\")\n",
        ".save(path_vehicles)\n",
        ")\n",
        "\n",
        "\n",
        "(lines\n",
        ".write\n",
        ".mode(\"overwrite\")\n",
        ".format(\"parquet\")\n",
        ".save(path_lines)\n",
        ")\n",
        "\n",
        "\n",
        "(municipalities\n",
        ".write\n",
        ".mode(\"overwrite\")\n",
        ".format(\"parquet\")\n",
        ".save(path_municipalities)\n",
        ")"
      ],
      "metadata": {
        "id": "j6OncVYacc35"
      },
      "execution_count": 71,
      "outputs": []
    },
    {
      "cell_type": "markdown",
      "source": [
        "# CHALLENGE 3\n",
        "##  Implement ENRICH process\n",
        "- Set up path in the \"lake\"\n",
        "  - !mkdir -p /content/lake/gold\n",
        "\n",
        "- Read data from SILVER layer\n",
        "  - Paths:\n",
        "    - vehicles - path: /content/lake/silver/vehicles\n",
        "    - lines - path: /content/lake/silver/lines\n",
        "    - municipalities - path: /content/lake/silver/municipalities\n",
        "  - Use StructFields to enforce schema\n",
        "\n",
        "- Enrichment\n",
        "  - Enrich vehicles dataset with information from the line and municipalities\n",
        "    - join vehicles with lines and municipalities\n",
        "      - select all columns from vehicles + lines.long_name (name: line_name, format:string) + municipalities.name (name: municipality_name, format: array)\n",
        "      - Note that \"municipalities.name\" is an array\n",
        "\n",
        "- Write data as PARQUET into the GOLD layer (/content/lake/gold)\n",
        "  - Dataset name: vehicles_enriched\n",
        "  - Partition \"vehicles_enriched\" by \"date\" column\n",
        "  - Paths:\n",
        "    - vehicles - path: /content/lake/gold/vehicles_enriched\n",
        "  - Make sure there is only 1 single parquet created\n",
        "  - Use overwrite as write mode"
      ],
      "metadata": {
        "id": "gdN5bL9Ccdk1"
      }
    },
    {
      "cell_type": "code",
      "source": [
        "vehicles = spark.read.parquet(\"/content/lake/silver/vehicles\", schema = vehicle_schema)"
      ],
      "metadata": {
        "id": "a6IHVIn3l38g"
      },
      "execution_count": 72,
      "outputs": []
    },
    {
      "cell_type": "code",
      "source": [
        "lines = spark.read.parquet(\"/content/lake/silver/lines\", schema = lines_schema)"
      ],
      "metadata": {
        "id": "PDti0gpQl7kt"
      },
      "execution_count": 73,
      "outputs": []
    },
    {
      "cell_type": "code",
      "source": [
        "municipalities = spark.read.parquet(\"/content/lake/silver/municipalities\", schema = municipalities_schema)"
      ],
      "metadata": {
        "id": "n_qGhJqpl8La"
      },
      "execution_count": 74,
      "outputs": []
    },
    {
      "cell_type": "code",
      "source": [
        "# Extract info from the array in municiples\n",
        "from pyspark.sql.functions import explode\n",
        "lines_treated = lines.select(\n",
        "    \"_corrupt_record\",\"color\",\"facilities\",\"id\",\"patterns\",\"routes\",\"short_name\",\"text_color\",\n",
        "    explode(lines.municipalities).alias(\"municipality\") , explode(lines.localities).alias(\"localities\")\n",
        ")"
      ],
      "metadata": {
        "id": "0A2ZkJYlcqg7"
      },
      "execution_count": 81,
      "outputs": []
    },
    {
      "cell_type": "code",
      "source": [
        "lines_treated.show()"
      ],
      "metadata": {
        "colab": {
          "base_uri": "https://localhost:8080/"
        },
        "id": "MtuaK76poeF2",
        "outputId": "527dd2ea-f8f9-4e00-bc3d-aa81709652c4"
      },
      "execution_count": 89,
      "outputs": [
        {
          "output_type": "stream",
          "name": "stdout",
          "text": [
            "+---------------+-------+----------+----+--------------------+--------------------+----------+----------+------------+--------------------+\n",
            "|_corrupt_record|  color|facilities|  id|            patterns|              routes|short_name|text_color|municipality|          localities|\n",
            "+---------------+-------+----------+----+--------------------+--------------------+----------+----------+------------+--------------------+\n",
            "|           NULL|#C61D23|        []|1517|[1517_0_1, 1517_0_2]|          [\"1517_0\"]|      1517|   #FFFFFF|        1115|             Amadora|\n",
            "|           NULL|#C61D23|        []|1517|[1517_0_1, 1517_0_2]|          [\"1517_0\"]|      1517|   #FFFFFF|        1115|     Casal de Cambra|\n",
            "|           NULL|#C61D23|        []|1517|[1517_0_1, 1517_0_2]|          [\"1517_0\"]|      1517|   #FFFFFF|        1115|              Sintra|\n",
            "|           NULL|#C61D23|        []|1517|[1517_0_1, 1517_0_2]|          [\"1517_0\"]|      1517|   #FFFFFF|        1115|Moinhos da Funcheira|\n",
            "|           NULL|#C61D23|        []|1517|[1517_0_1, 1517_0_2]|          [\"1517_0\"]|      1517|   #FFFFFF|        1115|           Reboleira|\n",
            "|           NULL|#C61D23|        []|1517|[1517_0_1, 1517_0_2]|          [\"1517_0\"]|      1517|   #FFFFFF|        1111|             Amadora|\n",
            "|           NULL|#C61D23|        []|1517|[1517_0_1, 1517_0_2]|          [\"1517_0\"]|      1517|   #FFFFFF|        1111|     Casal de Cambra|\n",
            "|           NULL|#C61D23|        []|1517|[1517_0_1, 1517_0_2]|          [\"1517_0\"]|      1517|   #FFFFFF|        1111|              Sintra|\n",
            "|           NULL|#C61D23|        []|1517|[1517_0_1, 1517_0_2]|          [\"1517_0\"]|      1517|   #FFFFFF|        1111|Moinhos da Funcheira|\n",
            "|           NULL|#C61D23|        []|1517|[1517_0_1, 1517_0_2]|          [\"1517_0\"]|      1517|   #FFFFFF|        1111|           Reboleira|\n",
            "|           NULL|#C61D23|        []|2127|          [2127_0_1]|          [\"2127_0\"]|      2127|   #FFFFFF|        1109|               Mafra|\n",
            "|           NULL|#C61D23|        []|4453|[4453_0_1, 4453_0_2]|          [\"4453_0\"]|      4453|   #FFFFFF|        1512|             Setúbal|\n",
            "|           NULL|#C61D23|        []|4453|[4453_0_1, 4453_0_2]|          [\"4453_0\"]|      4453|   #FFFFFF|        1512|      Praias do Sado|\n",
            "|           NULL|#C61D23|        []|4453|[4453_0_1, 4453_0_2]|          [\"4453_0\"]|      4453|   #FFFFFF|        1512|        Santo Ovídio|\n",
            "|           NULL|#C61D23|        []|4453|[4453_0_1, 4453_0_2]|          [\"4453_0\"]|      4453|   #FFFFFF|        1512|            Faralhão|\n",
            "|           NULL|#C61D23|        []|4453|[4453_0_1, 4453_0_2]|          [\"4453_0\"]|      4453|   #FFFFFF|        1512|         Sto. Ovídio|\n",
            "|           NULL|#C61D23|        []|4453|[4453_0_1, 4453_0_2]|          [\"4453_0\"]|      4453|   #FFFFFF|        1512| Alto da Estefanilha|\n",
            "|           NULL|#C61D23|        []|4453|[4453_0_1, 4453_0_2]|          [\"4453_0\"]|      4453|   #FFFFFF|        1512|             Mitrena|\n",
            "|           NULL|#C61D23|        []|4730|[4730_0_2, 4730_0...|[\"4730_0\",\"4730_1...|      4730|   #FFFFFF|        1512|             Setúbal|\n",
            "|           NULL|#C61D23|        []|4730|[4730_0_2, 4730_0...|[\"4730_0\",\"4730_1...|      4730|   #FFFFFF|        1512|   São Luís da Serra|\n",
            "+---------------+-------+----------+----+--------------------+--------------------+----------+----------+------------+--------------------+\n",
            "only showing top 20 rows\n",
            "\n"
          ]
        }
      ]
    },
    {
      "cell_type": "code",
      "source": [
        "vehicles_lines = vehicles.join(lines_treated, vehicles['line_id'] == lines_treated['id'], how = 'left')\n",
        "vehicles_enriched = vehicles_lines.join(municipalities, lines_treated['localities'] == municipalities['name'], how = 'left')"
      ],
      "metadata": {
        "id": "fwhQRWXweDX2"
      },
      "execution_count": 91,
      "outputs": []
    },
    {
      "cell_type": "code",
      "source": [
        "vehicles_enriched.show()"
      ],
      "metadata": {
        "colab": {
          "base_uri": "https://localhost:8080/"
        },
        "id": "UU6KYEqVwAOj",
        "outputId": "a288a354-f933-41d9-da27-9cd527495129"
      },
      "execution_count": 92,
      "outputs": [
        {
          "output_type": "stream",
          "name": "stdout",
          "text": [
            "+-------+-------------+--------------+-------+---------+-------+---------+----------+--------+---------------------+--------+-----+-------+-------------------+--------------------+--------+---------------+-------+----------+----+--------------------+----------+----------+----------+------------+--------------------+-----------+-------------+----+------+------+---------+-----------+\n",
            "|bearing|     block_id|current_status|     id| latitude|line_id|longitude|pattern_id|route_id|schedule_relationship|shift_id|speed|stop_id|          timestamp|             trip_id|    date|_corrupt_record|  color|facilities|  id|            patterns|    routes|short_name|text_color|municipality|          localities|district_id|district_name|  id|  name|prefix|region_id|region_name|\n",
            "+-------+-------------+--------------+-------+---------+-------+---------+----------+--------+---------------------+--------+-----+-------+-------------------+--------------------+--------+---------------+-------+----------+----+--------------------+----------+----------+----------+------------+--------------------+-----------+-------------+----+------+------+---------+-----------+\n",
            "|    158|ESC_DU_EU2113|   INCOMING_AT|43|2297|38.628296|   3705|-9.197503|  3705_0_2|  3705_0|            SCHEDULED|  EU2184|  5.0| 020332|2024-11-21 21:28:19|3705_0_2_2030_205...|20241121|           NULL|#C61D23|        []|3705|[3705_0_1, 3705_0_2]|[\"3705_0\"]|      3705|   #FFFFFF|        1106|            Sobreada|       NULL|         NULL|NULL|  NULL|  NULL|     NULL|       NULL|\n",
            "|    158|ESC_DU_EU2113|   INCOMING_AT|43|2297|38.628296|   3705|-9.197503|  3705_0_2|  3705_0|            SCHEDULED|  EU2184|  5.0| 020332|2024-11-21 21:28:19|3705_0_2_2030_205...|20241121|           NULL|#C61D23|        []|3705|[3705_0_1, 3705_0_2]|[\"3705_0\"]|      3705|   #FFFFFF|        1106|   Monte da Caparica|       NULL|         NULL|NULL|  NULL|  NULL|     NULL|       NULL|\n",
            "|    158|ESC_DU_EU2113|   INCOMING_AT|43|2297|38.628296|   3705|-9.197503|  3705_0_2|  3705_0|            SCHEDULED|  EU2184|  5.0| 020332|2024-11-21 21:28:19|3705_0_2_2030_205...|20241121|           NULL|#C61D23|        []|3705|[3705_0_1, 3705_0_2]|[\"3705_0\"]|      3705|   #FFFFFF|        1106|           Sete Rios|       NULL|         NULL|NULL|  NULL|  NULL|     NULL|       NULL|\n",
            "|    158|ESC_DU_EU2113|   INCOMING_AT|43|2297|38.628296|   3705|-9.197503|  3705_0_2|  3705_0|            SCHEDULED|  EU2184|  5.0| 020332|2024-11-21 21:28:19|3705_0_2_2030_205...|20241121|           NULL|#C61D23|        []|3705|[3705_0_1, 3705_0_2]|[\"3705_0\"]|      3705|   #FFFFFF|        1106|              Lisboa|         11|       Lisboa|1106|Lisboa|    06|    PT170|        AML|\n",
            "|    158|ESC_DU_EU2113|   INCOMING_AT|43|2297|38.628296|   3705|-9.197503|  3705_0_2|  3705_0|            SCHEDULED|  EU2184|  5.0| 020332|2024-11-21 21:28:19|3705_0_2_2030_205...|20241121|           NULL|#C61D23|        []|3705|[3705_0_1, 3705_0_2]|[\"3705_0\"]|      3705|   #FFFFFF|        1106|           Campolide|       NULL|         NULL|NULL|  NULL|  NULL|     NULL|       NULL|\n",
            "|    158|ESC_DU_EU2113|   INCOMING_AT|43|2297|38.628296|   3705|-9.197503|  3705_0_2|  3705_0|            SCHEDULED|  EU2184|  5.0| 020332|2024-11-21 21:28:19|3705_0_2_2030_205...|20241121|           NULL|#C61D23|        []|3705|[3705_0_1, 3705_0_2]|[\"3705_0\"]|      3705|   #FFFFFF|        1106|    Avenida de Ceuta|       NULL|         NULL|NULL|  NULL|  NULL|     NULL|       NULL|\n",
            "|    158|ESC_DU_EU2113|   INCOMING_AT|43|2297|38.628296|   3705|-9.197503|  3705_0_2|  3705_0|            SCHEDULED|  EU2184|  5.0| 020332|2024-11-21 21:28:19|3705_0_2_2030_205...|20241121|           NULL|#C61D23|        []|3705|[3705_0_1, 3705_0_2]|[\"3705_0\"]|      3705|   #FFFFFF|        1106|           Alcântara|       NULL|         NULL|NULL|  NULL|  NULL|     NULL|       NULL|\n",
            "|    158|ESC_DU_EU2113|   INCOMING_AT|43|2297|38.628296|   3705|-9.197503|  3705_0_2|  3705_0|            SCHEDULED|  EU2184|  5.0| 020332|2024-11-21 21:28:19|3705_0_2_2030_205...|20241121|           NULL|#C61D23|        []|3705|[3705_0_1, 3705_0_2]|[\"3705_0\"]|      3705|   #FFFFFF|        1106|              Pragal|       NULL|         NULL|NULL|  NULL|  NULL|     NULL|       NULL|\n",
            "|    158|ESC_DU_EU2113|   INCOMING_AT|43|2297|38.628296|   3705|-9.197503|  3705_0_2|  3705_0|            SCHEDULED|  EU2184|  5.0| 020332|2024-11-21 21:28:19|3705_0_2_2030_205...|20241121|           NULL|#C61D23|        []|3705|[3705_0_1, 3705_0_2]|[\"3705_0\"]|      3705|   #FFFFFF|        1106|             Lazarim|       NULL|         NULL|NULL|  NULL|  NULL|     NULL|       NULL|\n",
            "|    158|ESC_DU_EU2113|   INCOMING_AT|43|2297|38.628296|   3705|-9.197503|  3705_0_2|  3705_0|            SCHEDULED|  EU2184|  5.0| 020332|2024-11-21 21:28:19|3705_0_2_2030_205...|20241121|           NULL|#C61D23|        []|3705|[3705_0_1, 3705_0_2]|[\"3705_0\"]|      3705|   #FFFFFF|        1106|            Botequim|       NULL|         NULL|NULL|  NULL|  NULL|     NULL|       NULL|\n",
            "|    158|ESC_DU_EU2113|   INCOMING_AT|43|2297|38.628296|   3705|-9.197503|  3705_0_2|  3705_0|            SCHEDULED|  EU2184|  5.0| 020332|2024-11-21 21:28:19|3705_0_2_2030_205...|20241121|           NULL|#C61D23|        []|3705|[3705_0_1, 3705_0_2]|[\"3705_0\"]|      3705|   #FFFFFF|        1106|              Almada|         15|      Setúbal|1503|Almada|    02|    PT170|        AML|\n",
            "|    158|ESC_DU_EU2113|   INCOMING_AT|43|2297|38.628296|   3705|-9.197503|  3705_0_2|  3705_0|            SCHEDULED|  EU2184|  5.0| 020332|2024-11-21 21:28:19|3705_0_2_2030_205...|20241121|           NULL|#C61D23|        []|3705|[3705_0_1, 3705_0_2]|[\"3705_0\"]|      3705|   #FFFFFF|        1106|Charneca da Caparica|       NULL|         NULL|NULL|  NULL|  NULL|     NULL|       NULL|\n",
            "|    158|ESC_DU_EU2113|   INCOMING_AT|43|2297|38.628296|   3705|-9.197503|  3705_0_2|  3705_0|            SCHEDULED|  EU2184|  5.0| 020332|2024-11-21 21:28:19|3705_0_2_2030_205...|20241121|           NULL|#C61D23|        []|3705|[3705_0_1, 3705_0_2]|[\"3705_0\"]|      3705|   #FFFFFF|        1503|            Sobreada|       NULL|         NULL|NULL|  NULL|  NULL|     NULL|       NULL|\n",
            "|    158|ESC_DU_EU2113|   INCOMING_AT|43|2297|38.628296|   3705|-9.197503|  3705_0_2|  3705_0|            SCHEDULED|  EU2184|  5.0| 020332|2024-11-21 21:28:19|3705_0_2_2030_205...|20241121|           NULL|#C61D23|        []|3705|[3705_0_1, 3705_0_2]|[\"3705_0\"]|      3705|   #FFFFFF|        1503|   Monte da Caparica|       NULL|         NULL|NULL|  NULL|  NULL|     NULL|       NULL|\n",
            "|    158|ESC_DU_EU2113|   INCOMING_AT|43|2297|38.628296|   3705|-9.197503|  3705_0_2|  3705_0|            SCHEDULED|  EU2184|  5.0| 020332|2024-11-21 21:28:19|3705_0_2_2030_205...|20241121|           NULL|#C61D23|        []|3705|[3705_0_1, 3705_0_2]|[\"3705_0\"]|      3705|   #FFFFFF|        1503|           Sete Rios|       NULL|         NULL|NULL|  NULL|  NULL|     NULL|       NULL|\n",
            "|    158|ESC_DU_EU2113|   INCOMING_AT|43|2297|38.628296|   3705|-9.197503|  3705_0_2|  3705_0|            SCHEDULED|  EU2184|  5.0| 020332|2024-11-21 21:28:19|3705_0_2_2030_205...|20241121|           NULL|#C61D23|        []|3705|[3705_0_1, 3705_0_2]|[\"3705_0\"]|      3705|   #FFFFFF|        1503|              Lisboa|         11|       Lisboa|1106|Lisboa|    06|    PT170|        AML|\n",
            "|    158|ESC_DU_EU2113|   INCOMING_AT|43|2297|38.628296|   3705|-9.197503|  3705_0_2|  3705_0|            SCHEDULED|  EU2184|  5.0| 020332|2024-11-21 21:28:19|3705_0_2_2030_205...|20241121|           NULL|#C61D23|        []|3705|[3705_0_1, 3705_0_2]|[\"3705_0\"]|      3705|   #FFFFFF|        1503|           Campolide|       NULL|         NULL|NULL|  NULL|  NULL|     NULL|       NULL|\n",
            "|    158|ESC_DU_EU2113|   INCOMING_AT|43|2297|38.628296|   3705|-9.197503|  3705_0_2|  3705_0|            SCHEDULED|  EU2184|  5.0| 020332|2024-11-21 21:28:19|3705_0_2_2030_205...|20241121|           NULL|#C61D23|        []|3705|[3705_0_1, 3705_0_2]|[\"3705_0\"]|      3705|   #FFFFFF|        1503|    Avenida de Ceuta|       NULL|         NULL|NULL|  NULL|  NULL|     NULL|       NULL|\n",
            "|    158|ESC_DU_EU2113|   INCOMING_AT|43|2297|38.628296|   3705|-9.197503|  3705_0_2|  3705_0|            SCHEDULED|  EU2184|  5.0| 020332|2024-11-21 21:28:19|3705_0_2_2030_205...|20241121|           NULL|#C61D23|        []|3705|[3705_0_1, 3705_0_2]|[\"3705_0\"]|      3705|   #FFFFFF|        1503|           Alcântara|       NULL|         NULL|NULL|  NULL|  NULL|     NULL|       NULL|\n",
            "|    158|ESC_DU_EU2113|   INCOMING_AT|43|2297|38.628296|   3705|-9.197503|  3705_0_2|  3705_0|            SCHEDULED|  EU2184|  5.0| 020332|2024-11-21 21:28:19|3705_0_2_2030_205...|20241121|           NULL|#C61D23|        []|3705|[3705_0_1, 3705_0_2]|[\"3705_0\"]|      3705|   #FFFFFF|        1503|              Pragal|       NULL|         NULL|NULL|  NULL|  NULL|     NULL|       NULL|\n",
            "+-------+-------------+--------------+-------+---------+-------+---------+----------+--------+---------------------+--------+-----+-------+-------------------+--------------------+--------+---------------+-------+----------+----+--------------------+----------+----------+----------+------------+--------------------+-----------+-------------+----+------+------+---------+-----------+\n",
            "only showing top 20 rows\n",
            "\n"
          ]
        }
      ]
    }
  ],
  "metadata": {
    "colab": {
      "provenance": [],
      "include_colab_link": true
    },
    "kernelspec": {
      "display_name": "Python 3",
      "name": "python3"
    },
    "language_info": {
      "name": "python"
    }
  },
  "nbformat": 4,
  "nbformat_minor": 0
}