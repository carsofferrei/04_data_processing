{
  "cells": [
    {
      "cell_type": "markdown",
      "metadata": {
        "id": "view-in-github",
        "colab_type": "text"
      },
      "source": [
        "<a href=\"https://colab.research.google.com/github/carsofferrei/04_data_processing/blob/main/spark/challenges/challenge_1.ipynb\" target=\"_parent\"><img src=\"https://colab.research.google.com/assets/colab-badge.svg\" alt=\"Open In Colab\"/></a>"
      ]
    },
    {
      "cell_type": "markdown",
      "metadata": {
        "id": "BOA_wQSmLd9z"
      },
      "source": [
        "# CHALLENGE 1\n",
        "##  Implement INGESTION process\n",
        "- Set up path in the \"lake\"\n",
        "  - !mkdir -p /content/lake/bronze\n",
        "\n",
        "- Read data from API https://api.carrismetropolitana.pt/\n",
        "  - Endpoints:\n",
        "    - vehicles\n",
        "    - lines\n",
        "    - municipalities\n",
        "  - Use StructFields to enforce schema\n",
        "\n",
        "- Transformations\n",
        "  - vehicles\n",
        "    - create \"date\" extracted from \"timestamp\" column (format: hh24miss)\n",
        "\n",
        "- Write data as PARQUET into the BRONZE layer (/content/lake/bronze)\n",
        "  - Partition \"vehicles\" by \"date\" column\n",
        "  - Paths:\n",
        "    - vehicles - path: /content/lake/bronze/vehicles\n",
        "    - lines - path: /content/lake/bronze/lines\n",
        "    - municipalities - path: /content/lake/bronze/municipalities\n",
        "  - Make sure there is only 1 single parquet created\n",
        "  - Use overwrite as write mode"
      ]
    },
    {
      "cell_type": "markdown",
      "metadata": {
        "id": "d9LeYFsPTjAb"
      },
      "source": [
        "# Setting up PySpark"
      ]
    },
    {
      "cell_type": "code",
      "execution_count": 109,
      "metadata": {
        "colab": {
          "base_uri": "https://localhost:8080/"
        },
        "id": "uYXeODL0T1fO",
        "outputId": "0df39d1c-1812-475d-c9e8-a4003e7e73b6"
      },
      "outputs": [
        {
          "output_type": "stream",
          "name": "stdout",
          "text": [
            "Requirement already satisfied: pyspark in /usr/local/lib/python3.10/dist-packages (3.5.3)\n",
            "Requirement already satisfied: py4j==0.10.9.7 in /usr/local/lib/python3.10/dist-packages (from pyspark) (0.10.9.7)\n"
          ]
        }
      ],
      "source": [
        "%pip install pyspark"
      ]
    },
    {
      "cell_type": "code",
      "source": [
        "# Import SparkSession\n",
        "\n",
        "from pyspark.sql import SparkSession\n",
        "spark = SparkSession.builder.master('local').appName('Carla_Ferreira_API_challenge').config('spark.ui.port', '4050').getOrCreate()\n",
        "sc = spark.sparkContext"
      ],
      "metadata": {
        "id": "KCW7ptFOsV25"
      },
      "execution_count": 1,
      "outputs": []
    },
    {
      "cell_type": "code",
      "source": [
        "import requests\n",
        "from pyspark.sql.types import *\n",
        "\n",
        "def readFromAPI(url: str, schema: StructType = None):\n",
        "  response = requests.get(url)\n",
        "  rdd = sc.parallelize(response.json())\n",
        "\n",
        "  if schema:\n",
        "    df = spark.read.schema(schema).json(rdd)\n",
        "  else:\n",
        "    df = spark.read.json(rdd)\n",
        "  return df"
      ],
      "metadata": {
        "id": "lv3fhVbEskQ3"
      },
      "execution_count": 2,
      "outputs": []
    },
    {
      "cell_type": "code",
      "source": [
        "#Schemas\n",
        "vehicle_schema = StructType([StructField('bearing', IntegerType(), True),\n",
        "                             StructField('block_id', StringType(), True),\n",
        "                             StructField('current_status', StringType(), True),\n",
        "                             StructField('id', StringType(), True),\n",
        "                             StructField('lat', FloatType(), True),\n",
        "                             StructField('line_id', StringType(), True),\n",
        "                             StructField('lon', FloatType(), True),\n",
        "                             StructField('pattern_id', StringType(), True),\n",
        "                             StructField('route_id', StringType(), True),\n",
        "                             StructField('schedule_relationship', StringType(), True),\n",
        "                             StructField('shift_id', StringType(), True),\n",
        "                             StructField('speed', FloatType(), True),\n",
        "                             StructField('stop_id', StringType(), True),\n",
        "                             StructField('timestamp', TimestampType(), True),\n",
        "                             StructField('trip_id', StringType(), True)\n",
        "                             ])\n",
        "\n",
        "\n",
        "lines_schema = StructType([StructField('_corrupt_record', StringType(), True),\n",
        "                           StructField('color', StringType(), True),\n",
        "                           StructField('facilities', StringType(), True),\n",
        "                           StructField('id', StringType(), True),\n",
        "                           StructField('localities', ArrayType(StringType()), True),\n",
        "                           StructField('long_name', StringType(), True),\n",
        "                           StructField('municipalities', ArrayType(StringType()), True),\n",
        "                           StructField('patterns', ArrayType(StringType()), True),\n",
        "                           StructField('routes', StringType(), True),\n",
        "                           StructField('short_name', StringType(), True),\n",
        "                           StructField('text_color', StringType(), True)\n",
        "                           ])\n",
        "\n",
        "municipalities_schema = StructType([StructField('district_id', StringType(), True),\n",
        "                                    StructField('district_name', StringType(), True),\n",
        "                                    StructField('id', StringType(), True),\n",
        "                                    StructField('name', StringType(), True),\n",
        "                                    StructField('prefix', StringType(), True),\n",
        "                                    StructField('region_id', StringType(), True),\n",
        "                                    StructField('region_name', StringType(), True)\n",
        "                                    ])"
      ],
      "metadata": {
        "id": "1HJlN4hgOvl0"
      },
      "execution_count": 3,
      "outputs": []
    },
    {
      "cell_type": "code",
      "source": [
        "vehicles = readFromAPI(\"https://api.carrismetropolitana.pt/vehicles\", schema = vehicle_schema)\n",
        "lines = readFromAPI(\"https://api.carrismetropolitana.pt/lines\", schema = lines_schema)\n",
        "municipalities = readFromAPI(\"https://api.carrismetropolitana.pt/municipalities\", schema = municipalities_schema)"
      ],
      "metadata": {
        "id": "R4E9v8rMsu3n"
      },
      "execution_count": 4,
      "outputs": []
    },
    {
      "cell_type": "code",
      "source": [
        "# create \"date\" extracted from \"timestamp\" column (format: hh24miss) -- this format doesnt make sense, the correct is yyyyMMdd\n",
        "from pyspark.sql.functions import date_format\n",
        "vehicles = vehicles.withColumn(\"date\", date_format('timestamp', \"yyyyMMdd\"))\n",
        "\n",
        "vehicles.show()"
      ],
      "metadata": {
        "colab": {
          "base_uri": "https://localhost:8080/"
        },
        "id": "lWmvyntFR_MW",
        "outputId": "21b8fc90-85bf-405a-c99c-6025731cd26c"
      },
      "execution_count": 5,
      "outputs": [
        {
          "output_type": "stream",
          "name": "stdout",
          "text": [
            "+-------+--------------------+--------------+--------+---------+-------+---------+----------+--------+---------------------+------------+---------+-------+-------------------+--------------------+--------+\n",
            "|bearing|            block_id|current_status|      id|      lat|line_id|      lon|pattern_id|route_id|schedule_relationship|    shift_id|    speed|stop_id|          timestamp|             trip_id|    date|\n",
            "+-------+--------------------+--------------+--------+---------+-------+---------+----------+--------+---------------------+------------+---------+-------+-------------------+--------------------+--------+\n",
            "|    201|20241123-64020071...| IN_TRANSIT_TO|44|12066|38.529713|   4404|-8.885915|  4404_0_3|  4404_0|            SCHEDULED|112170000007|      0.0| 160067|2024-11-23 09:58:53|4404_0_3|2300|100...|20241123|\n",
            "|    165|20241123-64020035...| IN_TRANSIT_TO|44|12745|38.663094|   4730|-9.161282|  4730_2_1|  4730_2|            SCHEDULED|113030000007|6.9444447| 140089|2024-11-23 09:58:52|4730_2_1|2300|093...|20241123|\n",
            "|     46|20241123-64020002...| IN_TRANSIT_TO|44|12525|38.708126|   4504|-8.922889|  4504_0_1|  4504_0|            SCHEDULED|121020000007|      0.0| 010112|2024-11-23 09:58:54|4504_0_1|2300|093...|20241123|\n",
            "|    260|20241123-64020046...| IN_TRANSIT_TO|44|12633|38.751595|   4001| -8.94512|  4001_0_3|  4001_0|            SCHEDULED|121140000007|6.6666665| 010039|2024-11-23 09:58:53|4001_0_3|2300|093...|20241123|\n",
            "|    190|20241123-64020056...| IN_TRANSIT_TO|44|12608|38.536404|   4562|-8.882328|  4562_0_2|  4562_0|            SCHEDULED|111130000007| 6.111111| 162008|2024-11-23 09:58:53|4562_0_2|2300|090...|20241123|\n",
            "|    291|20241123-64020075...|   INCOMING_AT|44|12503|38.755375|   4501|-8.949975|  4501_0_1|  4501_0|            SCHEDULED|121240000007|11.666667| 010140|2024-11-23 09:58:56|4501_0_1|2300|095...|20241123|\n",
            "|    276|20241123-64020032...|   INCOMING_AT|44|12656| 38.70322|   4706|-8.964802|  4706_0_2|  4706_0|            SCHEDULED|123050000007| 9.166667| 100009|2024-11-23 09:59:01|4706_0_2|2300|093...|20241123|\n",
            "|     16|20241123-64020058...| IN_TRANSIT_TO|44|12708|38.540146|   4720|-8.872432|  4720_0_2|  4720_0|            SCHEDULED|113080000007|17.777779| 060005|2024-11-23 09:58:53|4720_0_2|2300|094...|20241123|\n",
            "|     99|20241123-64020273...| IN_TRANSIT_TO|44|12654|38.773094|   4701|-9.105177|  4701_0_2|  4701_0|            SCHEDULED|123080000007|3.6111112| 060001|2024-11-23 09:58:53|4701_0_2|2300|091...|20241123|\n",
            "|     38|20241123-64020255...| IN_TRANSIT_TO|44|12662|38.674156|   4701|-8.971394|  4701_0_2|  4701_0|            SCHEDULED|123010000007|12.222222| 100190|2024-11-23 09:58:57|4701_0_2|2300|093...|20241123|\n",
            "|    214|             4501-21|    STOPPED_AT| 42|2378|  38.7753|   2822| -9.19458|  2822_0_1|  2822_0|            SCHEDULED|        4501|      0.0| 110834|2024-11-23 09:59:04|2822_0_1|2|1|0945...|20241123|\n",
            "|    156|             4049-21| IN_TRANSIT_TO| 42|2106| 38.80876|   2725|-9.116775|  2725_0_2|  2725_0|            SCHEDULED|        4049|11.388889| 070114|2024-11-23 09:59:03|2725_0_2|2|1|0930...|20241123|\n",
            "|    166|      ESC_SAB_ES3006| IN_TRANSIT_TO| 43|2033|38.447266|   3205|-9.101859|  3205_0_1|  3205_0|            SCHEDULED|      ES3006| 8.333333| 150051|2024-11-23 09:58:30|3205_0_1_0930_095...|20241123|\n",
            "|    160|                1078|   INCOMING_AT| 42|1078|38.921947|   2740|-9.294331|  2740_0_1|  2740_0|            SCHEDULED|       47126| 8.333333| 080338|2024-11-23 09:58:56|2740_0_1|160|1|09...|20241123|\n",
            "|    332|           2_2215-21| IN_TRANSIT_TO| 41|1329| 38.71643|   1731|-9.301818|  1731_0_2|  1731_0|            SCHEDULED|        2215| 6.111111| 120921|2024-11-23 09:58:36|1731_0_2_0900_092...|20241123|\n",
            "|      0|             4018-21|    STOPPED_AT| 42|2418|38.890373|   2790|-9.034171|  2790_0_1|  2790_0|            SCHEDULED|        4018|      0.0| 182258|2024-11-23 09:58:02|2790_0_1|2|1|1000...|20241123|\n",
            "|    232|           2_2730-21|   INCOMING_AT|  41|540| 38.80117|   1235|-9.312263|  1235_0_1|  1235_0|            SCHEDULED|        2730|      7.5| 170371|2024-11-23 09:58:27|1235_0_1_0930_095...|20241123|\n",
            "|    293|20241123-64020004...| IN_TRANSIT_TO|44|12536|38.751377|   4600|-8.942855|  4600_0_1|  4600_0|            SCHEDULED|121030000007|      0.0| 010136|2024-11-23 09:58:58|4600_0_1|2300|100...|20241123|\n",
            "|     11|           2_2716-21| IN_TRANSIT_TO| 41|1235| 38.78605|   1205|-9.329948|  1205_0_2|  1205_0|            SCHEDULED|        2716| 8.055555| 170271|2024-11-23 09:58:43|1205_0_2_0930_095...|20241123|\n",
            "|     17|           2_2731-21| IN_TRANSIT_TO| 41|1236|38.770535|   1623|-9.379874|  1623_1_1|  1623_1|            SCHEDULED|        2731| 9.722222| 172297|2024-11-23 09:58:55|1623_1_1_0930_095...|20241123|\n",
            "+-------+--------------------+--------------+--------+---------+-------+---------+----------+--------+---------------------+------------+---------+-------+-------------------+--------------------+--------+\n",
            "only showing top 20 rows\n",
            "\n"
          ]
        }
      ]
    },
    {
      "cell_type": "code",
      "source": [
        "from pyspark.sql import functions as F\n",
        "\n",
        "vehicles.select(\"date\").distinct().agg(F.min(\"date\").alias(\"min_date\")).show()\n",
        "vehicles.select(\"date\").distinct().agg(F.max(\"date\").alias(\"max_date\")).show()\n",
        "\n",
        "# there's only one day in this file."
      ],
      "metadata": {
        "colab": {
          "base_uri": "https://localhost:8080/"
        },
        "id": "cjiItiw-WtDe",
        "outputId": "6aa55803-edb8-4744-b70f-f43a10323aba"
      },
      "execution_count": 6,
      "outputs": [
        {
          "output_type": "stream",
          "name": "stdout",
          "text": [
            "+--------+\n",
            "|min_date|\n",
            "+--------+\n",
            "|20241123|\n",
            "+--------+\n",
            "\n",
            "+--------+\n",
            "|max_date|\n",
            "+--------+\n",
            "|20241123|\n",
            "+--------+\n",
            "\n"
          ]
        }
      ]
    },
    {
      "cell_type": "markdown",
      "source": [
        "Write data as PARQUET into the BRONZE layer (/content/lake/bronze)\n",
        "\n",
        "*   Partition \"vehicles\" by \"date\" column\n",
        "*   Paths: /content/lake/bronze/vehicles, /content/lake/bronze/lines\n",
        ", /content/lake/bronze/municipalities\n",
        "\n",
        "Make sure there is only 1 single parquet created /\n",
        "Use overwrite as write mode"
      ],
      "metadata": {
        "id": "o8kPFFtKU6P8"
      }
    },
    {
      "cell_type": "markdown",
      "source": [
        "Declare the directory to write the data that came from API carrismetropolitana"
      ],
      "metadata": {
        "id": "S9PXODmNQlF4"
      }
    },
    {
      "cell_type": "code",
      "source": [
        "!mkdir -p /content/lake/bronze\n",
        "\n",
        "path_vehicles = \"/content/lake/bronze/vehicles\"\n",
        "path_lines = \"/content/lake/bronze/lines\"\n",
        "path_municipalities = \"/content/lake/bronze/municipalities\""
      ],
      "metadata": {
        "id": "iU_dlCvkQkhr"
      },
      "execution_count": 7,
      "outputs": []
    },
    {
      "cell_type": "code",
      "source": [
        "(vehicles\n",
        ".coalesce(1)\n",
        ".write\n",
        ".mode(\"overwrite\")\n",
        ".partitionBy(\"date\")\n",
        ".format(\"parquet\")\n",
        ".save(path_vehicles)\n",
        ")\n",
        "\n",
        "\n",
        "(lines\n",
        ".write\n",
        ".mode(\"overwrite\")\n",
        ".format(\"parquet\")\n",
        ".save(path_lines)\n",
        ")\n",
        "\n",
        "\n",
        "(municipalities\n",
        ".write\n",
        ".mode(\"overwrite\")\n",
        ".format(\"parquet\")\n",
        ".save(path_municipalities)\n",
        ")"
      ],
      "metadata": {
        "id": "RUow9UvrUL1v"
      },
      "execution_count": 8,
      "outputs": []
    },
    {
      "cell_type": "markdown",
      "source": [
        "# CHALLENGE 2\n",
        "##  Implement CLEANSING process\n",
        "- Set up path in the \"lake\"\n",
        "  - !mkdir -p /content/lake/silver\n",
        "\n",
        "- Read data from BRONZE layer as PARQUET:\n",
        "    - vehicles - path: /content/lake/bronze/vehicles\n",
        "    - lines - path: /content/lake/bronze/lines\n",
        "    - municipalities - path: /content/lake/bronze/municipalities\n",
        "\n",
        "- Transformations\n",
        "  - vehicles\n",
        "    - rename \"lat\" and \"lon\" to \"latitude\" and \"longitude\" respectively\n",
        "    - remove possible duplicates\n",
        "    - remove rows when the column CURRENT_STATUS is null\n",
        "    - remove any corrupted record\n",
        "  - lines\n",
        "    - remove duplicates\n",
        "    - remove rows when the column LONG_NAME is null\n",
        "    - remove any corrupted record\n",
        "  - municipalities\n",
        "    - remove duplicates\n",
        "    - remove rows when the columns NAME or DISTRICT_NAME are null\n",
        "    - remove any corrupted record\n",
        "\n",
        "- Write data as PARQUET into the SILVER layer (/content/lake/silver)\n",
        "  - Partition \"vehicles\" by \"date\"(created in the ingestion)\n",
        "  - Paths:\n",
        "    - vehicles - path: /content/lake/silver/vehicles\n",
        "    - lines - path: /content/lake/silver/lines\n",
        "    - municipalities - path: /content/lake/silver/municipalities"
      ],
      "metadata": {
        "id": "hWFaXrPgcL1X"
      }
    },
    {
      "cell_type": "code",
      "source": [
        "vehicles = spark.read.parquet(\"/content/lake/bronze/vehicles\", schema = vehicle_schema)"
      ],
      "metadata": {
        "id": "1QktKE37cEE6"
      },
      "execution_count": 9,
      "outputs": []
    },
    {
      "cell_type": "code",
      "source": [
        "lines = spark.read.parquet(\"/content/lake/bronze/lines\", schema = lines_schema)"
      ],
      "metadata": {
        "id": "qhfNgrt4lb3I"
      },
      "execution_count": 10,
      "outputs": []
    },
    {
      "cell_type": "code",
      "source": [
        "municipalities = spark.read.parquet(\"/content/lake/bronze/municipalities\", schema = municipalities_schema)"
      ],
      "metadata": {
        "id": "J12-5awTldp7"
      },
      "execution_count": 11,
      "outputs": []
    },
    {
      "cell_type": "code",
      "source": [
        "from pyspark.sql.functions import *\n",
        "\n",
        "# Vehicles\n",
        "# rename \"lat\" and \"lon\" to \"latitude\" and \"longitude\" respectively\n",
        "vehicles = vehicles.withColumnRenamed(\"lat\", \"latitude\").withColumnRenamed(\"lon\", \"longitude\")\n",
        "\n",
        "# remove possible duplicates\n",
        "vehicles = vehicles.dropDuplicates()\n",
        "# remove rows when the column CURRENT_STATUS is null\n",
        "vehicles = vehicles.filter(vehicles[\"current_status\"].isNotNull())\n",
        "# remove any corrupted record (????)"
      ],
      "metadata": {
        "id": "RagHE9U_cJgY"
      },
      "execution_count": 12,
      "outputs": []
    },
    {
      "cell_type": "code",
      "source": [
        "from pyspark.sql.functions import *\n",
        "\n",
        "# Lines\n",
        "# remove duplicates\n",
        "lines = lines.dropDuplicates()\n",
        "# remove rows when the column LONG_NAME is null\n",
        "lines = lines.filter(lines[\"long_name\"].isNotNull())\n",
        "# remove any corrupted record\n",
        "lines = lines.filter(lines[\"_corrupt_record\"].isNull())"
      ],
      "metadata": {
        "id": "Z9naexDYcM9p"
      },
      "execution_count": 13,
      "outputs": []
    },
    {
      "cell_type": "code",
      "source": [
        "# Municipalities\n",
        "# remove duplicates\n",
        "municipalities = municipalities.dropDuplicates()\n",
        "# remove rows when the columns NAME or DISTRICT_NAME are null\n",
        "municipalities = municipalities.filter(municipalities[\"name\"].isNotNull() & municipalities[\"district_name\"].isNotNull())\n",
        "# remove any corrupted record (???)"
      ],
      "metadata": {
        "id": "ybMMG-pUcP0W"
      },
      "execution_count": 14,
      "outputs": []
    },
    {
      "cell_type": "code",
      "source": [
        "!mkdir -p /content/lake/silver"
      ],
      "metadata": {
        "id": "YFYbcgiacXdi"
      },
      "execution_count": 15,
      "outputs": []
    },
    {
      "cell_type": "code",
      "source": [
        "path_vehicles = \"/content/lake/silver/vehicles\"\n",
        "path_lines = \"/content/lake/silver/lines\"\n",
        "path_municipalities = \"/content/lake/silver/municipalities\""
      ],
      "metadata": {
        "id": "wPOVuVsFcZ19"
      },
      "execution_count": 16,
      "outputs": []
    },
    {
      "cell_type": "code",
      "source": [
        "(vehicles\n",
        ".coalesce(1)\n",
        ".write\n",
        ".mode(\"overwrite\")\n",
        ".partitionBy(\"date\")\n",
        ".format(\"parquet\")\n",
        ".save(path_vehicles)\n",
        ")\n",
        "\n",
        "\n",
        "(lines\n",
        ".write\n",
        ".mode(\"overwrite\")\n",
        ".format(\"parquet\")\n",
        ".save(path_lines)\n",
        ")\n",
        "\n",
        "\n",
        "(municipalities\n",
        ".write\n",
        ".mode(\"overwrite\")\n",
        ".format(\"parquet\")\n",
        ".save(path_municipalities)\n",
        ")"
      ],
      "metadata": {
        "id": "j6OncVYacc35"
      },
      "execution_count": 17,
      "outputs": []
    },
    {
      "cell_type": "markdown",
      "source": [
        "# CHALLENGE 3\n",
        "##  Implement ENRICH process\n",
        "- Set up path in the \"lake\"\n",
        "  - !mkdir -p /content/lake/gold\n",
        "\n",
        "- Read data from SILVER layer\n",
        "  - Paths:\n",
        "    - vehicles - path: /content/lake/silver/vehicles\n",
        "    - lines - path: /content/lake/silver/lines\n",
        "    - municipalities - path: /content/lake/silver/municipalities\n",
        "  - Use StructFields to enforce schema\n",
        "\n",
        "- Enrichment\n",
        "  - Enrich vehicles dataset with information from the line and municipalities\n",
        "    - join vehicles with lines and municipalities\n",
        "      - select all columns from vehicles + lines.long_name (name: line_name, format:string) + municipalities.name (name: municipality_name, format: array)\n",
        "      - Note that \"municipalities.name\" is an array\n",
        "\n",
        "- Write data as PARQUET into the GOLD layer (/content/lake/gold)\n",
        "  - Dataset name: vehicles_enriched\n",
        "  - Partition \"vehicles_enriched\" by \"date\" column\n",
        "  - Paths:\n",
        "    - vehicles - path: /content/lake/gold/vehicles_enriched\n",
        "  - Make sure there is only 1 single parquet created\n",
        "  - Use overwrite as write mode"
      ],
      "metadata": {
        "id": "gdN5bL9Ccdk1"
      }
    },
    {
      "cell_type": "code",
      "source": [
        "vehicles = spark.read.parquet(\"/content/lake/silver/vehicles\", schema = vehicle_schema)"
      ],
      "metadata": {
        "id": "a6IHVIn3l38g"
      },
      "execution_count": 18,
      "outputs": []
    },
    {
      "cell_type": "code",
      "source": [
        "lines = spark.read.parquet(\"/content/lake/silver/lines\", schema = lines_schema)"
      ],
      "metadata": {
        "id": "PDti0gpQl7kt"
      },
      "execution_count": 19,
      "outputs": []
    },
    {
      "cell_type": "code",
      "source": [
        "municipalities = spark.read.parquet(\"/content/lake/silver/municipalities\", schema = municipalities_schema)"
      ],
      "metadata": {
        "id": "n_qGhJqpl8La"
      },
      "execution_count": 20,
      "outputs": []
    },
    {
      "cell_type": "code",
      "source": [
        "# Extract info from the array in municiples\n",
        "from pyspark.sql.functions import explode\n",
        "lines_treated = lines.select(\n",
        "    \"facilities\"\n",
        "    , \"id\"\n",
        "    , \"localities\"\n",
        "    , explode(lines.municipalities).alias(\"municipalities_id\")\n",
        ").drop_duplicates()"
      ],
      "metadata": {
        "id": "0A2ZkJYlcqg7"
      },
      "execution_count": 21,
      "outputs": []
    },
    {
      "cell_type": "code",
      "source": [
        "vehicles_lines = vehicles.join(lines_treated, vehicles['line_id'] == lines_treated['id'], how = 'left')\n",
        "vehicles_enriched = vehicles_lines.join(municipalities, lines_treated['municipalities_id'] == municipalities['id'], how = 'left')\n",
        "vehicles_enriched.dropDuplicates().show()"
      ],
      "metadata": {
        "colab": {
          "base_uri": "https://localhost:8080/"
        },
        "id": "fwhQRWXweDX2",
        "outputId": "c043c2ac-e4d4-4485-a0d2-a52221921553"
      },
      "execution_count": 22,
      "outputs": [
        {
          "output_type": "stream",
          "name": "stdout",
          "text": [
            "+-------+--------------------+--------------+--------+---------+-------+---------+----------+--------+---------------------+------------+---------+-------+-------------------+--------------------+--------+----------+----+--------------------+-----------------+-----------+-------------+----+--------+------+---------+-----------+\n",
            "|bearing|            block_id|current_status|      id| latitude|line_id|longitude|pattern_id|route_id|schedule_relationship|    shift_id|    speed|stop_id|          timestamp|             trip_id|    date|facilities|  id|          localities|municipalities_id|district_id|district_name|  id|    name|prefix|region_id|region_name|\n",
            "+-------+--------------------+--------------+--------+---------+-------+---------+----------+--------+---------------------+------------+---------+-------+-------------------+--------------------+--------+----------+----+--------------------+-----------------+-----------+-------------+----+--------+------+---------+-----------+\n",
            "|    316|             4050-21| IN_TRANSIT_TO| 42|2103| 38.81987|   2725|-9.175715|  2725_0_2|  2725_0|            SCHEDULED|        4050|      0.0| 070369|2024-11-23 09:58:30|2725_0_2|2|1|1005...|20241123|        []|2725|[Parque das Naçõe...|             1107|         11|       Lisboa|1107|  Loures|    07|    PT170|        AML|\n",
            "|      0|      ESC_SAB_ES1011|    STOPPED_AT| 43|2334|38.667847|   3512|-9.159355|  3512_0_2|  3512_0|            SCHEDULED|      ES1004|      0.0| 020077|2024-11-23 09:58:55|3512_0_2_0900_092...|20241123|        []|3512|[Cacilhas, Cova d...|             1503|         15|      Setúbal|1503|  Almada|    02|    PT170|        AML|\n",
            "|    192|      ESC_SAB_ES2059|   INCOMING_AT| 43|2000|38.601883|   3015|-9.186773|  3015_0_2|  3015_0|            SCHEDULED|      ES2061| 9.722222| 020180|2024-11-23 09:58:25|3015_0_2_0900_092...|20241123|        []|3015|[Charneca da Capa...|             1503|         15|      Setúbal|1503|  Almada|    02|    PT170|        AML|\n",
            "|    222|           2_2009-21|    STOPPED_AT| 41|1248| 38.76733|   1703|-9.222192|  1703_0_2|  1703_0|            SCHEDULED|        2009|0.2777778| 030361|2024-11-23 09:59:03|1703_0_2_0930_095...|20241123|        []|1703|[Amadora, Pontinh...|             1106|         11|       Lisboa|1106|  Lisboa|    06|    PT170|        AML|\n",
            "|    134|             4512-21| IN_TRANSIT_TO| 42|2208|38.783867|   2605|-9.286275|  2605_2_1|  2605_2|            SCHEDULED|        4512|10.277778| 170583|2024-11-23 09:58:54|2605_2_1|2|1|0950...|20241123|        []|2605|[Cacém, Sintra, B...|             1116|         11|       Lisboa|1116|Odivelas|    11|    PT170|        AML|\n",
            "|      0|           2_2411-21|    STOPPED_AT| 41|1288|38.733818|   1606|-9.229818|  1606_0_1|  1606_0|            SCHEDULED|        2411|      0.0| 121213|2024-11-23 09:58:56|1606_0_1_1000_102...|20241123|        []|1606|[Carnaxide, Oeira...|             1110|         11|       Lisboa|1110|  Oeiras|    12|    PT170|        AML|\n",
            "|    183|                1257| IN_TRANSIT_TO| 42|1257|38.780075|   2754|-9.164396|  2754_0_2|  2754_0|            SCHEDULED|       46219|15.555555| 060008|2024-11-23 09:58:33|2754_0_2|160|1|09...|20241123|        []|2754|[Campo Grande, Od...|             1106|         11|       Lisboa|1106|  Lisboa|    06|    PT170|        AML|\n",
            "|    292|           2_2306-21| IN_TRANSIT_TO| 41|1212|38.699326|   1614|-9.335362|  1614_0_1|  1614_0|            SCHEDULED|        2321| 6.111111| 050023|2024-11-23 09:58:57|1614_0_1_0930_095...|20241123|        []|1614|[Carcavelos, Casc...|             1105|         11|       Lisboa|1105| Cascais|    05|    PT170|        AML|\n",
            "|     46|20241123-64020002...| IN_TRANSIT_TO|44|12525|38.708126|   4504|-8.922889|  4504_0_1|  4504_0|            SCHEDULED|121020000007|      0.0| 010112|2024-11-23 09:58:54|4504_0_1|2300|093...|20241123|        []|4504|[Montijo, Bairro ...|             1507|         15|      Setúbal|1507| Montijo|    10|    PT170|        AML|\n",
            "|     22|20241123-64020064...| IN_TRANSIT_TO|44|12504| 38.52979|   4512|-8.885973|  4512_0_2|  4512_0|            SCHEDULED|121210000007|      0.0| 162008|2024-11-23 09:59:02|4512_0_2|2300|100...|20241123|      NULL|NULL|                NULL|             NULL|       NULL|         NULL|NULL|    NULL|  NULL|     NULL|       NULL|\n",
            "|    291|20241123-64020075...|   INCOMING_AT|44|12503|38.755375|   4501|-8.949975|  4501_0_1|  4501_0|            SCHEDULED|121240000007|11.666667| 010140|2024-11-23 09:58:56|4501_0_1|2300|095...|20241123|        []|4501|[Alcochete, Valbo...|             1507|         15|      Setúbal|1507| Montijo|    10|    PT170|        AML|\n",
            "|      0|           2_2629-21|    STOPPED_AT| 41|1306|38.757668|   1717|-9.222201|  1717_0_1|  1717_0|            SCHEDULED|        2629|      0.0| 030613|2024-11-23 09:58:53|1717_0_1_0930_095...|20241123|        []|1717|[Colégio Militar,...|             1106|         11|       Lisboa|1106|  Lisboa|    06|    PT170|        AML|\n",
            "|    223|           2_2621-21|   INCOMING_AT| 41|1867|38.742207|   1717|-9.268606|  1717_0_1|  1717_0|            SCHEDULED|        2621|7.2222223| 120389|2024-11-23 09:59:00|1717_0_1_0900_092...|20241123|        []|1717|[Colégio Militar,...|             1110|         11|       Lisboa|1110|  Oeiras|    12|    PT170|        AML|\n",
            "|    120|           2_2317-21| IN_TRANSIT_TO| 41|1238|38.799595|   1614|-9.356737|  1614_0_2|  1614_0|            SCHEDULED|        2317|10.833333| 170810|2024-11-23 09:59:04|1614_0_2_0930_095...|20241123|        []|1614|[Carcavelos, Casc...|             1110|         11|       Lisboa|1110|  Oeiras|    12|    PT170|        AML|\n",
            "|      9|           2_2740-21|   INCOMING_AT| 41|1418|38.770508|   1234|-9.357533|  1234_0_1|  1234_0|            SCHEDULED|        2740|6.6666665| 171175|2024-11-23 09:59:03|1234_0_1_0930_095...|20241123|        []|1234|[Sintra, Alto do ...|             1111|         11|       Lisboa|1111|  Sintra|    17|    PT170|        AML|\n",
            "|      0|UNAVAILABLE_BLOCK_ID|    STOPPED_AT| 43|2085|38.673393|   3026|-9.175815|  3026_0_2|  3026_0|            SCHEDULED|      ES2071|      0.0| 021064|2024-11-23 09:57:43|3026_0_2_0930_095...|20241123|        []|3026|[Cova da Piedade,...|             1503|         15|      Setúbal|1503|  Almada|    02|    PT170|        AML|\n",
            "|      0|           2_2734-21|    STOPPED_AT| 41|1239| 38.80245|   1206|-9.377101|  1206_1_2|  1206_1|            SCHEDULED|        2734|      0.0| 172485|2024-11-23 09:58:36|1206_1_2_1000_102...|20241123|        []|1206|[Algueirão, Sintr...|             1111|         11|       Lisboa|1111|  Sintra|    17|    PT170|        AML|\n",
            "|    159|           2_2718-21|    STOPPED_AT| 41|1223| 38.72871|   1628|-9.418388|  1628_0_2|  1628_0|            SCHEDULED|        2718|5.2777777| 050233|2024-11-23 09:58:35|1628_0_2_0900_092...|20241123|        []|1628|[Estoril, Monte E...|             1105|         11|       Lisboa|1105| Cascais|    05|    PT170|        AML|\n",
            "|      0|             4704-21|    STOPPED_AT| 42|2505| 38.83355|   2037|-9.155778|  2037_0_3|  2037_0|            SCHEDULED|        4704|      0.0| 070385|2024-11-23 09:58:48|2037_0_3|2|1|0935...|20241123|        []|2037|[Zambujal, Loures...|             1107|         11|       Lisboa|1107|  Loures|    07|    PT170|        AML|\n",
            "|    197|           2_2739-21|   INCOMING_AT| 41|1242|38.808167|   1241|-9.349294|  1241_0_1|  1241_0|            SCHEDULED|        2739|7.2222223| 175364|2024-11-23 09:58:09|1241_0_1_0930_095...|20241123|        []|1241|[Almoçageme, Sint...|             1111|         11|       Lisboa|1111|  Sintra|    17|    PT170|        AML|\n",
            "+-------+--------------------+--------------+--------+---------+-------+---------+----------+--------+---------------------+------------+---------+-------+-------------------+--------------------+--------+----------+----+--------------------+-----------------+-----------+-------------+----+--------+------+---------+-----------+\n",
            "only showing top 20 rows\n",
            "\n"
          ]
        }
      ]
    },
    {
      "cell_type": "code",
      "source": [
        "vehicles_enriched = vehicles_enriched.select(\n",
        "      \"line_id\"\n",
        "    , \"current_status\"\n",
        "    , \"schedule_relationship\"\n",
        "    , \"shift_id\"\n",
        "    , \"speed\"\n",
        "    , \"stop_id\"\n",
        "    , \"date\"\n",
        "    , \"facilities\"\n",
        "    , \"municipalities_id\"\n",
        "    , \"district_name\"\n",
        "    , \"name\"\n",
        "    , \"prefix\"\n",
        "    , \"region_id\"\n",
        "    , \"region_name\"\n",
        ").drop_duplicates()"
      ],
      "metadata": {
        "id": "UU6KYEqVwAOj"
      },
      "execution_count": 23,
      "outputs": []
    },
    {
      "cell_type": "code",
      "source": [
        "!mkdir -p /content/lake/gold"
      ],
      "metadata": {
        "id": "mPXTyXgbdrtw"
      },
      "execution_count": 24,
      "outputs": []
    },
    {
      "cell_type": "code",
      "source": [
        "path_vehicles_enriched = \"/content/lake/gold/vehicles_enriched\""
      ],
      "metadata": {
        "id": "wuu7OKGykI9H"
      },
      "execution_count": 25,
      "outputs": []
    },
    {
      "cell_type": "code",
      "source": [
        "vehicles_enriched.show()"
      ],
      "metadata": {
        "colab": {
          "base_uri": "https://localhost:8080/"
        },
        "id": "jUzEYsXjk6Dp",
        "outputId": "83e49b13-8354-4e9e-c610-920044c62a43"
      },
      "execution_count": 26,
      "outputs": [
        {
          "output_type": "stream",
          "name": "stdout",
          "text": [
            "+-------+--------------+---------------------+----------------+---------+-------+--------+----------+-----------------+-------------+-------+------+---------+-----------+\n",
            "|line_id|current_status|schedule_relationship|        shift_id|    speed|stop_id|    date|facilities|municipalities_id|district_name|   name|prefix|region_id|region_name|\n",
            "+-------+--------------+---------------------+----------------+---------+-------+--------+----------+-----------------+-------------+-------+------+---------+-----------+\n",
            "|   1721|    STOPPED_AT|            SCHEDULED|            2609|      0.0| 060055|20241123|        []|             1106|       Lisboa| Lisboa|    06|    PT170|        AML|\n",
            "|   4701| IN_TRANSIT_TO|            SCHEDULED|    123070000007|      0.0| 090018|20241123|        []|             1106|       Lisboa| Lisboa|    06|    PT170|        AML|\n",
            "|   2790|    STOPPED_AT|            SCHEDULED|            4018|      0.0| 182258|20241123|        []|             1107|       Lisboa| Loures|    07|    PT170|        AML|\n",
            "|   1501| IN_TRANSIT_TO|            SCHEDULED|            2036| 9.166667| 030678|20241123|        []|             1110|       Lisboa| Oeiras|    12|    PT170|        AML|\n",
            "|   3526|   INCOMING_AT|            SCHEDULED|          ES1022|7.7777777| 140715|20241123|        []|             1510|      Setúbal| Seixal|    14|    PT170|        AML|\n",
            "|   3721| IN_TRANSIT_TO|            SCHEDULED|          ES3005|15.555555| 150215|20241123|        []|             1503|      Setúbal| Almada|    02|    PT170|        AML|\n",
            "|   2036| IN_TRANSIT_TO|            SCHEDULED|            4058| 8.333333| 071361|20241123|        []|             1107|       Lisboa| Loures|    07|    PT170|        AML|\n",
            "|   1515| IN_TRANSIT_TO|            SCHEDULED|            2008| 8.611111| 030606|20241123|        []|             1115|       Lisboa|Amadora|    03|    PT170|        AML|\n",
            "|   2776|    STOPPED_AT|            SCHEDULED|           43844|      0.0| 060341|20241123|        []|             1107|       Lisboa| Loures|    07|    PT170|        AML|\n",
            "|   1629|    STOPPED_AT|            SCHEDULED|            2729|1.6666666| 171205|20241123|        []|             1111|       Lisboa| Sintra|    17|    PT170|        AML|\n",
            "|   2626|   INCOMING_AT|            SCHEDULED|           43802|11.666667| 171963|20241123|        []|             1109|       Lisboa|  Mafra|    08|    PT170|        AML|\n",
            "|   1507|    STOPPED_AT|            SCHEDULED|            2025|3.0555556| 030027|20241123|        []|             1115|       Lisboa|Amadora|    03|    PT170|        AML|\n",
            "|   1235|   INCOMING_AT|            SCHEDULED|            2730|      7.5| 170371|20241123|        []|             1111|       Lisboa| Sintra|    17|    PT170|        AML|\n",
            "|   4562| IN_TRANSIT_TO|            SCHEDULED|    111130000007| 6.111111| 162008|20241123|        []|             1508|      Setúbal|Palmela|    13|    PT170|        AML|\n",
            "|   3001|    STOPPED_AT|            SCHEDULED|          ES2044|      0.0| 020015|20241123|        []|             1503|      Setúbal| Almada|    02|    PT170|        AML|\n",
            "|   1608|    STOPPED_AT|            SCHEDULED|TP 2+2319(13:30)|      0.0| 121235|20241123|        []|             1105|       Lisboa|Cascais|    05|    PT170|        AML|\n",
            "|   2750| IN_TRANSIT_TO|            SCHEDULED|            4703|     10.0| 070521|20241123|        []|             1109|       Lisboa|  Mafra|    08|    PT170|        AML|\n",
            "|   1529|    STOPPED_AT|            SCHEDULED|            2410|      0.0| 120930|20241123|        []|             1111|       Lisboa| Sintra|    17|    PT170|        AML|\n",
            "|   1709| IN_TRANSIT_TO|            SCHEDULED|            2049|11.388889| 030803|20241123|        []|             1111|       Lisboa| Sintra|    17|    PT170|        AML|\n",
            "|   2734| IN_TRANSIT_TO|            SCHEDULED|            4059|11.111111| 070125|20241123|        []|             1107|       Lisboa| Loures|    07|    PT170|        AML|\n",
            "+-------+--------------+---------------------+----------------+---------+-------+--------+----------+-----------------+-------------+-------+------+---------+-----------+\n",
            "only showing top 20 rows\n",
            "\n"
          ]
        }
      ]
    },
    {
      "cell_type": "code",
      "source": [
        "(vehicles_enriched\n",
        ".coalesce(1)\n",
        ".write\n",
        ".mode(\"overwrite\")\n",
        ".partitionBy(\"date\")\n",
        ".format(\"parquet\")\n",
        ".save(path_vehicles_enriched)\n",
        ")"
      ],
      "metadata": {
        "id": "YdhvDwewkLsn"
      },
      "execution_count": 27,
      "outputs": []
    },
    {
      "cell_type": "markdown",
      "source": [
        "# CHALLENGE 4\n",
        "##  Analyze data\n",
        "\n",
        "- Query table \"vehicles_enriched\" in gold layer\n",
        "- Aggregate data by municipality_name (array)\n",
        "- Calculate:\n",
        "  - count of vehicles (id) that pass through that municipality\n",
        "  - sum speed of vehicles\n",
        "\n",
        "Questions:\n",
        "  - What are the top 3 municipalities by vehicles routes?\n",
        "  - What are the top 3 municipalities with higher vehicle speed on average?\n",
        "\n",
        "\n",
        "Tips:\n",
        "- explode array into rows -> https://spark.apache.org/docs/latest/api/python/reference/pyspark.sql/api/pyspark.sql.functions.explode.html\n"
      ],
      "metadata": {
        "id": "MQWW-yTulmIY"
      }
    },
    {
      "cell_type": "code",
      "source": [
        "vehicles_enriched = spark.read.parquet(\"/content/lake/gold/vehicles_enriched\")"
      ],
      "metadata": {
        "id": "Om5zIuJQlnXK"
      },
      "execution_count": 28,
      "outputs": []
    },
    {
      "cell_type": "code",
      "source": [
        "vehicles_enriched.filter(vehicles_enriched.name == \"Lisboa\").show()"
      ],
      "metadata": {
        "colab": {
          "base_uri": "https://localhost:8080/"
        },
        "id": "DcYwMF9I_A9F",
        "outputId": "e3de69fc-4b95-4f24-eb3a-c734ca9ce073"
      },
      "execution_count": 29,
      "outputs": [
        {
          "output_type": "stream",
          "name": "stdout",
          "text": [
            "+-------+--------------+---------------------+------------+---------+-------+----------+-----------------+-------------+------+------+---------+-----------+--------+\n",
            "|line_id|current_status|schedule_relationship|    shift_id|    speed|stop_id|facilities|municipalities_id|district_name|  name|prefix|region_id|region_name|    date|\n",
            "+-------+--------------+---------------------+------------+---------+-------+----------+-----------------+-------------+------+------+---------+-----------+--------+\n",
            "|   1721|    STOPPED_AT|            SCHEDULED|        2609|      0.0| 060055|        []|             1106|       Lisboa|Lisboa|    06|    PT170|        AML|20241123|\n",
            "|   4701| IN_TRANSIT_TO|            SCHEDULED|123070000007|      0.0| 090018|        []|             1106|       Lisboa|Lisboa|    06|    PT170|        AML|20241123|\n",
            "|   4701| IN_TRANSIT_TO|            SCHEDULED|123080000007|3.6111112| 060001|        []|             1106|       Lisboa|Lisboa|    06|    PT170|        AML|20241123|\n",
            "|   3721| IN_TRANSIT_TO|            SCHEDULED|      ES3005|15.555555| 150215|        []|             1106|       Lisboa|Lisboa|    06|    PT170|        AML|20241123|\n",
            "|   1718|   INCOMING_AT|            SCHEDULED|        2622| 8.055555| 030552|        []|             1106|       Lisboa|Lisboa|    06|    PT170|        AML|20241123|\n",
            "|   3710| IN_TRANSIT_TO|            SCHEDULED|      ES2043| 8.333333| 061215|        []|             1106|       Lisboa|Lisboa|    06|    PT170|        AML|20241123|\n",
            "|   2730|   INCOMING_AT|            SCHEDULED|        4009|      0.0| 071237|        []|             1106|       Lisboa|Lisboa|    06|    PT170|        AML|20241123|\n",
            "|   2790|    STOPPED_AT|            SCHEDULED|        4018|      0.0| 182258|        []|             1106|       Lisboa|Lisboa|    06|    PT170|        AML|20241123|\n",
            "|   1714|    STOPPED_AT|            SCHEDULED|        2027|      0.0| 030515|        []|             1106|       Lisboa|Lisboa|    06|    PT170|        AML|20241123|\n",
            "|   2736| IN_TRANSIT_TO|            SCHEDULED|        4035|4.1666665| 060241|        []|             1106|       Lisboa|Lisboa|    06|    PT170|        AML|20241123|\n",
            "|   4705| IN_TRANSIT_TO|            SCHEDULED|123090000007|      0.0| 060002|        []|             1106|       Lisboa|Lisboa|    06|    PT170|        AML|20241123|\n",
            "|   2780| IN_TRANSIT_TO|            SCHEDULED|        4525|10.555555| 110285|        []|             1106|       Lisboa|Lisboa|    06|    PT170|        AML|20241123|\n",
            "|   2727| IN_TRANSIT_TO|            SCHEDULED|        4054|15.833333| 070119|        []|             1106|       Lisboa|Lisboa|    06|    PT170|        AML|20241123|\n",
            "|   1716|    STOPPED_AT|            SCHEDULED|        2608|      0.0| 172495|        []|             1106|       Lisboa|Lisboa|    06|    PT170|        AML|20241123|\n",
            "|   2725| IN_TRANSIT_TO|            SCHEDULED|        4050|      0.0| 070369|        []|             1106|       Lisboa|Lisboa|    06|    PT170|        AML|20241123|\n",
            "|   2702|    STOPPED_AT|            SCHEDULED|        4535|2.2222223| 060155|        []|             1106|       Lisboa|Lisboa|    06|    PT170|        AML|20241123|\n",
            "|   2769| IN_TRANSIT_TO|            SCHEDULED|        4812| 8.888889| 070563|        []|             1106|       Lisboa|Lisboa|    06|    PT170|        AML|20241123|\n",
            "|   2730| IN_TRANSIT_TO|            SCHEDULED|        4002|      0.0| 070515|        []|             1106|       Lisboa|Lisboa|    06|    PT170|        AML|20241123|\n",
            "|   2734| IN_TRANSIT_TO|            SCHEDULED|        4059|11.111111| 070125|        []|             1106|       Lisboa|Lisboa|    06|    PT170|        AML|20241123|\n",
            "|   2772|    STOPPED_AT|            SCHEDULED|        4809|      0.0| 070328|        []|             1106|       Lisboa|Lisboa|    06|    PT170|        AML|20241123|\n",
            "+-------+--------------+---------------------+------------+---------+-------+----------+-----------------+-------------+------+------+---------+-----------+--------+\n",
            "only showing top 20 rows\n",
            "\n"
          ]
        }
      ]
    },
    {
      "cell_type": "code",
      "source": [
        "data = vehicles_enriched.select(\"line_id\", \"name\",\"speed\").dropDuplicates()"
      ],
      "metadata": {
        "id": "WJT1rECWlvn7"
      },
      "execution_count": 33,
      "outputs": []
    },
    {
      "cell_type": "code",
      "source": [
        "data = vehicles_enriched.groupBy(\"name\").agg(\n",
        "      count_distinct(\"line_id\").alias(\"count_line_ids\")\n",
        "    , round(sum(\"speed\"),2).alias(\"sum_speed\")\n",
        ")"
      ],
      "metadata": {
        "id": "cncNw1QNdznN"
      },
      "execution_count": 34,
      "outputs": []
    },
    {
      "cell_type": "markdown",
      "source": [
        "What are the top 3 municipalities by vehicles routes?\n",
        "\n",
        "**Sintra, Lisboa e Almada**"
      ],
      "metadata": {
        "id": "ReNnHtFG04y-"
      }
    },
    {
      "cell_type": "code",
      "source": [
        "data.sort(data.count_line_ids.desc()).limit(3).select(\"name\").show()"
      ],
      "metadata": {
        "colab": {
          "base_uri": "https://localhost:8080/"
        },
        "id": "wW4UaRS0mK8x",
        "outputId": "3fab2a33-df42-457c-9d61-ce08a781e55f"
      },
      "execution_count": 38,
      "outputs": [
        {
          "output_type": "stream",
          "name": "stdout",
          "text": [
            "+------+\n",
            "|  name|\n",
            "+------+\n",
            "|Sintra|\n",
            "|Lisboa|\n",
            "|Almada|\n",
            "+------+\n",
            "\n"
          ]
        }
      ]
    },
    {
      "cell_type": "markdown",
      "source": [
        "What are the top 3 municipalities with higher speed on average?\n",
        "\n",
        "**Moita, Barreiro e Montijo**"
      ],
      "metadata": {
        "id": "QkcOLgUW1Shv"
      }
    },
    {
      "cell_type": "code",
      "source": [
        "data.withColumn(\n",
        "    \"average_speed\",\n",
        "    round((col(\"sum_speed\") / col(\"count_line_ids\")),2)\n",
        ").orderBy(\n",
        "    col(\"average_speed\").desc()\n",
        ").limit(3).select(\"name\").show()"
      ],
      "metadata": {
        "colab": {
          "base_uri": "https://localhost:8080/"
        },
        "id": "-aqvJmjm0pSW",
        "outputId": "f0bf41d4-cbc1-42c4-8a36-9b7b2d972353"
      },
      "execution_count": 39,
      "outputs": [
        {
          "output_type": "stream",
          "name": "stdout",
          "text": [
            "+--------+\n",
            "|    name|\n",
            "+--------+\n",
            "|   Moita|\n",
            "|Barreiro|\n",
            "| Montijo|\n",
            "+--------+\n",
            "\n"
          ]
        }
      ]
    }
  ],
  "metadata": {
    "colab": {
      "provenance": [],
      "include_colab_link": true
    },
    "kernelspec": {
      "display_name": "Python 3",
      "name": "python3"
    },
    "language_info": {
      "name": "python"
    }
  },
  "nbformat": 4,
  "nbformat_minor": 0
}