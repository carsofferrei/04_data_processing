{
  "cells": [
    {
      "cell_type": "markdown",
      "metadata": {
        "id": "view-in-github",
        "colab_type": "text"
      },
      "source": [
        "<a href=\"https://colab.research.google.com/github/carsofferrei/04_data_processing/blob/main/spark/challenges/challenge_1.ipynb\" target=\"_parent\"><img src=\"https://colab.research.google.com/assets/colab-badge.svg\" alt=\"Open In Colab\"/></a>"
      ]
    },
    {
      "cell_type": "markdown",
      "metadata": {
        "id": "BOA_wQSmLd9z"
      },
      "source": [
        "# CHALLENGE 1\n",
        "##  Implement INGESTION process\n",
        "- Set up path in the \"lake\"\n",
        "  - !mkdir -p /content/lake/bronze\n",
        "\n",
        "- Read data from API https://api.carrismetropolitana.pt/\n",
        "  - Endpoints:\n",
        "    - vehicles\n",
        "    - lines\n",
        "    - municipalities\n",
        "  - Use StructFields to enforce schema\n",
        "\n",
        "- Transformations\n",
        "  - vehicles\n",
        "    - create \"date\" extracted from \"timestamp\" column (format: hh24miss)\n",
        "\n",
        "- Write data as PARQUET into the BRONZE layer (/content/lake/bronze)\n",
        "  - Partition \"vehicles\" by \"date\" column\n",
        "  - Paths:\n",
        "    - vehicles - path: /content/lake/bronze/vehicles\n",
        "    - lines - path: /content/lake/bronze/lines\n",
        "    - municipalities - path: /content/lake/bronze/municipalities\n",
        "  - Make sure there is only 1 single parquet created\n",
        "  - Use overwrite as write mode"
      ]
    },
    {
      "cell_type": "markdown",
      "metadata": {
        "id": "d9LeYFsPTjAb"
      },
      "source": [
        "# Setting up PySpark"
      ]
    },
    {
      "cell_type": "code",
      "execution_count": 1,
      "metadata": {
        "colab": {
          "base_uri": "https://localhost:8080/"
        },
        "id": "uYXeODL0T1fO",
        "outputId": "f6fbb466-15f6-4a93-ed4f-3fa6f5171019"
      },
      "outputs": [
        {
          "output_type": "stream",
          "name": "stdout",
          "text": [
            "Requirement already satisfied: pyspark in /usr/local/lib/python3.10/dist-packages (3.5.3)\n",
            "Requirement already satisfied: py4j==0.10.9.7 in /usr/local/lib/python3.10/dist-packages (from pyspark) (0.10.9.7)\n"
          ]
        }
      ],
      "source": [
        "%pip install pyspark"
      ]
    },
    {
      "cell_type": "code",
      "source": [
        "# Import SparkSession\n",
        "\n",
        "from pyspark.sql import SparkSession\n",
        "spark = SparkSession.builder.master('local').appName('Carla_Ferreira_API_challenge').config('spark.ui.port', '4050').getOrCreate()\n",
        "sc = spark.sparkContext"
      ],
      "metadata": {
        "id": "KCW7ptFOsV25"
      },
      "execution_count": 2,
      "outputs": []
    },
    {
      "cell_type": "markdown",
      "source": [
        "Declare the directory to write the data that came from API carrismetropolitana"
      ],
      "metadata": {
        "id": "S9PXODmNQlF4"
      }
    },
    {
      "cell_type": "code",
      "source": [
        "!mkdir -p /content/lake/bronze"
      ],
      "metadata": {
        "id": "iU_dlCvkQkhr"
      },
      "execution_count": 9,
      "outputs": []
    },
    {
      "cell_type": "code",
      "source": [
        "import requests\n",
        "from pyspark.sql.types import *\n",
        "\n",
        "def readFromAPI(url: str, schema: StructType = None):\n",
        "  response = requests.get(url)\n",
        "  rdd = sc.parallelize(response.json())\n",
        "\n",
        "  if schema:\n",
        "    df = spark.read.schema(schema).json(rdd)\n",
        "  else:\n",
        "    df = spark.read.json(rdd)\n",
        "  return df"
      ],
      "metadata": {
        "id": "lv3fhVbEskQ3"
      },
      "execution_count": 3,
      "outputs": []
    },
    {
      "cell_type": "code",
      "source": [
        "#Schemas\n",
        "vehicle_schema = StructType([StructField('bearing', IntegerType(), True),\n",
        "                             StructField('block_id', StringType(), True),\n",
        "                             StructField('current_status', StringType(), True),\n",
        "                             StructField('id', StringType(), True),\n",
        "                             StructField('lat', FloatType(), True),\n",
        "                             StructField('line_id', StringType(), True),\n",
        "                             StructField('lon', FloatType(), True),\n",
        "                             StructField('pattern_id', StringType(), True),\n",
        "                             StructField('route_id', StringType(), True),\n",
        "                             StructField('schedule_relationship', StringType(), True),\n",
        "                             StructField('shift_id', StringType(), True),\n",
        "                             StructField('speed', FloatType(), True),\n",
        "                             StructField('stop_id', StringType(), True),\n",
        "                             StructField('timestamp', TimestampType(), True),\n",
        "                             StructField('trip_id', StringType(), True)\n",
        "                             ])\n",
        "\n",
        "\n",
        "lines_schema = StructType([StructField('_corrupt_record', StringType(), True),\n",
        "                           StructField('color', StringType(), True),\n",
        "                           StructField('facilities', StringType(), True),\n",
        "                           StructField('id', StringType(), True),\n",
        "                           StructField('localities', StringType(), True),\n",
        "                           StructField('long_name', StringType(), True),\n",
        "                           StructField('municipalities', StringType(), True),\n",
        "                           StructField('patterns', StringType(), True),\n",
        "                           StructField('routes', StringType(), True),\n",
        "                           StructField('short_name', StringType(), True),\n",
        "                           StructField('text_color', StringType(), True)\n",
        "                           ])\n",
        "\n",
        "municipalities_schema = StructType([StructField('district_id', StringType(), True),\n",
        "                                    StructField('district_name', StringType(), True),\n",
        "                                    StructField('id', StringType(), True),\n",
        "                                    StructField('name', StringType(), True),\n",
        "                                    StructField('prefix', StringType(), True),\n",
        "                                    StructField('region_id', StringType(), True),\n",
        "                                    StructField('region_name', StringType(), True)\n",
        "                                    ])"
      ],
      "metadata": {
        "id": "1HJlN4hgOvl0"
      },
      "execution_count": 7,
      "outputs": []
    },
    {
      "cell_type": "code",
      "source": [
        "vehicles = readFromAPI(\"https://api.carrismetropolitana.pt/vehicles\", schema = vehicle_schema)\n",
        "lines = readFromAPI(\"https://api.carrismetropolitana.pt/lines\", schema = lines_schema)\n",
        "municipalities = readFromAPI(\"https://api.carrismetropolitana.pt/municipalities\", schema = municipalities_schema)"
      ],
      "metadata": {
        "id": "R4E9v8rMsu3n"
      },
      "execution_count": 8,
      "outputs": []
    },
    {
      "cell_type": "code",
      "source": [
        "# create \"date\" extracted from \"timestamp\" column (format: hh24miss)\n",
        "from pyspark.sql.functions import date_format\n",
        "vehicles = vehicles.withColumn(\"date\", date_format('timestamp', \"HHmmss\"))\n",
        "\n",
        "vehicles.show()"
      ],
      "metadata": {
        "id": "lWmvyntFR_MW",
        "outputId": "0e378db3-42bb-48a1-cba5-db3920dd1081",
        "colab": {
          "base_uri": "https://localhost:8080/"
        }
      },
      "execution_count": 16,
      "outputs": [
        {
          "output_type": "stream",
          "name": "stdout",
          "text": [
            "+-------+--------------------+--------------+--------+---------+-------+----------+----------+--------+---------------------+------------+---------+-------+-------------------+--------------------+------+\n",
            "|bearing|            block_id|current_status|      id|      lat|line_id|       lon|pattern_id|route_id|schedule_relationship|    shift_id|    speed|stop_id|          timestamp|             trip_id|  date|\n",
            "+-------+--------------------+--------------+--------+---------+-------+----------+----------+--------+---------------------+------------+---------+-------+-------------------+--------------------+------+\n",
            "|    333|20241121-64010132...|   INCOMING_AT|44|12060|38.715164|   4504| -8.902005|  4504_0_1|  4504_0|            SCHEDULED|121150234560|     15.0| 010126|2024-11-21 15:05:27|4504_0_1|2100|143...|150527|\n",
            "|     32|20241121-64010250...|   INCOMING_AT|44|12089| 38.53214|   4421| -8.876826|  4421_0_2|  4421_0|            SCHEDULED|112020234560| 8.055555| 160432|2024-11-21 15:05:17|4421_0_2|2100|143...|150517|\n",
            "|    172|20241121-64010227...| IN_TRANSIT_TO|44|12076| 38.52634|   4401| -8.870176|  4401_0_2|  4401_0|            SCHEDULED|112240234560| 9.722222| 160037|2024-11-21 15:05:13|4401_0_2|2100|150...|150513|\n",
            "|    239|20241121-64010350...| IN_TRANSIT_TO|44|12516|38.539673|   4404|-8.8889885|  4404_0_3|  4404_0|            SCHEDULED|112470234560|3.6111112| 160969|2024-11-21 15:05:20|4404_0_3|2100|150...|150520|\n",
            "|    241|20241121-64010098...| IN_TRANSIT_TO|44|12538|38.647465|   4600| -8.992548|  4600_0_1|  4600_0|            SCHEDULED|121480234560|      0.0| 090183|2024-11-21 15:05:13|4600_0_1|2100|140...|150513|\n",
            "|     53|20241121-64010082...| IN_TRANSIT_TO|44|12722|38.695568|   4600| -8.947333|  4600_0_1|  4600_0|            SCHEDULED|121630234560|16.944445| 100153|2024-11-21 15:05:22|4600_0_1|2100|143...|150522|\n",
            "|    290|20241121-64010100...| IN_TRANSIT_TO|44|12633|38.753223|   4001|  -8.96024|  4001_0_3|  4001_0|            SCHEDULED|121460234560|2.2222223| 010005|2024-11-21 15:05:13|4001_0_3|2100|150...|150513|\n",
            "|     58|20241121-64010590...| IN_TRANSIT_TO|44|12707| 38.65057|   4710| -8.916008|  4710_0_2|  4710_0|            SCHEDULED|113250234560|     10.0| 060005|2024-11-21 15:05:13|4710_0_2|2100|144...|150513|\n",
            "|     25|20241121-64010298...| IN_TRANSIT_TO|44|12643|38.529984|   4540|  -8.88578|  4540_0_2|  4540_0|            SCHEDULED|111250234560|      0.0| 162006|2024-11-21 15:05:12|4540_0_2|2100|151...|150512|\n",
            "|    300|20241121-64010071...| IN_TRANSIT_TO|44|12541|38.595226|   4531| -8.928759|  4531_0_2|  4531_0|            SCHEDULED|121370230560|15.277778| 130610|2024-11-21 15:05:20|4531_0_2|2100|150...|150520|\n",
            "|    116|20241121-64010032...| IN_TRANSIT_TO|44|12709|38.719822|   4704| -8.959615|  4704_0_2|  4704_0|            SCHEDULED|123300234560| 26.38889| 102533|2024-11-21 15:05:12|4704_0_2|2100|145...|150512|\n",
            "|    119|20241121-64010239...| IN_TRANSIT_TO|44|12064| 38.53068|   4403| -8.886147|  4403_0_1|  4403_0|            SCHEDULED|112130234560|6.9444447| 160067|2024-11-21 15:05:14|4403_0_1|2100|145...|150514|\n",
            "|    163|20241121-64010389...| IN_TRANSIT_TO|44|12504| 38.55514|   4512|  -8.88588|  4512_0_1|  4512_0|            SCHEDULED|121680234560| 8.333333| 130469|2024-11-21 15:05:17|4512_0_1|2100|140...|150517|\n",
            "|    163|20241121-64010232...|   INCOMING_AT|44|12083|38.490147|   4415| -8.934145|  4415_0_2|  4415_0|            SCHEDULED|112190234560|      2.5| 160328|2024-11-21 15:04:53|4415_0_2|2100|143...|150453|\n",
            "|    155|20241121-64010027...|    STOPPED_AT|44|12692|38.712543|   4705| -8.991477|  4705_0_2|  4705_0|            SCHEDULED|123210234560|      0.0| 100287|2024-11-21 15:05:27|4705_0_2|2100|150...|150527|\n",
            "|      4|20241121-64010021...| IN_TRANSIT_TO|44|12690|38.779736|   4701| -9.105073|  4701_0_1|  4701_0|            SCHEDULED|123270234560|20.277779| 100417|2024-11-21 15:05:15|4701_0_1|2100|150...|150515|\n",
            "|    159|20241121-64010311...|    STOPPED_AT|44|12646|38.543156|   4432|  -9.01751|  4432_0_2|  4432_0|            SCHEDULED|111120234560|      0.0| 160583|2024-11-21 15:05:23|4432_0_2|2100|150...|150523|\n",
            "|     94|20241121-64010166...| IN_TRANSIT_TO|44|12691| 38.53961|   4725|  -8.88893|  4725_0_2|  4725_0|            SCHEDULED|113170234560|     10.0| 162005|2024-11-21 15:05:14|4725_0_2|2100|150...|150514|\n",
            "|      0|20241121-64010044...| IN_TRANSIT_TO|44|12085|38.538967|   4438| -8.866662|  4438_0_2|  4438_0|            SCHEDULED|112290234560|0.5555556| 160690|2024-11-21 15:05:14|4438_0_2|2100|144...|150514|\n",
            "|    210|20241121-64010292...| IN_TRANSIT_TO|44|12748|38.525597|   4412| -8.885045|  4412_0_2|  4412_0|            SCHEDULED|111310234560| 8.611111| 160063|2024-11-21 15:05:24|4412_0_2|2100|145...|150524|\n",
            "+-------+--------------------+--------------+--------+---------+-------+----------+----------+--------+---------------------+------------+---------+-------+-------------------+--------------------+------+\n",
            "only showing top 20 rows\n",
            "\n"
          ]
        }
      ]
    },
    {
      "cell_type": "code",
      "source": [
        "#df = extract_from_file(format=\"parquet\", path=\"/content/lake/bronze/vehicles\")"
      ],
      "metadata": {
        "id": "9cyOjgNVR-sm"
      },
      "execution_count": null,
      "outputs": []
    }
  ],
  "metadata": {
    "colab": {
      "provenance": [],
      "include_colab_link": true
    },
    "kernelspec": {
      "display_name": "Python 3",
      "name": "python3"
    },
    "language_info": {
      "name": "python"
    }
  },
  "nbformat": 4,
  "nbformat_minor": 0
}