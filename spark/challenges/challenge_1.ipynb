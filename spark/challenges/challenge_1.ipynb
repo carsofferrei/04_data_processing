{
  "cells": [
    {
      "cell_type": "markdown",
      "metadata": {
        "id": "view-in-github",
        "colab_type": "text"
      },
      "source": [
        "<a href=\"https://colab.research.google.com/github/carsofferrei/04_data_processing/blob/main/spark/challenges/challenge_1.ipynb\" target=\"_parent\"><img src=\"https://colab.research.google.com/assets/colab-badge.svg\" alt=\"Open In Colab\"/></a>"
      ]
    },
    {
      "cell_type": "markdown",
      "metadata": {
        "id": "BOA_wQSmLd9z"
      },
      "source": [
        "# CHALLENGE 1\n",
        "##  Implement INGESTION process\n",
        "- Set up path in the \"lake\"\n",
        "  - !mkdir -p /content/lake/bronze\n",
        "\n",
        "- Read data from API https://api.carrismetropolitana.pt/\n",
        "  - Endpoints:\n",
        "    - vehicles\n",
        "    - lines\n",
        "    - municipalities\n",
        "  - Use StructFields to enforce schema\n",
        "\n",
        "- Transformations\n",
        "  - vehicles\n",
        "    - create \"date\" extracted from \"timestamp\" column (format: hh24miss)\n",
        "\n",
        "- Write data as PARQUET into the BRONZE layer (/content/lake/bronze)\n",
        "  - Partition \"vehicles\" by \"date\" column\n",
        "  - Paths:\n",
        "    - vehicles - path: /content/lake/bronze/vehicles\n",
        "    - lines - path: /content/lake/bronze/lines\n",
        "    - municipalities - path: /content/lake/bronze/municipalities\n",
        "  - Make sure there is only 1 single parquet created\n",
        "  - Use overwrite as write mode"
      ]
    },
    {
      "cell_type": "markdown",
      "metadata": {
        "id": "d9LeYFsPTjAb"
      },
      "source": [
        "# Setting up PySpark"
      ]
    },
    {
      "cell_type": "code",
      "execution_count": 1,
      "metadata": {
        "colab": {
          "base_uri": "https://localhost:8080/"
        },
        "id": "uYXeODL0T1fO",
        "outputId": "f6fbb466-15f6-4a93-ed4f-3fa6f5171019"
      },
      "outputs": [
        {
          "output_type": "stream",
          "name": "stdout",
          "text": [
            "Requirement already satisfied: pyspark in /usr/local/lib/python3.10/dist-packages (3.5.3)\n",
            "Requirement already satisfied: py4j==0.10.9.7 in /usr/local/lib/python3.10/dist-packages (from pyspark) (0.10.9.7)\n"
          ]
        }
      ],
      "source": [
        "%pip install pyspark"
      ]
    },
    {
      "cell_type": "code",
      "source": [
        "# Import SparkSession\n",
        "\n",
        "from pyspark.sql import SparkSession\n",
        "spark = SparkSession.builder.master('local').appName('Carla_Ferreira_API_challenge').config('spark.ui.port', '4050').getOrCreate()\n",
        "sc = spark.sparkContext"
      ],
      "metadata": {
        "id": "KCW7ptFOsV25"
      },
      "execution_count": 2,
      "outputs": []
    },
    {
      "cell_type": "code",
      "source": [
        "import requests\n",
        "from pyspark.sql.types import *\n",
        "\n",
        "def readFromAPI(url: str, schema: StructType = None):\n",
        "  response = requests.get(url)\n",
        "  rdd = sc.parallelize(response.json())\n",
        "\n",
        "  if schema:\n",
        "    df = spark.read.schema(schema).json(rdd)\n",
        "  else:\n",
        "    df = spark.read.json(rdd)\n",
        "  return df"
      ],
      "metadata": {
        "id": "lv3fhVbEskQ3"
      },
      "execution_count": 3,
      "outputs": []
    },
    {
      "cell_type": "code",
      "source": [
        "#Schemas\n",
        "vehicle_schema = StructType([StructField('bearing', IntegerType(), True),\n",
        "                             StructField('block_id', StringType(), True),\n",
        "                             StructField('current_status', StringType(), True),\n",
        "                             StructField('id', StringType(), True),\n",
        "                             StructField('lat', FloatType(), True),\n",
        "                             StructField('line_id', StringType(), True),\n",
        "                             StructField('lon', FloatType(), True),\n",
        "                             StructField('pattern_id', StringType(), True),\n",
        "                             StructField('route_id', StringType(), True),\n",
        "                             StructField('schedule_relationship', StringType(), True),\n",
        "                             StructField('shift_id', StringType(), True),\n",
        "                             StructField('speed', FloatType(), True),\n",
        "                             StructField('stop_id', StringType(), True),\n",
        "                             StructField('timestamp', TimestampType(), True),\n",
        "                             StructField('trip_id', StringType(), True)\n",
        "                             ])\n",
        "\n",
        "\n",
        "lines_schema = StructType([StructField('_corrupt_record', StringType(), True),\n",
        "                           StructField('color', StringType(), True),\n",
        "                           StructField('facilities', StringType(), True),\n",
        "                           StructField('id', StringType(), True),\n",
        "                           StructField('localities', StringType(), True),\n",
        "                           StructField('long_name', StringType(), True),\n",
        "                           StructField('municipalities', StringType(), True),\n",
        "                           StructField('patterns', StringType(), True),\n",
        "                           StructField('routes', StringType(), True),\n",
        "                           StructField('short_name', StringType(), True),\n",
        "                           StructField('text_color', StringType(), True)\n",
        "                           ])\n",
        "\n",
        "municipalities_schema = StructType([StructField('district_id', StringType(), True),\n",
        "                                    StructField('district_name', StringType(), True),\n",
        "                                    StructField('id', StringType(), True),\n",
        "                                    StructField('name', StringType(), True),\n",
        "                                    StructField('prefix', StringType(), True),\n",
        "                                    StructField('region_id', StringType(), True),\n",
        "                                    StructField('region_name', StringType(), True)\n",
        "                                    ])"
      ],
      "metadata": {
        "id": "1HJlN4hgOvl0"
      },
      "execution_count": 7,
      "outputs": []
    },
    {
      "cell_type": "code",
      "source": [
        "vehicles = readFromAPI(\"https://api.carrismetropolitana.pt/vehicles\", schema = vehicle_schema)\n",
        "lines = readFromAPI(\"https://api.carrismetropolitana.pt/lines\", schema = lines_schema)\n",
        "municipalities = readFromAPI(\"https://api.carrismetropolitana.pt/municipalities\", schema = municipalities_schema)"
      ],
      "metadata": {
        "id": "R4E9v8rMsu3n"
      },
      "execution_count": 8,
      "outputs": []
    },
    {
      "cell_type": "code",
      "source": [
        "# create \"date\" extracted from \"timestamp\" column (format: hh24miss) -- this format doesnt make sense, the correct is yyyyMMdd\n",
        "from pyspark.sql.functions import date_format\n",
        "vehicles = vehicles.withColumn(\"date\", date_format('timestamp', \"yyyyMMdd\"))\n",
        "\n",
        "vehicles.show()"
      ],
      "metadata": {
        "colab": {
          "base_uri": "https://localhost:8080/"
        },
        "id": "lWmvyntFR_MW",
        "outputId": "a84e2b91-ab94-44d9-ed7c-ae6d7715bcb1"
      },
      "execution_count": 27,
      "outputs": [
        {
          "output_type": "stream",
          "name": "stdout",
          "text": [
            "+--------------------+-------+----------+----+--------------------+--------------------+---------------+--------------------+--------------------+----------+----------+\n",
            "|     _corrupt_record|  color|facilities|  id|          localities|           long_name| municipalities|            patterns|              routes|short_name|text_color|\n",
            "+--------------------+-------+----------+----+--------------------+--------------------+---------------+--------------------+--------------------+----------+----------+\n",
            "|                NULL|#C61D23|        []|1001|[\"Alfragide\",\"Ama...|Alfragide (Estr S...|       [\"1115\"]|[\"1001_0_1\",\"1001...|          [\"1001_0\"]|      1001|   #FFFFFF|\n",
            "|                NULL|#C61D23|        []|1002|[\"Reboleira\",\"Ama...|Reboleira (Estaçã...|       [\"1115\"]|        [\"1002_0_3\"]|          [\"1002_0\"]|      1002|   #FFFFFF|\n",
            "|                NULL|#C61D23|        []|1003|[\"Amadora\",\"Amado...|Amadora (Estação ...|       [\"1115\"]|[\"1003_0_1\",\"1003...|          [\"1003_0\"]|      1003|   #FFFFFF|\n",
            "|                NULL|#C61D23|        []|1004|[\"Amadora\",\"Moinh...|Amadora (Estação ...|       [\"1115\"]|        [\"1004_0_3\"]|          [\"1004_0\"]|      1004|   #FFFFFF|\n",
            "|                NULL|#C61D23|        []|1005|[\"Amadora\",\"Casal...|Amadora (Estação ...|       [\"1115\"]|[\"1005_0_1\",\"1005...|[\"1005_0\",\"1005_1...|      1005|   #FFFFFF|\n",
            "|                NULL|#C61D23|        []|1006|[\"Amadora\",\"Moinh...|Amadora (Estação ...|       [\"1115\"]|[\"1006_0_1\",\"1006...| [\"1006_0\",\"1006_1\"]|      1006|   #FFFFFF|\n",
            "|{'color': '#3D85C...|#3D85C6|        []|1008|                NULL|Amadora Este (Met...|       [\"1115\"]|        [\"1008_0_3\"]|          [\"1008_0\"]|      1008|   #FFFFFF|\n",
            "|                NULL|#3D85C6|        []|1009|[\"Amadora\",\"Sintra\"]|Amadora (Hospital...|[\"1115\",\"1111\"]|        [\"1009_0_3\"]|          [\"1009_0\"]|      1009|   #FFFFFF|\n",
            "|                NULL|#C61D23|        []|1010|[\"Brandoa\",\"Amado...|Brandoa (Pólo Esc...|       [\"1115\"]|[\"1010_0_1\",\"1010...|          [\"1010_0\"]|      1010|   #FFFFFF|\n",
            "|                NULL|#C61D23|        []|1011|[\"Brandoa\",\"Amado...|Brandoa (Largo) -...|       [\"1115\"]|[\"1011_0_1\",\"1011...| [\"1011_0\",\"1011_1\"]|      1011|   #FFFFFF|\n",
            "|                NULL|#3D85C6|        []|1012|[\"Amadora\",\"Brand...|Alfornelos Metro ...|       [\"1115\"]|        [\"1012_0_3\"]|          [\"1012_0\"]|      1012|   #FFFFFF|\n",
            "|                NULL|#C61D23|        []|1013|[\"Amadora\",\"Atala...|Amadora (Cemitéri...|       [\"1115\"]|[\"1013_0_1\",\"1013...|          [\"1013_0\"]|      1013|   #FFFFFF|\n",
            "|                NULL|#C61D23|        []|1014|[\"Amadora\",\"Rebol...|Amadora (Cemitéri...|       [\"1115\"]|[\"1014_0_1\",\"1014...|          [\"1014_0\"]|      1014|   #FFFFFF|\n",
            "|                NULL|#3D85C6|        []|1015|[\"Reboleira\",\"Ama...|Reboleira (Estaçã...|       [\"1115\"]|        [\"1015_0_3\"]|          [\"1015_0\"]|      1015|   #FFFFFF|\n",
            "|                NULL|#C61D23|        []|1101|[\"Alfragide\",\"Oei...|Alfragide (Centro...|       [\"1110\"]|[\"1101_0_1\",\"1101...| [\"1101_0\",\"1101_1\"]|      1101|   #FFFFFF|\n",
            "|                NULL|#C61D23|        []|1103|[\"Algés\",\"Oeiras\"...|Algés (Estação) -...|       [\"1110\"]|[\"1103_0_1\",\"1103...|          [\"1103_0\"]|      1103|   #FFFFFF|\n",
            "|                NULL|#C61D23|        []|1105|[\"Algés\",\"Oeiras\"...|Algés (Estação) -...|       [\"1110\"]|[\"1105_0_1\",\"1105...| [\"1105_0\",\"1105_1\"]|      1105|   #FFFFFF|\n",
            "|                NULL|#C61D23|        []|1106|[\"Queluz Baixo\",\"...|Queluz Baixo (Cen...|       [\"1110\"]|[\"1106_0_2\",\"1106...| [\"1106_0\",\"1106_1\"]|      1106|   #FFFFFF|\n",
            "|                NULL|#C61D23|        []|1107|[\"Algés\",\"Oeiras\"...|Algés (Estação) -...|       [\"1110\"]|[\"1107_0_1\",\"1107...|          [\"1107_0\"]|      1107|   #FFFFFF|\n",
            "|                NULL|#3D85C6|        []|1109|[\"Carnaxide\",\"Oei...|Carnaxide via Out...|       [\"1110\"]|        [\"1109_0_3\"]|          [\"1109_0\"]|      1109|   #FFFFFF|\n",
            "+--------------------+-------+----------+----+--------------------+--------------------+---------------+--------------------+--------------------+----------+----------+\n",
            "only showing top 20 rows\n",
            "\n"
          ]
        }
      ]
    },
    {
      "cell_type": "code",
      "source": [
        "from pyspark.sql import functions as F\n",
        "\n",
        "vehicles.select(\"date\").distinct().agg(F.min(\"date\").alias(\"min_date\")).show()\n",
        "vehicles.select(\"date\").distinct().agg(F.max(\"date\").alias(\"max_date\")).show()\n",
        "\n",
        "# there's only one day in this file."
      ],
      "metadata": {
        "colab": {
          "base_uri": "https://localhost:8080/"
        },
        "id": "cjiItiw-WtDe",
        "outputId": "4eab6d81-6967-4f47-a5f9-67df3f601833"
      },
      "execution_count": 26,
      "outputs": [
        {
          "output_type": "stream",
          "name": "stdout",
          "text": [
            "+--------+\n",
            "|min_date|\n",
            "+--------+\n",
            "|20241121|\n",
            "+--------+\n",
            "\n",
            "+--------+\n",
            "|max_date|\n",
            "+--------+\n",
            "|20241121|\n",
            "+--------+\n",
            "\n"
          ]
        }
      ]
    },
    {
      "cell_type": "markdown",
      "source": [
        "Write data as PARQUET into the BRONZE layer (/content/lake/bronze)\n",
        "\n",
        "*   Partition \"vehicles\" by \"date\" column\n",
        "*   Paths: /content/lake/bronze/vehicles, /content/lake/bronze/lines\n",
        ", /content/lake/bronze/municipalities\n",
        "\n",
        "Make sure there is only 1 single parquet created /\n",
        "Use overwrite as write mode"
      ],
      "metadata": {
        "id": "o8kPFFtKU6P8"
      }
    },
    {
      "cell_type": "markdown",
      "source": [
        "Declare the directory to write the data that came from API carrismetropolitana"
      ],
      "metadata": {
        "id": "S9PXODmNQlF4"
      }
    },
    {
      "cell_type": "code",
      "source": [
        "!mkdir -p /content/lake/bronze\n",
        "\n",
        "path_vehicles = \"/content/lake/bronze/vehicles\"\n",
        "path_lines = \"/content/lake/bronze/lines\"\n",
        "path_municipalities = \"/content/lake/bronze/municipalities\""
      ],
      "metadata": {
        "id": "iU_dlCvkQkhr"
      },
      "execution_count": 20,
      "outputs": []
    },
    {
      "cell_type": "code",
      "source": [
        "(vehicles\n",
        ".coalesce(1)\n",
        ".write\n",
        ".mode(\"overwrite\")\n",
        ".partitionBy(\"date\")\n",
        ".format(\"parquet\")\n",
        ".save(path_vehicles)\n",
        ")\n",
        "\n",
        "\n",
        "(lines\n",
        ".write\n",
        ".mode(\"overwrite\")\n",
        ".format(\"parquet\")\n",
        ".save(path_lines)\n",
        ")\n",
        "\n",
        "\n",
        "(municipalities\n",
        ".write\n",
        ".mode(\"overwrite\")\n",
        ".format(\"parquet\")\n",
        ".save(path_municipalities)\n",
        ")"
      ],
      "metadata": {
        "id": "RUow9UvrUL1v"
      },
      "execution_count": 21,
      "outputs": []
    }
  ],
  "metadata": {
    "colab": {
      "provenance": [],
      "include_colab_link": true
    },
    "kernelspec": {
      "display_name": "Python 3",
      "name": "python3"
    },
    "language_info": {
      "name": "python"
    }
  },
  "nbformat": 4,
  "nbformat_minor": 0
}