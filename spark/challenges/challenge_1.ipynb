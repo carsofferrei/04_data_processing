{
  "cells": [
    {
      "cell_type": "markdown",
      "metadata": {
        "id": "view-in-github",
        "colab_type": "text"
      },
      "source": [
        "<a href=\"https://colab.research.google.com/github/carsofferrei/04_data_processing/blob/main/spark/challenges/challenge_1.ipynb\" target=\"_parent\"><img src=\"https://colab.research.google.com/assets/colab-badge.svg\" alt=\"Open In Colab\"/></a>"
      ]
    },
    {
      "cell_type": "markdown",
      "metadata": {
        "id": "BOA_wQSmLd9z"
      },
      "source": [
        "# CHALLENGE 1\n",
        "##  Implement INGESTION process\n",
        "- Set up path in the \"lake\"\n",
        "  - !mkdir -p /content/lake/bronze\n",
        "\n",
        "- Read data from API https://api.carrismetropolitana.pt/\n",
        "  - Endpoints:\n",
        "    - vehicles\n",
        "    - lines\n",
        "    - municipalities\n",
        "  - Use StructFields to enforce schema\n",
        "\n",
        "- Transformations\n",
        "  - vehicles\n",
        "    - create \"date\" extracted from \"timestamp\" column (format: hh24miss)\n",
        "\n",
        "- Write data as PARQUET into the BRONZE layer (/content/lake/bronze)\n",
        "  - Partition \"vehicles\" by \"date\" column\n",
        "  - Paths:\n",
        "    - vehicles - path: /content/lake/bronze/vehicles\n",
        "    - lines - path: /content/lake/bronze/lines\n",
        "    - municipalities - path: /content/lake/bronze/municipalities\n",
        "  - Make sure there is only 1 single parquet created\n",
        "  - Use overwrite as write mode"
      ]
    },
    {
      "cell_type": "markdown",
      "metadata": {
        "id": "d9LeYFsPTjAb"
      },
      "source": [
        "# Setting up PySpark"
      ]
    },
    {
      "cell_type": "code",
      "execution_count": null,
      "metadata": {
        "colab": {
          "base_uri": "https://localhost:8080/"
        },
        "id": "uYXeODL0T1fO",
        "outputId": "f6fbb466-15f6-4a93-ed4f-3fa6f5171019"
      },
      "outputs": [
        {
          "output_type": "stream",
          "name": "stdout",
          "text": [
            "Requirement already satisfied: pyspark in /usr/local/lib/python3.10/dist-packages (3.5.3)\n",
            "Requirement already satisfied: py4j==0.10.9.7 in /usr/local/lib/python3.10/dist-packages (from pyspark) (0.10.9.7)\n"
          ]
        }
      ],
      "source": [
        "%pip install pyspark"
      ]
    },
    {
      "cell_type": "code",
      "source": [
        "# Import SparkSession\n",
        "\n",
        "from pyspark.sql import SparkSession\n",
        "spark = SparkSession.builder.master('local').appName('Carla_Ferreira_API_challenge').config('spark.ui.port', '4050').getOrCreate()\n",
        "sc = spark.sparkContext"
      ],
      "metadata": {
        "id": "KCW7ptFOsV25"
      },
      "execution_count": 1,
      "outputs": []
    },
    {
      "cell_type": "code",
      "source": [
        "import requests\n",
        "from pyspark.sql.types import *\n",
        "\n",
        "def readFromAPI(url: str, schema: StructType = None):\n",
        "  response = requests.get(url)\n",
        "  rdd = sc.parallelize(response.json())\n",
        "\n",
        "  if schema:\n",
        "    df = spark.read.schema(schema).json(rdd)\n",
        "  else:\n",
        "    df = spark.read.json(rdd)\n",
        "  return df"
      ],
      "metadata": {
        "id": "lv3fhVbEskQ3"
      },
      "execution_count": 2,
      "outputs": []
    },
    {
      "cell_type": "code",
      "source": [
        "#Schemas\n",
        "vehicle_schema = StructType([StructField('bearing', IntegerType(), True),\n",
        "                             StructField('block_id', StringType(), True),\n",
        "                             StructField('current_status', StringType(), True),\n",
        "                             StructField('id', StringType(), True),\n",
        "                             StructField('lat', FloatType(), True),\n",
        "                             StructField('line_id', StringType(), True),\n",
        "                             StructField('lon', FloatType(), True),\n",
        "                             StructField('pattern_id', StringType(), True),\n",
        "                             StructField('route_id', StringType(), True),\n",
        "                             StructField('schedule_relationship', StringType(), True),\n",
        "                             StructField('shift_id', StringType(), True),\n",
        "                             StructField('speed', FloatType(), True),\n",
        "                             StructField('stop_id', StringType(), True),\n",
        "                             StructField('timestamp', TimestampType(), True),\n",
        "                             StructField('trip_id', StringType(), True)\n",
        "                             ])\n",
        "\n",
        "\n",
        "lines_schema = StructType([StructField('_corrupt_record', StringType(), True),\n",
        "                           StructField('color', StringType(), True),\n",
        "                           StructField('facilities', StringType(), True),\n",
        "                           StructField('id', StringType(), True),\n",
        "                           StructField('localities', StringType(), True),\n",
        "                           StructField('long_name', StringType(), True),\n",
        "                           StructField('municipalities', StringType(), True),\n",
        "                           StructField('patterns', StringType(), True),\n",
        "                           StructField('routes', StringType(), True),\n",
        "                           StructField('short_name', StringType(), True),\n",
        "                           StructField('text_color', StringType(), True)\n",
        "                           ])\n",
        "\n",
        "municipalities_schema = StructType([StructField('district_id', StringType(), True),\n",
        "                                    StructField('district_name', StringType(), True),\n",
        "                                    StructField('id', StringType(), True),\n",
        "                                    StructField('name', StringType(), True),\n",
        "                                    StructField('prefix', StringType(), True),\n",
        "                                    StructField('region_id', StringType(), True),\n",
        "                                    StructField('region_name', StringType(), True)\n",
        "                                    ])"
      ],
      "metadata": {
        "id": "1HJlN4hgOvl0"
      },
      "execution_count": 3,
      "outputs": []
    },
    {
      "cell_type": "code",
      "source": [
        "vehicles = readFromAPI(\"https://api.carrismetropolitana.pt/vehicles\", schema = vehicle_schema)\n",
        "lines = readFromAPI(\"https://api.carrismetropolitana.pt/lines\", schema = lines_schema)\n",
        "municipalities = readFromAPI(\"https://api.carrismetropolitana.pt/municipalities\", schema = municipalities_schema)"
      ],
      "metadata": {
        "id": "R4E9v8rMsu3n"
      },
      "execution_count": 4,
      "outputs": []
    },
    {
      "cell_type": "code",
      "source": [
        "# create \"date\" extracted from \"timestamp\" column (format: hh24miss) -- this format doesnt make sense, the correct is yyyyMMdd\n",
        "from pyspark.sql.functions import date_format\n",
        "vehicles = vehicles.withColumn(\"date\", date_format('timestamp', \"yyyyMMdd\"))\n",
        "\n",
        "vehicles.show()"
      ],
      "metadata": {
        "colab": {
          "base_uri": "https://localhost:8080/"
        },
        "id": "lWmvyntFR_MW",
        "outputId": "b579ba40-0c7f-4fc2-9766-f2840686f751"
      },
      "execution_count": 5,
      "outputs": [
        {
          "output_type": "stream",
          "name": "stdout",
          "text": [
            "+-------+--------------------+--------------+--------+---------+-------+---------+----------+--------+---------------------+------------+---------+-------+-------------------+--------------------+--------+\n",
            "|bearing|            block_id|current_status|      id|      lat|line_id|      lon|pattern_id|route_id|schedule_relationship|    shift_id|    speed|stop_id|          timestamp|             trip_id|    date|\n",
            "+-------+--------------------+--------------+--------+---------+-------+---------+----------+--------+---------------------+------------+---------+-------+-------------------+--------------------+--------+\n",
            "|    204|20241121-64010552...| IN_TRANSIT_TO|44|13599|38.767933|   4702|  -9.1004|  4702_0_1|  4702_0|            SCHEDULED|123510234560|      2.5| 060009|2024-11-21 20:46:31|4702_0_1|2100|204...|20241121|\n",
            "|     67|20241121-64010056...|   INCOMING_AT|44|12056| 38.70024|   4203|-8.952086|  4203_0_1|  4203_0|            SCHEDULED|121870234560| 9.166667| 100035|2024-11-21 20:46:40|4203_0_1|2100|204...|20241121|\n",
            "|    200|20241121-64010185...|   INCOMING_AT|44|12529|38.527054|   4422|-8.890262|  4422_0_1|  4422_0|            SCHEDULED|112630234560| 8.055555| 160123|2024-11-21 20:46:30|4422_0_1|2100|203...|20241121|\n",
            "|    305|20241121-64010067...| IN_TRANSIT_TO|44|12502| 38.65311|   4600|-9.073677|  4600_0_1|  4600_0|            SCHEDULED|121760234560| 8.333333| 040022|2024-11-21 20:46:41|4600_0_1|2100|193...|20241121|\n",
            "|    101|20241121-64010053...| IN_TRANSIT_TO|44|12528|38.690895|   4514|-8.750573|  4514_0_2|  4514_0|            SCHEDULED|121900234560|19.444445| 100391|2024-11-21 20:46:38|4514_0_2|2100|201...|20241121|\n",
            "|    208|20241121-64010063...| IN_TRANSIT_TO|44|12714|  38.7045|   4514|-8.975106|  4514_0_1|  4514_0|            SCHEDULED|121800234560| 6.111111| 100013|2024-11-21 20:46:28|4514_0_1|2100|193...|20241121|\n",
            "|    104|20241121-64010322...|   INCOMING_AT|44|12064| 38.52005|   4410|-8.849007|  4410_0_2|  4410_0|            SCHEDULED|112650234560|5.2777777| 160050|2024-11-21 20:46:26|4410_0_2|2100|201...|20241121|\n",
            "|     50|20241121-64010092...|   INCOMING_AT|44|12517| 38.69597|   4513|-8.946524|  4513_0_2|  4513_0|            SCHEDULED|121540234560|15.555555| 100153|2024-11-21 20:46:40|4513_0_2|2100|203...|20241121|\n",
            "|    312|20241121-64010051...| IN_TRANSIT_TO|44|12589| 38.73898|   4504|-8.951798|  4504_0_1|  4504_0|            SCHEDULED|121920234560| 16.38889| 010108|2024-11-21 20:46:30|4504_0_1|2100|200...|20241121|\n",
            "|    351|           1_1729-11|   INCOMING_AT| 41|1236| 38.77751|   1251|-9.355131|  1251_0_2|  1251_0|            SCHEDULED|        1816|14.722222| 170134|2024-11-21 20:46:39|1251_0_2_2000_202...|20241121|\n",
            "|    290|           1_1301-11| IN_TRANSIT_TO| 41|1200|38.698635|   1614|-9.333008|  1614_1_1|  1614_1|            SCHEDULED|        1351|11.666667| 050021|2024-11-21 20:46:25|1614_1_1_2000_202...|20241121|\n",
            "|    244|             1740-11| IN_TRANSIT_TO| 42|2785| 38.75927|   2796|-9.159947|  2796_0_1|  2796_0|            SCHEDULED|        1765|3.6111112| 060227|2024-11-21 20:45:25|2796_0_1|1|1|2045...|20241121|\n",
            "|    317|             1512-11| IN_TRANSIT_TO| 42|2525| 38.79394|   2833|-9.220149|  2833_0_3|  2833_0|            SCHEDULED|        1632|7.2222223| 110851|2024-11-21 20:46:39|2833_0_3|1|1|2035...|20241121|\n",
            "|    239|             1099-11| IN_TRANSIT_TO| 42|2411|38.874363|   2533| -9.07616|  2533_0_1|  2533_0|            SCHEDULED|        1026|3.3333333| 180508|2024-11-21 20:46:29|2533_0_1|1|1|2020...|20241121|\n",
            "|     67|           1_1056-11| IN_TRANSIT_TO| 41|1854|38.756397|   1510|-9.235062|  1510_0_1|  1510_0|            SCHEDULED|        1081|      0.0| 030479|2024-11-21 20:45:56|1510_0_1_2030_205...|20241121|\n",
            "|    299|             1565-11|   INCOMING_AT| 42|2609| 38.80055|   2523|-9.182232|  2523_1_1|  2523_1|            SCHEDULED|        1609|7.7777777| 110397|2024-11-21 20:46:40|2523_1_1|1|1|2040...|20241121|\n",
            "|    169|             1507-11| IN_TRANSIT_TO| 42|2563| 38.81028|   2605|-9.205277|  2605_0_1|  2605_0|            SCHEDULED|        1635| 6.388889| 110643|2024-11-21 20:46:33|2605_0_1|1|1|2000...|20241121|\n",
            "|    153|20241121-64010151...| IN_TRANSIT_TO|44|12745|38.552776|   4730|-9.033789|  4730_1_1|  4730_1|            SCHEDULED|113320234560|13.611111| 160793|2024-11-21 20:46:42|4730_1_1|2100|203...|20241121|\n",
            "|    233|20241121-64010073...| IN_TRANSIT_TO|44|12555|38.651398|   4600|-9.070635|  4600_0_1|  4600_0|            SCHEDULED|121710234560| 6.111111| 040012|2024-11-21 20:46:37|4600_0_1|2100|190...|20241121|\n",
            "|     10|20241121-64010098...| IN_TRANSIT_TO|44|12527|38.747868|   4600| -8.96728|  4600_0_2|  4600_0|            SCHEDULED|121480234560|     10.0| 010082|2024-11-21 20:46:30|4600_0_2|2100|190...|20241121|\n",
            "+-------+--------------------+--------------+--------+---------+-------+---------+----------+--------+---------------------+------------+---------+-------+-------------------+--------------------+--------+\n",
            "only showing top 20 rows\n",
            "\n"
          ]
        }
      ]
    },
    {
      "cell_type": "code",
      "source": [
        "from pyspark.sql import functions as F\n",
        "\n",
        "vehicles.select(\"date\").distinct().agg(F.min(\"date\").alias(\"min_date\")).show()\n",
        "vehicles.select(\"date\").distinct().agg(F.max(\"date\").alias(\"max_date\")).show()\n",
        "\n",
        "# there's only one day in this file."
      ],
      "metadata": {
        "colab": {
          "base_uri": "https://localhost:8080/"
        },
        "id": "cjiItiw-WtDe",
        "outputId": "1cf691f9-56f3-45b6-9fa3-930b62f35bf5"
      },
      "execution_count": 6,
      "outputs": [
        {
          "output_type": "stream",
          "name": "stdout",
          "text": [
            "+--------+\n",
            "|min_date|\n",
            "+--------+\n",
            "|20241121|\n",
            "+--------+\n",
            "\n",
            "+--------+\n",
            "|max_date|\n",
            "+--------+\n",
            "|20241121|\n",
            "+--------+\n",
            "\n"
          ]
        }
      ]
    },
    {
      "cell_type": "markdown",
      "source": [
        "Write data as PARQUET into the BRONZE layer (/content/lake/bronze)\n",
        "\n",
        "*   Partition \"vehicles\" by \"date\" column\n",
        "*   Paths: /content/lake/bronze/vehicles, /content/lake/bronze/lines\n",
        ", /content/lake/bronze/municipalities\n",
        "\n",
        "Make sure there is only 1 single parquet created /\n",
        "Use overwrite as write mode"
      ],
      "metadata": {
        "id": "o8kPFFtKU6P8"
      }
    },
    {
      "cell_type": "markdown",
      "source": [
        "Declare the directory to write the data that came from API carrismetropolitana"
      ],
      "metadata": {
        "id": "S9PXODmNQlF4"
      }
    },
    {
      "cell_type": "code",
      "source": [
        "!mkdir -p /content/lake/bronze\n",
        "\n",
        "path_vehicles = \"/content/lake/bronze/vehicles\"\n",
        "path_lines = \"/content/lake/bronze/lines\"\n",
        "path_municipalities = \"/content/lake/bronze/municipalities\""
      ],
      "metadata": {
        "id": "iU_dlCvkQkhr"
      },
      "execution_count": 7,
      "outputs": []
    },
    {
      "cell_type": "code",
      "source": [
        "(vehicles\n",
        ".coalesce(1)\n",
        ".write\n",
        ".mode(\"overwrite\")\n",
        ".partitionBy(\"date\")\n",
        ".format(\"parquet\")\n",
        ".save(path_vehicles)\n",
        ")\n",
        "\n",
        "\n",
        "(lines\n",
        ".write\n",
        ".mode(\"overwrite\")\n",
        ".format(\"parquet\")\n",
        ".save(path_lines)\n",
        ")\n",
        "\n",
        "\n",
        "(municipalities\n",
        ".write\n",
        ".mode(\"overwrite\")\n",
        ".format(\"parquet\")\n",
        ".save(path_municipalities)\n",
        ")"
      ],
      "metadata": {
        "id": "RUow9UvrUL1v"
      },
      "execution_count": 8,
      "outputs": []
    },
    {
      "cell_type": "markdown",
      "source": [
        "# CHALLENGE 2\n",
        "##  Implement CLEANSING process\n",
        "- Set up path in the \"lake\"\n",
        "  - !mkdir -p /content/lake/silver\n",
        "\n",
        "- Read data from BRONZE layer as PARQUET:\n",
        "    - vehicles - path: /content/lake/bronze/vehicles\n",
        "    - lines - path: /content/lake/bronze/lines\n",
        "    - municipalities - path: /content/lake/bronze/municipalities\n",
        "\n",
        "- Transformations\n",
        "  - vehicles\n",
        "    - rename \"lat\" and \"lon\" to \"latitude\" and \"longitude\" respectively\n",
        "    - remove possible duplicates\n",
        "    - remove rows when the column CURRENT_STATUS is null\n",
        "    - remove any corrupted record\n",
        "  - lines\n",
        "    - remove duplicates\n",
        "    - remove rows when the column LONG_NAME is null\n",
        "    - remove any corrupted record\n",
        "  - municipalities\n",
        "    - remove duplicates\n",
        "    - remove rows when the columns NAME or DISTRICT_NAME are null\n",
        "    - remove any corrupted record\n",
        "\n",
        "- Write data as PARQUET into the SILVER layer (/content/lake/silver)\n",
        "  - Partition \"vehicles\" by \"date\"(created in the ingestion)\n",
        "  - Paths:\n",
        "    - vehicles - path: /content/lake/silver/vehicles\n",
        "    - lines - path: /content/lake/silver/lines\n",
        "    - municipalities - path: /content/lake/silver/municipalities"
      ],
      "metadata": {
        "id": "hWFaXrPgcL1X"
      }
    },
    {
      "cell_type": "code",
      "source": [
        "vehicles = spark.read.parquet(\"/content/lake/bronze/vehicles\", schema = vehicle_schema).show()\n",
        "lines = spark.read.parquet(\"/content/lake/bronze/lines\", schema = lines_schema).show()\n",
        "municipalities = spark.read.parquet(\"/content/lake/bronze/municipalities\", schema = municipalities_schema).show()"
      ],
      "metadata": {
        "colab": {
          "base_uri": "https://localhost:8080/"
        },
        "id": "1QktKE37cEE6",
        "outputId": "0748c7ac-0633-4561-b163-e7f1522cccb2"
      },
      "execution_count": 13,
      "outputs": [
        {
          "output_type": "stream",
          "name": "stdout",
          "text": [
            "+-------+--------------------+--------------+--------+---------+-------+---------+----------+--------+---------------------+------------+---------+-------+-------------------+--------------------+--------+\n",
            "|bearing|            block_id|current_status|      id|      lat|line_id|      lon|pattern_id|route_id|schedule_relationship|    shift_id|    speed|stop_id|          timestamp|             trip_id|    date|\n",
            "+-------+--------------------+--------------+--------+---------+-------+---------+----------+--------+---------------------+------------+---------+-------+-------------------+--------------------+--------+\n",
            "|    204|20241121-64010552...| IN_TRANSIT_TO|44|13599|38.767933|   4702|  -9.1004|  4702_0_1|  4702_0|            SCHEDULED|123510234560|      2.5| 060009|2024-11-21 20:46:31|4702_0_1|2100|204...|20241121|\n",
            "|     67|20241121-64010056...|   INCOMING_AT|44|12056| 38.70024|   4203|-8.952086|  4203_0_1|  4203_0|            SCHEDULED|121870234560| 9.166667| 100035|2024-11-21 20:46:40|4203_0_1|2100|204...|20241121|\n",
            "|    200|20241121-64010185...|   INCOMING_AT|44|12529|38.527054|   4422|-8.890262|  4422_0_1|  4422_0|            SCHEDULED|112630234560| 8.055555| 160123|2024-11-21 20:46:30|4422_0_1|2100|203...|20241121|\n",
            "|    305|20241121-64010067...| IN_TRANSIT_TO|44|12502| 38.65311|   4600|-9.073677|  4600_0_1|  4600_0|            SCHEDULED|121760234560| 8.333333| 040022|2024-11-21 20:46:41|4600_0_1|2100|193...|20241121|\n",
            "|    101|20241121-64010053...| IN_TRANSIT_TO|44|12528|38.690895|   4514|-8.750573|  4514_0_2|  4514_0|            SCHEDULED|121900234560|19.444445| 100391|2024-11-21 20:46:38|4514_0_2|2100|201...|20241121|\n",
            "|    208|20241121-64010063...| IN_TRANSIT_TO|44|12714|  38.7045|   4514|-8.975106|  4514_0_1|  4514_0|            SCHEDULED|121800234560| 6.111111| 100013|2024-11-21 20:46:28|4514_0_1|2100|193...|20241121|\n",
            "|    104|20241121-64010322...|   INCOMING_AT|44|12064| 38.52005|   4410|-8.849007|  4410_0_2|  4410_0|            SCHEDULED|112650234560|5.2777777| 160050|2024-11-21 20:46:26|4410_0_2|2100|201...|20241121|\n",
            "|     50|20241121-64010092...|   INCOMING_AT|44|12517| 38.69597|   4513|-8.946524|  4513_0_2|  4513_0|            SCHEDULED|121540234560|15.555555| 100153|2024-11-21 20:46:40|4513_0_2|2100|203...|20241121|\n",
            "|    312|20241121-64010051...| IN_TRANSIT_TO|44|12589| 38.73898|   4504|-8.951798|  4504_0_1|  4504_0|            SCHEDULED|121920234560| 16.38889| 010108|2024-11-21 20:46:30|4504_0_1|2100|200...|20241121|\n",
            "|    351|           1_1729-11|   INCOMING_AT| 41|1236| 38.77751|   1251|-9.355131|  1251_0_2|  1251_0|            SCHEDULED|        1816|14.722222| 170134|2024-11-21 20:46:39|1251_0_2_2000_202...|20241121|\n",
            "|    290|           1_1301-11| IN_TRANSIT_TO| 41|1200|38.698635|   1614|-9.333008|  1614_1_1|  1614_1|            SCHEDULED|        1351|11.666667| 050021|2024-11-21 20:46:25|1614_1_1_2000_202...|20241121|\n",
            "|    244|             1740-11| IN_TRANSIT_TO| 42|2785| 38.75927|   2796|-9.159947|  2796_0_1|  2796_0|            SCHEDULED|        1765|3.6111112| 060227|2024-11-21 20:45:25|2796_0_1|1|1|2045...|20241121|\n",
            "|    317|             1512-11| IN_TRANSIT_TO| 42|2525| 38.79394|   2833|-9.220149|  2833_0_3|  2833_0|            SCHEDULED|        1632|7.2222223| 110851|2024-11-21 20:46:39|2833_0_3|1|1|2035...|20241121|\n",
            "|    239|             1099-11| IN_TRANSIT_TO| 42|2411|38.874363|   2533| -9.07616|  2533_0_1|  2533_0|            SCHEDULED|        1026|3.3333333| 180508|2024-11-21 20:46:29|2533_0_1|1|1|2020...|20241121|\n",
            "|     67|           1_1056-11| IN_TRANSIT_TO| 41|1854|38.756397|   1510|-9.235062|  1510_0_1|  1510_0|            SCHEDULED|        1081|      0.0| 030479|2024-11-21 20:45:56|1510_0_1_2030_205...|20241121|\n",
            "|    299|             1565-11|   INCOMING_AT| 42|2609| 38.80055|   2523|-9.182232|  2523_1_1|  2523_1|            SCHEDULED|        1609|7.7777777| 110397|2024-11-21 20:46:40|2523_1_1|1|1|2040...|20241121|\n",
            "|    169|             1507-11| IN_TRANSIT_TO| 42|2563| 38.81028|   2605|-9.205277|  2605_0_1|  2605_0|            SCHEDULED|        1635| 6.388889| 110643|2024-11-21 20:46:33|2605_0_1|1|1|2000...|20241121|\n",
            "|    153|20241121-64010151...| IN_TRANSIT_TO|44|12745|38.552776|   4730|-9.033789|  4730_1_1|  4730_1|            SCHEDULED|113320234560|13.611111| 160793|2024-11-21 20:46:42|4730_1_1|2100|203...|20241121|\n",
            "|    233|20241121-64010073...| IN_TRANSIT_TO|44|12555|38.651398|   4600|-9.070635|  4600_0_1|  4600_0|            SCHEDULED|121710234560| 6.111111| 040012|2024-11-21 20:46:37|4600_0_1|2100|190...|20241121|\n",
            "|     10|20241121-64010098...| IN_TRANSIT_TO|44|12527|38.747868|   4600| -8.96728|  4600_0_2|  4600_0|            SCHEDULED|121480234560|     10.0| 010082|2024-11-21 20:46:30|4600_0_2|2100|190...|20241121|\n",
            "+-------+--------------------+--------------+--------+---------+-------+---------+----------+--------+---------------------+------------+---------+-------+-------------------+--------------------+--------+\n",
            "only showing top 20 rows\n",
            "\n",
            "+--------------------+-------+----------+----+--------------------+--------------------+---------------+--------------------+--------------------+----------+----------+\n",
            "|     _corrupt_record|  color|facilities|  id|          localities|           long_name| municipalities|            patterns|              routes|short_name|text_color|\n",
            "+--------------------+-------+----------+----+--------------------+--------------------+---------------+--------------------+--------------------+----------+----------+\n",
            "|                NULL|#C61D23|        []|1001|[\"Alfragide\",\"Ama...|Alfragide (Estr S...|       [\"1115\"]|[\"1001_0_1\",\"1001...|          [\"1001_0\"]|      1001|   #FFFFFF|\n",
            "|                NULL|#C61D23|        []|1002|[\"Reboleira\",\"Ama...|Reboleira (Estaçã...|       [\"1115\"]|        [\"1002_0_3\"]|          [\"1002_0\"]|      1002|   #FFFFFF|\n",
            "|                NULL|#C61D23|        []|1003|[\"Amadora\",\"Amado...|Amadora (Estação ...|       [\"1115\"]|[\"1003_0_1\",\"1003...|          [\"1003_0\"]|      1003|   #FFFFFF|\n",
            "|                NULL|#C61D23|        []|1004|[\"Amadora\",\"Moinh...|Amadora (Estação ...|       [\"1115\"]|        [\"1004_0_3\"]|          [\"1004_0\"]|      1004|   #FFFFFF|\n",
            "|                NULL|#C61D23|        []|1005|[\"Amadora\",\"Casal...|Amadora (Estação ...|       [\"1115\"]|[\"1005_0_1\",\"1005...|[\"1005_0\",\"1005_1...|      1005|   #FFFFFF|\n",
            "|                NULL|#C61D23|        []|1006|[\"Amadora\",\"Moinh...|Amadora (Estação ...|       [\"1115\"]|[\"1006_0_1\",\"1006...| [\"1006_0\",\"1006_1\"]|      1006|   #FFFFFF|\n",
            "|{'color': '#3D85C...|#3D85C6|        []|1008|                NULL|Amadora Este (Met...|       [\"1115\"]|        [\"1008_0_3\"]|          [\"1008_0\"]|      1008|   #FFFFFF|\n",
            "|                NULL|#3D85C6|        []|1009|[\"Amadora\",\"Sintra\"]|Amadora (Hospital...|[\"1115\",\"1111\"]|        [\"1009_0_3\"]|          [\"1009_0\"]|      1009|   #FFFFFF|\n",
            "|                NULL|#C61D23|        []|1010|[\"Brandoa\",\"Amado...|Brandoa (Pólo Esc...|       [\"1115\"]|[\"1010_0_1\",\"1010...|          [\"1010_0\"]|      1010|   #FFFFFF|\n",
            "|                NULL|#C61D23|        []|1011|[\"Brandoa\",\"Amado...|Brandoa (Largo) -...|       [\"1115\"]|[\"1011_0_1\",\"1011...| [\"1011_0\",\"1011_1\"]|      1011|   #FFFFFF|\n",
            "|                NULL|#3D85C6|        []|1012|[\"Amadora\",\"Brand...|Alfornelos Metro ...|       [\"1115\"]|        [\"1012_0_3\"]|          [\"1012_0\"]|      1012|   #FFFFFF|\n",
            "|                NULL|#C61D23|        []|1013|[\"Amadora\",\"Atala...|Amadora (Cemitéri...|       [\"1115\"]|[\"1013_0_1\",\"1013...|          [\"1013_0\"]|      1013|   #FFFFFF|\n",
            "|                NULL|#C61D23|        []|1014|[\"Amadora\",\"Rebol...|Amadora (Cemitéri...|       [\"1115\"]|[\"1014_0_1\",\"1014...|          [\"1014_0\"]|      1014|   #FFFFFF|\n",
            "|                NULL|#3D85C6|        []|1015|[\"Reboleira\",\"Ama...|Reboleira (Estaçã...|       [\"1115\"]|        [\"1015_0_3\"]|          [\"1015_0\"]|      1015|   #FFFFFF|\n",
            "|                NULL|#C61D23|        []|1101|[\"Alfragide\",\"Oei...|Alfragide (Centro...|       [\"1110\"]|[\"1101_0_1\",\"1101...| [\"1101_0\",\"1101_1\"]|      1101|   #FFFFFF|\n",
            "|                NULL|#C61D23|        []|1103|[\"Algés\",\"Oeiras\"...|Algés (Estação) -...|       [\"1110\"]|[\"1103_0_1\",\"1103...|          [\"1103_0\"]|      1103|   #FFFFFF|\n",
            "|                NULL|#C61D23|        []|1105|[\"Algés\",\"Oeiras\"...|Algés (Estação) -...|       [\"1110\"]|[\"1105_0_1\",\"1105...| [\"1105_0\",\"1105_1\"]|      1105|   #FFFFFF|\n",
            "|                NULL|#C61D23|        []|1106|[\"Queluz Baixo\",\"...|Queluz Baixo (Cen...|       [\"1110\"]|[\"1106_0_2\",\"1106...| [\"1106_0\",\"1106_1\"]|      1106|   #FFFFFF|\n",
            "|                NULL|#C61D23|        []|1107|[\"Algés\",\"Oeiras\"...|Algés (Estação) -...|       [\"1110\"]|[\"1107_0_1\",\"1107...|          [\"1107_0\"]|      1107|   #FFFFFF|\n",
            "|                NULL|#3D85C6|        []|1109|[\"Carnaxide\",\"Oei...|Carnaxide via Out...|       [\"1110\"]|        [\"1109_0_3\"]|          [\"1109_0\"]|      1109|   #FFFFFF|\n",
            "+--------------------+-------+----------+----+--------------------+--------------------+---------------+--------------------+--------------------+----------+----------+\n",
            "only showing top 20 rows\n",
            "\n",
            "+-----------+-------------+----+--------------------+------+---------+----------------+\n",
            "|district_id|district_name|  id|                name|prefix|region_id|     region_name|\n",
            "+-----------+-------------+----+--------------------+------+---------+----------------+\n",
            "|         07|        Évora|0712|        Vendas Novas|    19|    PT187|Alentejo Central|\n",
            "|         11|       Lisboa|1101|            Alenquer|    20|    PT16B|           Oeste|\n",
            "|         11|       Lisboa|1102|   Arruda dos Vinhos|    20|    PT16B|           Oeste|\n",
            "|         11|       Lisboa|1105|             Cascais|    05|    PT170|             AML|\n",
            "|         11|       Lisboa|1106|              Lisboa|    06|    PT170|             AML|\n",
            "|         11|       Lisboa|1107|              Loures|    07|    PT170|             AML|\n",
            "|         11|       Lisboa|1109|               Mafra|    08|    PT170|             AML|\n",
            "|         11|       Lisboa|1110|              Oeiras|    12|    PT170|             AML|\n",
            "|         11|       Lisboa|1111|              Sintra|    17|    PT170|             AML|\n",
            "|         11|       Lisboa|1112|Sobral de Monte A...|    20|    PT16B|           Oeste|\n",
            "|         11|       Lisboa|1113|       Torres Vedras|    20|    PT16B|           Oeste|\n",
            "|         11|       Lisboa|1114| Vila Franca de Xira|    18|    PT170|             AML|\n",
            "|         11|       Lisboa|1115|             Amadora|    03|    PT170|             AML|\n",
            "|         11|       Lisboa|1116|            Odivelas|    11|    PT170|             AML|\n",
            "|         15|      Setúbal|1502|           Alcochete|    01|    PT170|             AML|\n",
            "|         15|      Setúbal|1503|              Almada|    02|    PT170|             AML|\n",
            "|         15|      Setúbal|1504|            Barreiro|    04|    PT170|             AML|\n",
            "|         15|      Setúbal|1506|               Moita|    09|    PT170|             AML|\n",
            "|         15|      Setúbal|1507|             Montijo|    10|    PT170|             AML|\n",
            "|         15|      Setúbal|1508|             Palmela|    13|    PT170|             AML|\n",
            "+-----------+-------------+----+--------------------+------+---------+----------------+\n",
            "only showing top 20 rows\n",
            "\n"
          ]
        }
      ]
    },
    {
      "cell_type": "code",
      "source": [
        "from pyspark.sql.functions import *\n",
        "\n",
        "# Vehicles\n",
        "# rename \"lat\" and \"lon\" to \"latitude\" and \"longitude\" respectively\n",
        "vehicles = vehicles.withColumnRenamed(\"lat\", \"latitude\").withColumnRenamed(\"lon\", \"longitude\")\n",
        "\n",
        "# remove possible duplicates\n",
        "vehicles = vehicles.drop_duplicates()\n",
        "# remove rows when the column CURRENT_STATUS is null\n",
        "vehicles = vehicles.filter(vehicles[\"current_status\"].isNotNull())\n",
        "# remove any corrupted record (????)"
      ],
      "metadata": {
        "colab": {
          "base_uri": "https://localhost:8080/",
          "height": 207
        },
        "id": "RagHE9U_cJgY",
        "outputId": "484eb349-703e-4362-be0a-86950d6a08f9"
      },
      "execution_count": 14,
      "outputs": [
        {
          "output_type": "error",
          "ename": "AttributeError",
          "evalue": "'NoneType' object has no attribute 'withColumnRenamed'",
          "traceback": [
            "\u001b[0;31m---------------------------------------------------------------------------\u001b[0m",
            "\u001b[0;31mAttributeError\u001b[0m                            Traceback (most recent call last)",
            "\u001b[0;32m<ipython-input-14-4695ee15022d>\u001b[0m in \u001b[0;36m<cell line: 5>\u001b[0;34m()\u001b[0m\n\u001b[1;32m      3\u001b[0m \u001b[0;31m# Vehicles\u001b[0m\u001b[0;34m\u001b[0m\u001b[0;34m\u001b[0m\u001b[0m\n\u001b[1;32m      4\u001b[0m \u001b[0;31m# rename \"lat\" and \"lon\" to \"latitude\" and \"longitude\" respectively\u001b[0m\u001b[0;34m\u001b[0m\u001b[0;34m\u001b[0m\u001b[0m\n\u001b[0;32m----> 5\u001b[0;31m \u001b[0mvehicles\u001b[0m \u001b[0;34m=\u001b[0m \u001b[0mvehicles\u001b[0m\u001b[0;34m.\u001b[0m\u001b[0mwithColumnRenamed\u001b[0m\u001b[0;34m(\u001b[0m\u001b[0;34m\"lat\"\u001b[0m\u001b[0;34m,\u001b[0m \u001b[0;34m\"latitude\"\u001b[0m\u001b[0;34m)\u001b[0m\u001b[0;34m.\u001b[0m\u001b[0mwithColumnRenamed\u001b[0m\u001b[0;34m(\u001b[0m\u001b[0;34m\"lon\"\u001b[0m\u001b[0;34m,\u001b[0m \u001b[0;34m\"longitude\"\u001b[0m\u001b[0;34m)\u001b[0m\u001b[0;34m\u001b[0m\u001b[0;34m\u001b[0m\u001b[0m\n\u001b[0m\u001b[1;32m      6\u001b[0m \u001b[0;34m\u001b[0m\u001b[0m\n\u001b[1;32m      7\u001b[0m \u001b[0;31m# remove possible duplicates\u001b[0m\u001b[0;34m\u001b[0m\u001b[0;34m\u001b[0m\u001b[0m\n",
            "\u001b[0;31mAttributeError\u001b[0m: 'NoneType' object has no attribute 'withColumnRenamed'"
          ]
        }
      ]
    },
    {
      "cell_type": "code",
      "source": [
        "# Lines\n",
        "# remove duplicates\n",
        "lines = lines.drop_duplicates()\n",
        "# remove rows when the column LONG_NAME is null\n",
        "lines = lines.filter(vehicles[\"long_name\"].isNotNull())\n",
        "# remove any corrupted record\n",
        "lines = lines.filter(vehicles[\"_corrupt_record\"].isNull())"
      ],
      "metadata": {
        "id": "Z9naexDYcM9p"
      },
      "execution_count": null,
      "outputs": []
    },
    {
      "cell_type": "code",
      "source": [
        "# Municipalities\n",
        "# remove duplicates\n",
        "municipalities = municipalities.drop_duplicates()\n",
        "# remove rows when the columns NAME or DISTRICT_NAME are null\n",
        "municipalities = municipalities.filter(municipalities[\"name\"].isNotNull() & municipalities[\"district_name\"].isNotNull())\n",
        "# remove any corrupted record"
      ],
      "metadata": {
        "id": "ybMMG-pUcP0W"
      },
      "execution_count": null,
      "outputs": []
    },
    {
      "cell_type": "code",
      "source": [
        "!mkdir -p /content/lake/silver"
      ],
      "metadata": {
        "id": "YFYbcgiacXdi"
      },
      "execution_count": null,
      "outputs": []
    },
    {
      "cell_type": "code",
      "source": [
        "path_vehicles = \"/content/lake/silver/vehicles\"\n",
        "path_lines = \"/content/lake/silver/lines\"\n",
        "path_municipalities = \"/content/lake/silver/municipalities\""
      ],
      "metadata": {
        "id": "wPOVuVsFcZ19"
      },
      "execution_count": null,
      "outputs": []
    },
    {
      "cell_type": "code",
      "source": [
        "(vehicles\n",
        ".coalesce(1)\n",
        ".write\n",
        ".mode(\"overwrite\")\n",
        ".partitionBy(\"date\")\n",
        ".format(\"parquet\")\n",
        ".save(path_vehicles)\n",
        ")\n",
        "\n",
        "\n",
        "(lines\n",
        ".write\n",
        ".mode(\"overwrite\")\n",
        ".format(\"parquet\")\n",
        ".save(path_lines)\n",
        ")\n",
        "\n",
        "\n",
        "(municipalities\n",
        ".write\n",
        ".mode(\"overwrite\")\n",
        ".format(\"parquet\")\n",
        ".save(path_municipalities)\n",
        ")"
      ],
      "metadata": {
        "id": "j6OncVYacc35"
      },
      "execution_count": null,
      "outputs": []
    },
    {
      "cell_type": "markdown",
      "source": [
        "# CHALLENGE 3\n",
        "##  Implement ENRICH process\n",
        "- Set up path in the \"lake\"\n",
        "  - !mkdir -p /content/lake/gold\n",
        "\n",
        "- Read data from SILVER layer\n",
        "  - Paths:\n",
        "    - vehicles - path: /content/lake/silver/vehicles\n",
        "    - lines - path: /content/lake/silver/lines\n",
        "    - municipalities - path: /content/lake/silver/municipalities\n",
        "  - Use StructFields to enforce schema\n",
        "\n",
        "- Enrichment\n",
        "  - Enrich vehicles dataset with information from the line and municipalities\n",
        "    - join vehicles with lines and municipalities\n",
        "      - select all columns from vehicles + lines.long_name (name: line_name, format:string) + municipalities.name (name: municipality_name, format: array)\n",
        "      - Note that \"municipalities.name\" is an array\n",
        "\n",
        "- Write data as PARQUET into the GOLD layer (/content/lake/gold)\n",
        "  - Dataset name: vehicles_enriched\n",
        "  - Partition \"vehicles_enriched\" by \"date\" column\n",
        "  - Paths:\n",
        "    - vehicles - path: /content/lake/gold/vehicles_enriched\n",
        "  - Make sure there is only 1 single parquet created\n",
        "  - Use overwrite as write mode"
      ],
      "metadata": {
        "id": "gdN5bL9Ccdk1"
      }
    },
    {
      "cell_type": "code",
      "source": [
        "vehicles = spark.read.parquet(\"/content/lake/silver/vehicles\").show()\n",
        "lines = spark.read.parquet(\"/content/lake/silver/lines\").show()\n",
        "municipalities = spark.read.parquet(\"/content/lake/silver/municipalities\").show()"
      ],
      "metadata": {
        "id": "U24La7WHchYP"
      },
      "execution_count": null,
      "outputs": []
    },
    {
      "cell_type": "code",
      "source": [
        "# Extract info from the array in municiples\n",
        "from pyspark.sql.functions import explode\n",
        "municipalities_treated = municipalities.select(df.name,explode(df.knownLanguages))"
      ],
      "metadata": {
        "id": "0A2ZkJYlcqg7"
      },
      "execution_count": null,
      "outputs": []
    },
    {
      "cell_type": "code",
      "source": [
        "vehicles_municipalities = vehicles.join(lines, vehicles['line_id'] = lines['id'], how = 'left')"
      ],
      "metadata": {
        "id": "fwhQRWXweDX2"
      },
      "execution_count": null,
      "outputs": []
    }
  ],
  "metadata": {
    "colab": {
      "provenance": [],
      "include_colab_link": true
    },
    "kernelspec": {
      "display_name": "Python 3",
      "name": "python3"
    },
    "language_info": {
      "name": "python"
    }
  },
  "nbformat": 4,
  "nbformat_minor": 0
}