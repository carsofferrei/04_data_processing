{
  "cells": [
    {
      "cell_type": "markdown",
      "metadata": {
        "id": "view-in-github",
        "colab_type": "text"
      },
      "source": [
        "<a href=\"https://colab.research.google.com/github/carsofferrei/04_data_processing/blob/main/spark/challenges/challenge_1.ipynb\" target=\"_parent\"><img src=\"https://colab.research.google.com/assets/colab-badge.svg\" alt=\"Open In Colab\"/></a>"
      ]
    },
    {
      "cell_type": "markdown",
      "metadata": {
        "id": "BOA_wQSmLd9z"
      },
      "source": [
        "# CHALLENGE 1\n",
        "##  Implement INGESTION process\n",
        "- Set up path in the \"lake\"\n",
        "  - !mkdir -p /content/lake/bronze\n",
        "\n",
        "- Read data from API https://api.carrismetropolitana.pt/\n",
        "  - Endpoints:\n",
        "    - vehicles\n",
        "    - lines\n",
        "    - municipalities\n",
        "  - Use StructFields to enforce schema\n",
        "\n",
        "- Transformations\n",
        "  - vehicles\n",
        "    - create \"date\" extracted from \"timestamp\" column (format: hh24miss)\n",
        "\n",
        "- Write data as PARQUET into the BRONZE layer (/content/lake/bronze)\n",
        "  - Partition \"vehicles\" by \"date\" column\n",
        "  - Paths:\n",
        "    - vehicles - path: /content/lake/bronze/vehicles\n",
        "    - lines - path: /content/lake/bronze/lines\n",
        "    - municipalities - path: /content/lake/bronze/municipalities\n",
        "  - Make sure there is only 1 single parquet created\n",
        "  - Use overwrite as write mode"
      ]
    },
    {
      "cell_type": "markdown",
      "metadata": {
        "id": "d9LeYFsPTjAb"
      },
      "source": [
        "# Setting up PySpark"
      ]
    },
    {
      "cell_type": "code",
      "execution_count": 109,
      "metadata": {
        "colab": {
          "base_uri": "https://localhost:8080/"
        },
        "id": "uYXeODL0T1fO",
        "outputId": "0df39d1c-1812-475d-c9e8-a4003e7e73b6"
      },
      "outputs": [
        {
          "output_type": "stream",
          "name": "stdout",
          "text": [
            "Requirement already satisfied: pyspark in /usr/local/lib/python3.10/dist-packages (3.5.3)\n",
            "Requirement already satisfied: py4j==0.10.9.7 in /usr/local/lib/python3.10/dist-packages (from pyspark) (0.10.9.7)\n"
          ]
        }
      ],
      "source": [
        "%pip install pyspark"
      ]
    },
    {
      "cell_type": "code",
      "source": [
        "# Import SparkSession\n",
        "\n",
        "from pyspark.sql import SparkSession\n",
        "spark = SparkSession.builder.master('local').appName('Carla_Ferreira_API_challenge').config('spark.ui.port', '4050').getOrCreate()\n",
        "sc = spark.sparkContext"
      ],
      "metadata": {
        "id": "KCW7ptFOsV25"
      },
      "execution_count": 110,
      "outputs": []
    },
    {
      "cell_type": "code",
      "source": [
        "import requests\n",
        "from pyspark.sql.types import *\n",
        "\n",
        "def readFromAPI(url: str, schema: StructType = None):\n",
        "  response = requests.get(url)\n",
        "  rdd = sc.parallelize(response.json())\n",
        "\n",
        "  if schema:\n",
        "    df = spark.read.schema(schema).json(rdd)\n",
        "  else:\n",
        "    df = spark.read.json(rdd)\n",
        "  return df"
      ],
      "metadata": {
        "id": "lv3fhVbEskQ3"
      },
      "execution_count": 111,
      "outputs": []
    },
    {
      "cell_type": "code",
      "source": [
        "#Schemas\n",
        "vehicle_schema = StructType([StructField('bearing', IntegerType(), True),\n",
        "                             StructField('block_id', StringType(), True),\n",
        "                             StructField('current_status', StringType(), True),\n",
        "                             StructField('id', StringType(), True),\n",
        "                             StructField('lat', FloatType(), True),\n",
        "                             StructField('line_id', StringType(), True),\n",
        "                             StructField('lon', FloatType(), True),\n",
        "                             StructField('pattern_id', StringType(), True),\n",
        "                             StructField('route_id', StringType(), True),\n",
        "                             StructField('schedule_relationship', StringType(), True),\n",
        "                             StructField('shift_id', StringType(), True),\n",
        "                             StructField('speed', FloatType(), True),\n",
        "                             StructField('stop_id', StringType(), True),\n",
        "                             StructField('timestamp', TimestampType(), True),\n",
        "                             StructField('trip_id', StringType(), True)\n",
        "                             ])\n",
        "\n",
        "\n",
        "lines_schema = StructType([StructField('_corrupt_record', StringType(), True),\n",
        "                           StructField('color', StringType(), True),\n",
        "                           StructField('facilities', StringType(), True),\n",
        "                           StructField('id', StringType(), True),\n",
        "                           StructField('localities', ArrayType(StringType()), True),\n",
        "                           StructField('long_name', StringType(), True),\n",
        "                           StructField('municipalities', ArrayType(StringType()), True),\n",
        "                           StructField('patterns', ArrayType(StringType()), True),\n",
        "                           StructField('routes', StringType(), True),\n",
        "                           StructField('short_name', StringType(), True),\n",
        "                           StructField('text_color', StringType(), True)\n",
        "                           ])\n",
        "\n",
        "municipalities_schema = StructType([StructField('district_id', StringType(), True),\n",
        "                                    StructField('district_name', StringType(), True),\n",
        "                                    StructField('id', StringType(), True),\n",
        "                                    StructField('name', StringType(), True),\n",
        "                                    StructField('prefix', StringType(), True),\n",
        "                                    StructField('region_id', StringType(), True),\n",
        "                                    StructField('region_name', StringType(), True)\n",
        "                                    ])"
      ],
      "metadata": {
        "id": "1HJlN4hgOvl0"
      },
      "execution_count": 112,
      "outputs": []
    },
    {
      "cell_type": "code",
      "source": [
        "vehicles = readFromAPI(\"https://api.carrismetropolitana.pt/vehicles\", schema = vehicle_schema)\n",
        "lines = readFromAPI(\"https://api.carrismetropolitana.pt/lines\", schema = lines_schema)\n",
        "municipalities = readFromAPI(\"https://api.carrismetropolitana.pt/municipalities\", schema = municipalities_schema)"
      ],
      "metadata": {
        "id": "R4E9v8rMsu3n"
      },
      "execution_count": 113,
      "outputs": []
    },
    {
      "cell_type": "code",
      "source": [
        "# create \"date\" extracted from \"timestamp\" column (format: hh24miss) -- this format doesnt make sense, the correct is yyyyMMdd\n",
        "from pyspark.sql.functions import date_format\n",
        "vehicles = vehicles.withColumn(\"date\", date_format('timestamp', \"yyyyMMdd\"))\n",
        "\n",
        "vehicles.show()"
      ],
      "metadata": {
        "colab": {
          "base_uri": "https://localhost:8080/"
        },
        "id": "lWmvyntFR_MW",
        "outputId": "2907c15d-cf69-48c1-ed56-ef08862ed274"
      },
      "execution_count": 114,
      "outputs": [
        {
          "output_type": "stream",
          "name": "stdout",
          "text": [
            "+-------+--------------------+--------------+--------+---------+-------+----------+----------+--------+---------------------+------------+---------+-------+-------------------+--------------------+--------+\n",
            "|bearing|            block_id|current_status|      id|      lat|line_id|       lon|pattern_id|route_id|schedule_relationship|    shift_id|    speed|stop_id|          timestamp|             trip_id|    date|\n",
            "+-------+--------------------+--------------+--------+---------+-------+----------+----------+--------+---------------------+------------+---------+-------+-------------------+--------------------+--------+\n",
            "|      6|20241122-64010200...| IN_TRANSIT_TO|44|12085| 38.52425|   4438| -8.894265|  4438_1_2|  4438_1|            SCHEDULED|112500234560|4.4444447| 160105|2024-11-22 20:33:48|4438_1_2|2200|203...|20241122|\n",
            "|    321|20241122-64010002...|    STOPPED_AT|44|12669|38.699623|   4705| -8.957223|  4705_0_1|  4705_0|            SCHEDULED|123460234560|      0.0| 100006|2024-11-22 20:33:45|4705_0_1|2200|200...|20241122|\n",
            "|    166|20241122-64010183...| IN_TRANSIT_TO|44|12746|38.536247|   4482| -8.880228|  4482_0_3|  4482_0|            SCHEDULED|112640234560|6.9444447| 160189|2024-11-22 20:33:34|4482_0_3|2200|200...|20241122|\n",
            "|     77|20241122-64010050...| IN_TRANSIT_TO|44|12502|38.649612|   4600| -8.991663|  4600_0_2|  4600_0|            SCHEDULED|121930234560|      0.0| 090117|2024-11-22 20:33:34|4600_0_2|2200|200...|20241122|\n",
            "|    229|20241122-64010572...| IN_TRANSIT_TO|44|12672| 38.70833|   4704|  -8.92361|  4704_0_2|  4704_0|            SCHEDULED|123380234560|      0.0| 100429|2024-11-22 20:33:36|4704_0_2|2200|195...|20241122|\n",
            "|    330|20241122-64010057...| IN_TRANSIT_TO|44|12538|38.660603|   4517| -8.922756|  4517_0_2|  4517_0|            SCHEDULED|121860234560|17.222221| 100362|2024-11-22 20:33:42|4517_0_2|2200|200...|20241122|\n",
            "|    223|20241122-64010153...| IN_TRANSIT_TO|44|13699| 38.53032|   4720|-8.8754635|  4720_0_1|  4720_0|            SCHEDULED|113280234560|4.4444447| 160027|2024-11-22 20:33:35|4720_0_1|2200|193...|20241122|\n",
            "|     81|20241122-64010051...| IN_TRANSIT_TO|44|12535|38.708004|   4504| -8.904493|  4504_0_1|  4504_0|            SCHEDULED|121920234560|15.555555| 010122|2024-11-22 20:33:48|4504_0_1|2200|200...|20241122|\n",
            "|     23|UNAVAILABLE_BLOCK_ID| IN_TRANSIT_TO| 42|2315|38.867992|   2790| -9.058672|  2790_0_1|  2790_0|            SCHEDULED|        1236|3.3333333| 180500|2024-11-22 20:33:14|2790_0_1|1|1|2015...|20241122|\n",
            "|      0|UNAVAILABLE_BLOCK_ID|    STOPPED_AT| 42|2301|38.870975|   2537| -9.086558|  2537_0_1|  2537_0|            SCHEDULED|        1229|      0.0| 180471|2024-11-22 20:33:29|2537_0_1|1|1|2010...|20241122|\n",
            "|    255|20241122-64010209...| IN_TRANSIT_TO|44|12098| 38.52463|   4409|  -8.91232|  4409_0_1|  4409_0|            SCHEDULED|112410234560|1.9444444| 160268|2024-11-22 20:33:46|4409_0_1|2200|200...|20241122|\n",
            "|     93|20241122-64010090...| IN_TRANSIT_TO|44|12078| 38.69319|   4204| -8.938708|  4204_0_2|  4204_0|            SCHEDULED|121560230560|13.055555| 100147|2024-11-22 20:33:34|4204_0_2|2200|200...|20241122|\n",
            "|    106|20241122-64010199...|   INCOMING_AT|44|12730|38.489304|   4425| -8.812299|  4425_0_1|  4425_0|            SCHEDULED|112510234560|16.944445| 160493|2024-11-22 20:33:47|4425_0_1|2200|200...|20241122|\n",
            "|    277|20241122-64010167...| IN_TRANSIT_TO|44|12739| 38.53954|   4725| -8.887722|  4725_0_1|  4725_0|            SCHEDULED|113160234560|      0.0| 161001|2024-11-22 20:33:36|4725_0_1|2200|190...|20241122|\n",
            "|    174|20241122-64010101...| IN_TRANSIT_TO|44|12515|38.754547|   4514| -8.623997|  4514_0_2|  4514_0|            SCHEDULED|121450234560| 9.722222| 100217|2024-11-22 20:33:44|4514_0_2|2200|191...|20241122|\n",
            "|    277|20241122-64010197...| IN_TRANSIT_TO|44|12552|38.525856|   4436| -8.869523|  4436_0_2|  4436_0|            SCHEDULED|112530234560|      7.5| 160035|2024-11-22 20:33:45|4436_0_2|2200|203...|20241122|\n",
            "|     86|20241122-64010104...|   INCOMING_AT|44|12606|38.710815|   4203| -8.949955|  4203_0_2|  4203_0|            SCHEDULED|121420234560|3.3333333| 100048|2024-11-22 20:33:37|4203_0_2|2200|200...|20241122|\n",
            "|     69|20241122-64010069...| IN_TRANSIT_TO|44|12536|38.708157|   4203| -8.988803|  4203_0_2|  4203_0|            SCHEDULED|121740234560|4.7222223| 100089|2024-11-22 20:33:37|4203_0_2|2200|203...|20241122|\n",
            "|     94|20241122-64010006...|   INCOMING_AT|44|12666|38.768547|   4704| -9.101238|  4704_0_1|  4704_0|            SCHEDULED|123550234560|2.7777777| 060002|2024-11-22 20:33:33|4704_0_1|2200|194...|20241122|\n",
            "|    352|20241122-64010154...| IN_TRANSIT_TO|44|12747|38.770508|   4720| -9.104493|  4720_0_1|  4720_0|            SCHEDULED|113370234560| 9.444445| 160027|2024-11-22 20:33:34|4720_0_1|2200|203...|20241122|\n",
            "+-------+--------------------+--------------+--------+---------+-------+----------+----------+--------+---------------------+------------+---------+-------+-------------------+--------------------+--------+\n",
            "only showing top 20 rows\n",
            "\n"
          ]
        }
      ]
    },
    {
      "cell_type": "code",
      "source": [
        "from pyspark.sql import functions as F\n",
        "\n",
        "vehicles.select(\"date\").distinct().agg(F.min(\"date\").alias(\"min_date\")).show()\n",
        "vehicles.select(\"date\").distinct().agg(F.max(\"date\").alias(\"max_date\")).show()\n",
        "\n",
        "# there's only one day in this file."
      ],
      "metadata": {
        "colab": {
          "base_uri": "https://localhost:8080/"
        },
        "id": "cjiItiw-WtDe",
        "outputId": "44971fee-7f8d-4f76-ed9f-a515985005b6"
      },
      "execution_count": 115,
      "outputs": [
        {
          "output_type": "stream",
          "name": "stdout",
          "text": [
            "+--------+\n",
            "|min_date|\n",
            "+--------+\n",
            "|20241122|\n",
            "+--------+\n",
            "\n",
            "+--------+\n",
            "|max_date|\n",
            "+--------+\n",
            "|20241122|\n",
            "+--------+\n",
            "\n"
          ]
        }
      ]
    },
    {
      "cell_type": "markdown",
      "source": [
        "Write data as PARQUET into the BRONZE layer (/content/lake/bronze)\n",
        "\n",
        "*   Partition \"vehicles\" by \"date\" column\n",
        "*   Paths: /content/lake/bronze/vehicles, /content/lake/bronze/lines\n",
        ", /content/lake/bronze/municipalities\n",
        "\n",
        "Make sure there is only 1 single parquet created /\n",
        "Use overwrite as write mode"
      ],
      "metadata": {
        "id": "o8kPFFtKU6P8"
      }
    },
    {
      "cell_type": "markdown",
      "source": [
        "Declare the directory to write the data that came from API carrismetropolitana"
      ],
      "metadata": {
        "id": "S9PXODmNQlF4"
      }
    },
    {
      "cell_type": "code",
      "source": [
        "!mkdir -p /content/lake/bronze\n",
        "\n",
        "path_vehicles = \"/content/lake/bronze/vehicles\"\n",
        "path_lines = \"/content/lake/bronze/lines\"\n",
        "path_municipalities = \"/content/lake/bronze/municipalities\""
      ],
      "metadata": {
        "id": "iU_dlCvkQkhr"
      },
      "execution_count": 116,
      "outputs": []
    },
    {
      "cell_type": "code",
      "source": [
        "(vehicles\n",
        ".coalesce(1)\n",
        ".write\n",
        ".mode(\"overwrite\")\n",
        ".partitionBy(\"date\")\n",
        ".format(\"parquet\")\n",
        ".save(path_vehicles)\n",
        ")\n",
        "\n",
        "\n",
        "(lines\n",
        ".write\n",
        ".mode(\"overwrite\")\n",
        ".format(\"parquet\")\n",
        ".save(path_lines)\n",
        ")\n",
        "\n",
        "\n",
        "(municipalities\n",
        ".write\n",
        ".mode(\"overwrite\")\n",
        ".format(\"parquet\")\n",
        ".save(path_municipalities)\n",
        ")"
      ],
      "metadata": {
        "id": "RUow9UvrUL1v"
      },
      "execution_count": 117,
      "outputs": []
    },
    {
      "cell_type": "markdown",
      "source": [
        "# CHALLENGE 2\n",
        "##  Implement CLEANSING process\n",
        "- Set up path in the \"lake\"\n",
        "  - !mkdir -p /content/lake/silver\n",
        "\n",
        "- Read data from BRONZE layer as PARQUET:\n",
        "    - vehicles - path: /content/lake/bronze/vehicles\n",
        "    - lines - path: /content/lake/bronze/lines\n",
        "    - municipalities - path: /content/lake/bronze/municipalities\n",
        "\n",
        "- Transformations\n",
        "  - vehicles\n",
        "    - rename \"lat\" and \"lon\" to \"latitude\" and \"longitude\" respectively\n",
        "    - remove possible duplicates\n",
        "    - remove rows when the column CURRENT_STATUS is null\n",
        "    - remove any corrupted record\n",
        "  - lines\n",
        "    - remove duplicates\n",
        "    - remove rows when the column LONG_NAME is null\n",
        "    - remove any corrupted record\n",
        "  - municipalities\n",
        "    - remove duplicates\n",
        "    - remove rows when the columns NAME or DISTRICT_NAME are null\n",
        "    - remove any corrupted record\n",
        "\n",
        "- Write data as PARQUET into the SILVER layer (/content/lake/silver)\n",
        "  - Partition \"vehicles\" by \"date\"(created in the ingestion)\n",
        "  - Paths:\n",
        "    - vehicles - path: /content/lake/silver/vehicles\n",
        "    - lines - path: /content/lake/silver/lines\n",
        "    - municipalities - path: /content/lake/silver/municipalities"
      ],
      "metadata": {
        "id": "hWFaXrPgcL1X"
      }
    },
    {
      "cell_type": "code",
      "source": [
        "vehicles = spark.read.parquet(\"/content/lake/bronze/vehicles\", schema = vehicle_schema)"
      ],
      "metadata": {
        "id": "1QktKE37cEE6"
      },
      "execution_count": 118,
      "outputs": []
    },
    {
      "cell_type": "code",
      "source": [
        "lines = spark.read.parquet(\"/content/lake/bronze/lines\", schema = lines_schema)"
      ],
      "metadata": {
        "id": "qhfNgrt4lb3I"
      },
      "execution_count": 119,
      "outputs": []
    },
    {
      "cell_type": "code",
      "source": [
        "municipalities = spark.read.parquet(\"/content/lake/bronze/municipalities\", schema = municipalities_schema)"
      ],
      "metadata": {
        "id": "J12-5awTldp7"
      },
      "execution_count": 120,
      "outputs": []
    },
    {
      "cell_type": "code",
      "source": [
        "from pyspark.sql.functions import *\n",
        "\n",
        "# Vehicles\n",
        "# rename \"lat\" and \"lon\" to \"latitude\" and \"longitude\" respectively\n",
        "vehicles = vehicles.withColumnRenamed(\"lat\", \"latitude\").withColumnRenamed(\"lon\", \"longitude\")\n",
        "\n",
        "# remove possible duplicates\n",
        "vehicles = vehicles.dropDuplicates()\n",
        "# remove rows when the column CURRENT_STATUS is null\n",
        "vehicles = vehicles.filter(vehicles[\"current_status\"].isNotNull())\n",
        "# remove any corrupted record (????)"
      ],
      "metadata": {
        "id": "RagHE9U_cJgY"
      },
      "execution_count": 121,
      "outputs": []
    },
    {
      "cell_type": "code",
      "source": [
        "from pyspark.sql.functions import *\n",
        "\n",
        "# Lines\n",
        "# remove duplicates\n",
        "lines = lines.dropDuplicates()\n",
        "# remove rows when the column LONG_NAME is null\n",
        "lines = lines.filter(lines[\"long_name\"].isNotNull())\n",
        "# remove any corrupted record\n",
        "lines = lines.filter(lines[\"_corrupt_record\"].isNull())"
      ],
      "metadata": {
        "id": "Z9naexDYcM9p"
      },
      "execution_count": 174,
      "outputs": []
    },
    {
      "cell_type": "code",
      "source": [
        "# Municipalities\n",
        "# remove duplicates\n",
        "municipalities = municipalities.dropDuplicates()\n",
        "# remove rows when the columns NAME or DISTRICT_NAME are null\n",
        "municipalities = municipalities.filter(municipalities[\"name\"].isNotNull() & municipalities[\"district_name\"].isNotNull())\n",
        "# remove any corrupted record (???)"
      ],
      "metadata": {
        "id": "ybMMG-pUcP0W"
      },
      "execution_count": 123,
      "outputs": []
    },
    {
      "cell_type": "code",
      "source": [
        "!mkdir -p /content/lake/silver"
      ],
      "metadata": {
        "id": "YFYbcgiacXdi"
      },
      "execution_count": 124,
      "outputs": []
    },
    {
      "cell_type": "code",
      "source": [
        "path_vehicles = \"/content/lake/silver/vehicles\"\n",
        "path_lines = \"/content/lake/silver/lines\"\n",
        "path_municipalities = \"/content/lake/silver/municipalities\""
      ],
      "metadata": {
        "id": "wPOVuVsFcZ19"
      },
      "execution_count": 125,
      "outputs": []
    },
    {
      "cell_type": "code",
      "source": [
        "(vehicles\n",
        ".coalesce(1)\n",
        ".write\n",
        ".mode(\"overwrite\")\n",
        ".partitionBy(\"date\")\n",
        ".format(\"parquet\")\n",
        ".save(path_vehicles)\n",
        ")\n",
        "\n",
        "\n",
        "(lines\n",
        ".write\n",
        ".mode(\"overwrite\")\n",
        ".format(\"parquet\")\n",
        ".save(path_lines)\n",
        ")\n",
        "\n",
        "\n",
        "(municipalities\n",
        ".write\n",
        ".mode(\"overwrite\")\n",
        ".format(\"parquet\")\n",
        ".save(path_municipalities)\n",
        ")"
      ],
      "metadata": {
        "id": "j6OncVYacc35"
      },
      "execution_count": 126,
      "outputs": []
    },
    {
      "cell_type": "markdown",
      "source": [
        "# CHALLENGE 3\n",
        "##  Implement ENRICH process\n",
        "- Set up path in the \"lake\"\n",
        "  - !mkdir -p /content/lake/gold\n",
        "\n",
        "- Read data from SILVER layer\n",
        "  - Paths:\n",
        "    - vehicles - path: /content/lake/silver/vehicles\n",
        "    - lines - path: /content/lake/silver/lines\n",
        "    - municipalities - path: /content/lake/silver/municipalities\n",
        "  - Use StructFields to enforce schema\n",
        "\n",
        "- Enrichment\n",
        "  - Enrich vehicles dataset with information from the line and municipalities\n",
        "    - join vehicles with lines and municipalities\n",
        "      - select all columns from vehicles + lines.long_name (name: line_name, format:string) + municipalities.name (name: municipality_name, format: array)\n",
        "      - Note that \"municipalities.name\" is an array\n",
        "\n",
        "- Write data as PARQUET into the GOLD layer (/content/lake/gold)\n",
        "  - Dataset name: vehicles_enriched\n",
        "  - Partition \"vehicles_enriched\" by \"date\" column\n",
        "  - Paths:\n",
        "    - vehicles - path: /content/lake/gold/vehicles_enriched\n",
        "  - Make sure there is only 1 single parquet created\n",
        "  - Use overwrite as write mode"
      ],
      "metadata": {
        "id": "gdN5bL9Ccdk1"
      }
    },
    {
      "cell_type": "code",
      "source": [
        "vehicles = spark.read.parquet(\"/content/lake/silver/vehicles\", schema = vehicle_schema)"
      ],
      "metadata": {
        "id": "a6IHVIn3l38g"
      },
      "execution_count": 142,
      "outputs": []
    },
    {
      "cell_type": "code",
      "source": [
        "lines = spark.read.parquet(\"/content/lake/silver/lines\", schema = lines_schema)"
      ],
      "metadata": {
        "id": "PDti0gpQl7kt"
      },
      "execution_count": 143,
      "outputs": []
    },
    {
      "cell_type": "code",
      "source": [
        "municipalities = spark.read.parquet(\"/content/lake/silver/municipalities\", schema = municipalities_schema)"
      ],
      "metadata": {
        "id": "n_qGhJqpl8La"
      },
      "execution_count": 144,
      "outputs": []
    },
    {
      "cell_type": "code",
      "source": [
        "# Extract info from the array in municiples\n",
        "from pyspark.sql.functions import explode\n",
        "lines_treated = lines.select(\n",
        "    \"facilities\"\n",
        "    , \"id\"\n",
        "    , \"localities\"\n",
        "    , explode(lines.municipalities).alias(\"municipalities_id\")\n",
        ").drop_duplicates()"
      ],
      "metadata": {
        "id": "0A2ZkJYlcqg7"
      },
      "execution_count": 148,
      "outputs": []
    },
    {
      "cell_type": "code",
      "source": [
        "vehicles_lines = vehicles.join(lines_treated, vehicles['line_id'] == lines_treated['id'], how = 'left')\n",
        "vehicles_enriched = vehicles_lines.join(municipalities, lines_treated['municipalities_id'] == municipalities['id'], how = 'left')\n",
        "vehicles_enriched.dropDuplicates().show()"
      ],
      "metadata": {
        "colab": {
          "base_uri": "https://localhost:8080/"
        },
        "id": "fwhQRWXweDX2",
        "outputId": "ee549bdf-9ed9-43c5-e8b7-82b5554f0f05"
      },
      "execution_count": 149,
      "outputs": [
        {
          "output_type": "stream",
          "name": "stdout",
          "text": [
            "+-------+--------------------+--------------+--------+---------+-------+---------+----------+--------+---------------------+------------+---------+-------+-------------------+--------------------+--------+----------+----+--------------------+-----------------+-----------+-------------+----+-------------------+------+---------+-----------+\n",
            "|bearing|            block_id|current_status|      id| latitude|line_id|longitude|pattern_id|route_id|schedule_relationship|    shift_id|    speed|stop_id|          timestamp|             trip_id|    date|facilities|  id|          localities|municipalities_id|district_id|district_name|  id|               name|prefix|region_id|region_name|\n",
            "+-------+--------------------+--------------+--------+---------+-------+---------+----------+--------+---------------------+------------+---------+-------+-------------------+--------------------+--------+----------+----+--------------------+-----------------+-----------+-------------+----+-------------------+------+---------+-----------+\n",
            "|    241|       ESC_DU_EU2046| IN_TRANSIT_TO| 43|2120|38.664986|   3504|-9.184232|  3504_0_1|  3504_0|            SCHEDULED|      EU2227|11.944445| 020075|2024-11-22 20:32:57|3504_0_1_2030_205...|20241122|        []|3504|[Pragal, Almada, ...|             1510|         15|      Setúbal|1510|             Seixal|    14|    PT170|        AML|\n",
            "|    262|20241122-64010147...| IN_TRANSIT_TO|44|12683|38.539497|   4720| -8.88574|  4720_0_1|  4720_0|            SCHEDULED|113290234560|6.9444447| 161002|2024-11-22 20:33:46|4720_0_1|2200|200...|20241122|        []|4720|[Setúbal, Moscavi...|             1512|         15|      Setúbal|1512|            Setúbal|    16|    PT170|        AML|\n",
            "|     24|             1033-11| IN_TRANSIT_TO| 42|2106|38.824738|   2725|-9.144717|  2725_0_2|  2725_0|            SCHEDULED|        1320| 9.722222| 070496|2024-11-22 20:33:29|2725_0_2|1|1|2010...|20241122|        []|2725|[Parque das Naçõe...|             1106|         11|       Lisboa|1106|             Lisboa|    06|    PT170|        AML|\n",
            "|    313|20241122-64010152...| IN_TRANSIT_TO|44|12679|38.759743|   4720|-9.039578|  4720_0_2|  4720_0|            SCHEDULED|113310234560|28.333334| 060005|2024-11-22 20:33:36|4720_0_2|2200|200...|20241122|        []|4720|[Setúbal, Moscavi...|             1106|         11|       Lisboa|1106|             Lisboa|    06|    PT170|        AML|\n",
            "|      0|       ESC_DU_EU1044|    STOPPED_AT| 43|2372|38.563168|   3105|-9.089631|  3105_0_2|  3105_0|            SCHEDULED|      EU1150|      0.0| 140449|2024-11-22 20:33:42|3105_0_2_2000_202...|20241122|        []|3105|[Seixal, Fernão F...|             1510|         15|      Setúbal|1510|             Seixal|    14|    PT170|        AML|\n",
            "|    300|             1807-11| IN_TRANSIT_TO| 42|2523|38.787235|   2769|-9.171212|  2769_0_1|  2769_0|            SCHEDULED|        1842|6.6666665| 110801|2024-11-22 20:33:02|2769_0_1|1|1|2015...|20241122|        []|2769|[Loures, Odivelas...|             1116|         11|       Lisboa|1116|           Odivelas|    11|    PT170|        AML|\n",
            "|     49|             1580-11|   INCOMING_AT| 42|2378|38.784504|   2821|-9.186084|  2821_0_2|  2821_0|            SCHEDULED|        1614| 6.388889| 110083|2024-11-22 20:33:41|2821_0_2|1|1|2010...|20241122|        []|2821|[Odivelas, Pontinha]|             1116|         11|       Lisboa|1116|           Odivelas|    11|    PT170|        AML|\n",
            "|     10|             1805-11| IN_TRANSIT_TO| 42|2577|38.766724|   2772|-9.157758|  2772_4_1|  2772_4|            SCHEDULED|        1836| 8.055555| 060159|2024-11-22 20:33:25|2772_4_1|1|1|2025...|20241122|        []|2772|[Campo Grande, Od...|             1106|         11|       Lisboa|1106|             Lisboa|    06|    PT170|        AML|\n",
            "|      0|UNAVAILABLE_BLOCK_ID|    STOPPED_AT| 42|2404|38.799793|   2791|-9.098649|  2791_2_2|  2791_2|            SCHEDULED|        1149|      0.0| 070757|2024-11-22 20:33:41|2791_2_2|1|1|2010...|20241122|        []|2791|[Vila Franca de X...|             1107|         11|       Lisboa|1107|             Loures|    07|    PT170|        AML|\n",
            "|    125|       ESC_DU_EU1052|    STOPPED_AT| 43|2386| 38.61758|   3505|-9.112234|  3505_0_1|  3505_0|            SCHEDULED|      EU1147|     10.0| 140111|2024-11-22 20:33:09|3505_0_1_1930_195...|20241122|        []|3505|[Cacilhas, Cova d...|             1503|         15|      Setúbal|1503|             Almada|    02|    PT170|        AML|\n",
            "|      0|       ESC_DU_EU2035|    STOPPED_AT| 43|2029|  38.6545|   3524|-9.188208|  3524_0_1|  3524_0|            SCHEDULED|      EU2182|      0.0| 020953|2024-11-22 20:33:37|3524_0_1_2000_202...|20241122|        []|3524|[Pragal, Almada, ...|             1503|         15|      Setúbal|1503|             Almada|    02|    PT170|        AML|\n",
            "|    235|UNAVAILABLE_BLOCK_ID|   INCOMING_AT| 41|1707| 38.69002|   1121|-9.311096|  1121_0_3|  1121_0|            SCHEDULED|        1486|6.9444447| 120835|2024-11-22 20:33:41|1121_0_3_1900_192...|20241122|      NULL|NULL|                NULL|             NULL|       NULL|         NULL|NULL|               NULL|  NULL|     NULL|       NULL|\n",
            "|    179|20241122-64010151...| IN_TRANSIT_TO|44|12745|38.608105|   4730|-9.094653|  4730_1_1|  4730_1|            SCHEDULED|113320234560|      0.0| 140121|2024-11-22 20:33:34|4730_1_1|2200|203...|20241122|        []|4730|[Setúbal, São Luí...|             1511|         15|      Setúbal|1511|           Sesimbra|    15|    PT170|        AML|\n",
            "|    258|           1_1034-11| IN_TRANSIT_TO| 41|1287|38.735943|   1001|-9.209639|  1001_0_2|  1001_0|            SCHEDULED|        1094|4.1666665| 030016|2024-11-22 20:33:46|1001_0_2_2000_202...|20241122|        []|1001|[Alfragide, Amado...|             1115|         11|       Lisboa|1115|            Amadora|    03|    PT170|        AML|\n",
            "|      0|             1115-11|    STOPPED_AT| 42|2707| 38.82691|   2532|-9.162389|  2532_0_1|  2532_0|            SCHEDULED|        1228|5.2777777| 070390|2024-11-22 20:33:42|2532_0_1|1|1|1925...|20241122|        []|2532|[Alverca, Vila Fr...|             1107|         11|       Lisboa|1107|             Loures|    07|    PT170|        AML|\n",
            "|      0|             1077-11|   INCOMING_AT|  42|723| 38.89019|   2303|-9.034171|  2303_0_1|  2303_0|            SCHEDULED|        1295|      0.0| 182200|2024-11-22 20:33:24|2303_0_1|1|1|2045...|20241122|        []|2303|[Alverca, Vila Fr...|             1114|         11|       Lisboa|1114|Vila Franca de Xira|    18|    PT170|        AML|\n",
            "|    183|             1056-11| IN_TRANSIT_TO| 42|2342|38.775784|   2727|-9.095147|  2727_0_2|  2727_0|            SCHEDULED|        1202|4.4444447| 060203|2024-11-22 20:33:30|2727_0_2|1|1|1950...|20241122|        []|2727|[Parque das Naçõe...|             1106|         11|       Lisboa|1106|             Lisboa|    06|    PT170|        AML|\n",
            "|    321|20241122-64010002...|    STOPPED_AT|44|12669|38.699623|   4705|-8.957223|  4705_0_1|  4705_0|            SCHEDULED|123460234560|      0.0| 100006|2024-11-22 20:33:45|4705_0_1|2200|200...|20241122|        []|4705|[Alcochete, Samou...|             1507|         15|      Setúbal|1507|            Montijo|    10|    PT170|        AML|\n",
            "|    212|                1254| IN_TRANSIT_TO| 42|1254|38.802216|   2776|-9.158048|  2776_0_1|  2776_0|            SCHEDULED|       46201|     12.5| 110619|2024-11-22 20:33:30|2776_0_1|150|1|20...|20241122|        []|2776|[Loures, Sto. Ant...|             1106|         11|       Lisboa|1106|             Lisboa|    06|    PT170|        AML|\n",
            "|     15|           1_1617-11|   INCOMING_AT|  41|324| 38.75537|   1717|-9.266735|  1717_0_1|  1717_0|            SCHEDULED|        1679|      0.0| 172197|2024-11-22 20:33:02|1717_0_1_1930_195...|20241122|        []|1717|[Colégio Militar,...|             1111|         11|       Lisboa|1111|             Sintra|    17|    PT170|        AML|\n",
            "+-------+--------------------+--------------+--------+---------+-------+---------+----------+--------+---------------------+------------+---------+-------+-------------------+--------------------+--------+----------+----+--------------------+-----------------+-----------+-------------+----+-------------------+------+---------+-----------+\n",
            "only showing top 20 rows\n",
            "\n"
          ]
        }
      ]
    },
    {
      "cell_type": "code",
      "source": [
        "vehicles_enriched = vehicles_enriched.select(\n",
        "      \"line_id\"\n",
        "    , \"current_status\"\n",
        "    , \"schedule_relationship\"\n",
        "    , \"shift_id\"\n",
        "    , \"speed\"\n",
        "    , \"stop_id\"\n",
        "    , \"date\"\n",
        "    , \"facilities\"\n",
        "    , \"municipalities_id\"\n",
        "    , \"district_name\"\n",
        "    , \"name\"\n",
        "    , \"prefix\"\n",
        "    , \"region_id\"\n",
        "    , \"region_name\"\n",
        ").drop_duplicates()"
      ],
      "metadata": {
        "id": "UU6KYEqVwAOj"
      },
      "execution_count": 132,
      "outputs": []
    },
    {
      "cell_type": "code",
      "source": [
        "!mkdir -p /content/lake/gold"
      ],
      "metadata": {
        "id": "mPXTyXgbdrtw"
      },
      "execution_count": 133,
      "outputs": []
    },
    {
      "cell_type": "code",
      "source": [
        "path_vehicles_enriched = \"/content/lake/gold/vehicles_enriched\""
      ],
      "metadata": {
        "id": "wuu7OKGykI9H"
      },
      "execution_count": 134,
      "outputs": []
    },
    {
      "cell_type": "code",
      "source": [
        "vehicles_enriched.show()"
      ],
      "metadata": {
        "colab": {
          "base_uri": "https://localhost:8080/"
        },
        "id": "jUzEYsXjk6Dp",
        "outputId": "46eb9bb7-d99d-4dfe-d456-0b85147e2775"
      },
      "execution_count": 135,
      "outputs": [
        {
          "output_type": "stream",
          "name": "stdout",
          "text": [
            "+-------+--------------+---------------------+------------+---------+-------+--------+----------+-----------------+-------------+--------+------+---------+-----------+\n",
            "|line_id|current_status|schedule_relationship|    shift_id|    speed|stop_id|    date|facilities|municipalities_id|district_name|    name|prefix|region_id|region_name|\n",
            "+-------+--------------+---------------------+------------+---------+-------+--------+----------+-----------------+-------------+--------+------+---------+-----------+\n",
            "|   3523| IN_TRANSIT_TO|            SCHEDULED|      EU1133| 8.333333| 140194|20241122|        []|             1503|      Setúbal|  Almada|    02|    PT170|        AML|\n",
            "|   1506| IN_TRANSIT_TO|            SCHEDULED|        1107|10.555555| 030311|20241122|        []|             1115|       Lisboa| Amadora|    03|    PT170|        AML|\n",
            "|   4621| IN_TRANSIT_TO|            SCHEDULED|121700230560|      0.0| 140062|20241122|        []|             1510|      Setúbal|  Seixal|    14|    PT170|        AML|\n",
            "|   3702| IN_TRANSIT_TO|            SCHEDULED|      EU2215|5.2777777| 020001|20241122|        []|             1503|      Setúbal|  Almada|    02|    PT170|        AML|\n",
            "|   1525|    STOPPED_AT|            SCHEDULED|        1649|      0.0| 121141|20241122|        []|             1110|       Lisboa|  Oeiras|    12|    PT170|        AML|\n",
            "|   1720|   INCOMING_AT|            SCHEDULED|        1086|2.2222223| 170598|20241122|        []|             1111|       Lisboa|  Sintra|    17|    PT170|        AML|\n",
            "|   3721| IN_TRANSIT_TO|            SCHEDULED|      EU3065|     15.0| 150556|20241122|        []|             1511|      Setúbal|Sesimbra|    15|    PT170|        AML|\n",
            "|   4701| IN_TRANSIT_TO|            SCHEDULED|123450234560|26.666666| 100417|20241122|        []|             1106|       Lisboa|  Lisboa|    06|    PT170|        AML|\n",
            "|   2753| IN_TRANSIT_TO|            SCHEDULED|       44149|11.666667| 080371|20241122|        []|             1106|       Lisboa|  Lisboa|    06|    PT170|        AML|\n",
            "|   3635| IN_TRANSIT_TO|            SCHEDULED|      EU3091|      0.0| 160949|20241122|        []|             1504|      Setúbal|Barreiro|    04|    PT170|        AML|\n",
            "|   2802| IN_TRANSIT_TO|            SCHEDULED|      400606|24.166666| 080346|20241122|        []|             1106|       Lisboa|  Lisboa|    06|    PT170|        AML|\n",
            "|   2781| IN_TRANSIT_TO|            SCHEDULED|        1611|11.944445| 070364|20241122|        []|             1106|       Lisboa|  Lisboa|    06|    PT170|        AML|\n",
            "|   1601|    STOPPED_AT|            SCHEDULED|        1670|3.6111112| 121187|20241122|        []|             1105|       Lisboa| Cascais|    05|    PT170|        AML|\n",
            "|   1502|    STOPPED_AT|            SCHEDULED|        1069|      0.0| 030445|20241122|        []|             1110|       Lisboa|  Oeiras|    12|    PT170|        AML|\n",
            "|   2764|    STOPPED_AT|            SCHEDULED|        1784|      0.0| 070037|20241122|        []|             1107|       Lisboa|  Loures|    07|    PT170|        AML|\n",
            "|   4521| IN_TRANSIT_TO|            SCHEDULED|121530234560|12.777778| 100393|20241122|        []|             1507|      Setúbal| Montijo|    10|    PT170|        AML|\n",
            "|   2736| IN_TRANSIT_TO|            SCHEDULED|        1198| 6.111111| 060275|20241122|        []|             1106|       Lisboa|  Lisboa|    06|    PT170|        AML|\n",
            "|   4730| IN_TRANSIT_TO|            SCHEDULED|113170234560|      0.0| 140121|20241122|        []|             1511|      Setúbal|Sesimbra|    15|    PT170|        AML|\n",
            "|   2701|    STOPPED_AT|            SCHEDULED|        1608|      0.0| 060372|20241122|        []|             1106|       Lisboa|  Lisboa|    06|    PT170|        AML|\n",
            "|   2769| IN_TRANSIT_TO|            SCHEDULED|        1834|6.6666665| 070317|20241122|        []|             1116|       Lisboa|Odivelas|    11|    PT170|        AML|\n",
            "+-------+--------------+---------------------+------------+---------+-------+--------+----------+-----------------+-------------+--------+------+---------+-----------+\n",
            "only showing top 20 rows\n",
            "\n"
          ]
        }
      ]
    },
    {
      "cell_type": "code",
      "source": [
        "(vehicles_enriched\n",
        ".coalesce(1)\n",
        ".write\n",
        ".mode(\"overwrite\")\n",
        ".partitionBy(\"date\")\n",
        ".format(\"parquet\")\n",
        ".save(path_vehicles_enriched)\n",
        ")"
      ],
      "metadata": {
        "id": "YdhvDwewkLsn"
      },
      "execution_count": 136,
      "outputs": []
    },
    {
      "cell_type": "markdown",
      "source": [
        "# CHALLENGE 4\n",
        "##  Analyze data\n",
        "\n",
        "- Query table \"vehicles_enriched\" in gold layer\n",
        "- Aggregate data by municipality_name (array)\n",
        "- Calculate:\n",
        "  - count of vehicles (id) that pass through that municipality\n",
        "  - sum speed of vehicles\n",
        "\n",
        "Questions:\n",
        "  - What are the top 3 municipalities by vehicles routes?\n",
        "  - What are the top 3 municipalities with higher vehicle speed on average?\n",
        "\n",
        "\n",
        "Tips:\n",
        "- explode array into rows -> https://spark.apache.org/docs/latest/api/python/reference/pyspark.sql/api/pyspark.sql.functions.explode.html\n"
      ],
      "metadata": {
        "id": "MQWW-yTulmIY"
      }
    },
    {
      "cell_type": "code",
      "source": [
        "vehicles_enriched = spark.read.parquet(\"/content/lake/gold/vehicles_enriched\")"
      ],
      "metadata": {
        "id": "Om5zIuJQlnXK"
      },
      "execution_count": 138,
      "outputs": []
    },
    {
      "cell_type": "code",
      "source": [
        "vehicles_enriched.filter(vehicles_enriched.name == \"Lisboa\").show()"
      ],
      "metadata": {
        "id": "DcYwMF9I_A9F",
        "outputId": "400cd2ea-144a-4c64-a21f-41073c5cf228",
        "colab": {
          "base_uri": "https://localhost:8080/"
        }
      },
      "execution_count": 177,
      "outputs": [
        {
          "output_type": "stream",
          "name": "stdout",
          "text": [
            "+-------+--------------------+--------------+--------+---------+-------+----------+----------+--------+---------------------+------------+---------+-------+-------------------+--------------------+--------+----------+----+--------------------+-----------------+-----------+-------------+----+------+------+---------+-----------+\n",
            "|bearing|            block_id|current_status|      id| latitude|line_id| longitude|pattern_id|route_id|schedule_relationship|    shift_id|    speed|stop_id|          timestamp|             trip_id|    date|facilities|  id|          localities|municipalities_id|district_id|district_name|  id|  name|prefix|region_id|region_name|\n",
            "+-------+--------------------+--------------+--------+---------+-------+----------+----------+--------+---------------------+------------+---------+-------+-------------------+--------------------+--------+----------+----+--------------------+-----------------+-----------+-------------+----+------+------+---------+-----------+\n",
            "|    182|20241122-64010218...| IN_TRANSIT_TO|44|12699|38.652733|   4701|-8.9919815|  4701_0_1|  4701_0|            SCHEDULED|123560234560|4.1666665| 090002|2024-11-22 20:33:44|4701_0_1|2200|200...|20241122|        []|4701|[Moita, Alhos Ved...|             1106|         11|       Lisboa|1106|Lisboa|    06|    PT170|        AML|\n",
            "|    255|20241122-64010016...| IN_TRANSIT_TO|44|12667| 38.68338|   4701| -8.955412|  4701_0_1|  4701_0|            SCHEDULED|123320234560| 9.166667| 100419|2024-11-22 20:33:34|4701_0_1|2200|194...|20241122|        []|4701|[Moita, Alhos Ved...|             1106|         11|       Lisboa|1106|Lisboa|    06|    PT170|        AML|\n",
            "|     98|20241122-64010574...| IN_TRANSIT_TO|44|12670|  38.6525|   4701|  -9.03211|  4701_0_2|  4701_0|            SCHEDULED|123520234560| 16.38889| 090011|2024-11-22 20:33:42|4701_0_2|2200|203...|20241122|        []|4701|[Moita, Alhos Ved...|             1106|         11|       Lisboa|1106|Lisboa|    06|    PT170|        AML|\n",
            "|     66|20241122-64010008...| IN_TRANSIT_TO|44|12668|38.682304|   4701| -8.960125|  4701_0_2|  4701_0|            SCHEDULED|123500234560| 16.38889| 100420|2024-11-22 20:33:48|4701_0_2|2200|200...|20241122|        []|4701|[Moita, Alhos Ved...|             1106|         11|       Lisboa|1106|Lisboa|    06|    PT170|        AML|\n",
            "|    130|20241122-64010004...| IN_TRANSIT_TO|44|12701|   38.736|   4701| -9.007843|  4701_0_1|  4701_0|            SCHEDULED|123450234560|26.666666| 100417|2024-11-22 20:33:37|4701_0_1|2200|201...|20241122|        []|4701|[Moita, Alhos Ved...|             1106|         11|       Lisboa|1106|Lisboa|    06|    PT170|        AML|\n",
            "|     75|20241122-64010037...| IN_TRANSIT_TO|44|12657|  38.6832|   4701| -8.956145|  4701_0_2|  4701_0|            SCHEDULED|123400234560|17.777779| 100418|2024-11-22 20:33:47|4701_0_2|2200|193...|20241122|        []|4701|[Moita, Alhos Ved...|             1106|         11|       Lisboa|1106|Lisboa|    06|    PT170|        AML|\n",
            "|     11|             1032-11| IN_TRANSIT_TO| 42|2103| 38.82838|   2725| -9.138325|  2725_0_1|  2725_0|            SCHEDULED|        1318|7.2222223| 070495|2024-11-22 20:33:29|2725_0_1|1|1|2000...|20241122|        []|2725|[Parque das Naçõe...|             1106|         11|       Lisboa|1106|Lisboa|    06|    PT170|        AML|\n",
            "|    243|             1031-11| IN_TRANSIT_TO| 42|2107|38.822155|   2725| -9.176327|  2725_0_1|  2725_0|            SCHEDULED|        1265|10.555555| 070470|2024-11-22 20:33:16|2725_0_1|1|1|1940...|20241122|        []|2725|[Parque das Naçõe...|             1106|         11|       Lisboa|1106|Lisboa|    06|    PT170|        AML|\n",
            "|     92|             1035-11| IN_TRANSIT_TO| 42|2104| 38.82356|   2725| -9.176373|  2725_0_2|  2725_0|            SCHEDULED|        1244|      0.0| 070472|2024-11-22 20:32:50|2725_0_2|1|1|2030...|20241122|        []|2725|[Parque das Naçõe...|             1106|         11|       Lisboa|1106|Lisboa|    06|    PT170|        AML|\n",
            "|     24|             1033-11| IN_TRANSIT_TO| 42|2106|38.824738|   2725| -9.144717|  2725_0_2|  2725_0|            SCHEDULED|        1320| 9.722222| 070496|2024-11-22 20:33:29|2725_0_2|1|1|2010...|20241122|        []|2725|[Parque das Naçõe...|             1106|         11|       Lisboa|1106|Lisboa|    06|    PT170|        AML|\n",
            "|    339|             1034-11| IN_TRANSIT_TO| 42|2101|38.781906|   2725| -9.104357|  2725_0_1|  2725_0|            SCHEDULED|        1270|      0.0| 071315|2024-11-22 20:33:28|2725_0_1|1|1|2020...|20241122|        []|2725|[Parque das Naçõe...|             1106|         11|       Lisboa|1106|Lisboa|    06|    PT170|        AML|\n",
            "|    170|             1125-11| IN_TRANSIT_TO| 42|2302|38.813087|   2722| -9.100345|  2722_1_2|  2722_1|            SCHEDULED|        1307|     10.0| 071249|2024-11-22 20:33:15|2722_1_2|1|1|2010...|20241122|        []|2722|[Areeiro, Lisboa,...|             1106|         11|       Lisboa|1106|Lisboa|    06|    PT170|        AML|\n",
            "|      0|             1144-11|    STOPPED_AT| 42|2403| 38.84445|   2722| -9.080726|  2722_0_2|  2722_0|            SCHEDULED|        1223|      0.0| 071451|2024-11-22 20:33:35|2722_0_2|1|1|2040...|20241122|        []|2722|[Areeiro, Lisboa,...|             1106|         11|       Lisboa|1106|Lisboa|    06|    PT170|        AML|\n",
            "|     80|             1157-11| IN_TRANSIT_TO| 42|2308|38.782726|   2722| -9.124824|  2722_1_1|  2722_1|            SCHEDULED|        1258|10.277778| 060153|2024-11-22 20:33:45|2722_1_1|1|1|2015...|20241122|        []|2722|[Areeiro, Lisboa,...|             1106|         11|       Lisboa|1106|Lisboa|    06|    PT170|        AML|\n",
            "|    167|             1165-11|   INCOMING_AT| 42|2401|38.844482|   2722| -9.084811|  2722_0_1|  2722_0|            SCHEDULED|        1242|5.8333335| 070714|2024-11-22 20:33:42|2722_0_1|1|1|1945...|20241122|        []|2722|[Areeiro, Lisboa,...|             1106|         11|       Lisboa|1106|Lisboa|    06|    PT170|        AML|\n",
            "|    184|             1722-11|   INCOMING_AT| 42|2752|38.803047|   2764| -9.157676|  2764_0_1|  2764_0|            SCHEDULED| 1737P2+1787|     10.0| 071137|2024-11-22 20:33:40|2764_0_1|1|1|2000...|20241122|        []|2764|[Loures, Bucelas,...|             1106|         11|       Lisboa|1106|Lisboa|    06|    PT170|        AML|\n",
            "|    323|             1738-11| IN_TRANSIT_TO| 42|2757| 38.82826|   2764| -9.164585|  2764_0_2|  2764_0|            SCHEDULED|        1790|3.0555556| 070037|2024-11-22 20:32:42|2764_0_2|1|1|2000...|20241122|        []|2764|[Loures, Bucelas,...|             1106|         11|       Lisboa|1106|Lisboa|    06|    PT170|        AML|\n",
            "|    232|             1747-11|   INCOMING_AT| 42|2589| 38.75949|   2764| -9.156847|  2764_0_1|  2764_0|            SCHEDULED|        1730|1.9444444| 061200|2024-11-22 20:32:54|2764_0_1|1|1|1630...|20241122|        []|2764|[Loures, Bucelas,...|             1106|         11|       Lisboa|1106|Lisboa|    06|    PT170|        AML|\n",
            "|      0|             1758-11|    STOPPED_AT| 42|2505| 38.83091|   2764| -9.168067|  2764_0_2|  2764_0|            SCHEDULED|        1784|      0.0| 070037|2024-11-22 20:33:36|2764_0_2|1|1|1930...|20241122|        []|2764|[Loures, Bucelas,...|             1106|         11|       Lisboa|1106|Lisboa|    06|    PT170|        AML|\n",
            "|      0|                1111| IN_TRANSIT_TO| 42|1111|38.908836|   2755| -9.217184|  2755_0_1|  2755_0|            SCHEDULED|       44362|      0.0| 071557|2024-11-22 20:33:00|2755_0_1|150|1|19...|20241122|        []|2755|[Campo Grande, Od...|             1106|         11|       Lisboa|1106|Lisboa|    06|    PT170|        AML|\n",
            "+-------+--------------------+--------------+--------+---------+-------+----------+----------+--------+---------------------+------------+---------+-------+-------------------+--------------------+--------+----------+----+--------------------+-----------------+-----------+-------------+----+------+------+---------+-----------+\n",
            "only showing top 20 rows\n",
            "\n"
          ]
        }
      ]
    },
    {
      "cell_type": "code",
      "source": [
        "data = vehicles_enriched.groupBy(\"name\").agg(\n",
        "      count_distinct(\"line_id\").alias(\"count_line_ids\")\n",
        "    , round(sum(\"speed\"),2).alias(\"sum_speed\")\n",
        ")"
      ],
      "metadata": {
        "id": "WJT1rECWlvn7"
      },
      "execution_count": 176,
      "outputs": []
    },
    {
      "cell_type": "markdown",
      "source": [
        "What are the top 3 municipalities by vehicles routes?\n",
        "\n",
        "**Lisboa, Sintra e Loures**"
      ],
      "metadata": {
        "id": "ReNnHtFG04y-"
      }
    },
    {
      "cell_type": "code",
      "source": [
        "data.sort(data.count_line_ids.desc()).limit(3).show()"
      ],
      "metadata": {
        "colab": {
          "base_uri": "https://localhost:8080/"
        },
        "id": "wW4UaRS0mK8x",
        "outputId": "3ef560cf-ec9a-443a-eb74-b2b47a623d51"
      },
      "execution_count": 160,
      "outputs": [
        {
          "output_type": "stream",
          "name": "stdout",
          "text": [
            "+------+--------------+---------+\n",
            "|  name|count_line_ids|sum_speed|\n",
            "+------+--------------+---------+\n",
            "|Lisboa|            89|  1433.89|\n",
            "|Sintra|            72|   817.22|\n",
            "|Loures|            61|   645.28|\n",
            "+------+--------------+---------+\n",
            "\n"
          ]
        }
      ]
    },
    {
      "cell_type": "markdown",
      "source": [
        "What are the top 3 municipalities with higher speed on average?\n",
        "\n",
        "**Montijo, Moita e Alenquer**"
      ],
      "metadata": {
        "id": "QkcOLgUW1Shv"
      }
    },
    {
      "cell_type": "code",
      "source": [
        "data.withColumn(\n",
        "    \"average_speed\",\n",
        "    round((col(\"sum_speed\") / col(\"count_line_ids\")),2)\n",
        ").orderBy(\n",
        "    col(\"average_speed\").desc()\n",
        ").limit(3).show()"
      ],
      "metadata": {
        "colab": {
          "base_uri": "https://localhost:8080/"
        },
        "id": "-aqvJmjm0pSW",
        "outputId": "73a527dd-bcb8-421c-d68a-f104e87cac22"
      },
      "execution_count": 173,
      "outputs": [
        {
          "output_type": "stream",
          "name": "stdout",
          "text": [
            "+--------+--------------+---------+-------------+\n",
            "|    name|count_line_ids|sum_speed|average_speed|\n",
            "+--------+--------------+---------+-------------+\n",
            "| Montijo|             6|   169.44|        28.24|\n",
            "|   Moita|             7|   167.78|        23.97|\n",
            "|Alenquer|             1|    23.89|        23.89|\n",
            "+--------+--------------+---------+-------------+\n",
            "\n"
          ]
        }
      ]
    }
  ],
  "metadata": {
    "colab": {
      "provenance": [],
      "include_colab_link": true
    },
    "kernelspec": {
      "display_name": "Python 3",
      "name": "python3"
    },
    "language_info": {
      "name": "python"
    }
  },
  "nbformat": 4,
  "nbformat_minor": 0
}