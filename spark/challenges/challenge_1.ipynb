{
  "cells": [
    {
      "cell_type": "markdown",
      "metadata": {
        "id": "view-in-github",
        "colab_type": "text"
      },
      "source": [
        "<a href=\"https://colab.research.google.com/github/carsofferrei/04_data_processing/blob/main/spark/challenges/challenge_1.ipynb\" target=\"_parent\"><img src=\"https://colab.research.google.com/assets/colab-badge.svg\" alt=\"Open In Colab\"/></a>"
      ]
    },
    {
      "cell_type": "markdown",
      "metadata": {
        "id": "BOA_wQSmLd9z"
      },
      "source": [
        "# CHALLENGE 1\n",
        "##  Implement INGESTION process\n",
        "- Set up path in the \"lake\"\n",
        "  - !mkdir -p /content/lake/bronze\n",
        "\n",
        "- Read data from API https://api.carrismetropolitana.pt/\n",
        "  - Endpoints:\n",
        "    - vehicles\n",
        "    - lines\n",
        "    - municipalities\n",
        "  - Use StructFields to enforce schema\n",
        "\n",
        "- Transformations\n",
        "  - vehicles\n",
        "    - create \"date\" extracted from \"timestamp\" column (format: hh24miss)\n",
        "\n",
        "- Write data as PARQUET into the BRONZE layer (/content/lake/bronze)\n",
        "  - Partition \"vehicles\" by \"date\" column\n",
        "  - Paths:\n",
        "    - vehicles - path: /content/lake/bronze/vehicles\n",
        "    - lines - path: /content/lake/bronze/lines\n",
        "    - municipalities - path: /content/lake/bronze/municipalities\n",
        "  - Make sure there is only 1 single parquet created\n",
        "  - Use overwrite as write mode"
      ]
    },
    {
      "cell_type": "markdown",
      "metadata": {
        "id": "d9LeYFsPTjAb"
      },
      "source": [
        "# Setting up PySpark"
      ]
    },
    {
      "cell_type": "code",
      "execution_count": 1,
      "metadata": {
        "colab": {
          "base_uri": "https://localhost:8080/"
        },
        "id": "uYXeODL0T1fO",
        "outputId": "f6fbb466-15f6-4a93-ed4f-3fa6f5171019"
      },
      "outputs": [
        {
          "output_type": "stream",
          "name": "stdout",
          "text": [
            "Requirement already satisfied: pyspark in /usr/local/lib/python3.10/dist-packages (3.5.3)\n",
            "Requirement already satisfied: py4j==0.10.9.7 in /usr/local/lib/python3.10/dist-packages (from pyspark) (0.10.9.7)\n"
          ]
        }
      ],
      "source": [
        "%pip install pyspark"
      ]
    },
    {
      "cell_type": "code",
      "source": [
        "# Import SparkSession\n",
        "\n",
        "from pyspark.sql import SparkSession\n",
        "spark = SparkSession.builder.master('local').appName('Carla_Ferreira_API_challenge').config('spark.ui.port', '4050').getOrCreate()\n",
        "sc = spark.sparkContext"
      ],
      "metadata": {
        "id": "KCW7ptFOsV25"
      },
      "execution_count": 2,
      "outputs": []
    },
    {
      "cell_type": "code",
      "source": [
        "import requests\n",
        "from pyspark.sql.types import *\n",
        "\n",
        "def readFromAPI(url: str, schema: StructType = None):\n",
        "  response = requests.get(url)\n",
        "  rdd = sc.parallelize(response.json())\n",
        "\n",
        "  if schema:\n",
        "    df = spark.read.schema(schema).json(rdd)\n",
        "  else:\n",
        "    df = spark.read.json(rdd)\n",
        "  return df"
      ],
      "metadata": {
        "id": "lv3fhVbEskQ3"
      },
      "execution_count": 3,
      "outputs": []
    },
    {
      "cell_type": "code",
      "source": [
        "#Schemas\n",
        "vehicle_schema = StructType([StructField('bearing', IntegerType(), True),\n",
        "                             StructField('block_id', StringType(), True),\n",
        "                             StructField('current_status', StringType(), True),\n",
        "                             StructField('id', StringType(), True),\n",
        "                             StructField('lat', FloatType(), True),\n",
        "                             StructField('line_id', StringType(), True),\n",
        "                             StructField('lon', FloatType(), True),\n",
        "                             StructField('pattern_id', StringType(), True),\n",
        "                             StructField('route_id', StringType(), True),\n",
        "                             StructField('schedule_relationship', StringType(), True),\n",
        "                             StructField('shift_id', StringType(), True),\n",
        "                             StructField('speed', FloatType(), True),\n",
        "                             StructField('stop_id', StringType(), True),\n",
        "                             StructField('timestamp', TimestampType(), True),\n",
        "                             StructField('trip_id', StringType(), True)\n",
        "                             ])\n",
        "\n",
        "\n",
        "lines_schema = StructType([StructField('_corrupt_record', StringType(), True),\n",
        "                           StructField('color', StringType(), True),\n",
        "                           StructField('facilities', StringType(), True),\n",
        "                           StructField('id', StringType(), True),\n",
        "                           StructField('localities', StringType(), True),\n",
        "                           StructField('long_name', StringType(), True),\n",
        "                           StructField('municipalities', StringType(), True),\n",
        "                           StructField('patterns', StringType(), True),\n",
        "                           StructField('routes', StringType(), True),\n",
        "                           StructField('short_name', StringType(), True),\n",
        "                           StructField('text_color', StringType(), True)\n",
        "                           ])\n",
        "\n",
        "municipalities_schema = StructType([StructField('district_id', StringType(), True),\n",
        "                                    StructField('district_name', StringType(), True),\n",
        "                                    StructField('id', StringType(), True),\n",
        "                                    StructField('name', StringType(), True),\n",
        "                                    StructField('prefix', StringType(), True),\n",
        "                                    StructField('region_id', StringType(), True),\n",
        "                                    StructField('region_name', StringType(), True)\n",
        "                                    ])"
      ],
      "metadata": {
        "id": "1HJlN4hgOvl0"
      },
      "execution_count": null,
      "outputs": []
    },
    {
      "cell_type": "code",
      "source": [
        "#vehicles = readFromAPI(\"https://api.carrismetropolitana.pt/vehicles\")\n",
        "#lines = readFromAPI(\"https://api.carrismetropolitana.pt/lines\")\n",
        "municipalities = readFromAPI(\"https://api.carrismetropolitana.pt/municipalities\")\n",
        "\n",
        "municipalities.show()"
      ],
      "metadata": {
        "colab": {
          "base_uri": "https://localhost:8080/"
        },
        "id": "R4E9v8rMsu3n",
        "outputId": "c4133026-2193-4815-d8e5-425f636b8064"
      },
      "execution_count": 6,
      "outputs": [
        {
          "output_type": "stream",
          "name": "stdout",
          "text": [
            "+-----------+-------------+----+--------------------+------+---------+----------------+\n",
            "|district_id|district_name|  id|                name|prefix|region_id|     region_name|\n",
            "+-----------+-------------+----+--------------------+------+---------+----------------+\n",
            "|         07|        Évora|0712|        Vendas Novas|    19|    PT187|Alentejo Central|\n",
            "|         11|       Lisboa|1101|            Alenquer|    20|    PT16B|           Oeste|\n",
            "|         11|       Lisboa|1102|   Arruda dos Vinhos|    20|    PT16B|           Oeste|\n",
            "|         11|       Lisboa|1105|             Cascais|    05|    PT170|             AML|\n",
            "|         11|       Lisboa|1106|              Lisboa|    06|    PT170|             AML|\n",
            "|         11|       Lisboa|1107|              Loures|    07|    PT170|             AML|\n",
            "|         11|       Lisboa|1109|               Mafra|    08|    PT170|             AML|\n",
            "|         11|       Lisboa|1110|              Oeiras|    12|    PT170|             AML|\n",
            "|         11|       Lisboa|1111|              Sintra|    17|    PT170|             AML|\n",
            "|         11|       Lisboa|1112|Sobral de Monte A...|    20|    PT16B|           Oeste|\n",
            "|         11|       Lisboa|1113|       Torres Vedras|    20|    PT16B|           Oeste|\n",
            "|         11|       Lisboa|1114| Vila Franca de Xira|    18|    PT170|             AML|\n",
            "|         11|       Lisboa|1115|             Amadora|    03|    PT170|             AML|\n",
            "|         11|       Lisboa|1116|            Odivelas|    11|    PT170|             AML|\n",
            "|         15|      Setúbal|1502|           Alcochete|    01|    PT170|             AML|\n",
            "|         15|      Setúbal|1503|              Almada|    02|    PT170|             AML|\n",
            "|         15|      Setúbal|1504|            Barreiro|    04|    PT170|             AML|\n",
            "|         15|      Setúbal|1506|               Moita|    09|    PT170|             AML|\n",
            "|         15|      Setúbal|1507|             Montijo|    10|    PT170|             AML|\n",
            "|         15|      Setúbal|1508|             Palmela|    13|    PT170|             AML|\n",
            "+-----------+-------------+----+--------------------+------+---------+----------------+\n",
            "only showing top 20 rows\n",
            "\n"
          ]
        }
      ]
    }
  ],
  "metadata": {
    "colab": {
      "provenance": [],
      "include_colab_link": true
    },
    "kernelspec": {
      "display_name": "Python 3",
      "name": "python3"
    },
    "language_info": {
      "name": "python"
    }
  },
  "nbformat": 4,
  "nbformat_minor": 0
}