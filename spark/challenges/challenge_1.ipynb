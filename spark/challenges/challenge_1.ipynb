{
  "cells": [
    {
      "cell_type": "markdown",
      "metadata": {
        "id": "view-in-github",
        "colab_type": "text"
      },
      "source": [
        "<a href=\"https://colab.research.google.com/github/carsofferrei/04_data_processing/blob/main/spark/challenges/challenge_1.ipynb\" target=\"_parent\"><img src=\"https://colab.research.google.com/assets/colab-badge.svg\" alt=\"Open In Colab\"/></a>"
      ]
    },
    {
      "cell_type": "markdown",
      "metadata": {
        "id": "BOA_wQSmLd9z"
      },
      "source": [
        "# CHALLENGE 1\n",
        "##  Implement INGESTION process\n",
        "- Set up path in the \"lake\"\n",
        "  - !mkdir -p /content/lake/bronze\n",
        "\n",
        "- Read data from API https://api.carrismetropolitana.pt/\n",
        "  - Endpoints:\n",
        "    - vehicles\n",
        "    - lines\n",
        "    - municipalities\n",
        "  - Use StructFields to enforce schema\n",
        "\n",
        "- Transformations\n",
        "  - vehicles\n",
        "    - create \"date\" extracted from \"timestamp\" column (format: hh24miss)\n",
        "\n",
        "- Write data as PARQUET into the BRONZE layer (/content/lake/bronze)\n",
        "  - Partition \"vehicles\" by \"date\" column\n",
        "  - Paths:\n",
        "    - vehicles - path: /content/lake/bronze/vehicles\n",
        "    - lines - path: /content/lake/bronze/lines\n",
        "    - municipalities - path: /content/lake/bronze/municipalities\n",
        "  - Make sure there is only 1 single parquet created\n",
        "  - Use overwrite as write mode"
      ]
    },
    {
      "cell_type": "markdown",
      "metadata": {
        "id": "d9LeYFsPTjAb"
      },
      "source": [
        "# Setting up PySpark"
      ]
    },
    {
      "cell_type": "code",
      "execution_count": 1,
      "metadata": {
        "colab": {
          "base_uri": "https://localhost:8080/"
        },
        "id": "uYXeODL0T1fO",
        "outputId": "f551a71a-a0ae-4456-c7e5-01671aa4b0e2"
      },
      "outputs": [
        {
          "output_type": "stream",
          "name": "stdout",
          "text": [
            "Requirement already satisfied: pyspark in /usr/local/lib/python3.10/dist-packages (3.5.3)\n",
            "Requirement already satisfied: py4j==0.10.9.7 in /usr/local/lib/python3.10/dist-packages (from pyspark) (0.10.9.7)\n"
          ]
        }
      ],
      "source": [
        "%pip install pyspark"
      ]
    },
    {
      "cell_type": "code",
      "source": [
        "# Import SparkSession\n",
        "\n",
        "from pyspark.sql import SparkSession\n",
        "spark = SparkSession.builder.master('local').appName('Carla_Ferreira_API_challenge').config('spark.ui.port', '4050').getOrCreate()\n",
        "sc = spark.sparkContext"
      ],
      "metadata": {
        "id": "KCW7ptFOsV25"
      },
      "execution_count": 2,
      "outputs": []
    },
    {
      "cell_type": "code",
      "source": [
        "import requests\n",
        "from pyspark.sql.types import *\n",
        "\n",
        "def readFromAPI(url: str, schema: StructType = None):\n",
        "  response = requests.get(url)\n",
        "  rdd = sc.parallelize(response.json())\n",
        "\n",
        "  if schema:\n",
        "    df = spark.read.schema(schema).json(rdd)\n",
        "  else:\n",
        "    df = spark.read.json(rdd)\n",
        "  return df"
      ],
      "metadata": {
        "id": "lv3fhVbEskQ3"
      },
      "execution_count": 3,
      "outputs": []
    },
    {
      "cell_type": "code",
      "source": [
        "#Schemas\n",
        "vehicle_schema = StructType([StructField('bearing', IntegerType(), True),\n",
        "                             StructField('block_id', StringType(), True),\n",
        "                             StructField('current_status', StringType(), True),\n",
        "                             StructField('id', StringType(), True),\n",
        "                             StructField('lat', FloatType(), True),\n",
        "                             StructField('line_id', StringType(), True),\n",
        "                             StructField('lon', FloatType(), True),\n",
        "                             StructField('pattern_id', StringType(), True),\n",
        "                             StructField('route_id', StringType(), True),\n",
        "                             StructField('schedule_relationship', StringType(), True),\n",
        "                             StructField('shift_id', StringType(), True),\n",
        "                             StructField('speed', FloatType(), True),\n",
        "                             StructField('stop_id', StringType(), True),\n",
        "                             StructField('timestamp', TimestampType(), True),\n",
        "                             StructField('trip_id', StringType(), True)\n",
        "                             ])\n",
        "\n",
        "\n",
        "lines_schema = StructType([StructField('_corrupt_record', StringType(), True),\n",
        "                           StructField('color', StringType(), True),\n",
        "                           StructField('facilities', StringType(), True),\n",
        "                           StructField('id', StringType(), True),\n",
        "                           StructField('localities', ArrayType(StringType()), True),\n",
        "                           StructField('long_name', StringType(), True),\n",
        "                           StructField('municipalities', ArrayType(StringType()), True),\n",
        "                           StructField('patterns', ArrayType(StringType()), True),\n",
        "                           StructField('routes', StringType(), True),\n",
        "                           StructField('short_name', StringType(), True),\n",
        "                           StructField('text_color', StringType(), True)\n",
        "                           ])\n",
        "\n",
        "municipalities_schema = StructType([StructField('district_id', StringType(), True),\n",
        "                                    StructField('district_name', StringType(), True),\n",
        "                                    StructField('id', StringType(), True),\n",
        "                                    StructField('name', StringType(), True),\n",
        "                                    StructField('prefix', StringType(), True),\n",
        "                                    StructField('region_id', StringType(), True),\n",
        "                                    StructField('region_name', StringType(), True)\n",
        "                                    ])"
      ],
      "metadata": {
        "id": "1HJlN4hgOvl0"
      },
      "execution_count": 4,
      "outputs": []
    },
    {
      "cell_type": "code",
      "source": [
        "vehicles = readFromAPI(\"https://api.carrismetropolitana.pt/vehicles\", schema = vehicle_schema)\n",
        "lines = readFromAPI(\"https://api.carrismetropolitana.pt/lines\", schema = lines_schema)\n",
        "municipalities = readFromAPI(\"https://api.carrismetropolitana.pt/municipalities\", schema = municipalities_schema)"
      ],
      "metadata": {
        "id": "R4E9v8rMsu3n"
      },
      "execution_count": 5,
      "outputs": []
    },
    {
      "cell_type": "code",
      "source": [
        "# create \"date\" extracted from \"timestamp\" column (format: hh24miss) -- this format doesnt make sense, the correct is yyyyMMdd\n",
        "from pyspark.sql.functions import date_format\n",
        "vehicles = vehicles.withColumn(\"date\", date_format('timestamp', \"HHmmss\"))\n",
        "\n",
        "vehicles.show()"
      ],
      "metadata": {
        "colab": {
          "base_uri": "https://localhost:8080/"
        },
        "id": "lWmvyntFR_MW",
        "outputId": "0394185b-e46c-4f56-afc8-2b70cc94a149"
      },
      "execution_count": 9,
      "outputs": [
        {
          "output_type": "stream",
          "name": "stdout",
          "text": [
            "+-------+--------------------+--------------+--------+---------+-------+---------+----------+--------+---------------------+------------+---------+-------+-------------------+--------------------+------+\n",
            "|bearing|            block_id|current_status|      id|      lat|line_id|      lon|pattern_id|route_id|schedule_relationship|    shift_id|    speed|stop_id|          timestamp|             trip_id|  date|\n",
            "+-------+--------------------+--------------+--------+---------+-------+---------+----------+--------+---------------------+------------+---------+-------+-------------------+--------------------+------+\n",
            "|     43|20241122-64010129...| IN_TRANSIT_TO|44|12069|38.754467|   4504|-8.956079|  4504_0_1|  4504_0|            SCHEDULED|121180234560|5.5555553| 010141|2024-11-22 19:54:23|4504_0_1|2200|190...|195423|\n",
            "|    246|20241122-64010421...| IN_TRANSIT_TO|44|12097|38.650024|   4611|-8.992461|  4611_0_2|  4611_0|            SCHEDULED|121430234560|7.2222223| 090097|2024-11-22 19:54:21|4611_0_2|2200|194...|195421|\n",
            "|     42|20241122-64010186...| IN_TRANSIT_TO|44|12083| 38.52437|   4437|-8.813162|  4437_0_2|  4437_0|            SCHEDULED|112620234560|11.111111| 160683|2024-11-22 19:54:21|4437_0_2|2200|193...|195421|\n",
            "|     43|20241122-64010194...|   INCOMING_AT|44|12086| 38.52927|   4437|-8.886184|  4437_0_1|  4437_0|            SCHEDULED|112560000060|5.5555553| 162003|2024-11-22 19:53:31|4437_0_1|2200|193...|195331|\n",
            "|    131|20241122-64010166...| IN_TRANSIT_TO|44|12708| 38.74197|   4730|-9.164396|  4730_0_1|  4730_0|            SCHEDULED|113170234560|10.277778| 060017|2024-11-22 19:54:21|4730_0_1|2200|193...|195421|\n",
            "|    208|20241122-64010070...| IN_TRANSIT_TO|44|12589|38.712692|   4521|-8.748468|  4521_0_2|  4521_0|            SCHEDULED|121730234560|1.9444444| 130509|2024-11-22 19:54:25|4521_0_2|2200|182...|195425|\n",
            "|      0|20241122-64010196...| IN_TRANSIT_TO|44|12507|38.522896|   4551|-8.892874|  4551_0_2|  4551_0|            SCHEDULED|112540234560|      0.0| 160101|2024-11-22 19:54:22|4551_0_2|2200|200...|195422|\n",
            "|    275|20241122-64010014...| IN_TRANSIT_TO|44|12740|38.653103|   4701|-9.022683|  4701_0_1|  4701_0|            SCHEDULED|123340234560| 9.722222| 090261|2024-11-22 19:54:21|4701_0_1|2200|185...|195421|\n",
            "|     67|20241122-64010086...| IN_TRANSIT_TO|44|12528| 38.75014|   4514|-8.662078|  4514_3_2|  4514_3|            SCHEDULED|121590234560| 18.61111| 100258|2024-11-22 19:54:14|4514_3_2|2200|183...|195414|\n",
            "|     90|20241122-64010566...| IN_TRANSIT_TO|44|12700|38.768578|   4706| -9.10307|  4706_0_1|  4706_0|            SCHEDULED|123540234560|0.8333333| 060002|2024-11-22 19:54:20|4706_0_1|2200|184...|195420|\n",
            "|     33|20241122-64010064...| IN_TRANSIT_TO|44|12714|38.640854|   4604|-9.005571|  4604_0_1|  4604_0|            SCHEDULED|121790234560|6.6666665| 090280|2024-11-22 19:54:21|4604_0_1|2200|192...|195421|\n",
            "|     58|           1_1729-11| IN_TRANSIT_TO| 41|1236|38.778545|   1251| -9.34189|  1251_0_1|  1251_0|            SCHEDULED|        1816|      7.5| 170053|2024-11-22 19:54:25|1251_0_1_1900_192...|195425|\n",
            "|    353|20241122-64010055...| IN_TRANSIT_TO|44|12531| 38.63472|   4513|-8.914547|  4513_0_2|  4513_0|            SCHEDULED|121880234560|      0.0| 130450|2024-11-22 19:54:23|4513_0_2|2200|193...|195423|\n",
            "|    193|20241122-64010229...| IN_TRANSIT_TO|44|12087| 38.52789|   4422|-8.889847|  4422_0_1|  4422_0|            SCHEDULED|112220234560| 6.111111| 160123|2024-11-22 19:54:23|4422_0_1|2200|193...|195423|\n",
            "|    183|20241122-64010153...| IN_TRANSIT_TO|44|13699|38.767708|   4720|  -9.1004|  4720_0_1|  4720_0|            SCHEDULED|113280234560|      0.0| 060011|2024-11-22 19:54:22|4720_0_1|2200|193...|195422|\n",
            "|     47|20241122-64010283...|   INCOMING_AT|44|12631| 38.52936|   4432| -8.88597|  4432_0_2|  4432_0|            SCHEDULED|111400234560|5.5555553| 162004|2024-11-22 19:53:40|4432_0_2|2200|192...|195340|\n",
            "|     82|20241122-64010005...|    STOPPED_AT|44|12671|38.709564|   4705|-8.981258|  4705_0_2|  4705_0|            SCHEDULED|123490234560|      0.0| 100091|2024-11-22 19:54:32|4705_0_2|2200|193...|195432|\n",
            "|     21|20241122-64010231...| IN_TRANSIT_TO|44|12064| 38.52997|   4403|-8.885872|  4403_0_2|  4403_0|            SCHEDULED|112200234560|      0.0| 160111|2024-11-22 19:54:23|4403_0_2|2200|194...|195423|\n",
            "|     42|20241122-64010049...| IN_TRANSIT_TO|44|12520|  38.7077|   4512|-8.972357|  4512_0_2|  4512_0|            SCHEDULED|121940234560|      5.0| 100019|2024-11-22 19:54:23|4512_0_2|2200|183...|195423|\n",
            "|    232|20241122-64010108...|   INCOMING_AT|44|12530|38.711124|   4504|-8.919395|  4504_0_2|  4504_0|            SCHEDULED|121380234560|13.333333| 010111|2024-11-22 19:54:27|4504_0_2|2200|193...|195427|\n",
            "+-------+--------------------+--------------+--------+---------+-------+---------+----------+--------+---------------------+------------+---------+-------+-------------------+--------------------+------+\n",
            "only showing top 20 rows\n",
            "\n"
          ]
        }
      ]
    },
    {
      "cell_type": "code",
      "source": [
        "from pyspark.sql import functions as F\n",
        "\n",
        "vehicles.select(\"date\").distinct().agg(F.min(\"date\").alias(\"min_date\")).show()\n",
        "vehicles.select(\"date\").distinct().agg(F.max(\"date\").alias(\"max_date\")).show()\n",
        "\n",
        "# there's only one day in this file."
      ],
      "metadata": {
        "colab": {
          "base_uri": "https://localhost:8080/"
        },
        "id": "cjiItiw-WtDe",
        "outputId": "8061567c-201c-4c2f-ad9f-1de24133a430"
      },
      "execution_count": 10,
      "outputs": [
        {
          "output_type": "stream",
          "name": "stdout",
          "text": [
            "+--------+\n",
            "|min_date|\n",
            "+--------+\n",
            "|  195305|\n",
            "+--------+\n",
            "\n",
            "+--------+\n",
            "|max_date|\n",
            "+--------+\n",
            "|  195434|\n",
            "+--------+\n",
            "\n"
          ]
        }
      ]
    },
    {
      "cell_type": "markdown",
      "source": [
        "Write data as PARQUET into the BRONZE layer (/content/lake/bronze)\n",
        "\n",
        "*   Partition \"vehicles\" by \"date\" column\n",
        "*   Paths: /content/lake/bronze/vehicles, /content/lake/bronze/lines\n",
        ", /content/lake/bronze/municipalities\n",
        "\n",
        "Make sure there is only 1 single parquet created /\n",
        "Use overwrite as write mode"
      ],
      "metadata": {
        "id": "o8kPFFtKU6P8"
      }
    },
    {
      "cell_type": "markdown",
      "source": [
        "Declare the directory to write the data that came from API carrismetropolitana"
      ],
      "metadata": {
        "id": "S9PXODmNQlF4"
      }
    },
    {
      "cell_type": "code",
      "source": [
        "!mkdir -p /content/lake/bronze\n",
        "\n",
        "path_vehicles = \"/content/lake/bronze/vehicles\"\n",
        "path_lines = \"/content/lake/bronze/lines\"\n",
        "path_municipalities = \"/content/lake/bronze/municipalities\""
      ],
      "metadata": {
        "id": "iU_dlCvkQkhr"
      },
      "execution_count": 11,
      "outputs": []
    },
    {
      "cell_type": "code",
      "source": [
        "(vehicles\n",
        ".coalesce(1)\n",
        ".write\n",
        ".mode(\"overwrite\")\n",
        ".partitionBy(\"date\")\n",
        ".format(\"parquet\")\n",
        ".save(path_vehicles)\n",
        ")\n",
        "\n",
        "\n",
        "(lines\n",
        ".write\n",
        ".mode(\"overwrite\")\n",
        ".format(\"parquet\")\n",
        ".save(path_lines)\n",
        ")\n",
        "\n",
        "\n",
        "(municipalities\n",
        ".write\n",
        ".mode(\"overwrite\")\n",
        ".format(\"parquet\")\n",
        ".save(path_municipalities)\n",
        ")"
      ],
      "metadata": {
        "id": "RUow9UvrUL1v"
      },
      "execution_count": 12,
      "outputs": []
    },
    {
      "cell_type": "markdown",
      "source": [
        "# CHALLENGE 2\n",
        "##  Implement CLEANSING process\n",
        "- Set up path in the \"lake\"\n",
        "  - !mkdir -p /content/lake/silver\n",
        "\n",
        "- Read data from BRONZE layer as PARQUET:\n",
        "    - vehicles - path: /content/lake/bronze/vehicles\n",
        "    - lines - path: /content/lake/bronze/lines\n",
        "    - municipalities - path: /content/lake/bronze/municipalities\n",
        "\n",
        "- Transformations\n",
        "  - vehicles\n",
        "    - rename \"lat\" and \"lon\" to \"latitude\" and \"longitude\" respectively\n",
        "    - remove possible duplicates\n",
        "    - remove rows when the column CURRENT_STATUS is null\n",
        "    - remove any corrupted record\n",
        "  - lines\n",
        "    - remove duplicates\n",
        "    - remove rows when the column LONG_NAME is null\n",
        "    - remove any corrupted record\n",
        "  - municipalities\n",
        "    - remove duplicates\n",
        "    - remove rows when the columns NAME or DISTRICT_NAME are null\n",
        "    - remove any corrupted record\n",
        "\n",
        "- Write data as PARQUET into the SILVER layer (/content/lake/silver)\n",
        "  - Partition \"vehicles\" by \"date\"(created in the ingestion)\n",
        "  - Paths:\n",
        "    - vehicles - path: /content/lake/silver/vehicles\n",
        "    - lines - path: /content/lake/silver/lines\n",
        "    - municipalities - path: /content/lake/silver/municipalities"
      ],
      "metadata": {
        "id": "hWFaXrPgcL1X"
      }
    },
    {
      "cell_type": "code",
      "source": [
        "vehicles = spark.read.parquet(\"/content/lake/bronze/vehicles\", schema = vehicle_schema)"
      ],
      "metadata": {
        "id": "1QktKE37cEE6"
      },
      "execution_count": 13,
      "outputs": []
    },
    {
      "cell_type": "code",
      "source": [
        "lines = spark.read.parquet(\"/content/lake/bronze/lines\", schema = lines_schema)"
      ],
      "metadata": {
        "id": "qhfNgrt4lb3I"
      },
      "execution_count": 14,
      "outputs": []
    },
    {
      "cell_type": "code",
      "source": [
        "municipalities = spark.read.parquet(\"/content/lake/bronze/municipalities\", schema = municipalities_schema)"
      ],
      "metadata": {
        "id": "J12-5awTldp7"
      },
      "execution_count": 15,
      "outputs": []
    },
    {
      "cell_type": "code",
      "source": [
        "from pyspark.sql.functions import *\n",
        "\n",
        "# Vehicles\n",
        "# rename \"lat\" and \"lon\" to \"latitude\" and \"longitude\" respectively\n",
        "vehicles = vehicles.withColumnRenamed(\"lat\", \"latitude\").withColumnRenamed(\"lon\", \"longitude\")\n",
        "\n",
        "# remove possible duplicates\n",
        "vehicles = vehicles.drop_duplicates()\n",
        "# remove rows when the column CURRENT_STATUS is null\n",
        "vehicles = vehicles.filter(vehicles[\"current_status\"].isNotNull())\n",
        "# remove any corrupted record (????)"
      ],
      "metadata": {
        "id": "RagHE9U_cJgY"
      },
      "execution_count": 16,
      "outputs": []
    },
    {
      "cell_type": "code",
      "source": [
        "from pyspark.sql.functions import *\n",
        "\n",
        "# Lines\n",
        "# remove duplicates\n",
        "lines = lines.drop_duplicates()\n",
        "# remove rows when the column LONG_NAME is null\n",
        "lines = lines.filter(lines[\"long_name\"].isNotNull())\n",
        "# remove any corrupted record\n",
        "lines = lines.filter(lines[\"_corrupt_record\"].isNull())"
      ],
      "metadata": {
        "id": "Z9naexDYcM9p"
      },
      "execution_count": 20,
      "outputs": []
    },
    {
      "cell_type": "code",
      "source": [
        "# Municipalities\n",
        "# remove duplicates\n",
        "municipalities = municipalities.drop_duplicates()\n",
        "# remove rows when the columns NAME or DISTRICT_NAME are null\n",
        "municipalities = municipalities.filter(municipalities[\"name\"].isNotNull() & municipalities[\"district_name\"].isNotNull())\n",
        "# remove any corrupted record (???)"
      ],
      "metadata": {
        "id": "ybMMG-pUcP0W"
      },
      "execution_count": 21,
      "outputs": []
    },
    {
      "cell_type": "code",
      "source": [
        "!mkdir -p /content/lake/silver"
      ],
      "metadata": {
        "id": "YFYbcgiacXdi"
      },
      "execution_count": 69,
      "outputs": []
    },
    {
      "cell_type": "code",
      "source": [
        "path_vehicles = \"/content/lake/silver/vehicles\"\n",
        "path_lines = \"/content/lake/silver/lines\"\n",
        "path_municipalities = \"/content/lake/silver/municipalities\""
      ],
      "metadata": {
        "id": "wPOVuVsFcZ19"
      },
      "execution_count": 70,
      "outputs": []
    },
    {
      "cell_type": "code",
      "source": [
        "(vehicles\n",
        ".coalesce(1)\n",
        ".write\n",
        ".mode(\"overwrite\")\n",
        ".partitionBy(\"date\")\n",
        ".format(\"parquet\")\n",
        ".save(path_vehicles)\n",
        ")\n",
        "\n",
        "\n",
        "(lines\n",
        ".write\n",
        ".mode(\"overwrite\")\n",
        ".format(\"parquet\")\n",
        ".save(path_lines)\n",
        ")\n",
        "\n",
        "\n",
        "(municipalities\n",
        ".write\n",
        ".mode(\"overwrite\")\n",
        ".format(\"parquet\")\n",
        ".save(path_municipalities)\n",
        ")"
      ],
      "metadata": {
        "id": "j6OncVYacc35"
      },
      "execution_count": 71,
      "outputs": []
    },
    {
      "cell_type": "markdown",
      "source": [
        "# CHALLENGE 3\n",
        "##  Implement ENRICH process\n",
        "- Set up path in the \"lake\"\n",
        "  - !mkdir -p /content/lake/gold\n",
        "\n",
        "- Read data from SILVER layer\n",
        "  - Paths:\n",
        "    - vehicles - path: /content/lake/silver/vehicles\n",
        "    - lines - path: /content/lake/silver/lines\n",
        "    - municipalities - path: /content/lake/silver/municipalities\n",
        "  - Use StructFields to enforce schema\n",
        "\n",
        "- Enrichment\n",
        "  - Enrich vehicles dataset with information from the line and municipalities\n",
        "    - join vehicles with lines and municipalities\n",
        "      - select all columns from vehicles + lines.long_name (name: line_name, format:string) + municipalities.name (name: municipality_name, format: array)\n",
        "      - Note that \"municipalities.name\" is an array\n",
        "\n",
        "- Write data as PARQUET into the GOLD layer (/content/lake/gold)\n",
        "  - Dataset name: vehicles_enriched\n",
        "  - Partition \"vehicles_enriched\" by \"date\" column\n",
        "  - Paths:\n",
        "    - vehicles - path: /content/lake/gold/vehicles_enriched\n",
        "  - Make sure there is only 1 single parquet created\n",
        "  - Use overwrite as write mode"
      ],
      "metadata": {
        "id": "gdN5bL9Ccdk1"
      }
    },
    {
      "cell_type": "code",
      "source": [
        "vehicles = spark.read.parquet(\"/content/lake/silver/vehicles\", schema = vehicle_schema)"
      ],
      "metadata": {
        "id": "a6IHVIn3l38g"
      },
      "execution_count": 72,
      "outputs": []
    },
    {
      "cell_type": "code",
      "source": [
        "lines = spark.read.parquet(\"/content/lake/silver/lines\", schema = lines_schema)"
      ],
      "metadata": {
        "id": "PDti0gpQl7kt"
      },
      "execution_count": 73,
      "outputs": []
    },
    {
      "cell_type": "code",
      "source": [
        "municipalities = spark.read.parquet(\"/content/lake/silver/municipalities\", schema = municipalities_schema)"
      ],
      "metadata": {
        "id": "n_qGhJqpl8La"
      },
      "execution_count": 74,
      "outputs": []
    },
    {
      "cell_type": "code",
      "source": [
        "# Extract info from the array in municiples\n",
        "from pyspark.sql.functions import explode\n",
        "lines_treated = lines.select(\n",
        "    \"_corrupt_record\",\"facilities\",\"id\",\n",
        "    explode(lines.municipalities).alias(\"municipality\") , explode(lines.localities).alias(\"localities\")\n",
        ")"
      ],
      "metadata": {
        "id": "0A2ZkJYlcqg7"
      },
      "execution_count": 81,
      "outputs": []
    },
    {
      "cell_type": "code",
      "source": [
        "lines_treated.show()"
      ],
      "metadata": {
        "colab": {
          "base_uri": "https://localhost:8080/"
        },
        "id": "MtuaK76poeF2",
        "outputId": "527dd2ea-f8f9-4e00-bc3d-aa81709652c4"
      },
      "execution_count": 89,
      "outputs": [
        {
          "output_type": "stream",
          "name": "stdout",
          "text": [
            "+---------------+-------+----------+----+--------------------+--------------------+----------+----------+------------+--------------------+\n",
            "|_corrupt_record|  color|facilities|  id|            patterns|              routes|short_name|text_color|municipality|          localities|\n",
            "+---------------+-------+----------+----+--------------------+--------------------+----------+----------+------------+--------------------+\n",
            "|           NULL|#C61D23|        []|1517|[1517_0_1, 1517_0_2]|          [\"1517_0\"]|      1517|   #FFFFFF|        1115|             Amadora|\n",
            "|           NULL|#C61D23|        []|1517|[1517_0_1, 1517_0_2]|          [\"1517_0\"]|      1517|   #FFFFFF|        1115|     Casal de Cambra|\n",
            "|           NULL|#C61D23|        []|1517|[1517_0_1, 1517_0_2]|          [\"1517_0\"]|      1517|   #FFFFFF|        1115|              Sintra|\n",
            "|           NULL|#C61D23|        []|1517|[1517_0_1, 1517_0_2]|          [\"1517_0\"]|      1517|   #FFFFFF|        1115|Moinhos da Funcheira|\n",
            "|           NULL|#C61D23|        []|1517|[1517_0_1, 1517_0_2]|          [\"1517_0\"]|      1517|   #FFFFFF|        1115|           Reboleira|\n",
            "|           NULL|#C61D23|        []|1517|[1517_0_1, 1517_0_2]|          [\"1517_0\"]|      1517|   #FFFFFF|        1111|             Amadora|\n",
            "|           NULL|#C61D23|        []|1517|[1517_0_1, 1517_0_2]|          [\"1517_0\"]|      1517|   #FFFFFF|        1111|     Casal de Cambra|\n",
            "|           NULL|#C61D23|        []|1517|[1517_0_1, 1517_0_2]|          [\"1517_0\"]|      1517|   #FFFFFF|        1111|              Sintra|\n",
            "|           NULL|#C61D23|        []|1517|[1517_0_1, 1517_0_2]|          [\"1517_0\"]|      1517|   #FFFFFF|        1111|Moinhos da Funcheira|\n",
            "|           NULL|#C61D23|        []|1517|[1517_0_1, 1517_0_2]|          [\"1517_0\"]|      1517|   #FFFFFF|        1111|           Reboleira|\n",
            "|           NULL|#C61D23|        []|2127|          [2127_0_1]|          [\"2127_0\"]|      2127|   #FFFFFF|        1109|               Mafra|\n",
            "|           NULL|#C61D23|        []|4453|[4453_0_1, 4453_0_2]|          [\"4453_0\"]|      4453|   #FFFFFF|        1512|             Setúbal|\n",
            "|           NULL|#C61D23|        []|4453|[4453_0_1, 4453_0_2]|          [\"4453_0\"]|      4453|   #FFFFFF|        1512|      Praias do Sado|\n",
            "|           NULL|#C61D23|        []|4453|[4453_0_1, 4453_0_2]|          [\"4453_0\"]|      4453|   #FFFFFF|        1512|        Santo Ovídio|\n",
            "|           NULL|#C61D23|        []|4453|[4453_0_1, 4453_0_2]|          [\"4453_0\"]|      4453|   #FFFFFF|        1512|            Faralhão|\n",
            "|           NULL|#C61D23|        []|4453|[4453_0_1, 4453_0_2]|          [\"4453_0\"]|      4453|   #FFFFFF|        1512|         Sto. Ovídio|\n",
            "|           NULL|#C61D23|        []|4453|[4453_0_1, 4453_0_2]|          [\"4453_0\"]|      4453|   #FFFFFF|        1512| Alto da Estefanilha|\n",
            "|           NULL|#C61D23|        []|4453|[4453_0_1, 4453_0_2]|          [\"4453_0\"]|      4453|   #FFFFFF|        1512|             Mitrena|\n",
            "|           NULL|#C61D23|        []|4730|[4730_0_2, 4730_0...|[\"4730_0\",\"4730_1...|      4730|   #FFFFFF|        1512|             Setúbal|\n",
            "|           NULL|#C61D23|        []|4730|[4730_0_2, 4730_0...|[\"4730_0\",\"4730_1...|      4730|   #FFFFFF|        1512|   São Luís da Serra|\n",
            "+---------------+-------+----------+----+--------------------+--------------------+----------+----------+------------+--------------------+\n",
            "only showing top 20 rows\n",
            "\n"
          ]
        }
      ]
    },
    {
      "cell_type": "code",
      "source": [
        "vehicles_lines = vehicles.join(lines_treated, vehicles['line_id'] == lines_treated['id'], how = 'left')\n",
        "vehicles_enriched = vehicles_lines.join(municipalities, lines_treated['localities'] == municipalities['name'], how = 'left')"
      ],
      "metadata": {
        "id": "fwhQRWXweDX2"
      },
      "execution_count": 91,
      "outputs": []
    },
    {
      "cell_type": "code",
      "source": [
        "vehicles_enriched.show()"
      ],
      "metadata": {
        "colab": {
          "base_uri": "https://localhost:8080/"
        },
        "id": "UU6KYEqVwAOj",
        "outputId": "a288a354-f933-41d9-da27-9cd527495129"
      },
      "execution_count": 92,
      "outputs": [
        {
          "output_type": "stream",
          "name": "stdout",
          "text": [
            "+-------+-------------+--------------+-------+---------+-------+---------+----------+--------+---------------------+--------+-----+-------+-------------------+--------------------+--------+---------------+-------+----------+----+--------------------+----------+----------+----------+------------+--------------------+-----------+-------------+----+------+------+---------+-----------+\n",
            "|bearing|     block_id|current_status|     id| latitude|line_id|longitude|pattern_id|route_id|schedule_relationship|shift_id|speed|stop_id|          timestamp|             trip_id|    date|_corrupt_record|  color|facilities|  id|            patterns|    routes|short_name|text_color|municipality|          localities|district_id|district_name|  id|  name|prefix|region_id|region_name|\n",
            "+-------+-------------+--------------+-------+---------+-------+---------+----------+--------+---------------------+--------+-----+-------+-------------------+--------------------+--------+---------------+-------+----------+----+--------------------+----------+----------+----------+------------+--------------------+-----------+-------------+----+------+------+---------+-----------+\n",
            "|    158|ESC_DU_EU2113|   INCOMING_AT|43|2297|38.628296|   3705|-9.197503|  3705_0_2|  3705_0|            SCHEDULED|  EU2184|  5.0| 020332|2024-11-21 21:28:19|3705_0_2_2030_205...|20241121|           NULL|#C61D23|        []|3705|[3705_0_1, 3705_0_2]|[\"3705_0\"]|      3705|   #FFFFFF|        1106|            Sobreada|       NULL|         NULL|NULL|  NULL|  NULL|     NULL|       NULL|\n",
            "|    158|ESC_DU_EU2113|   INCOMING_AT|43|2297|38.628296|   3705|-9.197503|  3705_0_2|  3705_0|            SCHEDULED|  EU2184|  5.0| 020332|2024-11-21 21:28:19|3705_0_2_2030_205...|20241121|           NULL|#C61D23|        []|3705|[3705_0_1, 3705_0_2]|[\"3705_0\"]|      3705|   #FFFFFF|        1106|   Monte da Caparica|       NULL|         NULL|NULL|  NULL|  NULL|     NULL|       NULL|\n",
            "|    158|ESC_DU_EU2113|   INCOMING_AT|43|2297|38.628296|   3705|-9.197503|  3705_0_2|  3705_0|            SCHEDULED|  EU2184|  5.0| 020332|2024-11-21 21:28:19|3705_0_2_2030_205...|20241121|           NULL|#C61D23|        []|3705|[3705_0_1, 3705_0_2]|[\"3705_0\"]|      3705|   #FFFFFF|        1106|           Sete Rios|       NULL|         NULL|NULL|  NULL|  NULL|     NULL|       NULL|\n",
            "|    158|ESC_DU_EU2113|   INCOMING_AT|43|2297|38.628296|   3705|-9.197503|  3705_0_2|  3705_0|            SCHEDULED|  EU2184|  5.0| 020332|2024-11-21 21:28:19|3705_0_2_2030_205...|20241121|           NULL|#C61D23|        []|3705|[3705_0_1, 3705_0_2]|[\"3705_0\"]|      3705|   #FFFFFF|        1106|              Lisboa|         11|       Lisboa|1106|Lisboa|    06|    PT170|        AML|\n",
            "|    158|ESC_DU_EU2113|   INCOMING_AT|43|2297|38.628296|   3705|-9.197503|  3705_0_2|  3705_0|            SCHEDULED|  EU2184|  5.0| 020332|2024-11-21 21:28:19|3705_0_2_2030_205...|20241121|           NULL|#C61D23|        []|3705|[3705_0_1, 3705_0_2]|[\"3705_0\"]|      3705|   #FFFFFF|        1106|           Campolide|       NULL|         NULL|NULL|  NULL|  NULL|     NULL|       NULL|\n",
            "|    158|ESC_DU_EU2113|   INCOMING_AT|43|2297|38.628296|   3705|-9.197503|  3705_0_2|  3705_0|            SCHEDULED|  EU2184|  5.0| 020332|2024-11-21 21:28:19|3705_0_2_2030_205...|20241121|           NULL|#C61D23|        []|3705|[3705_0_1, 3705_0_2]|[\"3705_0\"]|      3705|   #FFFFFF|        1106|    Avenida de Ceuta|       NULL|         NULL|NULL|  NULL|  NULL|     NULL|       NULL|\n",
            "|    158|ESC_DU_EU2113|   INCOMING_AT|43|2297|38.628296|   3705|-9.197503|  3705_0_2|  3705_0|            SCHEDULED|  EU2184|  5.0| 020332|2024-11-21 21:28:19|3705_0_2_2030_205...|20241121|           NULL|#C61D23|        []|3705|[3705_0_1, 3705_0_2]|[\"3705_0\"]|      3705|   #FFFFFF|        1106|           Alcântara|       NULL|         NULL|NULL|  NULL|  NULL|     NULL|       NULL|\n",
            "|    158|ESC_DU_EU2113|   INCOMING_AT|43|2297|38.628296|   3705|-9.197503|  3705_0_2|  3705_0|            SCHEDULED|  EU2184|  5.0| 020332|2024-11-21 21:28:19|3705_0_2_2030_205...|20241121|           NULL|#C61D23|        []|3705|[3705_0_1, 3705_0_2]|[\"3705_0\"]|      3705|   #FFFFFF|        1106|              Pragal|       NULL|         NULL|NULL|  NULL|  NULL|     NULL|       NULL|\n",
            "|    158|ESC_DU_EU2113|   INCOMING_AT|43|2297|38.628296|   3705|-9.197503|  3705_0_2|  3705_0|            SCHEDULED|  EU2184|  5.0| 020332|2024-11-21 21:28:19|3705_0_2_2030_205...|20241121|           NULL|#C61D23|        []|3705|[3705_0_1, 3705_0_2]|[\"3705_0\"]|      3705|   #FFFFFF|        1106|             Lazarim|       NULL|         NULL|NULL|  NULL|  NULL|     NULL|       NULL|\n",
            "|    158|ESC_DU_EU2113|   INCOMING_AT|43|2297|38.628296|   3705|-9.197503|  3705_0_2|  3705_0|            SCHEDULED|  EU2184|  5.0| 020332|2024-11-21 21:28:19|3705_0_2_2030_205...|20241121|           NULL|#C61D23|        []|3705|[3705_0_1, 3705_0_2]|[\"3705_0\"]|      3705|   #FFFFFF|        1106|            Botequim|       NULL|         NULL|NULL|  NULL|  NULL|     NULL|       NULL|\n",
            "|    158|ESC_DU_EU2113|   INCOMING_AT|43|2297|38.628296|   3705|-9.197503|  3705_0_2|  3705_0|            SCHEDULED|  EU2184|  5.0| 020332|2024-11-21 21:28:19|3705_0_2_2030_205...|20241121|           NULL|#C61D23|        []|3705|[3705_0_1, 3705_0_2]|[\"3705_0\"]|      3705|   #FFFFFF|        1106|              Almada|         15|      Setúbal|1503|Almada|    02|    PT170|        AML|\n",
            "|    158|ESC_DU_EU2113|   INCOMING_AT|43|2297|38.628296|   3705|-9.197503|  3705_0_2|  3705_0|            SCHEDULED|  EU2184|  5.0| 020332|2024-11-21 21:28:19|3705_0_2_2030_205...|20241121|           NULL|#C61D23|        []|3705|[3705_0_1, 3705_0_2]|[\"3705_0\"]|      3705|   #FFFFFF|        1106|Charneca da Caparica|       NULL|         NULL|NULL|  NULL|  NULL|     NULL|       NULL|\n",
            "|    158|ESC_DU_EU2113|   INCOMING_AT|43|2297|38.628296|   3705|-9.197503|  3705_0_2|  3705_0|            SCHEDULED|  EU2184|  5.0| 020332|2024-11-21 21:28:19|3705_0_2_2030_205...|20241121|           NULL|#C61D23|        []|3705|[3705_0_1, 3705_0_2]|[\"3705_0\"]|      3705|   #FFFFFF|        1503|            Sobreada|       NULL|         NULL|NULL|  NULL|  NULL|     NULL|       NULL|\n",
            "|    158|ESC_DU_EU2113|   INCOMING_AT|43|2297|38.628296|   3705|-9.197503|  3705_0_2|  3705_0|            SCHEDULED|  EU2184|  5.0| 020332|2024-11-21 21:28:19|3705_0_2_2030_205...|20241121|           NULL|#C61D23|        []|3705|[3705_0_1, 3705_0_2]|[\"3705_0\"]|      3705|   #FFFFFF|        1503|   Monte da Caparica|       NULL|         NULL|NULL|  NULL|  NULL|     NULL|       NULL|\n",
            "|    158|ESC_DU_EU2113|   INCOMING_AT|43|2297|38.628296|   3705|-9.197503|  3705_0_2|  3705_0|            SCHEDULED|  EU2184|  5.0| 020332|2024-11-21 21:28:19|3705_0_2_2030_205...|20241121|           NULL|#C61D23|        []|3705|[3705_0_1, 3705_0_2]|[\"3705_0\"]|      3705|   #FFFFFF|        1503|           Sete Rios|       NULL|         NULL|NULL|  NULL|  NULL|     NULL|       NULL|\n",
            "|    158|ESC_DU_EU2113|   INCOMING_AT|43|2297|38.628296|   3705|-9.197503|  3705_0_2|  3705_0|            SCHEDULED|  EU2184|  5.0| 020332|2024-11-21 21:28:19|3705_0_2_2030_205...|20241121|           NULL|#C61D23|        []|3705|[3705_0_1, 3705_0_2]|[\"3705_0\"]|      3705|   #FFFFFF|        1503|              Lisboa|         11|       Lisboa|1106|Lisboa|    06|    PT170|        AML|\n",
            "|    158|ESC_DU_EU2113|   INCOMING_AT|43|2297|38.628296|   3705|-9.197503|  3705_0_2|  3705_0|            SCHEDULED|  EU2184|  5.0| 020332|2024-11-21 21:28:19|3705_0_2_2030_205...|20241121|           NULL|#C61D23|        []|3705|[3705_0_1, 3705_0_2]|[\"3705_0\"]|      3705|   #FFFFFF|        1503|           Campolide|       NULL|         NULL|NULL|  NULL|  NULL|     NULL|       NULL|\n",
            "|    158|ESC_DU_EU2113|   INCOMING_AT|43|2297|38.628296|   3705|-9.197503|  3705_0_2|  3705_0|            SCHEDULED|  EU2184|  5.0| 020332|2024-11-21 21:28:19|3705_0_2_2030_205...|20241121|           NULL|#C61D23|        []|3705|[3705_0_1, 3705_0_2]|[\"3705_0\"]|      3705|   #FFFFFF|        1503|    Avenida de Ceuta|       NULL|         NULL|NULL|  NULL|  NULL|     NULL|       NULL|\n",
            "|    158|ESC_DU_EU2113|   INCOMING_AT|43|2297|38.628296|   3705|-9.197503|  3705_0_2|  3705_0|            SCHEDULED|  EU2184|  5.0| 020332|2024-11-21 21:28:19|3705_0_2_2030_205...|20241121|           NULL|#C61D23|        []|3705|[3705_0_1, 3705_0_2]|[\"3705_0\"]|      3705|   #FFFFFF|        1503|           Alcântara|       NULL|         NULL|NULL|  NULL|  NULL|     NULL|       NULL|\n",
            "|    158|ESC_DU_EU2113|   INCOMING_AT|43|2297|38.628296|   3705|-9.197503|  3705_0_2|  3705_0|            SCHEDULED|  EU2184|  5.0| 020332|2024-11-21 21:28:19|3705_0_2_2030_205...|20241121|           NULL|#C61D23|        []|3705|[3705_0_1, 3705_0_2]|[\"3705_0\"]|      3705|   #FFFFFF|        1503|              Pragal|       NULL|         NULL|NULL|  NULL|  NULL|     NULL|       NULL|\n",
            "+-------+-------------+--------------+-------+---------+-------+---------+----------+--------+---------------------+--------+-----+-------+-------------------+--------------------+--------+---------------+-------+----------+----+--------------------+----------+----------+----------+------------+--------------------+-----------+-------------+----+------+------+---------+-----------+\n",
            "only showing top 20 rows\n",
            "\n"
          ]
        }
      ]
    }
  ],
  "metadata": {
    "colab": {
      "provenance": [],
      "include_colab_link": true
    },
    "kernelspec": {
      "display_name": "Python 3",
      "name": "python3"
    },
    "language_info": {
      "name": "python"
    }
  },
  "nbformat": 4,
  "nbformat_minor": 0
}