{
  "cells": [
    {
      "cell_type": "markdown",
      "metadata": {
        "id": "view-in-github",
        "colab_type": "text"
      },
      "source": [
        "<a href=\"https://colab.research.google.com/github/carsofferrei/04_data_processing/blob/main/spark/challenges/challenge_1.ipynb\" target=\"_parent\"><img src=\"https://colab.research.google.com/assets/colab-badge.svg\" alt=\"Open In Colab\"/></a>"
      ]
    },
    {
      "cell_type": "markdown",
      "metadata": {
        "id": "BOA_wQSmLd9z"
      },
      "source": [
        "# CHALLENGE 1\n",
        "##  Implement INGESTION process\n",
        "- Set up path in the \"lake\"\n",
        "  - !mkdir -p /content/lake/bronze\n",
        "\n",
        "- Read data from API https://api.carrismetropolitana.pt/\n",
        "  - Endpoints:\n",
        "    - vehicles\n",
        "    - lines\n",
        "    - municipalities\n",
        "  - Use StructFields to enforce schema\n",
        "\n",
        "- Transformations\n",
        "  - vehicles\n",
        "    - create \"date\" extracted from \"timestamp\" column (format: hh24miss)\n",
        "\n",
        "- Write data as PARQUET into the BRONZE layer (/content/lake/bronze)\n",
        "  - Partition \"vehicles\" by \"date\" column\n",
        "  - Paths:\n",
        "    - vehicles - path: /content/lake/bronze/vehicles\n",
        "    - lines - path: /content/lake/bronze/lines\n",
        "    - municipalities - path: /content/lake/bronze/municipalities\n",
        "  - Make sure there is only 1 single parquet created\n",
        "  - Use overwrite as write mode"
      ]
    },
    {
      "cell_type": "markdown",
      "metadata": {
        "id": "d9LeYFsPTjAb"
      },
      "source": [
        "# Setting up PySpark"
      ]
    },
    {
      "cell_type": "code",
      "execution_count": 1,
      "metadata": {
        "colab": {
          "base_uri": "https://localhost:8080/"
        },
        "id": "uYXeODL0T1fO",
        "outputId": "f551a71a-a0ae-4456-c7e5-01671aa4b0e2"
      },
      "outputs": [
        {
          "output_type": "stream",
          "name": "stdout",
          "text": [
            "Requirement already satisfied: pyspark in /usr/local/lib/python3.10/dist-packages (3.5.3)\n",
            "Requirement already satisfied: py4j==0.10.9.7 in /usr/local/lib/python3.10/dist-packages (from pyspark) (0.10.9.7)\n"
          ]
        }
      ],
      "source": [
        "%pip install pyspark"
      ]
    },
    {
      "cell_type": "code",
      "source": [
        "# Import SparkSession\n",
        "\n",
        "from pyspark.sql import SparkSession\n",
        "spark = SparkSession.builder.master('local').appName('Carla_Ferreira_API_challenge').config('spark.ui.port', '4050').getOrCreate()\n",
        "sc = spark.sparkContext"
      ],
      "metadata": {
        "id": "KCW7ptFOsV25"
      },
      "execution_count": 2,
      "outputs": []
    },
    {
      "cell_type": "code",
      "source": [
        "import requests\n",
        "from pyspark.sql.types import *\n",
        "\n",
        "def readFromAPI(url: str, schema: StructType = None):\n",
        "  response = requests.get(url)\n",
        "  rdd = sc.parallelize(response.json())\n",
        "\n",
        "  if schema:\n",
        "    df = spark.read.schema(schema).json(rdd)\n",
        "  else:\n",
        "    df = spark.read.json(rdd)\n",
        "  return df"
      ],
      "metadata": {
        "id": "lv3fhVbEskQ3"
      },
      "execution_count": 3,
      "outputs": []
    },
    {
      "cell_type": "code",
      "source": [
        "#Schemas\n",
        "vehicle_schema = StructType([StructField('bearing', IntegerType(), True),\n",
        "                             StructField('block_id', StringType(), True),\n",
        "                             StructField('current_status', StringType(), True),\n",
        "                             StructField('id', StringType(), True),\n",
        "                             StructField('lat', FloatType(), True),\n",
        "                             StructField('line_id', StringType(), True),\n",
        "                             StructField('lon', FloatType(), True),\n",
        "                             StructField('pattern_id', StringType(), True),\n",
        "                             StructField('route_id', StringType(), True),\n",
        "                             StructField('schedule_relationship', StringType(), True),\n",
        "                             StructField('shift_id', StringType(), True),\n",
        "                             StructField('speed', FloatType(), True),\n",
        "                             StructField('stop_id', StringType(), True),\n",
        "                             StructField('timestamp', TimestampType(), True),\n",
        "                             StructField('trip_id', StringType(), True)\n",
        "                             ])\n",
        "\n",
        "\n",
        "lines_schema = StructType([StructField('_corrupt_record', StringType(), True),\n",
        "                           StructField('color', StringType(), True),\n",
        "                           StructField('facilities', StringType(), True),\n",
        "                           StructField('id', StringType(), True),\n",
        "                           StructField('localities', ArrayType(StringType()), True),\n",
        "                           StructField('long_name', StringType(), True),\n",
        "                           StructField('municipalities', ArrayType(StringType()), True),\n",
        "                           StructField('patterns', ArrayType(StringType()), True),\n",
        "                           StructField('routes', StringType(), True),\n",
        "                           StructField('short_name', StringType(), True),\n",
        "                           StructField('text_color', StringType(), True)\n",
        "                           ])\n",
        "\n",
        "municipalities_schema = StructType([StructField('district_id', StringType(), True),\n",
        "                                    StructField('district_name', StringType(), True),\n",
        "                                    StructField('id', StringType(), True),\n",
        "                                    StructField('name', StringType(), True),\n",
        "                                    StructField('prefix', StringType(), True),\n",
        "                                    StructField('region_id', StringType(), True),\n",
        "                                    StructField('region_name', StringType(), True)\n",
        "                                    ])"
      ],
      "metadata": {
        "id": "1HJlN4hgOvl0"
      },
      "execution_count": 4,
      "outputs": []
    },
    {
      "cell_type": "code",
      "source": [
        "vehicles = readFromAPI(\"https://api.carrismetropolitana.pt/vehicles\", schema = vehicle_schema)\n",
        "lines = readFromAPI(\"https://api.carrismetropolitana.pt/lines\", schema = lines_schema)\n",
        "municipalities = readFromAPI(\"https://api.carrismetropolitana.pt/municipalities\", schema = municipalities_schema)"
      ],
      "metadata": {
        "id": "R4E9v8rMsu3n"
      },
      "execution_count": 5,
      "outputs": []
    },
    {
      "cell_type": "code",
      "source": [
        "# create \"date\" extracted from \"timestamp\" column (format: hh24miss) -- this format doesnt make sense, the correct is yyyyMMdd\n",
        "from pyspark.sql.functions import date_format\n",
        "vehicles = vehicles.withColumn(\"date\", date_format('timestamp', \"yyyyMMdd\"))\n",
        "\n",
        "vehicles.show()"
      ],
      "metadata": {
        "colab": {
          "base_uri": "https://localhost:8080/"
        },
        "id": "lWmvyntFR_MW",
        "outputId": "dd5eacab-ded3-492a-fa67-66140178d423"
      },
      "execution_count": 43,
      "outputs": [
        {
          "output_type": "stream",
          "name": "stdout",
          "text": [
            "+-------+--------------------+--------------+--------+---------+-------+---------+----------+--------+---------------------+------------+---------+-------+-------------------+--------------------+--------+\n",
            "|bearing|            block_id|current_status|      id| latitude|line_id|longitude|pattern_id|route_id|schedule_relationship|    shift_id|    speed|stop_id|          timestamp|             trip_id|    date|\n",
            "+-------+--------------------+--------------+--------+---------+-------+---------+----------+--------+---------------------+------------+---------+-------+-------------------+--------------------+--------+\n",
            "|    171|                1272|   INCOMING_AT| 42|1272| 38.90075|   2504|-9.218324|  2504_0_2|  2504_0|            SCHEDULED|       44107|15.833333| 071100|2024-11-22 19:54:27|2504_0_2|150|1|19...|20241122|\n",
            "|    296|20241122-64010028...| IN_TRANSIT_TO|44|12749| 38.74897|   4702|-8.934695|  4702_0_1|  4702_0|            SCHEDULED|123200234560|14.166667| 010136|2024-11-22 19:54:27|4702_0_1|2200|192...|20241122|\n",
            "|    256|       ESC_DU_EU1031| IN_TRANSIT_TO| 43|2349|38.626526|   3103|-9.082764|  3103_0_2|  3103_0|            SCHEDULED|      EU1154| 6.388889| 140331|2024-11-22 19:54:27|3103_0_2_1930_195...|20241122|\n",
            "|     89|20241122-64010218...| IN_TRANSIT_TO|44|12699| 38.76856|   4707| -9.10204|  4707_0_2|  4707_0|            SCHEDULED|123560234560|      0.0| 060002|2024-11-22 19:54:27|4707_0_2|2200|190...|20241122|\n",
            "|    264|20241122-64010257...| IN_TRANSIT_TO|44|12562|38.517757|   4641|-8.971889|  4641_0_2|  4641_0|            SCHEDULED|111660234560|13.611111| 160556|2024-11-22 19:54:27|4641_0_2|2200|194...|20241122|\n",
            "|    353|           1_1731-11| IN_TRANSIT_TO| 41|1239|38.802708|   1241|-9.381684|  1241_0_2|  1241_0|            SCHEDULED|        1796|3.0555556| 171382|2024-11-22 19:54:27|1241_0_2_1930_195...|20241122|\n",
            "|    287|UNAVAILABLE_BLOCK_ID|   INCOMING_AT| 41|1384| 38.78275|   1204|-9.314581|  1204_1_3|  1204_1|            SCHEDULED|        1243|10.555555| 170174|2024-11-22 19:54:27|1204_C_1_3_1930_1...|20241122|\n",
            "|    115|           1_1634-11| IN_TRANSIT_TO| 41|1385| 38.73145|   1601|-9.291839|  1601_1_2|  1601_1|            SCHEDULED|   1651'_001|10.833333| 120576|2024-11-22 19:54:27|1601_1_2_1900_192...|20241122|\n",
            "|     54|             1750-11| IN_TRANSIT_TO| 42|2508|38.902145|   2535|-9.039565|  2535_0_1|  2535_0|            SCHEDULED|        1750|3.8888888| 180245|2024-11-22 19:54:27|2535_0_1|1|1|1915...|20241122|\n",
            "|     77|UNAVAILABLE_BLOCK_ID|   INCOMING_AT| 41|1227|38.750687|   1209|-9.350565|  1209_1_1|  1209_1|            SCHEDULED|        1359|7.7777777| 170403|2024-11-22 19:54:27|1209_1_1_1930_195...|20241122|\n",
            "|    124|             1575-11| IN_TRANSIT_TO| 42|2613|38.785603|   2812|-9.169343|  2812_0_1|  2812_0|            SCHEDULED|        1645|     10.0| 060166|2024-11-22 19:54:27|2812_0_1|1|1|1915...|20241122|\n",
            "|     60|             1562-11|   INCOMING_AT|  42|268|38.786163|   2209|-9.183395|  2209_0_1|  2209_0|            SCHEDULED|        1571|5.5555553| 110087|2024-11-22 19:54:27|2209_0_1|1|1|1920...|20241122|\n",
            "|    112|20241122-64010164...| IN_TRANSIT_TO|44|12660|38.723507|   4710|-8.970055|  4710_0_1|  4710_0|            SCHEDULED|113190234560|18.055555| 130451|2024-11-22 19:54:27|4710_0_1|2200|193...|20241122|\n",
            "|    135|                1270| IN_TRANSIT_TO| 42|1270| 38.83715|   2505|-9.187864|  2505_0_2|  2505_0|            SCHEDULED|      400457|11.666667| 070024|2024-11-22 19:54:27|2505_0_2|150|1|19...|20241122|\n",
            "|      0|       ESC_DU_EU2045|    STOPPED_AT| 43|2283| 38.67364|   3703|-9.161451|  3703_0_2|  3703_0|            SCHEDULED|      EU2175|      0.0| 020081|2024-11-22 19:54:27|3703_0_2_1900_192...|20241122|\n",
            "|    336|           1_1093-11|   INCOMING_AT| 41|1163|  38.7786|   1719| -9.23556|  1719_0_1|  1719_0|            SCHEDULED|   1093'_001| 9.722222| 030625|2024-11-22 19:54:27|1719_0_1_1930_195...|20241122|\n",
            "|    268|20241122-64010272...| IN_TRANSIT_TO|44|12641|38.532494|   4432|-9.003155|  4432_0_1|  4432_0|            SCHEDULED|111510234560|10.833333| 160568|2024-11-22 19:54:27|4432_0_1|2200|193...|20241122|\n",
            "|    232|UNAVAILABLE_BLOCK_ID| IN_TRANSIT_TO| 43|2301| 38.65469|   3017|-9.178814|  3017_0_2|  3017_0|            SCHEDULED|      EU2193| 9.444445| 020598|2024-11-22 19:54:27|3017_0_2_1930_195...|20241122|\n",
            "|      7|           1_1323-11| IN_TRANSIT_TO| 41|1406|  38.7861|   1615|-9.329978|  1615_1_1|  1615_1|            SCHEDULED|        1340| 9.166667| 170065|2024-11-22 19:54:27|1615_1_1_1830_185...|20241122|\n",
            "|     75|             1541-11|   INCOMING_AT| 42|2610|38.791817|   2212|-9.174267|  2212_0_3|  2212_0|            SCHEDULED|        1599|      7.5| 110403|2024-11-22 19:54:27|2212_0_3|1|1|1940...|20241122|\n",
            "+-------+--------------------+--------------+--------+---------+-------+---------+----------+--------+---------------------+------------+---------+-------+-------------------+--------------------+--------+\n",
            "only showing top 20 rows\n",
            "\n"
          ]
        }
      ]
    },
    {
      "cell_type": "code",
      "source": [
        "from pyspark.sql import functions as F\n",
        "\n",
        "vehicles.select(\"date\").distinct().agg(F.min(\"date\").alias(\"min_date\")).show()\n",
        "vehicles.select(\"date\").distinct().agg(F.max(\"date\").alias(\"max_date\")).show()\n",
        "\n",
        "# there's only one day in this file."
      ],
      "metadata": {
        "colab": {
          "base_uri": "https://localhost:8080/"
        },
        "id": "cjiItiw-WtDe",
        "outputId": "a03f8f64-ec5f-43a2-caa0-7886237570e6"
      },
      "execution_count": 44,
      "outputs": [
        {
          "output_type": "stream",
          "name": "stdout",
          "text": [
            "+--------+\n",
            "|min_date|\n",
            "+--------+\n",
            "|20241122|\n",
            "+--------+\n",
            "\n",
            "+--------+\n",
            "|max_date|\n",
            "+--------+\n",
            "|20241122|\n",
            "+--------+\n",
            "\n"
          ]
        }
      ]
    },
    {
      "cell_type": "markdown",
      "source": [
        "Write data as PARQUET into the BRONZE layer (/content/lake/bronze)\n",
        "\n",
        "*   Partition \"vehicles\" by \"date\" column\n",
        "*   Paths: /content/lake/bronze/vehicles, /content/lake/bronze/lines\n",
        ", /content/lake/bronze/municipalities\n",
        "\n",
        "Make sure there is only 1 single parquet created /\n",
        "Use overwrite as write mode"
      ],
      "metadata": {
        "id": "o8kPFFtKU6P8"
      }
    },
    {
      "cell_type": "markdown",
      "source": [
        "Declare the directory to write the data that came from API carrismetropolitana"
      ],
      "metadata": {
        "id": "S9PXODmNQlF4"
      }
    },
    {
      "cell_type": "code",
      "source": [
        "!mkdir -p /content/lake/bronze\n",
        "\n",
        "path_vehicles = \"/content/lake/bronze/vehicles\"\n",
        "path_lines = \"/content/lake/bronze/lines\"\n",
        "path_municipalities = \"/content/lake/bronze/municipalities\""
      ],
      "metadata": {
        "id": "iU_dlCvkQkhr"
      },
      "execution_count": 45,
      "outputs": []
    },
    {
      "cell_type": "code",
      "source": [
        "(vehicles\n",
        ".coalesce(1)\n",
        ".write\n",
        ".mode(\"overwrite\")\n",
        ".partitionBy(\"date\")\n",
        ".format(\"parquet\")\n",
        ".save(path_vehicles)\n",
        ")\n",
        "\n",
        "\n",
        "(lines\n",
        ".write\n",
        ".mode(\"overwrite\")\n",
        ".format(\"parquet\")\n",
        ".save(path_lines)\n",
        ")\n",
        "\n",
        "\n",
        "(municipalities\n",
        ".write\n",
        ".mode(\"overwrite\")\n",
        ".format(\"parquet\")\n",
        ".save(path_municipalities)\n",
        ")"
      ],
      "metadata": {
        "id": "RUow9UvrUL1v"
      },
      "execution_count": 47,
      "outputs": []
    },
    {
      "cell_type": "markdown",
      "source": [
        "# CHALLENGE 2\n",
        "##  Implement CLEANSING process\n",
        "- Set up path in the \"lake\"\n",
        "  - !mkdir -p /content/lake/silver\n",
        "\n",
        "- Read data from BRONZE layer as PARQUET:\n",
        "    - vehicles - path: /content/lake/bronze/vehicles\n",
        "    - lines - path: /content/lake/bronze/lines\n",
        "    - municipalities - path: /content/lake/bronze/municipalities\n",
        "\n",
        "- Transformations\n",
        "  - vehicles\n",
        "    - rename \"lat\" and \"lon\" to \"latitude\" and \"longitude\" respectively\n",
        "    - remove possible duplicates\n",
        "    - remove rows when the column CURRENT_STATUS is null\n",
        "    - remove any corrupted record\n",
        "  - lines\n",
        "    - remove duplicates\n",
        "    - remove rows when the column LONG_NAME is null\n",
        "    - remove any corrupted record\n",
        "  - municipalities\n",
        "    - remove duplicates\n",
        "    - remove rows when the columns NAME or DISTRICT_NAME are null\n",
        "    - remove any corrupted record\n",
        "\n",
        "- Write data as PARQUET into the SILVER layer (/content/lake/silver)\n",
        "  - Partition \"vehicles\" by \"date\"(created in the ingestion)\n",
        "  - Paths:\n",
        "    - vehicles - path: /content/lake/silver/vehicles\n",
        "    - lines - path: /content/lake/silver/lines\n",
        "    - municipalities - path: /content/lake/silver/municipalities"
      ],
      "metadata": {
        "id": "hWFaXrPgcL1X"
      }
    },
    {
      "cell_type": "code",
      "source": [
        "vehicles = spark.read.parquet(\"/content/lake/bronze/vehicles\", schema = vehicle_schema)"
      ],
      "metadata": {
        "id": "1QktKE37cEE6"
      },
      "execution_count": 48,
      "outputs": []
    },
    {
      "cell_type": "code",
      "source": [
        "lines = spark.read.parquet(\"/content/lake/bronze/lines\", schema = lines_schema)"
      ],
      "metadata": {
        "id": "qhfNgrt4lb3I"
      },
      "execution_count": 49,
      "outputs": []
    },
    {
      "cell_type": "code",
      "source": [
        "municipalities = spark.read.parquet(\"/content/lake/bronze/municipalities\", schema = municipalities_schema)"
      ],
      "metadata": {
        "id": "J12-5awTldp7"
      },
      "execution_count": 50,
      "outputs": []
    },
    {
      "cell_type": "code",
      "source": [
        "from pyspark.sql.functions import *\n",
        "\n",
        "# Vehicles\n",
        "# rename \"lat\" and \"lon\" to \"latitude\" and \"longitude\" respectively\n",
        "vehicles = vehicles.withColumnRenamed(\"lat\", \"latitude\").withColumnRenamed(\"lon\", \"longitude\")\n",
        "\n",
        "# remove possible duplicates\n",
        "vehicles = vehicles.drop_duplicates()\n",
        "# remove rows when the column CURRENT_STATUS is null\n",
        "vehicles = vehicles.filter(vehicles[\"current_status\"].isNotNull())\n",
        "# remove any corrupted record (????)"
      ],
      "metadata": {
        "id": "RagHE9U_cJgY"
      },
      "execution_count": 51,
      "outputs": []
    },
    {
      "cell_type": "code",
      "source": [
        "from pyspark.sql.functions import *\n",
        "\n",
        "# Lines\n",
        "# remove duplicates\n",
        "lines = lines.drop_duplicates()\n",
        "# remove rows when the column LONG_NAME is null\n",
        "lines = lines.filter(lines[\"long_name\"].isNotNull())\n",
        "# remove any corrupted record\n",
        "lines = lines.filter(lines[\"_corrupt_record\"].isNull())"
      ],
      "metadata": {
        "id": "Z9naexDYcM9p"
      },
      "execution_count": 52,
      "outputs": []
    },
    {
      "cell_type": "code",
      "source": [
        "# Municipalities\n",
        "# remove duplicates\n",
        "municipalities = municipalities.drop_duplicates()\n",
        "# remove rows when the columns NAME or DISTRICT_NAME are null\n",
        "municipalities = municipalities.filter(municipalities[\"name\"].isNotNull() & municipalities[\"district_name\"].isNotNull())\n",
        "# remove any corrupted record (???)"
      ],
      "metadata": {
        "id": "ybMMG-pUcP0W"
      },
      "execution_count": 53,
      "outputs": []
    },
    {
      "cell_type": "code",
      "source": [
        "!mkdir -p /content/lake/silver"
      ],
      "metadata": {
        "id": "YFYbcgiacXdi"
      },
      "execution_count": 54,
      "outputs": []
    },
    {
      "cell_type": "code",
      "source": [
        "path_vehicles = \"/content/lake/silver/vehicles\"\n",
        "path_lines = \"/content/lake/silver/lines\"\n",
        "path_municipalities = \"/content/lake/silver/municipalities\""
      ],
      "metadata": {
        "id": "wPOVuVsFcZ19"
      },
      "execution_count": 55,
      "outputs": []
    },
    {
      "cell_type": "code",
      "source": [
        "(vehicles\n",
        ".coalesce(1)\n",
        ".write\n",
        ".mode(\"overwrite\")\n",
        ".partitionBy(\"date\")\n",
        ".format(\"parquet\")\n",
        ".save(path_vehicles)\n",
        ")\n",
        "\n",
        "\n",
        "(lines\n",
        ".write\n",
        ".mode(\"overwrite\")\n",
        ".format(\"parquet\")\n",
        ".save(path_lines)\n",
        ")\n",
        "\n",
        "\n",
        "(municipalities\n",
        ".write\n",
        ".mode(\"overwrite\")\n",
        ".format(\"parquet\")\n",
        ".save(path_municipalities)\n",
        ")"
      ],
      "metadata": {
        "id": "j6OncVYacc35"
      },
      "execution_count": 56,
      "outputs": []
    },
    {
      "cell_type": "markdown",
      "source": [
        "# CHALLENGE 3\n",
        "##  Implement ENRICH process\n",
        "- Set up path in the \"lake\"\n",
        "  - !mkdir -p /content/lake/gold\n",
        "\n",
        "- Read data from SILVER layer\n",
        "  - Paths:\n",
        "    - vehicles - path: /content/lake/silver/vehicles\n",
        "    - lines - path: /content/lake/silver/lines\n",
        "    - municipalities - path: /content/lake/silver/municipalities\n",
        "  - Use StructFields to enforce schema\n",
        "\n",
        "- Enrichment\n",
        "  - Enrich vehicles dataset with information from the line and municipalities\n",
        "    - join vehicles with lines and municipalities\n",
        "      - select all columns from vehicles + lines.long_name (name: line_name, format:string) + municipalities.name (name: municipality_name, format: array)\n",
        "      - Note that \"municipalities.name\" is an array\n",
        "\n",
        "- Write data as PARQUET into the GOLD layer (/content/lake/gold)\n",
        "  - Dataset name: vehicles_enriched\n",
        "  - Partition \"vehicles_enriched\" by \"date\" column\n",
        "  - Paths:\n",
        "    - vehicles - path: /content/lake/gold/vehicles_enriched\n",
        "  - Make sure there is only 1 single parquet created\n",
        "  - Use overwrite as write mode"
      ],
      "metadata": {
        "id": "gdN5bL9Ccdk1"
      }
    },
    {
      "cell_type": "code",
      "source": [
        "vehicles = spark.read.parquet(\"/content/lake/silver/vehicles\", schema = vehicle_schema)"
      ],
      "metadata": {
        "id": "a6IHVIn3l38g"
      },
      "execution_count": 57,
      "outputs": []
    },
    {
      "cell_type": "code",
      "source": [
        "lines = spark.read.parquet(\"/content/lake/silver/lines\", schema = lines_schema)"
      ],
      "metadata": {
        "id": "PDti0gpQl7kt"
      },
      "execution_count": 58,
      "outputs": []
    },
    {
      "cell_type": "code",
      "source": [
        "municipalities = spark.read.parquet(\"/content/lake/silver/municipalities\", schema = municipalities_schema)"
      ],
      "metadata": {
        "id": "n_qGhJqpl8La"
      },
      "execution_count": 59,
      "outputs": []
    },
    {
      "cell_type": "code",
      "source": [
        "# Extract info from the array in municiples\n",
        "from pyspark.sql.functions import explode\n",
        "lines_treated = lines.select(\n",
        "    \"facilities\",\"id\",explode(lines.municipalities).alias(\"municipalities_id\")\n",
        ").drop_duplicates()"
      ],
      "metadata": {
        "id": "0A2ZkJYlcqg7"
      },
      "execution_count": 86,
      "outputs": []
    },
    {
      "cell_type": "code",
      "source": [
        "vehicles_lines = vehicles.join(lines_treated, vehicles['line_id'] == lines_treated['id'], how = 'left')\n",
        "vehicles_enriched = vehicles_lines.join(municipalities, lines_treated['municipalities_id'] == municipalities['id'], how = 'left')\n",
        "vehicles_enriched.dropDuplicates().show()"
      ],
      "metadata": {
        "colab": {
          "base_uri": "https://localhost:8080/"
        },
        "id": "fwhQRWXweDX2",
        "outputId": "dd0be0ce-b6da-4c8f-a8e9-2d906d7f2bc3"
      },
      "execution_count": 88,
      "outputs": [
        {
          "output_type": "stream",
          "name": "stdout",
          "text": [
            "+-------+--------------------+--------------+--------+---------+-------+---------+----------+--------+---------------------+------------+---------+-------+-------------------+--------------------+--------+----------+----+-----------------+-----------+-------------+----+--------+------+---------+-----------+\n",
            "|bearing|            block_id|current_status|      id| latitude|line_id|longitude|pattern_id|route_id|schedule_relationship|    shift_id|    speed|stop_id|          timestamp|             trip_id|    date|facilities|  id|municipalities_id|district_id|district_name|  id|    name|prefix|region_id|region_name|\n",
            "+-------+--------------------+--------------+--------+---------+-------+---------+----------+--------+---------------------+------------+---------+-------+-------------------+--------------------+--------+----------+----+-----------------+-----------+-------------+----+--------+------+---------+-----------+\n",
            "|    237|             1708-11| IN_TRANSIT_TO| 42|2503| 38.82681|   2761|-9.169701|  2761_0_1|  2761_0|            SCHEDULED|        1779| 9.444445| 070474|2024-11-22 19:54:12|2761_0_1|1|1|1850...|20241122|        []|2761|             1109|         11|       Lisboa|1109|   Mafra|    08|    PT170|        AML|\n",
            "|      0|       ESC_DU_EU1089|    STOPPED_AT| 43|2331| 38.62403|   3512|-9.126995|  3512_0_1|  3512_0|            SCHEDULED|      EU1145|0.2777778| 140307|2024-11-22 19:54:13|3512_0_1_1900_192...|20241122|        []|3512|             1510|         15|      Setúbal|1510|  Seixal|    14|    PT170|        AML|\n",
            "|    146|20241122-64010031...| IN_TRANSIT_TO|44|12704|38.700665|   4707|-8.952131|  4707_0_1|  4707_0|            SCHEDULED|123170234560|      5.0| 100407|2024-11-22 19:54:25|4707_0_1|2200|191...|20241122|        []|4707|             1507|         15|      Setúbal|1507| Montijo|    10|    PT170|        AML|\n",
            "|     58|           1_1462-11| IN_TRANSIT_TO| 41|1142|38.720387|   1726| -9.26551|  1726_1_2|  1726_1|            SCHEDULED|        1484| 8.055555| 120309|2024-11-22 19:54:31|1726_1_2_1930_195...|20241122|        []|1726|             1110|         11|       Lisboa|1110|  Oeiras|    12|    PT170|        AML|\n",
            "|    327|                1050|   INCOMING_AT| 42|1050| 38.88908|   2752|-9.205966|  2752_0_1|  2752_0|            SCHEDULED|        4440|      0.0| 071091|2024-11-22 19:54:17|2752_0_1|150|1|18...|20241122|        []|2752|             1109|         11|       Lisboa|1109|   Mafra|    08|    PT170|        AML|\n",
            "|    271|           1_1433-11|    STOPPED_AT| 41|1299| 38.72258|   1616|-9.307747|  1616_0_1|  1616_0|            SCHEDULED|1493+RG+1926|      0.0| 120925|2024-11-22 19:54:28|1616_0_1_1930_195...|20241122|        []|1616|             1110|         11|       Lisboa|1110|  Oeiras|    12|    PT170|        AML|\n",
            "|    339|       ESC_DU_EU2025| IN_TRANSIT_TO| 43|2124|38.712116|   3701|-9.174863|  3701_0_2|  3701_0|            SCHEDULED|      EU2233|      0.0| 020001|2024-11-22 19:54:21|3701_0_2_1900_192...|20241122|        []|3701|             1110|         11|       Lisboa|1110|  Oeiras|    12|    PT170|        AML|\n",
            "|    247|       ESC_DU_EU2034| IN_TRANSIT_TO| 43|2264| 38.66074|   3011|-9.189981|  3011_0_1|  3011_0|            SCHEDULED|      EU2152|14.722222| 020357|2024-11-22 19:54:23|3011_0_1_1930_195...|20241122|        []|3011|             1503|         15|      Setúbal|1503|  Almada|    02|    PT170|        AML|\n",
            "|    125|           1_1017-11| IN_TRANSIT_TO| 41|1865| 38.75916|   1720|-9.237508|  1720_0_1|  1720_0|            SCHEDULED|        1121|1.9444444| 030477|2024-11-22 19:53:48|1720_0_1_1900_192...|20241122|        []|1720|             1111|         11|       Lisboa|1111|  Sintra|    17|    PT170|        AML|\n",
            "|    142|             1557-11| IN_TRANSIT_TO| 42|2205|38.828274|   2601|-9.164583|  2601_0_1|  2601_0|            SCHEDULED|        1615|      0.0| 070043|2024-11-22 19:54:05|2601_0_1|1|1|1940...|20241122|        []|2601|             1116|         11|       Lisboa|1116|Odivelas|    11|    PT170|        AML|\n",
            "|    175|       ESC_DU_EU3043| IN_TRANSIT_TO|  43|639|38.569275|   3549|-9.038012|  3549_0_2|  3549_0|            SCHEDULED|      EU3044|      0.0| 150529|2024-11-22 19:54:13|3549_0_2_1830_185...|20241122|        []|3549|             1510|         15|      Setúbal|1510|  Seixal|    14|    PT170|        AML|\n",
            "|    281|           1_1074-11| IN_TRANSIT_TO| 41|1164|  38.7605|   1720|-9.242901|  1720_0_2|  1720_0|            SCHEDULED|        1129| 8.611111| 030325|2024-11-22 19:54:33|1720_0_2_1900_192...|20241122|        []|1720|             1111|         11|       Lisboa|1111|  Sintra|    17|    PT170|        AML|\n",
            "|      0|                1218|    STOPPED_AT| 42|1218|38.841038|   2753| -9.19487|  2753_0_1|  2753_0|            SCHEDULED|       46235|      0.0| 070353|2024-11-22 19:54:26|2753_0_1|150|1|18...|20241122|        []|2753|             1109|         11|       Lisboa|1109|   Mafra|    08|    PT170|        AML|\n",
            "|    115|           1_1634-11| IN_TRANSIT_TO| 41|1385| 38.73145|   1601|-9.291839|  1601_1_2|  1601_1|            SCHEDULED|   1651'_001|10.833333| 120576|2024-11-22 19:54:27|1601_1_2_1900_192...|20241122|        []|1601|             1111|         11|       Lisboa|1111|  Sintra|    17|    PT170|        AML|\n",
            "|    230|20241122-64010217...| IN_TRANSIT_TO|44|12089|38.529472|   4430|-8.881708|  4430_0_1|  4430_0|            SCHEDULED|112330234560|      0.0| 160029|2024-11-22 19:54:24|4430_0_1|2200|200...|20241122|        []|4430|             1512|         15|      Setúbal|1512| Setúbal|    16|    PT170|        AML|\n",
            "|    288|UNAVAILABLE_BLOCK_ID|   INCOMING_AT| 41|1390|38.838314|   1247|-9.460984|  1247_0_2|  1247_0|            SCHEDULED|        1758|10.277778| 171447|2024-11-22 19:54:23|1247_0_2_1900_192...|20241122|        []|1247|             1111|         11|       Lisboa|1111|  Sintra|    17|    PT170|        AML|\n",
            "|    153|             1052-11|    STOPPED_AT| 42|2352| 38.78355|   2736|-9.142688|  2736_0_3|  2736_0|            SCHEDULED|        1233|      0.0| 060234|2024-11-22 19:54:26|2736_0_3|1|1|1850...|20241122|        []|2736|             1107|         11|       Lisboa|1107|  Loures|    07|    PT170|        AML|\n",
            "|    220|           1_1649-11|   INCOMING_AT| 41|1338|38.703327|   1601|-9.306893|  1601_0_1|  1601_0|            SCHEDULED|        1676| 8.333333| 120863|2024-11-22 19:54:15|1601_0_1_1830_185...|20241122|        []|1601|             1115|         11|       Lisboa|1115| Amadora|    03|    PT170|        AML|\n",
            "|    222|       ESC_DU_EU1079|   INCOMING_AT| 43|2333|38.631367|   3514|-9.162066|  3514_0_2|  3514_0|            SCHEDULED|      EU1119| 9.444445| 140374|2024-11-22 19:54:25|3514_0_2_1930_195...|20241122|        []|3514|             1510|         15|      Setúbal|1510|  Seixal|    14|    PT170|        AML|\n",
            "|     58|       ESC_DU_EU2024| IN_TRANSIT_TO| 43|2271|38.525463|   3605| -8.99122|  3605_0_1|  3605_0|            SCHEDULED|      EU2169|18.055555| 160604|2024-11-22 19:54:19|3605_0_1_1830_185...|20241122|        []|3605|             1504|         15|      Setúbal|1504|Barreiro|    04|    PT170|        AML|\n",
            "+-------+--------------------+--------------+--------+---------+-------+---------+----------+--------+---------------------+------------+---------+-------+-------------------+--------------------+--------+----------+----+-----------------+-----------+-------------+----+--------+------+---------+-----------+\n",
            "only showing top 20 rows\n",
            "\n"
          ]
        }
      ]
    },
    {
      "cell_type": "code",
      "source": [
        "vehicles_enriched.select(\n",
        "      \"line_id\"\n",
        "    , \"current_status\"\n",
        "    , \"schedule_relationship\"\n",
        "    , \"shift_id\"\n",
        "    , \"speed\"\n",
        "    , \"stop_id\"\n",
        "    , \"date\"\n",
        "    , \"facilities\"\n",
        "    , \"municipalities_id\"\n",
        "    , \"district_name\"\n",
        "    , \"name\"\n",
        "    , \"prefix\"\n",
        "    , \"region_id\"\n",
        "    , \"region_name\"\n",
        ").drop_duplicates().show()"
      ],
      "metadata": {
        "colab": {
          "base_uri": "https://localhost:8080/"
        },
        "id": "UU6KYEqVwAOj",
        "outputId": "06e8ceee-5e59-4728-a749-fb3219f636a2"
      },
      "execution_count": 90,
      "outputs": [
        {
          "output_type": "stream",
          "name": "stdout",
          "text": [
            "+-------+--------------+---------------------+------------+---------+-------+--------+----------+-----------------+-------------+--------+------+---------+-----------+\n",
            "|line_id|current_status|schedule_relationship|    shift_id|    speed|stop_id|    date|facilities|municipalities_id|district_name|    name|prefix|region_id|region_name|\n",
            "+-------+--------------+---------------------+------------+---------+-------+--------+----------+-----------------+-------------+--------+------+---------+-----------+\n",
            "|   4521| IN_TRANSIT_TO|            SCHEDULED|121530234560|13.333333| 130195|20241122|        []|             1508|      Setúbal| Palmela|    13|    PT170|        AML|\n",
            "|   3605| IN_TRANSIT_TO|            SCHEDULED|      EU2199|11.388889| 140029|20241122|        []|             1511|      Setúbal|Sesimbra|    15|    PT170|        AML|\n",
            "|   3601|   INCOMING_AT|            SCHEDULED|      EU3078|      0.0| 020072|20241122|        []|             1510|      Setúbal|  Seixal|    14|    PT170|        AML|\n",
            "|   4707| IN_TRANSIT_TO|            SCHEDULED|123560234560|      0.0| 060002|20241122|        []|             1106|       Lisboa|  Lisboa|    06|    PT170|        AML|\n",
            "|   2730| IN_TRANSIT_TO|            SCHEDULED|        1231|      0.0| 070515|20241122|        []|             1107|       Lisboa|  Loures|    07|    PT170|        AML|\n",
            "|   1517| IN_TRANSIT_TO|            SCHEDULED|        1100| 9.166667| 030107|20241122|        []|             1115|       Lisboa| Amadora|    03|    PT170|        AML|\n",
            "|   1531|    STOPPED_AT|            SCHEDULED|        1460|6.6666665| 120710|20241122|        []|             1111|       Lisboa|  Sintra|    17|    PT170|        AML|\n",
            "|   2769| IN_TRANSIT_TO|            SCHEDULED|        1844| 6.388889| 110621|20241122|        []|             1106|       Lisboa|  Lisboa|    06|    PT170|        AML|\n",
            "|   4412| IN_TRANSIT_TO|            SCHEDULED|112580234560|3.6111112| 160305|20241122|        []|             1512|      Setúbal| Setúbal|    16|    PT170|        AML|\n",
            "|   1720| IN_TRANSIT_TO|            SCHEDULED|        1121|1.9444444| 030477|20241122|        []|             1115|       Lisboa| Amadora|    03|    PT170|        AML|\n",
            "|   2769|    STOPPED_AT|            SCHEDULED|        1841|      0.0| 061200|20241122|        []|             1116|       Lisboa|Odivelas|    11|    PT170|        AML|\n",
            "|   1631| IN_TRANSIT_TO|            SCHEDULED|        1745|14.166667| 170067|20241122|        []|             1105|       Lisboa| Cascais|    05|    PT170|        AML|\n",
            "|   2803| IN_TRANSIT_TO|            SCHEDULED|       47126|     12.5| 080813|20241122|        []|             1106|       Lisboa|  Lisboa|    06|    PT170|        AML|\n",
            "|   1704| IN_TRANSIT_TO|            SCHEDULED|        1096| 9.444445| 030558|20241122|        []|             1106|       Lisboa|  Lisboa|    06|    PT170|        AML|\n",
            "|   2532|    STOPPED_AT|            SCHEDULED|        1166|      0.0| 180498|20241122|        []|             1107|       Lisboa|  Loures|    07|    PT170|        AML|\n",
            "|   2626|   INCOMING_AT|            SCHEDULED|      400481|11.944445| 080345|20241122|        []|             1111|       Lisboa|  Sintra|    17|    PT170|        AML|\n",
            "|   1710| IN_TRANSIT_TO|            SCHEDULED|        1116|3.8888888| 110055|20241122|        []|             1106|       Lisboa|  Lisboa|    06|    PT170|        AML|\n",
            "|   1720| IN_TRANSIT_TO|            SCHEDULED|        1129| 8.611111| 030325|20241122|        []|             1106|       Lisboa|  Lisboa|    06|    PT170|        AML|\n",
            "|   1717|    STOPPED_AT|            SCHEDULED|        1664|      0.0| 175188|20241122|        []|             1111|       Lisboa|  Sintra|    17|    PT170|        AML|\n",
            "|   3703| IN_TRANSIT_TO|            SCHEDULED|      EU2117|13.888889| 060395|20241122|        []|             1503|      Setúbal|  Almada|    02|    PT170|        AML|\n",
            "+-------+--------------+---------------------+------------+---------+-------+--------+----------+-----------------+-------------+--------+------+---------+-----------+\n",
            "only showing top 20 rows\n",
            "\n"
          ]
        }
      ]
    },
    {
      "cell_type": "code",
      "source": [
        "!mkdir -p /content/lake/gold"
      ],
      "metadata": {
        "id": "mPXTyXgbdrtw"
      },
      "execution_count": null,
      "outputs": []
    }
  ],
  "metadata": {
    "colab": {
      "provenance": [],
      "include_colab_link": true
    },
    "kernelspec": {
      "display_name": "Python 3",
      "name": "python3"
    },
    "language_info": {
      "name": "python"
    }
  },
  "nbformat": 4,
  "nbformat_minor": 0
}