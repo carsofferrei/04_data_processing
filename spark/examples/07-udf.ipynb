{
  "cells": [
    {
      "cell_type": "markdown",
      "metadata": {
        "id": "view-in-github",
        "colab_type": "text"
      },
      "source": [
        "<a href=\"https://colab.research.google.com/github/carsofferrei/04_data_processing/blob/main/spark/examples/07-udf.ipynb\" target=\"_parent\"><img src=\"https://colab.research.google.com/assets/colab-badge.svg\" alt=\"Open In Colab\"/></a>"
      ]
    },
    {
      "cell_type": "markdown",
      "metadata": {
        "id": "WlN-UqJCq5Q_"
      },
      "source": [
        "<a href=\"https://colab.research.google.com/github/lucprosa/dataeng-basic-course/blob/main/spark/examples/07-udf.ipynb\" target=\"_parent\"><img src=\"https://colab.research.google.com/assets/colab-badge.svg\" alt=\"Open In Colab\"/></a>"
      ]
    },
    {
      "cell_type": "markdown",
      "metadata": {
        "id": "BOA_wQSmLd9z"
      },
      "source": [
        "# UDF\n",
        "### Performance gaps with UDF\n",
        "\n",
        "- Serialization and Deserialization: Data needs to be serialized and deserialized between the JVM and Python processes. This back-and-forth communication can introduce latency.\n",
        "- Single-threaded Execution: UDFs in PySpark are executed in a single thread, making them less efficient compared to the parallel execution capabilities of native Spark functions.\n",
        "- Lack of Optimization: Spark’s Catalyst optimizer does not optimize UDFs, leading to potentially inefficient execution plans.\n",
        "\n",
        "### When to use\n",
        "- Use UDFs for logic that is difficult to express with built-in Apache Spark functions. Built-in Apache Spark functions are optimized for distributed processing and generally offer better performance at scale. For more information, see Functions.\n",
        "\n",
        "- Databricks recommends UDFs for ad hoc queries, manual data cleansing, exploratory data analysis, and operations on small to medium-sized datasets. Common use cases for UDFs include data encryption and decryption, hashing, JSON parsing, and validation.\n",
        "\n",
        "- Use Apache Spark methods for operations on very large datasets and any workloads that are run regularly or continuously, including ETL jobs and streaming operations."
      ]
    },
    {
      "cell_type": "markdown",
      "metadata": {
        "id": "d9LeYFsPTjAb"
      },
      "source": [
        "# Setting up PySpark"
      ]
    },
    {
      "cell_type": "code",
      "execution_count": 1,
      "metadata": {
        "colab": {
          "base_uri": "https://localhost:8080/"
        },
        "id": "uYXeODL0T1fO",
        "outputId": "32fb7302-c72d-43be-873c-bf23f3b0f416"
      },
      "outputs": [
        {
          "output_type": "stream",
          "name": "stdout",
          "text": [
            "Requirement already satisfied: pyspark in /usr/local/lib/python3.10/dist-packages (3.5.3)\n",
            "Requirement already satisfied: py4j==0.10.9.7 in /usr/local/lib/python3.10/dist-packages (from pyspark) (0.10.9.7)\n"
          ]
        }
      ],
      "source": [
        "%pip install pyspark"
      ]
    },
    {
      "cell_type": "code",
      "execution_count": 2,
      "metadata": {
        "id": "637HFw00T3LP"
      },
      "outputs": [],
      "source": [
        "from pyspark.sql import SparkSession\n",
        "spark = SparkSession.builder.master('local').appName('Spark Course').config('spark.ui.port', '4050').getOrCreate()\n",
        "sc = spark.sparkContext"
      ]
    },
    {
      "cell_type": "markdown",
      "metadata": {
        "id": "tyR1PQGxq5RC"
      },
      "source": [
        "# UDF"
      ]
    },
    {
      "cell_type": "code",
      "execution_count": 10,
      "metadata": {
        "colab": {
          "base_uri": "https://localhost:8080/"
        },
        "id": "cJW8fERxq5RC",
        "outputId": "2ff7ed90-c68c-43b4-eb3e-39f5b43fbbb4"
      },
      "outputs": [
        {
          "output_type": "stream",
          "name": "stdout",
          "text": [
            "+----------+--------------+------------+\n",
            "|slen(name)|to_upper(name)|add_one(age)|\n",
            "+----------+--------------+------------+\n",
            "|         8|      JOHN DOE|          22|\n",
            "+----------+--------------+------------+\n",
            "\n"
          ]
        }
      ],
      "source": [
        "# UDF examples\n",
        "\n",
        "from pyspark.sql.functions import udf\n",
        "from pyspark.sql.types import IntegerType\n",
        "\n",
        "slen = udf(lambda s: len(s), IntegerType())\n",
        "\n",
        "@udf\n",
        "def to_upper(s):\n",
        "    if s is not None:\n",
        "        return s.upper()\n",
        "\n",
        "@udf(returnType=IntegerType())\n",
        "def add_one(x):\n",
        "    if x is not None:\n",
        "        return x + 1\n",
        "\n",
        "df = spark.createDataFrame([(1, \"John Doe\", 21)], (\"id\", \"name\", \"age\"))\n",
        "df.select(slen(\"name\").alias(\"slen(name)\"), to_upper(\"name\"), add_one(\"age\")).show()"
      ]
    },
    {
      "cell_type": "code",
      "execution_count": 11,
      "metadata": {
        "id": "7Er_akN6suUy"
      },
      "outputs": [],
      "source": [
        "# Preparing the data\n",
        "employee_data = [(\"101\", \"Chloe\", 3),\n",
        "            (\"102\", \"Paul\", 1),\n",
        "            (\"103\", \"John\", 1),\n",
        "            (\"104\", \"Lisa\", 2),\n",
        "            (\"105\", \"Evan\", 3),\n",
        "            (\"106\", \"Amy\", 3),\n",
        "            (\"107\", \"Jimmy\", 5)]\n",
        "\n",
        "employee_columns = [\"id\", \"name\", \"dpto\"]\n",
        "\n",
        "employee = sc.parallelize(employee_data).toDF(employee_columns)"
      ]
    },
    {
      "cell_type": "code",
      "execution_count": 12,
      "metadata": {
        "colab": {
          "base_uri": "https://localhost:8080/"
        },
        "id": "55CrjaQZs7Fm",
        "outputId": "068f7d5c-a88f-45d0-81b6-ae259c16e20e"
      },
      "outputs": [
        {
          "output_type": "stream",
          "name": "stdout",
          "text": [
            "+---+-----+----+---------------+\n",
            "| id| name|dpto|additional_info|\n",
            "+---+-----+----+---------------+\n",
            "|101|Chloe|   3|          Chloe|\n",
            "|102| Paul|   1|           Paul|\n",
            "|103| John|   1|     John#FIRED|\n",
            "|104| Lisa|   2|     Lisa#FIRED|\n",
            "|105| Evan|   3|     Evan#FIRED|\n",
            "|106|  Amy|   3|            Amy|\n",
            "|107|Jimmy|   5|          Jimmy|\n",
            "+---+-----+----+---------------+\n",
            "\n"
          ]
        }
      ],
      "source": [
        "\n",
        "# Creating UDF to identify the employess that will be fired\n",
        "\n",
        "fired_employees = [\"John\", \"Lisa\", \"Evan\"]\n",
        "\n",
        "@udf\n",
        "def add_char_at_end(s, fired=fired_employees):\n",
        "  if s in fired:\n",
        "    return f\"{s}#FIRED\"\n",
        "  else:\n",
        "    return s\n",
        "\n",
        "employee.select(employee[\"*\"], add_char_at_end(\"name\").alias(\"additional_info\")).show()"
      ]
    },
    {
      "cell_type": "code",
      "execution_count": 13,
      "metadata": {
        "colab": {
          "base_uri": "https://localhost:8080/"
        },
        "id": "yqYB0iRtyfi9",
        "outputId": "863cc5bd-c30e-4c96-b83c-07306b901a06"
      },
      "outputs": [
        {
          "output_type": "stream",
          "name": "stdout",
          "text": [
            "+------+\n",
            "|length|\n",
            "+------+\n",
            "|    23|\n",
            "+------+\n",
            "\n"
          ]
        }
      ],
      "source": [
        "# Can be used in SQL\n",
        "\n",
        "slen = udf(lambda s: len(s), IntegerType())\n",
        "spark.udf.register(\"slen\", slen)\n",
        "\n",
        "qry2 = \"\"\"SELECT slen(\"Data Engineering Course\") AS length\"\"\"\n",
        "\n",
        "spark.sql(qry2).show()"
      ]
    },
    {
      "cell_type": "markdown",
      "source": [
        "# Question"
      ],
      "metadata": {
        "id": "vGrxQ-jbHVF9"
      }
    },
    {
      "cell_type": "code",
      "execution_count": null,
      "metadata": {
        "id": "dMaASP-rxwTp"
      },
      "outputs": [],
      "source": [
        "# Q1\n",
        "# Create an UDF to add the department name to the dataset based on dpto id\n",
        "# mapping: {1: \"Marketing\", 2: \"Sales\", 3: \"HR\", 4: \"Finance\", 5: \"IT\"}"
      ]
    },
    {
      "cell_type": "code",
      "source": [
        "from pyspark.sql.functions import udf\n",
        "from pyspark.sql.types import StringType\n",
        "\n",
        "# Preparing the data\n",
        "employee_data = [(\"101\", \"Chloe\", 3),\n",
        "            (\"102\", \"Paul\", 1),\n",
        "            (\"103\", \"John\", 1),\n",
        "            (\"104\", \"Lisa\", 2),\n",
        "            (\"105\", \"Evan\", 3),\n",
        "            (\"106\", \"Amy\", 3),\n",
        "            (\"107\", \"Jimmy\", 5)]\n",
        "\n",
        "employee_columns = [\"id\", \"name\", \"dpto\"]\n",
        "employee = sc.parallelize(employee_data).toDF(employee_columns)\n",
        "\n",
        "dpto_map = {1: \"Marketing\", 2: \"Sales\", 3: \"HR\", 4: \"Finance\", 5: \"IT\"}\n",
        "\n",
        "# Por dataframe\n",
        "@udf\n",
        "def add_depart_name(s, map = dpto_map):\n",
        "  return dpto_map[s]\n",
        "\n",
        "employee.select(employee[\"*\"], add_depart_name(\"dpto\").alias(\"add_depart_name\")).show()"
      ],
      "metadata": {
        "colab": {
          "base_uri": "https://localhost:8080/"
        },
        "id": "-jusKkihPr7h",
        "outputId": "59bff397-de0b-4b3a-bd73-852b5f98bf35"
      },
      "execution_count": 48,
      "outputs": [
        {
          "output_type": "stream",
          "name": "stdout",
          "text": [
            "+---+-----+----+---------------+\n",
            "| id| name|dpto|add_depart_name|\n",
            "+---+-----+----+---------------+\n",
            "|101|Chloe|   3|             HR|\n",
            "|102| Paul|   1|      Marketing|\n",
            "|103| John|   1|      Marketing|\n",
            "|104| Lisa|   2|          Sales|\n",
            "|105| Evan|   3|             HR|\n",
            "|106|  Amy|   3|             HR|\n",
            "|107|Jimmy|   5|             IT|\n",
            "+---+-----+----+---------------+\n",
            "\n"
          ]
        }
      ]
    },
    {
      "cell_type": "code",
      "source": [
        "# Recorrendo a SQL, é necessário criar em formato de tabela para conseguir aplicar SQL\n",
        "employee.createOrReplaceTempView(\"employee\")\n",
        "\n",
        "# Preciso para correr código SQL\n",
        "spark.udf.register(\"add_depart_name\", add_depart_name)\n",
        "\n",
        "spark.sql(\"select *, get_dpto_name(dpto) from employee\").show()"
      ],
      "metadata": {
        "colab": {
          "base_uri": "https://localhost:8080/"
        },
        "id": "-cbVbJaVWEHf",
        "outputId": "4ad1035c-4c66-4114-8f52-d24bc3dedd8e"
      },
      "execution_count": 49,
      "outputs": [
        {
          "output_type": "stream",
          "name": "stdout",
          "text": [
            "+---+-----+----+-------------------+\n",
            "| id| name|dpto|get_dpto_name(dpto)|\n",
            "+---+-----+----+-------------------+\n",
            "|101|Chloe|   3|                 HR|\n",
            "|102| Paul|   1|          Marketing|\n",
            "|103| John|   1|          Marketing|\n",
            "|104| Lisa|   2|              Sales|\n",
            "|105| Evan|   3|                 HR|\n",
            "|106|  Amy|   3|                 HR|\n",
            "|107|Jimmy|   5|                 IT|\n",
            "+---+-----+----+-------------------+\n",
            "\n"
          ]
        }
      ]
    }
  ],
  "metadata": {
    "colab": {
      "provenance": [],
      "include_colab_link": true
    },
    "kernelspec": {
      "display_name": "Python 3",
      "name": "python3"
    },
    "language_info": {
      "name": "python"
    }
  },
  "nbformat": 4,
  "nbformat_minor": 0
}