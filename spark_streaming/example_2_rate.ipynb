{
  "cells": [
    {
      "cell_type": "markdown",
      "metadata": {
        "id": "view-in-github",
        "colab_type": "text"
      },
      "source": [
        "<a href=\"https://colab.research.google.com/github/carsofferrei/04_data_processing/blob/main/spark_streaming/example_2_rate.ipynb\" target=\"_parent\"><img src=\"https://colab.research.google.com/assets/colab-badge.svg\" alt=\"Open In Colab\"/></a>"
      ]
    },
    {
      "cell_type": "markdown",
      "metadata": {
        "id": "4_GBE9UsyxwK"
      },
      "source": []
    },
    {
      "cell_type": "markdown",
      "metadata": {
        "id": "BOA_wQSmLd9z"
      },
      "source": [
        "# Usecase 2\n",
        "- Reading data from \"rate\"\n",
        "- Aggregating data by window time\n",
        "- Checking results from query in memory"
      ]
    },
    {
      "cell_type": "markdown",
      "metadata": {
        "id": "d9LeYFsPTjAb"
      },
      "source": [
        "# Setting up PySpark"
      ]
    },
    {
      "cell_type": "code",
      "execution_count": 1,
      "metadata": {
        "colab": {
          "base_uri": "https://localhost:8080/"
        },
        "id": "uYXeODL0T1fO",
        "outputId": "d1cf8eff-5b26-4374-8485-8fdec3f420de"
      },
      "outputs": [
        {
          "output_type": "stream",
          "name": "stdout",
          "text": [
            "Requirement already satisfied: pyspark in /usr/local/lib/python3.10/dist-packages (3.5.3)\n",
            "Requirement already satisfied: py4j==0.10.9.7 in /usr/local/lib/python3.10/dist-packages (from pyspark) (0.10.9.7)\n"
          ]
        }
      ],
      "source": [
        "%pip install pyspark"
      ]
    },
    {
      "cell_type": "code",
      "execution_count": 2,
      "metadata": {
        "id": "637HFw00T3LP"
      },
      "outputs": [],
      "source": [
        "from pyspark.sql import SparkSession\n",
        "\n",
        "spark = SparkSession.builder.master('local').appName('Test streaming').getOrCreate()"
      ]
    },
    {
      "cell_type": "markdown",
      "source": [
        "# Write output in memory"
      ],
      "metadata": {
        "id": "NwzaZIoxqvrd"
      }
    },
    {
      "cell_type": "code",
      "execution_count": 3,
      "metadata": {
        "id": "I4mGPfB-Xg_C"
      },
      "outputs": [],
      "source": [
        "import pyspark.sql.functions as F\n",
        "\n",
        "# read stream\n",
        "stream1 = spark.readStream.format(\"rate\").option(\"rowsPerSecond\", 10).load() #Escreve 10 ficheiros por segundo\n",
        "\n",
        "# transform\n",
        "transformed = stream1.withColumn(\"minute\", F.minute(\"timestamp\"))\n",
        "agg = transformed.groupBy(F.window(transformed.timestamp, \"5 seconds\")).count() #Intervalos de 5 em 5 segundos\n",
        "\n",
        "# write stream in memory\n",
        "query = (agg.writeStream\n",
        ".format('memory')\n",
        ".queryName('my_query')\n",
        ".outputMode('complete')\n",
        ".start()\n",
        ")"
      ]
    },
    {
      "cell_type": "code",
      "execution_count": 30,
      "metadata": {
        "colab": {
          "base_uri": "https://localhost:8080/"
        },
        "id": "UmLQLr1uX6w-",
        "outputId": "0c3b9c59-65cb-4994-e843-7affde6d24e3"
      },
      "outputs": [
        {
          "output_type": "stream",
          "name": "stdout",
          "text": [
            "+------------------------------------------+-----+\n",
            "|window                                    |count|\n",
            "+------------------------------------------+-----+\n",
            "|{2024-11-23 15:50:05, 2024-11-23 15:50:10}|30   |\n",
            "|{2024-11-23 15:50:00, 2024-11-23 15:50:05}|50   |\n",
            "|{2024-11-23 15:49:55, 2024-11-23 15:50:00}|50   |\n",
            "|{2024-11-23 15:49:50, 2024-11-23 15:49:55}|50   |\n",
            "|{2024-11-23 15:49:45, 2024-11-23 15:49:50}|50   |\n",
            "|{2024-11-23 15:49:40, 2024-11-23 15:49:45}|50   |\n",
            "|{2024-11-23 15:49:35, 2024-11-23 15:49:40}|10   |\n",
            "+------------------------------------------+-----+\n",
            "\n"
          ]
        }
      ],
      "source": [
        "spark.sql(\"select * from my_query order by window desc\").show(10,False)"
      ]
    },
    {
      "cell_type": "code",
      "execution_count": 31,
      "metadata": {
        "id": "TbLt4cUkX-JZ"
      },
      "outputs": [],
      "source": [
        "query.stop()"
      ]
    },
    {
      "cell_type": "markdown",
      "source": [
        "# Write output as parquet"
      ],
      "metadata": {
        "id": "Dc3r3j-wj16K"
      }
    },
    {
      "cell_type": "code",
      "source": [
        "!rm -rf content/output"
      ],
      "metadata": {
        "id": "N_BZRFCCpGq9"
      },
      "execution_count": 32,
      "outputs": []
    },
    {
      "cell_type": "code",
      "execution_count": 33,
      "metadata": {
        "id": "v180mzIciVZH"
      },
      "outputs": [],
      "source": [
        "import pyspark.sql.functions as F\n",
        "from pyspark.sql import DataFrame\n",
        "\n",
        "def save_parquet(df, batch_id):\n",
        "  (df\n",
        "   .withColumn(\"batch_id\",F.lit(batch_id))\n",
        "   .withColumn(\"load_time\",F.current_timestamp())\n",
        "   .write.mode(\"append\")\n",
        "   .parquet(\"content/output/rate_parquet\")\n",
        "  )\n",
        "\n",
        "# read stream\n",
        "stream1 = spark.readStream.format(\"rate\").option(\"rowsPerSecond\", 10).load()\n",
        "\n",
        "# transform\n",
        "transformed = stream1.withWatermark(\"timestamp\", \"5 seconds\").withColumn(\"minute\", F.minute(\"timestamp\"))\n",
        "agg = transformed.groupBy(F.window(transformed.timestamp, \"5 seconds\")).count()\n",
        "\n",
        "# write stream as parquet with foreachBatch\n",
        "query = (agg.writeStream\n",
        ".option('checkpointLocation', 'content/output/checkpoint')\n",
        ".trigger(processingTime='20 seconds') # se esta janela for menor que os 5 segundos pode gerar duplicados\n",
        ".outputMode('append')\n",
        ".foreachBatch(save_parquet) # Dentro desta função passo a lógica de escrita através de um método\n",
        ".start()\n",
        ")\n"
      ]
    },
    {
      "cell_type": "code",
      "source": [
        "result = spark.read.format(\"parquet\").load(\"content/output/rate_parquet/\")\n",
        "result.sort(F.asc(\"window\")).show(100, False)\n",
        "\n",
        "# load_time - exatamente o momento em que escreveu"
      ],
      "metadata": {
        "colab": {
          "base_uri": "https://localhost:8080/"
        },
        "id": "-3SWIR6Ml8Al",
        "outputId": "16b98440-217a-44fc-ebc6-777e0a047299"
      },
      "execution_count": 39,
      "outputs": [
        {
          "output_type": "stream",
          "name": "stdout",
          "text": [
            "+------------------------------------------+-----+--------+--------------------------+\n",
            "|window                                    |count|batch_id|load_time                 |\n",
            "+------------------------------------------+-----+--------+--------------------------+\n",
            "|{2024-11-23 15:55:25, 2024-11-23 15:55:30}|14   |2       |2024-11-23 15:56:00.250838|\n",
            "|{2024-11-23 15:55:30, 2024-11-23 15:55:35}|50   |2       |2024-11-23 15:56:00.250838|\n",
            "|{2024-11-23 15:55:35, 2024-11-23 15:55:40}|50   |3       |2024-11-23 15:56:20.296245|\n",
            "|{2024-11-23 15:55:40, 2024-11-23 15:55:45}|50   |3       |2024-11-23 15:56:20.296245|\n",
            "|{2024-11-23 15:55:45, 2024-11-23 15:55:50}|50   |3       |2024-11-23 15:56:20.296245|\n",
            "|{2024-11-23 15:55:50, 2024-11-23 15:55:55}|50   |4       |2024-11-23 15:56:40.280023|\n",
            "|{2024-11-23 15:55:55, 2024-11-23 15:56:00}|50   |4       |2024-11-23 15:56:40.280023|\n",
            "|{2024-11-23 15:56:00, 2024-11-23 15:56:05}|50   |4       |2024-11-23 15:56:40.280023|\n",
            "|{2024-11-23 15:56:05, 2024-11-23 15:56:10}|50   |4       |2024-11-23 15:56:40.280023|\n",
            "|{2024-11-23 15:56:10, 2024-11-23 15:56:15}|50   |5       |2024-11-23 15:57:00.20245 |\n",
            "|{2024-11-23 15:56:15, 2024-11-23 15:56:20}|50   |5       |2024-11-23 15:57:00.20245 |\n",
            "|{2024-11-23 15:56:20, 2024-11-23 15:56:25}|50   |5       |2024-11-23 15:57:00.20245 |\n",
            "|{2024-11-23 15:56:25, 2024-11-23 15:56:30}|50   |5       |2024-11-23 15:57:00.20245 |\n",
            "|{2024-11-23 15:56:30, 2024-11-23 15:56:35}|50   |6       |2024-11-23 15:57:20.233146|\n",
            "|{2024-11-23 15:56:35, 2024-11-23 15:56:40}|50   |6       |2024-11-23 15:57:20.233146|\n",
            "|{2024-11-23 15:56:40, 2024-11-23 15:56:45}|50   |6       |2024-11-23 15:57:20.233146|\n",
            "|{2024-11-23 15:56:45, 2024-11-23 15:56:50}|50   |6       |2024-11-23 15:57:20.233146|\n",
            "|{2024-11-23 15:56:50, 2024-11-23 15:56:55}|50   |7       |2024-11-23 15:57:40.247186|\n",
            "|{2024-11-23 15:56:55, 2024-11-23 15:57:00}|50   |7       |2024-11-23 15:57:40.247186|\n",
            "|{2024-11-23 15:57:00, 2024-11-23 15:57:05}|50   |7       |2024-11-23 15:57:40.247186|\n",
            "|{2024-11-23 15:57:05, 2024-11-23 15:57:10}|50   |7       |2024-11-23 15:57:40.247186|\n",
            "|{2024-11-23 15:57:10, 2024-11-23 15:57:15}|50   |8       |2024-11-23 15:58:00.196542|\n",
            "|{2024-11-23 15:57:15, 2024-11-23 15:57:20}|50   |8       |2024-11-23 15:58:00.196542|\n",
            "|{2024-11-23 15:57:20, 2024-11-23 15:57:25}|50   |8       |2024-11-23 15:58:00.196542|\n",
            "|{2024-11-23 15:57:25, 2024-11-23 15:57:30}|50   |8       |2024-11-23 15:58:00.196542|\n",
            "+------------------------------------------+-----+--------+--------------------------+\n",
            "\n"
          ]
        }
      ]
    },
    {
      "cell_type": "code",
      "source": [
        "query.stop()"
      ],
      "metadata": {
        "id": "DKB-MAPOoEre",
        "colab": {
          "base_uri": "https://localhost:8080/"
        },
        "outputId": "81f63b1c-85dd-4ec1-ef92-085d53063752"
      },
      "execution_count": 40,
      "outputs": [
        {
          "output_type": "stream",
          "name": "stderr",
          "text": [
            "ERROR:py4j.clientserver:There was an exception while executing the Python Proxy on the Python Side.\n",
            "Traceback (most recent call last):\n",
            "  File \"/usr/local/lib/python3.10/dist-packages/py4j/clientserver.py\", line 617, in _call_proxy\n",
            "    return_value = getattr(self.pool[obj_id], method)(*params)\n",
            "  File \"/usr/local/lib/python3.10/dist-packages/pyspark/sql/utils.py\", line 120, in call\n",
            "    raise e\n",
            "  File \"/usr/local/lib/python3.10/dist-packages/pyspark/sql/utils.py\", line 117, in call\n",
            "    self.func(DataFrame(jdf, wrapped_session_jdf), batch_id)\n",
            "  File \"<ipython-input-33-bd46483e2cb2>\", line 9, in save_parquet\n",
            "    .parquet(\"content/output/rate_parquet\")\n",
            "  File \"/usr/local/lib/python3.10/dist-packages/pyspark/sql/readwriter.py\", line 1721, in parquet\n",
            "    self._jwrite.parquet(path)\n",
            "  File \"/usr/local/lib/python3.10/dist-packages/py4j/java_gateway.py\", line 1322, in __call__\n",
            "    return_value = get_return_value(\n",
            "  File \"/usr/local/lib/python3.10/dist-packages/pyspark/errors/exceptions/captured.py\", line 179, in deco\n",
            "    return f(*a, **kw)\n",
            "  File \"/usr/local/lib/python3.10/dist-packages/py4j/protocol.py\", line 326, in get_return_value\n",
            "    raise Py4JJavaError(\n",
            "py4j.protocol.Py4JJavaError: An error occurred while calling o310.parquet.\n",
            ": java.lang.InterruptedException\n",
            "\tat java.base/java.util.concurrent.locks.AbstractQueuedSynchronizer.doAcquireSharedInterruptibly(AbstractQueuedSynchronizer.java:1040)\n",
            "\tat java.base/java.util.concurrent.locks.AbstractQueuedSynchronizer.acquireSharedInterruptibly(AbstractQueuedSynchronizer.java:1345)\n",
            "\tat scala.concurrent.impl.Promise$DefaultPromise.tryAwait(Promise.scala:242)\n",
            "\tat scala.concurrent.impl.Promise$DefaultPromise.ready(Promise.scala:258)\n",
            "\tat scala.concurrent.impl.Promise$DefaultPromise.ready(Promise.scala:187)\n",
            "\tat org.apache.spark.util.ThreadUtils$.awaitReady(ThreadUtils.scala:342)\n",
            "\tat org.apache.spark.scheduler.DAGScheduler.runJob(DAGScheduler.scala:980)\n",
            "\tat org.apache.spark.SparkContext.runJob(SparkContext.scala:2393)\n",
            "\tat org.apache.spark.sql.execution.datasources.FileFormatWriter$.$anonfun$executeWrite$4(FileFormatWriter.scala:307)\n",
            "\tat org.apache.spark.sql.execution.datasources.FileFormatWriter$.writeAndCommit(FileFormatWriter.scala:271)\n",
            "\tat org.apache.spark.sql.execution.datasources.FileFormatWriter$.executeWrite(FileFormatWriter.scala:304)\n",
            "\tat org.apache.spark.sql.execution.datasources.FileFormatWriter$.write(FileFormatWriter.scala:190)\n",
            "\tat org.apache.spark.sql.execution.datasources.InsertIntoHadoopFsRelationCommand.run(InsertIntoHadoopFsRelationCommand.scala:190)\n",
            "\tat org.apache.spark.sql.execution.command.DataWritingCommandExec.sideEffectResult$lzycompute(commands.scala:113)\n",
            "\tat org.apache.spark.sql.execution.command.DataWritingCommandExec.sideEffectResult(commands.scala:111)\n",
            "\tat org.apache.spark.sql.execution.command.DataWritingCommandExec.executeCollect(commands.scala:125)\n",
            "\tat org.apache.spark.sql.execution.QueryExecution$$anonfun$eagerlyExecuteCommands$1.$anonfun$applyOrElse$1(QueryExecution.scala:107)\n",
            "\tat org.apache.spark.sql.execution.SQLExecution$.$anonfun$withNewExecutionId$6(SQLExecution.scala:125)\n",
            "\tat org.apache.spark.sql.execution.SQLExecution$.withSQLConfPropagated(SQLExecution.scala:201)\n",
            "\tat org.apache.spark.sql.execution.SQLExecution$.$anonfun$withNewExecutionId$1(SQLExecution.scala:108)\n",
            "\tat org.apache.spark.sql.SparkSession.withActive(SparkSession.scala:900)\n",
            "\tat org.apache.spark.sql.execution.SQLExecution$.withNewExecutionId(SQLExecution.scala:66)\n",
            "\tat org.apache.spark.sql.execution.QueryExecution$$anonfun$eagerlyExecuteCommands$1.applyOrElse(QueryExecution.scala:107)\n",
            "\tat org.apache.spark.sql.execution.QueryExecution$$anonfun$eagerlyExecuteCommands$1.applyOrElse(QueryExecution.scala:98)\n",
            "\tat org.apache.spark.sql.catalyst.trees.TreeNode.$anonfun$transformDownWithPruning$1(TreeNode.scala:461)\n",
            "\tat org.apache.spark.sql.catalyst.trees.CurrentOrigin$.withOrigin(origin.scala:76)\n",
            "\tat org.apache.spark.sql.catalyst.trees.TreeNode.transformDownWithPruning(TreeNode.scala:461)\n",
            "\tat org.apache.spark.sql.catalyst.plans.logical.LogicalPlan.org$apache$spark$sql$catalyst$plans$logical$AnalysisHelper$$super$transformDownWithPruning(LogicalPlan.scala:32)\n",
            "\tat org.apache.spark.sql.catalyst.plans.logical.AnalysisHelper.transformDownWithPruning(AnalysisHelper.scala:267)\n",
            "\tat org.apache.spark.sql.catalyst.plans.logical.AnalysisHelper.transformDownWithPruning$(AnalysisHelper.scala:263)\n",
            "\tat org.apache.spark.sql.catalyst.plans.logical.LogicalPlan.transformDownWithPruning(LogicalPlan.scala:32)\n",
            "\tat org.apache.spark.sql.catalyst.plans.logical.LogicalPlan.transformDownWithPruning(LogicalPlan.scala:32)\n",
            "\tat org.apache.spark.sql.catalyst.trees.TreeNode.transformDown(TreeNode.scala:437)\n",
            "\tat org.apache.spark.sql.execution.QueryExecution.eagerlyExecuteCommands(QueryExecution.scala:98)\n",
            "\tat org.apache.spark.sql.execution.QueryExecution.commandExecuted$lzycompute(QueryExecution.scala:85)\n",
            "\tat org.apache.spark.sql.execution.QueryExecution.commandExecuted(QueryExecution.scala:83)\n",
            "\tat org.apache.spark.sql.execution.QueryExecution.assertCommandExecuted(QueryExecution.scala:142)\n",
            "\tat org.apache.spark.sql.DataFrameWriter.runCommand(DataFrameWriter.scala:869)\n",
            "\tat org.apache.spark.sql.DataFrameWriter.saveToV1Source(DataFrameWriter.scala:391)\n",
            "\tat org.apache.spark.sql.DataFrameWriter.saveInternal(DataFrameWriter.scala:364)\n",
            "\tat org.apache.spark.sql.DataFrameWriter.save(DataFrameWriter.scala:243)\n",
            "\tat org.apache.spark.sql.DataFrameWriter.parquet(DataFrameWriter.scala:802)\n",
            "\tat java.base/jdk.internal.reflect.NativeMethodAccessorImpl.invoke0(Native Method)\n",
            "\tat java.base/jdk.internal.reflect.NativeMethodAccessorImpl.invoke(NativeMethodAccessorImpl.java:62)\n",
            "\tat java.base/jdk.internal.reflect.DelegatingMethodAccessorImpl.invoke(DelegatingMethodAccessorImpl.java:43)\n",
            "\tat java.base/java.lang.reflect.Method.invoke(Method.java:566)\n",
            "\tat py4j.reflection.MethodInvoker.invoke(MethodInvoker.java:244)\n",
            "\tat py4j.reflection.ReflectionEngine.invoke(ReflectionEngine.java:374)\n",
            "\tat py4j.Gateway.invoke(Gateway.java:282)\n",
            "\tat py4j.commands.AbstractCommand.invokeMethod(AbstractCommand.java:132)\n",
            "\tat py4j.commands.CallCommand.execute(CallCommand.java:79)\n",
            "\tat py4j.ClientServerConnection.sendCommand(ClientServerConnection.java:244)\n",
            "\tat py4j.CallbackClient.sendCommand(CallbackClient.java:384)\n",
            "\tat py4j.CallbackClient.sendCommand(CallbackClient.java:356)\n",
            "\tat py4j.reflection.PythonProxyHandler.invoke(PythonProxyHandler.java:106)\n",
            "\tat com.sun.proxy.$Proxy36.call(Unknown Source)\n",
            "\tat org.apache.spark.sql.execution.streaming.sources.PythonForeachBatchHelper$.$anonfun$callForeachBatch$1(ForeachBatchSink.scala:53)\n",
            "\tat org.apache.spark.sql.execution.streaming.sources.PythonForeachBatchHelper$.$anonfun$callForeachBatch$1$adapted(ForeachBatchSink.scala:53)\n",
            "\tat org.apache.spark.sql.execution.streaming.sources.ForeachBatchSink.addBatch(ForeachBatchSink.scala:34)\n",
            "\tat org.apache.spark.sql.execution.streaming.MicroBatchExecution.$anonfun$runBatch$17(MicroBatchExecution.scala:732)\n",
            "\tat org.apache.spark.sql.execution.SQLExecution$.$anonfun$withNewExecutionId$6(SQLExecution.scala:125)\n",
            "\tat org.apache.spark.sql.execution.SQLExecution$.withSQLConfPropagated(SQLExecution.scala:201)\n",
            "\tat org.apache.spark.sql.execution.SQLExecution$.$anonfun$withNewExecutionId$1(SQLExecution.scala:108)\n",
            "\tat org.apache.spark.sql.SparkSession.withActive(SparkSession.scala:900)\n",
            "\tat org.apache.spark.sql.execution.SQLExecution$.withNewExecutionId(SQLExecution.scala:66)\n",
            "\tat org.apache.spark.sql.execution.streaming.MicroBatchExecution.$anonfun$runBatch$16(MicroBatchExecution.scala:729)\n",
            "\tat org.apache.spark.sql.execution.streaming.ProgressReporter.reportTimeTaken(ProgressReporter.scala:427)\n",
            "\tat org.apache.spark.sql.execution.streaming.ProgressReporter.reportTimeTaken$(ProgressReporter.scala:425)\n",
            "\tat org.apache.spark.sql.execution.streaming.StreamExecution.reportTimeTaken(StreamExecution.scala:67)\n",
            "\tat org.apache.spark.sql.execution.streaming.MicroBatchExecution.runBatch(MicroBatchExecution.scala:729)\n",
            "\tat org.apache.spark.sql.execution.streaming.MicroBatchExecution.$anonfun$runActivatedStream$2(MicroBatchExecution.scala:286)\n",
            "\tat scala.runtime.java8.JFunction0$mcV$sp.apply(JFunction0$mcV$sp.java:23)\n",
            "\tat org.apache.spark.sql.execution.streaming.ProgressReporter.reportTimeTaken(ProgressReporter.scala:427)\n",
            "\tat org.apache.spark.sql.execution.streaming.ProgressReporter.reportTimeTaken$(ProgressReporter.scala:425)\n",
            "\tat org.apache.spark.sql.execution.streaming.StreamExecution.reportTimeTaken(StreamExecution.scala:67)\n",
            "\tat org.apache.spark.sql.execution.streaming.MicroBatchExecution.$anonfun$runActivatedStream$1(MicroBatchExecution.scala:249)\n",
            "\tat org.apache.spark.sql.execution.streaming.ProcessingTimeExecutor.execute(TriggerExecutor.scala:67)\n",
            "\tat org.apache.spark.sql.execution.streaming.MicroBatchExecution.runActivatedStream(MicroBatchExecution.scala:239)\n",
            "\tat org.apache.spark.sql.execution.streaming.StreamExecution.$anonfun$runStream$1(StreamExecution.scala:311)\n",
            "\tat scala.runtime.java8.JFunction0$mcV$sp.apply(JFunction0$mcV$sp.java:23)\n",
            "\tat org.apache.spark.sql.SparkSession.withActive(SparkSession.scala:900)\n",
            "\tat org.apache.spark.sql.execution.streaming.StreamExecution.org$apache$spark$sql$execution$streaming$StreamExecution$$runStream(StreamExecution.scala:289)\n",
            "\tat org.apache.spark.sql.execution.streaming.StreamExecution$$anon$1.$anonfun$run$1(StreamExecution.scala:211)\n",
            "\tat scala.runtime.java8.JFunction0$mcV$sp.apply(JFunction0$mcV$sp.java:23)\n",
            "\tat org.apache.spark.JobArtifactSet$.withActiveJobArtifactState(JobArtifactSet.scala:94)\n",
            "\tat org.apache.spark.sql.execution.streaming.StreamExecution$$anon$1.run(StreamExecution.scala:211)\n",
            "\n"
          ]
        }
      ]
    },
    {
      "cell_type": "markdown",
      "source": [
        "# Enrich data with faker"
      ],
      "metadata": {
        "id": "GjAp1IKnvteX"
      }
    },
    {
      "cell_type": "code",
      "source": [
        "!pip install faker"
      ],
      "metadata": {
        "id": "_gauZX8MFP5f",
        "outputId": "403aa76a-186f-4194-f651-55aed9da700a",
        "colab": {
          "base_uri": "https://localhost:8080/"
        }
      },
      "execution_count": 41,
      "outputs": [
        {
          "output_type": "stream",
          "name": "stdout",
          "text": [
            "Collecting faker\n",
            "  Downloading Faker-33.0.0-py3-none-any.whl.metadata (15 kB)\n",
            "Requirement already satisfied: python-dateutil>=2.4 in /usr/local/lib/python3.10/dist-packages (from faker) (2.8.2)\n",
            "Requirement already satisfied: typing-extensions in /usr/local/lib/python3.10/dist-packages (from faker) (4.12.2)\n",
            "Requirement already satisfied: six>=1.5 in /usr/local/lib/python3.10/dist-packages (from python-dateutil>=2.4->faker) (1.16.0)\n",
            "Downloading Faker-33.0.0-py3-none-any.whl (1.9 MB)\n",
            "\u001b[2K   \u001b[90m━━━━━━━━━━━━━━━━━━━━━━━━━━━━━━━━━━━━━━━━\u001b[0m \u001b[32m1.9/1.9 MB\u001b[0m \u001b[31m21.9 MB/s\u001b[0m eta \u001b[36m0:00:00\u001b[0m\n",
            "\u001b[?25hInstalling collected packages: faker\n",
            "Successfully installed faker-33.0.0\n"
          ]
        }
      ]
    },
    {
      "cell_type": "code",
      "source": [
        "!rm -rf content/output/events"
      ],
      "metadata": {
        "id": "UFND4p5-2Na5"
      },
      "execution_count": 42,
      "outputs": []
    },
    {
      "cell_type": "code",
      "source": [
        "import pyspark.sql.functions as F\n",
        "from pyspark.sql import DataFrame\n",
        "from faker import Faker\n",
        "\n",
        "def insert_into_table(df, batch_id):\n",
        "  fake = Faker()\n",
        "  new_columns = {\n",
        "      'name': F.lit(fake.name()),\n",
        "      'address': F.lit(fake.address()),\n",
        "      'email': F.lit(fake.email()),\n",
        "      'dob': F.lit(fake.date_of_birth()),\n",
        "      'phone': F.lit(fake.phone_number())\n",
        "  }\n",
        "  df = df.withColumns(new_columns)\n",
        "  df.write.mode(\"append\").format(\"parquet\").save(\"content/output/events\")\n",
        "\n",
        "# read stream\n",
        "df_stream = spark.readStream.format(\"rate\").option(\"rowsPerSecond\", 1).load()\n",
        "\n",
        "# write stream\n",
        "query = (df_stream.writeStream\n",
        ".outputMode('append')\n",
        ".trigger(processingTime='1 seconds')\n",
        ".foreachBatch(insert_into_table)\n",
        ".start()\n",
        ")"
      ],
      "metadata": {
        "id": "WCUhAzDOD4Q3"
      },
      "execution_count": 43,
      "outputs": []
    },
    {
      "cell_type": "code",
      "source": [
        "query.stop()\n"
      ],
      "metadata": {
        "id": "KEMAlpKhwLNu"
      },
      "execution_count": 45,
      "outputs": []
    },
    {
      "cell_type": "code",
      "source": [
        "spark.read.parquet(\"content/output/events\").show(100, False)"
      ],
      "metadata": {
        "id": "89s50dHjECqk",
        "outputId": "0af894d0-d958-4e6b-c43d-76872d7497d3",
        "colab": {
          "base_uri": "https://localhost:8080/"
        }
      },
      "execution_count": 46,
      "outputs": [
        {
          "output_type": "stream",
          "name": "stdout",
          "text": [
            "+-----------------------+-----+-------------------------+-------------------------------------------------------------+-----------------------------+----------+----------------------+\n",
            "|timestamp              |value|name                     |address                                                      |email                        |dob       |phone                 |\n",
            "+-----------------------+-----+-------------------------+-------------------------------------------------------------+-----------------------------+----------+----------------------+\n",
            "|2024-11-23 16:02:24.176|45   |Annette Cummings         |049 Hendrix Greens Suite 151\\nSouth Brandonville, NH 18912   |traceytrujillo@example.com   |1912-08-03|001-852-431-0385x28876|\n",
            "|2024-11-23 16:01:59.176|20   |Mrs. Crystal Johnston DDS|268 Brandy Ridge Apt. 864\\nNorth Brookemouth, MA 55871       |cgomez@example.com           |1965-06-24|001-510-544-3931x5468 |\n",
            "|2024-11-23 16:03:11.176|92   |Raymond Johnson          |082 Price Gateway Apt. 786\\nWest Dianamouth, PA 94832        |mendezstephanie@example.com  |1935-12-19|001-793-628-4507x9941 |\n",
            "|2024-11-23 16:01:39.176|0    |Eric Williams            |94337 Harrington Crossroad Suite 587\\nNew Lisa, MS 14198     |johnsonchristina@example.net |1992-02-27|(894)658-6725x016     |\n",
            "|2024-11-23 16:02:05.176|26   |Courtney Bartlett        |2582 Trujillo Underpass Apt. 911\\nCartershire, GA 72219      |samantha35@example.org       |1997-10-02|356.267.2218x1212     |\n",
            "|2024-11-23 16:02:53.176|74   |Sarah Shaffer            |024 Myers Rue Suite 578\\nPort Brentfurt, GA 02023            |mcintoshgregory@example.org  |2002-09-27|+1-797-610-5786x62532 |\n",
            "|2024-11-23 16:02:55.176|76   |Samantha Mitchell        |55360 Norman Expressway\\nRyanburgh, GU 83845                 |kathleenwilliams@example.com |1950-07-10|001-891-268-3037x6921 |\n",
            "|2024-11-23 16:03:17.176|98   |Julie Stephens           |3625 Melissa Turnpike Suite 904\\nSouth Christyhaven, RI 79947|christina32@example.org      |2003-11-04|807.262.5176          |\n",
            "|2024-11-23 16:02:49.176|70   |Janice Smith             |95183 Stewart Estates Suite 267\\nNew Taylor, OR 02346        |jenniferfox@example.org      |1983-10-11|001-346-363-2593x40406|\n",
            "|2024-11-23 16:01:46.176|7    |Victoria Gonzalez        |516 Castillo Ranch Suite 972\\nWilkinsonmouth, OH 84382       |cynthiamahoney@example.org   |1922-05-29|724-238-4886          |\n",
            "|2024-11-23 16:02:33.176|54   |Curtis Jimenez           |04145 Beasley Courts Suite 288\\nPort Angelaside, CA 66163    |foxchristopher@example.org   |1915-07-04|259-352-6454          |\n",
            "|2024-11-23 16:03:47.176|128  |Melissa Gibson           |0847 Megan Shores Suite 278\\nPort Stephanieberg, MN 89979    |lisafox@example.net          |1951-08-15|+1-293-949-8843x239   |\n",
            "|2024-11-23 16:03:20.176|101  |Joseph Potter            |3166 Jacob Lane Suite 519\\nLake Cindychester, MI 33712       |rachelmartinez@example.org   |2016-03-12|001-379-237-4030      |\n",
            "|2024-11-23 16:03:27.176|108  |Vickie Kaufman           |2918 Gray Harbors Suite 063\\nNorth Johnchester, VT 48536     |wallacewayne@example.net     |1999-07-21|+1-758-384-0033       |\n",
            "|2024-11-23 16:02:54.176|75   |Elizabeth Mcbride        |3131 Gaines Street Apt. 608\\nJohnsonview, MI 01500           |megan40@example.org          |1921-10-13|001-914-813-1632x70804|\n",
            "|2024-11-23 16:01:53.176|14   |Wendy Wallace            |175 Russell Stravenue\\nJeffreybury, GA 78056                 |benjaminrodriguez@example.com|1978-12-14|001-903-667-7616x1578 |\n",
            "|2024-11-23 16:02:30.176|51   |Maxwell Randall          |64898 Stephen Knoll Apt. 197\\nWest Katherine, NH 71374       |alexis43@example.org         |1921-04-30|(943)764-0769x8132    |\n",
            "|2024-11-23 16:03:10.176|91   |Michael Henson           |94324 Campos Point Apt. 492\\nPort Cheyenneborough, PW 23157  |uryan@example.com            |1957-10-15|968-869-9758x252      |\n",
            "|2024-11-23 16:02:26.176|47   |Lisa Vega                |428 Chad Viaduct Apt. 563\\nEast Jennaview, WY 28932          |wilkersonmallory@example.net |2017-07-18|903.946.7698x75958    |\n",
            "|2024-11-23 16:03:50.176|131  |Carrie Berry             |7658 Scott Streets\\nEast Christinaside, KS 15035             |gallagherannette@example.com |1982-04-04|532-606-7278x46266    |\n",
            "|2024-11-23 16:02:52.176|73   |Catherine Ellis          |07113 Patton Meadow Suite 699\\nPeterhaven, RI 50787          |vmedina@example.net          |1942-06-01|001-650-701-9305x3514 |\n",
            "|2024-11-23 16:02:17.176|38   |Victoria Hanson          |098 Hudson Squares Apt. 876\\nThomasfurt, GU 86905            |dianeross@example.com        |1929-01-31|+1-423-887-6674x78786 |\n",
            "|2024-11-23 16:01:51.176|12   |Dr. Debbie Smith         |3597 Pugh Junctions Apt. 110\\nWatkinschester, AK 96472       |iduncan@example.net          |1917-02-25|(999)507-3972x285     |\n",
            "|2024-11-23 16:03:56.176|137  |Jessica Gross            |2010 Torres Drives Apt. 578\\nWest Christophermouth, MD 08359 |cmorgan@example.net          |2003-05-07|(261)792-4576         |\n",
            "|2024-11-23 16:02:45.176|66   |Michael Shea             |68677 Miles Stravenue Apt. 081\\nShellyview, IL 41789         |cooperdanny@example.com      |1960-03-06|208-579-4772x9256     |\n",
            "|2024-11-23 16:02:43.176|64   |Austin Boyd              |86838 Schneider Way Apt. 971\\nRoblesmouth, OH 91060          |melissa08@example.net        |1942-06-22|001-720-333-5423x0810 |\n",
            "|2024-11-23 16:03:22.176|103  |Michael Maldonado        |563 Johnson Stream Apt. 159\\nNew Sandy, NV 90794             |jesse02@example.com          |1934-06-07|+1-256-394-2952x3253  |\n",
            "|2024-11-23 16:01:44.176|5    |Benjamin Harris          |15410 Jacob Wells Suite 355\\nLake Nicole, MA 53230           |autumnphillips@example.net   |1945-01-24|916.630.9209          |\n",
            "|2024-11-23 16:03:28.176|109  |Andrea Moore             |4554 Richardson Village Suite 258\\nEast Joshuaton, CO 64843  |david09@example.com          |1972-11-24|(626)679-8897         |\n",
            "|2024-11-23 16:03:41.176|122  |Linda Nunez              |1682 Brian Mount Apt. 288\\nPort Rachaelborough, WY 76436     |sarah58@example.net          |1941-08-04|(815)538-3331x624     |\n",
            "|2024-11-23 16:02:20.176|41   |Andrew Wilkins           |875 Murphy Camp Apt. 490\\nMorganfort, AZ 60249               |joshuajones@example.org      |1982-11-11|+1-646-226-0666x9537  |\n",
            "|2024-11-23 16:02:19.176|40   |Richard Oconnell         |06496 Melissa Square Apt. 093\\nFloresfort, MH 35774          |erin11@example.org           |1909-05-04|796-583-0542x25777    |\n",
            "|2024-11-23 16:03:16.176|97   |Bonnie Chavez            |756 Frazier Ramp Suite 683\\nSouth Andrea, SC 86582           |jason34@example.com          |1910-03-27|+1-337-284-7319x65210 |\n",
            "|2024-11-23 16:02:10.176|31   |David Moreno             |9675 Johnson Groves Apt. 400\\nJohnsonstad, NC 35523          |smithantonio@example.net     |1919-02-05|001-402-654-7214      |\n",
            "|2024-11-23 16:02:03.176|24   |Leslie Morton            |691 Carla Mountains\\nPort Hollyborough, MS 18245             |christopherturner@example.com|1938-11-12|580-893-4532          |\n",
            "|2024-11-23 16:02:39.176|60   |David Oliver             |453 Linda Estate Suite 543\\nLake Andrewside, GU 59990        |brian01@example.com          |2010-01-14|561-644-8844x05032    |\n",
            "|2024-11-23 16:01:56.176|17   |Leah Mcmillan            |1831 Rios Fords Apt. 177\\nMichaelhaven, KS 46837             |kimberly37@example.org       |1990-04-08|+1-458-597-8011x468   |\n",
            "|2024-11-23 16:02:01.176|22   |Evan Price               |57739 Carol Ways Apt. 129\\nChristopherfurt, LA 87062         |jacksonbryan@example.com     |1958-05-13|852-388-1502x189      |\n",
            "|2024-11-23 16:03:36.176|117  |Rebecca Pierce           |82505 Mackenzie Island\\nLake Stephanieview, WA 60667         |htucker@example.com          |1928-09-27|992-226-5558x7038     |\n",
            "|2024-11-23 16:03:04.176|85   |Carl Harrison MD         |1151 Roberts Rapids Suite 823\\nMyersfurt, NE 54567           |harriscraig@example.net      |1945-10-29|(667)862-6726         |\n",
            "|2024-11-23 16:02:27.176|48   |Katherine Trevino        |10045 Randy Plaza Apt. 237\\nNew Kevin, WY 51971              |hernandeztina@example.com    |1913-07-15|996-662-4267          |\n",
            "|2024-11-23 16:03:44.176|125  |Stuart Baker             |824 Andrea Parkways Apt. 544\\nPort Lisafurt, NC 25699        |bakerallison@example.org     |1998-10-18|243-914-7814          |\n",
            "|2024-11-23 16:01:41.176|2    |Peter Robertson          |03304 Nicholas Corner\\nSouth Gregory, GA 12101               |knovak@example.org           |1973-05-22|001-970-330-5251x73951|\n",
            "|2024-11-23 16:03:37.176|118  |Rebecca Arroyo           |309 Morgan Ports Suite 149\\nEast William, ME 98199           |bryce56@example.net          |1934-08-20|(560)523-4132x4775    |\n",
            "|2024-11-23 16:02:51.176|72   |Karen Jackson            |98122 Russo Trail Apt. 676\\nPhillipsstad, AZ 08405           |taylortodd@example.net       |1983-04-14|871-559-2530x307      |\n",
            "|2024-11-23 16:03:01.176|82   |Michael Ray              |82649 Ward Underpass Suite 499\\nEast Joyceside, GU 04436     |anthony78@example.net        |1911-05-24|(538)919-5185         |\n",
            "|2024-11-23 16:02:58.176|79   |Jennifer Taylor          |228 Williams Crescent\\nJoelshire, TX 36549                   |nicoledouglas@example.org    |1929-06-26|534-505-1077x74982    |\n",
            "|2024-11-23 16:01:48.176|9    |Lee Jones                |9008 Darlene Points Suite 632\\nWest Matthewport, MI 84054    |imccormick@example.com       |2013-07-10|731-758-8397          |\n",
            "|2024-11-23 16:03:52.176|133  |Patricia Taylor          |66208 Russell Views Apt. 723\\nPort Larry, WY 12302           |davidwatson@example.org      |2004-05-25|214-926-2919          |\n",
            "|2024-11-23 16:03:57.176|138  |Sergio Rodriguez         |7330 Johnson Place Apt. 841\\nMariaton, VA 99899              |greenmark@example.com        |1999-10-06|251.256.8518x496      |\n",
            "|2024-11-23 16:03:25.176|106  |Emily Walker             |995 Elizabeth Greens Suite 086\\nSusanberg, PA 07558          |cindybeltran@example.org     |2010-03-17|(998)495-0473         |\n",
            "|2024-11-23 16:02:37.176|58   |Patrick Holloway         |026 Matthew Manors Apt. 086\\nKellifurt, TN 81614             |medinamelissa@example.com    |1966-12-02|8884342289            |\n",
            "|2024-11-23 16:02:11.176|32   |Christy Hunter           |745 Cody Terrace Apt. 814\\nNorth Kimberly, MD 68125          |olivermark@example.com       |1965-12-20|594-647-2659          |\n",
            "|2024-11-23 16:03:33.176|114  |James Tran               |4649 Dawn Islands\\nWest Wendychester, AR 54677               |jeffcampbell@example.com     |1937-08-05|+1-686-686-1972x431   |\n",
            "|2024-11-23 16:03:39.176|120  |Dawn Cameron             |90540 Rachel Rue Apt. 848\\nLake Barbara, TN 15955            |mwebb@example.org            |1959-03-22|001-949-488-9056x9221 |\n",
            "|2024-11-23 16:01:52.176|13   |Jodi Burns DDS           |008 Bruce Cape Suite 621\\nWilliamsside, DE 51964             |adrian97@example.com         |2022-05-19|(894)569-5281x826     |\n",
            "|2024-11-23 16:03:46.176|127  |Thomas Duarte            |1457 Lee Springs Suite 846\\nNew Isabella, AR 89797           |kevinturner@example.org      |1942-01-07|(868)332-3320         |\n",
            "|2024-11-23 16:03:05.176|86   |Kayla Hebert             |5651 Simmons Views Suite 859\\nPort Lindsay, MD 80023         |paul73@example.net           |2013-03-17|297.664.2335x7953     |\n",
            "|2024-11-23 16:02:09.176|30   |Joann Bird               |834 Michelle Rue Apt. 347\\nHamiltonmouth, OH 58292           |justinnunez@example.com      |1921-04-09|393-828-0079x517      |\n",
            "|2024-11-23 16:02:47.176|68   |Stephen Lloyd            |052 Mitchell Wells Suite 182\\nHernandezton, NJ 31859         |jamesjames@example.net       |2012-10-26|537-663-5200          |\n",
            "|2024-11-23 16:02:18.176|39   |Angela Smith             |834 Taylor Hollow Suite 858\\nNorth Alyssa, TN 63923          |wgoodwin@example.org         |1933-03-28|+1-749-984-1110       |\n",
            "|2024-11-23 16:03:08.176|89   |William Newman           |977 Rebecca Stravenue Suite 439\\nWest Ruben, PR 15281        |julie95@example.org          |1949-06-03|431.411.6881          |\n",
            "|2024-11-23 16:02:44.176|65   |Jennifer Green           |979 Green Island\\nNorth Donnaville, WI 64408                 |benjamindelacruz@example.net |1960-03-11|378.541.5428          |\n",
            "|2024-11-23 16:03:40.176|121  |Stephen Rodriguez        |68657 Christopher Crescent\\nJohnmouth, IA 24177              |sosalance@example.com        |1909-11-23|(688)847-2903         |\n",
            "|2024-11-23 16:02:23.176|44   |Michael Waters           |609 Brianna Skyway Suite 260\\nLake Rebecca, MH 82902         |cathy21@example.com          |2018-01-25|(919)428-4105         |\n",
            "|2024-11-23 16:03:49.176|130  |Jack Quinn               |809 Bradley Common Apt. 474\\nLake Angelafurt, NY 78901       |jennifer85@example.com       |1933-05-09|225.783.1532          |\n",
            "|2024-11-23 16:02:04.176|25   |Emily Booker             |36417 Fisher Court Suite 496\\nHallbury, MO 44169             |mossjill@example.com         |2002-05-28|(730)254-5442x3846    |\n",
            "|2024-11-23 16:02:46.176|67   |Amy Reyes MD             |29417 George Curve Suite 179\\nScottburgh, MI 33773           |pachecojoshua@example.net    |1952-03-28|6815056563            |\n",
            "|2024-11-23 16:02:29.176|50   |James Farmer             |996 Barbara Estate\\nNixonchester, GU 92475                   |duranrobert@example.com      |1929-03-02|001-678-951-0577x293  |\n",
            "|2024-11-23 16:01:40.176|1    |Michelle Allen           |251 Jared Parkway Suite 589\\nRyanland, MS 27768              |gene88@example.com           |1988-05-14|724-962-8140x70502    |\n",
            "|2024-11-23 16:01:55.176|16   |Donna Ford               |1058 Sandoval Passage Apt. 027\\nPort Thomas, KS 46793        |pparker@example.net          |1981-08-16|+1-859-599-4003       |\n",
            "|2024-11-23 16:02:15.176|36   |Rachel Parker            |447 King Gardens\\nWest Allisonport, TX 85433                 |colecameron@example.net      |1943-07-26|442-605-3388x2803     |\n",
            "|2024-11-23 16:03:07.176|88   |Jamie Taylor             |8734 Edward Street Apt. 089\\nMartinezchester, OR 34985       |jolson@example.org           |1958-06-23|(411)229-4438         |\n",
            "|2024-11-23 16:03:43.176|124  |Andrea Greene            |1894 John Prairie Suite 675\\nElliottville, AS 16261          |lintaylor@example.net        |2011-11-04|271-332-6694          |\n",
            "|2024-11-23 16:03:31.176|112  |Ryan Duarte              |4785 Reyes Island Apt. 275\\nLake Sarah, AL 13045             |jdelacruz@example.com        |1993-09-12|792-217-3574x2381     |\n",
            "|2024-11-23 16:03:32.176|113  |Jose Smith               |91510 Amy Centers Suite 962\\nNorth Jessica, NJ 64807         |jeremyhill@example.org       |1928-03-09|315.557.1993          |\n",
            "|2024-11-23 16:03:19.176|100  |Steven Collins           |1478 Meghan Prairie\\nWest Geoffrey, MH 89603                 |leachjames@example.net       |1972-12-14|656.416.2239x028      |\n",
            "|2024-11-23 16:03:42.176|123  |Ralph Dixon              |698 Parker Islands Suite 031\\nCourtneymouth, NY 96607        |javier55@example.com         |1987-11-22|230.286.6505          |\n",
            "|2024-11-23 16:02:48.176|69   |John Hendrix             |32287 Fox Estate\\nSouth Ambermouth, KY 02764                 |cynthia60@example.org        |1910-09-11|(765)432-4697x93523   |\n",
            "|2024-11-23 16:03:24.176|105  |Angela Ware              |5318 Harrison Trail Apt. 210\\nTuckershire, ME 39647          |patricia49@example.org       |1965-10-22|762.468.3356          |\n",
            "|2024-11-23 16:03:06.176|87   |Haley Anderson           |7986 Butler Heights\\nCamachoburgh, AZ 97043                  |nfuller@example.org          |1961-03-11|001-692-973-6663x525  |\n",
            "|2024-11-23 16:03:21.176|102  |Paul Rivera              |9653 Thomas Plains\\nMelaniefurt, ID 88799                    |ortizrodney@example.net      |1967-09-03|001-215-358-4503x9811 |\n",
            "|2024-11-23 16:02:25.176|46   |Andrew Hanson            |81236 Castro Branch\\nWest Rubenborough, MS 44107             |robert77@example.org         |1951-09-13|+1-540-240-5407       |\n",
            "|2024-11-23 16:02:42.176|63   |Eric Yang                |514 Gomez Expressway Apt. 042\\nLake Robin, ME 50390          |rachel92@example.net         |1994-03-15|001-446-662-2711      |\n",
            "|2024-11-23 16:03:51.176|132  |Steven Black             |476 Thomas Manors Apt. 643\\nJenkinsbury, RI 23390            |mary71@example.net           |1914-07-17|771.716.4679x4325     |\n",
            "|2024-11-23 16:02:36.176|57   |Katherine Craig          |37387 Miller Mews Apt. 212\\nWest Soniafort, ID 08711         |gwaters@example.net          |1946-05-08|9173934997            |\n",
            "|2024-11-23 16:03:14.176|95   |Danielle Espinoza        |882 Jessica Drive\\nTaylormouth, MS 11439                     |harrisontina@example.com     |1910-06-06|+1-757-520-7868       |\n",
            "|2024-11-23 16:02:21.176|42   |Aaron Smith              |790 Michelle Mountain\\nKnightborough, MN 90676               |mharris@example.com          |1997-10-17|001-742-374-8937x626  |\n",
            "|2024-11-23 16:01:45.176|6    |Kathleen Nelson          |19174 Kim Green\\nPort Scottville, VT 86176                   |garrettmiguel@example.com    |1982-06-28|(463)480-0659         |\n",
            "|2024-11-23 16:01:50.176|11   |Rachel Williams          |9443 Carr Way Apt. 041\\nHaleyport, NV 47352                  |emartinez@example.com        |1958-10-05|771.511.9543x631      |\n",
            "|2024-11-23 16:01:43.176|4    |Alyssa Anderson          |64738 Thomas Road\\nWilliamborough, SC 21571                  |hreilly@example.net          |1972-03-24|774-325-5929x62928    |\n",
            "|2024-11-23 16:03:29.176|110  |Tammy Deleon             |90181 Mills Roads Suite 133\\nEast Paulland, UT 22424         |emily17@example.net          |1944-01-28|926.539.5479          |\n",
            "|2024-11-23 16:03:02.176|83   |Jerry Edwards            |719 Romero Harbors Apt. 889\\nBradyport, NM 94334             |powerstoni@example.org       |1929-01-23|490.978.4700          |\n",
            "|2024-11-23 16:03:35.176|116  |Nicholas Thompson        |87859 Michael Mall\\nLake Crystal, VI 07898                   |hmcdaniel@example.net        |1989-05-13|+1-318-835-3938       |\n",
            "|2024-11-23 16:03:53.176|134  |Lisa Smith               |6157 Shelby Village Apt. 582\\nChristineberg, MA 63728        |amykelly@example.net         |1928-02-23|699.845.5711          |\n",
            "|2024-11-23 16:03:34.176|115  |Lisa Davis               |342 Anderson Lake\\nPort Kellie, SD 09846                     |kimberlyrobinson@example.org |1968-11-12|001-539-302-2297      |\n",
            "|2024-11-23 16:02:56.176|77   |Nathan Branch            |2409 Huff Crossroad Suite 838\\nMeaganfurt, MP 26087          |rhonda56@example.org         |1935-06-01|6065264493            |\n",
            "|2024-11-23 16:03:26.176|107  |Jason Taylor             |8383 Fernandez Heights\\nSouth Cody, WY 32859                 |kayla33@example.org          |2006-11-02|(293)757-4065x15161   |\n",
            "|2024-11-23 16:03:13.176|94   |Jasmine Riley            |8171 Weaver Shoal Apt. 753\\nJennyfurt, GU 38609              |john85@example.com           |1991-06-27|931-857-8122x031      |\n",
            "|2024-11-23 16:03:00.176|81   |Jason Joseph             |94826 Elijah Hills Apt. 875\\nDanielsburgh, MI 46646          |judy73@example.com           |1996-07-17|(222)461-3494         |\n",
            "+-----------------------+-----+-------------------------+-------------------------------------------------------------+-----------------------------+----------+----------------------+\n",
            "only showing top 100 rows\n",
            "\n"
          ]
        }
      ]
    },
    {
      "cell_type": "code",
      "source": [
        "query.stop()"
      ],
      "metadata": {
        "id": "m22vpxcxIUNa"
      },
      "execution_count": null,
      "outputs": []
    }
  ],
  "metadata": {
    "colab": {
      "provenance": [],
      "include_colab_link": true
    },
    "kernelspec": {
      "display_name": "Python 3",
      "name": "python3"
    },
    "language_info": {
      "name": "python"
    }
  },
  "nbformat": 4,
  "nbformat_minor": 0
}