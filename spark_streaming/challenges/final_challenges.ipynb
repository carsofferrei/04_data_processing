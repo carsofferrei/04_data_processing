{
  "cells": [
    {
      "cell_type": "markdown",
      "metadata": {
        "id": "view-in-github",
        "colab_type": "text"
      },
      "source": [
        "<a href=\"https://colab.research.google.com/github/carsofferrei/04_data_processing/blob/main/spark_streaming/challenges/final_challenges.ipynb\" target=\"_parent\"><img src=\"https://colab.research.google.com/assets/colab-badge.svg\" alt=\"Open In Colab\"/></a>"
      ]
    },
    {
      "cell_type": "markdown",
      "metadata": {
        "id": "4_GBE9UsyxwK"
      },
      "source": []
    },
    {
      "cell_type": "markdown",
      "source": [
        "**This script responds to the challenge for assessment in module #5-real-time-data:** Producer, read Stream and write Stream. Also, have some Reports on data silver layer."
      ],
      "metadata": {
        "id": "gnUuroKzSfW9"
      }
    },
    {
      "cell_type": "code",
      "source": [
        "# Guarantee that don't have any other data on content folder\n",
        "!rm -rf content/lake"
      ],
      "metadata": {
        "id": "gw-U_MoTIEuE"
      },
      "execution_count": 106,
      "outputs": []
    },
    {
      "cell_type": "markdown",
      "metadata": {
        "id": "d9LeYFsPTjAb"
      },
      "source": [
        "# Setting up PySpark"
      ]
    },
    {
      "cell_type": "code",
      "execution_count": 107,
      "metadata": {
        "colab": {
          "base_uri": "https://localhost:8080/"
        },
        "id": "uYXeODL0T1fO",
        "outputId": "02b9870c-8cf2-4f05-8073-abc030e6dedd"
      },
      "outputs": [
        {
          "output_type": "stream",
          "name": "stdout",
          "text": [
            "Requirement already satisfied: pyspark in /usr/local/lib/python3.10/dist-packages (3.5.3)\n",
            "Requirement already satisfied: py4j==0.10.9.7 in /usr/local/lib/python3.10/dist-packages (from pyspark) (0.10.9.7)\n"
          ]
        }
      ],
      "source": [
        "%pip install pyspark"
      ]
    },
    {
      "cell_type": "markdown",
      "metadata": {
        "id": "Rcybt71kTDNt"
      },
      "source": [
        "# Context\n",
        "Message events are coming from platform message broker (kafka, pubsub, kinesis...).\n",
        "You need to process the data according to the requirements.\n",
        "\n",
        "Message schema:\n",
        "- timestamp\n",
        "- value\n",
        "- event_type\n",
        "- message_id\n",
        "- country_id\n",
        "- user_id\n",
        "\n"
      ]
    },
    {
      "cell_type": "markdown",
      "metadata": {
        "id": "JkyPORKNSYvV"
      },
      "source": [
        "# Challenge 1\n",
        "\n",
        "Step 1\n",
        "- Change exising producer\n",
        "\t- Change parquet location to \"/content/lake/bronze/messages/data\"\n",
        "\t- Add checkpoint (/content/lake/bronze/messages/checkpoint)\n",
        "\t- Delete /content/lake/bronze/messages and reprocess data\n",
        "\t- For reprocessing, run the streaming for at least 1 minute, then stop it\n",
        "\n",
        "Step 2\n",
        "- Implement new stream job to read from messages in bronze layer and split result in two locations\n",
        "\t- \"messages_corrupted\"\n",
        "\t\t- logic: event_status is null, empty or equal to \"NONE\"\n",
        "    - extra logic: add country name by joining message with countries dataset\n",
        "\t\t- partition by \"date\" -extract it from timestamp\n",
        "\t\t- location: /content/lake/silver/messages_corrupted/data\n",
        "\n",
        "\t- \"messages\"\n",
        "\t\t- logic: not corrupted data\n",
        "\t\t- extra logic: add country name by joining message with countries dataset\n",
        "\t\t- partition by \"date\" -extract it from timestamp\n",
        "\t\t- location: /content/lake/silver/messages/data\n",
        "\n",
        "\t- technical requirements\n",
        "\t\t- add checkpint (choose location)\n",
        "\t\t- use StructSchema\n",
        "\t\t- Set trigger interval to 5 seconds\n",
        "\t\t- run streaming for at least 20 seconds, then stop it\n",
        "\n",
        "\t- alternatives\n",
        "\t\t- implementing single streaming job with foreach/- foreachBatch logic to write into two locations\n",
        "\t\t- implementing two streaming jobs, one for messages and another for messages_corrupted\n",
        "\t\t- (paying attention on the paths and checkpoints)\n",
        "\n",
        "\n",
        "  - Check results:\n",
        "    - results from messages in bronze layer should match with the sum of messages+messages_corrupted in the silver layer"
      ]
    },
    {
      "cell_type": "code",
      "execution_count": 108,
      "metadata": {
        "colab": {
          "base_uri": "https://localhost:8080/"
        },
        "id": "Udk3tohSaXOH",
        "outputId": "b4baf810-9156-4b96-8227-ff1ebfd63edc"
      },
      "outputs": [
        {
          "output_type": "stream",
          "name": "stdout",
          "text": [
            "Requirement already satisfied: faker in /usr/local/lib/python3.10/dist-packages (33.1.0)\n",
            "Requirement already satisfied: python-dateutil>=2.4 in /usr/local/lib/python3.10/dist-packages (from faker) (2.8.2)\n",
            "Requirement already satisfied: typing-extensions in /usr/local/lib/python3.10/dist-packages (from faker) (4.12.2)\n",
            "Requirement already satisfied: six>=1.5 in /usr/local/lib/python3.10/dist-packages (from python-dateutil>=2.4->faker) (1.16.0)\n"
          ]
        }
      ],
      "source": [
        "%pip install faker"
      ]
    },
    {
      "cell_type": "markdown",
      "metadata": {
        "id": "cDGMKwBdi1qy"
      },
      "source": [
        "# Producer"
      ]
    },
    {
      "cell_type": "code",
      "execution_count": 109,
      "metadata": {
        "colab": {
          "base_uri": "https://localhost:8080/"
        },
        "id": "tPCOdivrfhYh",
        "outputId": "9b40db93-1831-4709-eb88-1eb224a34a86"
      },
      "outputs": [
        {
          "output_type": "execute_result",
          "data": {
            "text/plain": [
              "False"
            ]
          },
          "metadata": {},
          "execution_count": 109
        }
      ],
      "source": [
        "import pyspark.sql.functions as F\n",
        "from pyspark.sql import DataFrame\n",
        "from faker import Faker\n",
        "from pyspark.sql import SparkSession\n",
        "\n",
        "spark = SparkSession.builder.appName('Test streaming').getOrCreate()\n",
        "sc = spark.sparkContext\n",
        "\n",
        "fake = Faker()\n",
        "messages = [fake.uuid4() for _ in range(50)]\n",
        "\n",
        "def enrich_data(df, messages=messages):\n",
        "  fake = Faker()\n",
        "  new_columns = {\n",
        "      'event_type': F.lit(fake.random_element(elements=('OPEN', 'RECEIVED', 'SENT', 'CREATED', 'CLICKED', '', 'NONE'))),\n",
        "      'message_id': F.lit(fake.random_element(elements=messages)),\n",
        "      'channel': F.lit(fake.random_element(elements=('CHAT', 'EMAIL', 'SMS', 'PUSH', 'OTHER'))),\n",
        "      'country_id': F.lit(fake.random_int(min=2000, max=2015)),\n",
        "      'user_id': F.lit(fake.random_int(min=1000, max=1050)),\n",
        "  }\n",
        "  df = df.withColumns(new_columns)\n",
        "  return df\n",
        "\n",
        "def insert_messages(df: DataFrame, batch_id):\n",
        "  enrich = enrich_data(df)\n",
        "  enrich.write.mode(\"append\").format(\"parquet\").save(\"content/lake/bronze/messages/data\")\n",
        "\n",
        "# read stream\n",
        "df_stream = spark.readStream.format(\"rate\").option(\"rowsPerSecond\", 1).load()\n",
        "\n",
        "# write stream\n",
        "query = (df_stream\n",
        "         .writeStream\n",
        "         .outputMode('append')\n",
        "         .option('checkpointLocation', \"content/lake/bronze/checkpoint\")\n",
        "         .trigger(processingTime='1 seconds')\n",
        "         .foreachBatch(insert_messages)\n",
        "         .start()\n",
        ")\n",
        "\n",
        "query.awaitTermination(60)\n"
      ]
    },
    {
      "cell_type": "code",
      "source": [
        "query.isActive"
      ],
      "metadata": {
        "colab": {
          "base_uri": "https://localhost:8080/"
        },
        "id": "mpa6uFkUfUgJ",
        "outputId": "f554ab88-726b-49ee-d4f6-6ee7484b859a"
      },
      "execution_count": 110,
      "outputs": [
        {
          "output_type": "execute_result",
          "data": {
            "text/plain": [
              "True"
            ]
          },
          "metadata": {},
          "execution_count": 110
        }
      ]
    },
    {
      "cell_type": "code",
      "execution_count": 111,
      "metadata": {
        "id": "KNyUK3yplDhg"
      },
      "outputs": [],
      "source": [
        "query.stop()"
      ]
    },
    {
      "cell_type": "code",
      "execution_count": 112,
      "metadata": {
        "id": "ZWQExsnzlMFe",
        "colab": {
          "base_uri": "https://localhost:8080/"
        },
        "outputId": "5a750b93-49bc-473f-fcb8-c1eaddf49b14"
      },
      "outputs": [
        {
          "output_type": "stream",
          "name": "stdout",
          "text": [
            "+--------------------+-----+----------+--------------------+-------+----------+-------+\n",
            "|           timestamp|value|event_type|          message_id|channel|country_id|user_id|\n",
            "+--------------------+-----+----------+--------------------+-------+----------+-------+\n",
            "|2024-12-11 20:21:...|   19|  RECEIVED|e25e89ba-faa3-4e6...|  OTHER|      2015|   1045|\n",
            "|2024-12-11 20:21:...|   35|  RECEIVED|dd05c2f4-d211-4f9...|  OTHER|      2009|   1023|\n",
            "|2024-12-11 20:22:...|   86|  RECEIVED|f8217fbf-1148-450...|  EMAIL|      2011|   1046|\n",
            "|2024-12-11 20:22:...|   95|  RECEIVED|40a729b0-09b1-4a4...|  OTHER|      2011|   1050|\n",
            "|2024-12-11 20:21:...|   25|  RECEIVED|53f6704e-a47c-402...|  OTHER|      2002|   1034|\n",
            "|2024-12-11 20:22:...|   77|  RECEIVED|fce5e2db-9ea5-4bb...|  EMAIL|      2010|   1018|\n",
            "|2024-12-11 20:21:...|   20|  RECEIVED|40a729b0-09b1-4a4...|  OTHER|      2005|   1005|\n",
            "|2024-12-11 20:21:...|   30|  RECEIVED|fce5e2db-9ea5-4bb...|  OTHER|      2003|   1047|\n",
            "|2024-12-11 20:21:...|   10|  RECEIVED|d5cb74c9-be17-4e3...|  OTHER|      2012|   1017|\n",
            "|2024-12-11 20:21:...|   39|   CLICKED|ea826709-7d1f-4ae...|  EMAIL|      2008|   1026|\n",
            "|2024-12-11 20:21:...|    3|   CREATED|acec25a4-8fab-4e7...|  EMAIL|      2003|   1032|\n",
            "|2024-12-11 20:21:...|   52|   CLICKED|431c46b1-0b55-4a5...|  EMAIL|      2001|   1035|\n",
            "|2024-12-11 20:21:...|    1|  RECEIVED|7474ff2b-7728-433...|   CHAT|      2015|   1042|\n",
            "|2024-12-11 20:21:...|   46|   CREATED|b0c6a6ab-3027-42d...|  EMAIL|      2000|   1008|\n",
            "|2024-12-11 20:21:...|   37|   CLICKED|d63126c5-bc26-454...|  EMAIL|      2010|   1003|\n",
            "|2024-12-11 20:22:...|   63|   CLICKED|7587793e-ed4b-42b...|  EMAIL|      2015|   1037|\n",
            "|2024-12-11 20:21:...|   56|  RECEIVED|1e7615e9-6e6e-47f...|   CHAT|      2003|   1006|\n",
            "|2024-12-11 20:22:...|   62|  RECEIVED|fce5e2db-9ea5-4bb...|   CHAT|      2013|   1016|\n",
            "|2024-12-11 20:21:...|   42|   CLICKED|ea826709-7d1f-4ae...|  EMAIL|      2004|   1017|\n",
            "|2024-12-11 20:21:...|   13|   CLICKED|bfc6a9f4-7476-4a9...|  OTHER|      2003|   1050|\n",
            "+--------------------+-----+----------+--------------------+-------+----------+-------+\n",
            "only showing top 20 rows\n",
            "\n"
          ]
        },
        {
          "output_type": "execute_result",
          "data": {
            "text/plain": [
              "108"
            ]
          },
          "metadata": {},
          "execution_count": 112
        }
      ],
      "source": [
        "df = spark.read.format(\"parquet\").load(\"content/lake/bronze/messages/data\")\n",
        "df.show()\n",
        "df.count()"
      ]
    },
    {
      "cell_type": "markdown",
      "metadata": {
        "id": "RraxHCycMdEZ"
      },
      "source": [
        "# Additional datasets"
      ]
    },
    {
      "cell_type": "code",
      "execution_count": 113,
      "metadata": {
        "id": "cfsus3dxMcQI"
      },
      "outputs": [],
      "source": [
        "countries = [\n",
        "    {\"country_id\": 2000, \"country\": \"Brazil\"},\n",
        "    {\"country_id\": 2001, \"country\": \"Portugal\"},\n",
        "    {\"country_id\": 2002, \"country\": \"Spain\"},\n",
        "    {\"country_id\": 2003, \"country\": \"Germany\"},\n",
        "    {\"country_id\": 2004, \"country\": \"France\"},\n",
        "    {\"country_id\": 2005, \"country\": \"Italy\"},\n",
        "    {\"country_id\": 2006, \"country\": \"United Kingdom\"},\n",
        "    {\"country_id\": 2007, \"country\": \"United States\"},\n",
        "    {\"country_id\": 2008, \"country\": \"Canada\"},\n",
        "    {\"country_id\": 2009, \"country\": \"Australia\"},\n",
        "    {\"country_id\": 2010, \"country\": \"Japan\"},\n",
        "    {\"country_id\": 2011, \"country\": \"China\"},\n",
        "    {\"country_id\": 2012, \"country\": \"India\"},\n",
        "    {\"country_id\": 2013, \"country\": \"South Korea\"},\n",
        "    {\"country_id\": 2014, \"country\": \"Russia\"},\n",
        "    {\"country_id\": 2015, \"country\": \"Argentina\"}\n",
        "]\n",
        "\n",
        "countries = spark.createDataFrame(countries)"
      ]
    },
    {
      "cell_type": "code",
      "source": [
        "# apply normal dataframe operations\n",
        "df_stream.printSchema()"
      ],
      "metadata": {
        "colab": {
          "base_uri": "https://localhost:8080/"
        },
        "id": "x1rEAPuTUExX",
        "outputId": "19ef2833-e890-43f6-c848-39ba3df81102"
      },
      "execution_count": 114,
      "outputs": [
        {
          "output_type": "stream",
          "name": "stdout",
          "text": [
            "root\n",
            " |-- timestamp: timestamp (nullable = true)\n",
            " |-- value: long (nullable = true)\n",
            "\n"
          ]
        }
      ]
    },
    {
      "cell_type": "markdown",
      "metadata": {
        "id": "swvPj9hVpzNf"
      },
      "source": [
        "# Streaming Messages x Messages Corrupted"
      ]
    },
    {
      "cell_type": "code",
      "source": [
        "from pyspark.sql.functions import *\n",
        "from pyspark.sql.types import *\n",
        "import time\n",
        "\n",
        "def clean_message_events(df: DataFrame, batch_id):\n",
        "    if df.isEmpty():\n",
        "        print(\"No data in the current batch.\")\n",
        "        return\n",
        "\n",
        "    # Join with countries\n",
        "    df = df.join(countries, \"country_id\", \"left\")\n",
        "\n",
        "    # Filtering corrupted messages\n",
        "    corrupted_df = df.filter((col(\"event_type\").isNull() |\n",
        "                              (col(\"event_type\") == \"\") |\n",
        "                              (col(\"event_type\") == \"NONE\")\n",
        "                              ))\n",
        "\n",
        "    # Saving corrupted messages\n",
        "    corrupted_df.write.mode(\"append\").format(\"parquet\").partitionBy(\"date\").save(\"content/lake/silver/messages_corrupted/data\")\n",
        "\n",
        "    # Creating dataframe without corrupted messages\n",
        "    clean_df = df.filter(~(col(\"event_type\").isNull() |\n",
        "                          (col(\"event_type\") == \"\") |\n",
        "                          (col(\"event_type\") == \"NONE\"))\n",
        "                        )\n",
        "    # Saving clean messages\n",
        "    clean_df.write.mode(\"append\").format(\"parquet\").partitionBy(\"date\").save(\"content/lake/silver/messages/data\")\n",
        "\n",
        "\n",
        "print(f'Define streaming schema...')\n",
        "messages_schema = StructType([\n",
        "          StructField('timestamp', TimestampType(), True),\n",
        "          StructField('value', LongType(), True),\n",
        "          StructField('event_type', StringType(), True),\n",
        "          StructField('message_id', StringType(), True),\n",
        "          StructField('channel', StringType(), True),\n",
        "          StructField('country_id', IntegerType(), True),\n",
        "          StructField('user_id', IntegerType(), True)\n",
        "          ])\n",
        "\n",
        "print(f'Read the streaming data...')\n",
        "messages_event_data = spark.readStream.format(\"parquet\").schema(messages_schema).load(\"content/lake/bronze/messages/data/*\")\n",
        "\n",
        "print(f'Create a new date column that will be the split column in writeStreaming...')\n",
        "messages_event_data = messages_event_data.withColumn(\"date\", col('timestamp').cast(\"date\"))\n",
        "\n",
        "print(f'Write Streaming...')\n",
        "stream_silver_query = (messages_event_data\n",
        "                          .writeStream\n",
        "                          .outputMode('append')\n",
        "                          .option('checkpointLocation', 'content/lake/silver/checkpoint')\n",
        "                          .trigger(processingTime='5 seconds')\n",
        "                          .foreachBatch(clean_message_events)\n",
        "                          .start()\n",
        "                          )\n",
        "\n",
        "stream_silver_query.awaitTermination(20)"
      ],
      "metadata": {
        "id": "pY0wlHElmE5C",
        "colab": {
          "base_uri": "https://localhost:8080/"
        },
        "outputId": "283c78e2-acb9-422d-f98c-bb81d103eb2f"
      },
      "execution_count": 115,
      "outputs": [
        {
          "output_type": "stream",
          "name": "stdout",
          "text": [
            "Define streaming schema...\n",
            "Read the streaming data...\n",
            "Create a new date column that will be the split column in writeStreaming...\n",
            "Write Streaming...\n"
          ]
        },
        {
          "output_type": "execute_result",
          "data": {
            "text/plain": [
              "False"
            ]
          },
          "metadata": {},
          "execution_count": 115
        }
      ]
    },
    {
      "cell_type": "code",
      "source": [
        "print(stream_silver_query.isActive)\n",
        "print(stream_silver_query.stop())"
      ],
      "metadata": {
        "id": "FKEeTxroEoyr",
        "outputId": "ffd5f6f5-f27c-4d32-b988-995a56e0ba93",
        "colab": {
          "base_uri": "https://localhost:8080/"
        }
      },
      "execution_count": 116,
      "outputs": [
        {
          "output_type": "stream",
          "name": "stdout",
          "text": [
            "True\n",
            "None\n"
          ]
        }
      ]
    },
    {
      "cell_type": "markdown",
      "metadata": {
        "id": "jLK9jpjCu3xE"
      },
      "source": [
        "## Checking data"
      ]
    },
    {
      "cell_type": "code",
      "execution_count": 117,
      "metadata": {
        "id": "nk8seEvbmvcU",
        "colab": {
          "base_uri": "https://localhost:8080/"
        },
        "outputId": "11d82442-8f39-41a5-bd9e-3c713564c440"
      },
      "outputs": [
        {
          "output_type": "stream",
          "name": "stdout",
          "text": [
            "Validation passed: Bronze [108] = Clean [79] + Corrupted [29]\n"
          ]
        }
      ],
      "source": [
        "def checking_silver_data():\n",
        "    bronze_count = spark.read.format(\"parquet\").load(\"content/lake/bronze/messages/data/*\").count()\n",
        "    clean_count = spark.read.format(\"parquet\").load(\"content/lake/silver/messages/data/*\").count()\n",
        "    corrupted_count = spark.read.format(\"parquet\").load(\"content/lake/silver/messages_corrupted/data/*\").count()\n",
        "\n",
        "    assert bronze_count == clean_count + corrupted_count, \"Dataframes doesn't matches. Did you run the code more than once? Be careful with append mode\"\n",
        "    print(f'Validation passed: Bronze [{bronze_count}] = Clean [{clean_count}] + Corrupted [{corrupted_count}]')\n",
        "\n",
        "checking_silver_data()"
      ]
    },
    {
      "cell_type": "markdown",
      "metadata": {
        "id": "rfxIlBISSvRP"
      },
      "source": [
        "# Challenge 2\n",
        "\n",
        "- Run business report\n",
        "- But first, there is a bug in the system which is causing some duplicated messages, we need to exclude these lines from the report\n",
        "\n",
        "- removing duplicates logic:\n",
        "  - Identify possible duplicates on message_id, event_type and channel\n",
        "  - in case of duplicates, consider only the first message (occurrence by timestamp)\n",
        "  - Ex:\n",
        "    In table below, the correct message to consider is the second line\n",
        "\n",
        "```\n",
        "    message_id | channel | event_type | timestamp\n",
        "    123        | CHAT    | CREATED    | 10:10:01\n",
        "    123        | CHAT    | CREATED    | 07:56:45 (first occurrence)\n",
        "    123        | CHAT    | CREATED    | 08:13:33\n",
        "```\n",
        "\n",
        "- After cleaning the data we're able to create the busines report"
      ]
    },
    {
      "cell_type": "code",
      "execution_count": 118,
      "metadata": {
        "id": "R3J9XyOHhqvU"
      },
      "outputs": [],
      "source": [
        "# dedup data\n",
        "from pyspark.sql import functions as F\n",
        "from pyspark.sql.window import Window\n",
        "df = spark.read.format(\"parquet\").load(\"content/lake/silver/messages\")\n",
        "dedup = df.withColumn(\"row_number\", F.row_number().over(Window.partitionBy(\"message_id\", \"event_type\", \"channel\").orderBy(\"timestamp\"))).filter(\"row_number = 1\").drop(\"row_number\")"
      ]
    },
    {
      "cell_type": "code",
      "source": [
        "silver_rows = df.count()\n",
        "dedup_rows = dedup.count()\n",
        "\n",
        "print(f'Clean messages data had {silver_rows - dedup_rows} dupplicated records.')"
      ],
      "metadata": {
        "colab": {
          "base_uri": "https://localhost:8080/"
        },
        "id": "xnUBzL9TV679",
        "outputId": "1f4a6874-7446-45ee-fddd-6565c203454a"
      },
      "execution_count": 119,
      "outputs": [
        {
          "output_type": "stream",
          "name": "stdout",
          "text": [
            "Clean messages data had 2 dupplicated records.\n"
          ]
        }
      ]
    },
    {
      "cell_type": "code",
      "source": [
        "dedup.limit(3).show()"
      ],
      "metadata": {
        "colab": {
          "base_uri": "https://localhost:8080/"
        },
        "id": "RQ5mMILDyEZ2",
        "outputId": "6586a829-ba0f-43f7-e17c-e77b96d21b92"
      },
      "execution_count": 120,
      "outputs": [
        {
          "output_type": "stream",
          "name": "stdout",
          "text": [
            "+----------+--------------------+-----+----------+--------------------+-------+-------+---------+----------+\n",
            "|country_id|           timestamp|value|event_type|          message_id|channel|user_id|  country|      date|\n",
            "+----------+--------------------+-----+----------+--------------------+-------+-------+---------+----------+\n",
            "|      2002|2024-12-11 20:22:...|   94|   CLICKED|01cb5415-c4ba-4ad...|    SMS|   1019|    Spain|2024-12-11|\n",
            "|      2015|2024-12-11 20:22:...|   74|   CREATED|01cb5415-c4ba-4ad...|  OTHER|   1024|Argentina|2024-12-11|\n",
            "|      2001|2024-12-11 20:21:...|   11|      OPEN|07263461-7636-409...|  OTHER|   1012| Portugal|2024-12-11|\n",
            "+----------+--------------------+-----+----------+--------------------+-------+-------+---------+----------+\n",
            "\n"
          ]
        }
      ]
    },
    {
      "cell_type": "markdown",
      "metadata": {
        "id": "RF9L9i25lk74"
      },
      "source": [
        "### Report 1\n",
        "  - Aggregate data by date, event_type and channel\n",
        "  - Count number of messages\n",
        "  - pivot event_type from rows into columns\n",
        "  - schema expected:\n",
        "  \n",
        "```\n",
        "|      date|channel|CLICKED|CREATED|OPEN|RECEIVED|SENT|\n",
        "+----------+-------+-------+-------+----+--------+----+\n",
        "|2024-12-03|    SMS|      4|      4|   1|       1|   5|\n",
        "|2024-12-03|   CHAT|      3|      7|   5|       8|   4|\n",
        "|2024-12-03|   PUSH|   NULL|      3|   4|       3|   4|\n",
        "```"
      ]
    },
    {
      "cell_type": "code",
      "execution_count": 121,
      "metadata": {
        "id": "UPHSMSXnTKgu",
        "colab": {
          "base_uri": "https://localhost:8080/"
        },
        "outputId": "c1c0c9bd-2021-4ffd-e29d-e8646e6a7d3d"
      },
      "outputs": [
        {
          "output_type": "stream",
          "name": "stdout",
          "text": [
            "Obtaining the pivot and expected schema\n",
            "+----------+-------+-------+-------+----+--------+----+\n",
            "|      date|channel|CLICKED|CREATED|OPEN|RECEIVED|SENT|\n",
            "+----------+-------+-------+-------+----+--------+----+\n",
            "|2024-12-11|   PUSH|      4|      4|   1|       2|   0|\n",
            "|2024-12-11|    SMS|      5|      2|   1|       3|   5|\n",
            "|2024-12-11|  EMAIL|      5|      2|   0|       2|   3|\n",
            "|2024-12-11|  OTHER|      4|      1|   6|       7|   3|\n",
            "|2024-12-11|   CHAT|      4|      2|   4|       3|   6|\n",
            "+----------+-------+-------+-------+----+--------+----+\n",
            "\n"
          ]
        }
      ],
      "source": [
        "print(f'Obtaining the pivot and expected schema')\n",
        "df.groupBy(\"date\", \"channel\").pivot(\"event_type\").agg(count(\"*\").alias(\"event_count\")).fillna(0).show()"
      ]
    },
    {
      "cell_type": "markdown",
      "metadata": {
        "id": "bxwOawo2lwQH"
      },
      "source": [
        "## Report 2\n",
        "\n",
        "- Identify the most active users by channel (sorted by number of iterations)\n",
        "- schema expected:\n",
        "\n",
        "```\n",
        "+-------+----------+----+-----+-----+----+---+\n",
        "|user_id|iterations|CHAT|EMAIL|OTHER|PUSH|SMS|\n",
        "+-------+----------+----+-----+-----+----+---+\n",
        "|   1022|         5|   2|    0|    1|   0|  2|\n",
        "|   1004|         4|   1|    1|    1|   1|  0|\n",
        "|   1013|         4|   0|    0|    2|   1|  1|\n",
        "|   1020|         4|   2|    0|    1|   1|  0|\n",
        "```\n"
      ]
    },
    {
      "cell_type": "code",
      "source": [
        "agg_int_total = df.groupBy(\"user_id\").agg(count(\"*\").alias(\"iterations\")).fillna(0)\n",
        "agg_channel_user = df.groupBy(\"user_id\").pivot(\"channel\").agg(count(\"*\").alias(\"iterations\")).fillna(0)\n",
        "agg_int_total.join(agg_channel_user, \"user_id\", \"left\").sort(desc(\"iterations\")).limit(4).show()"
      ],
      "metadata": {
        "colab": {
          "base_uri": "https://localhost:8080/"
        },
        "id": "XpjCmSxxJY-M",
        "outputId": "f067518b-069c-490b-ada9-183fa1706bd4"
      },
      "execution_count": 122,
      "outputs": [
        {
          "output_type": "stream",
          "name": "stdout",
          "text": [
            "+-------+----------+----+-----+-----+----+---+\n",
            "|user_id|iterations|CHAT|EMAIL|OTHER|PUSH|SMS|\n",
            "+-------+----------+----+-----+-----+----+---+\n",
            "|   1004|         4|   3|    0|    0|   1|  0|\n",
            "|   1050|         3|   1|    0|    2|   0|  0|\n",
            "|   1015|         3|   1|    0|    0|   0|  2|\n",
            "|   1037|         3|   0|    1|    1|   1|  0|\n",
            "+-------+----------+----+-----+-----+----+---+\n",
            "\n"
          ]
        }
      ]
    },
    {
      "cell_type": "markdown",
      "metadata": {
        "id": "a9_kzDbDwDOS"
      },
      "source": [
        "# Challenge 3"
      ]
    },
    {
      "cell_type": "code",
      "execution_count": null,
      "metadata": {
        "id": "Ef0RjFTxwE5y"
      },
      "outputs": [],
      "source": [
        "# Theoretical question:\n",
        "\n",
        "# A new usecase requires the message data to be aggregate in near real time\n",
        "# They want to build a dashboard embedded in the platform website to analyze message data in low latency (few minutes)\n",
        "# This application will access directly the data aggregated by streaming process\n",
        "\n",
        "# Q1:\n",
        "- What would be your suggestion to achieve that using Spark Structure Streaming?\n",
        "Or would you choose a different data processing tool?\n",
        "\n",
        "- Which storage would you use and why? (database?, data lake?, kafka?)\n",
        "\n"
      ]
    }
  ],
  "metadata": {
    "colab": {
      "provenance": [],
      "include_colab_link": true
    },
    "kernelspec": {
      "display_name": "Python 3",
      "name": "python3"
    },
    "language_info": {
      "name": "python"
    }
  },
  "nbformat": 4,
  "nbformat_minor": 0
}