{
  "cells": [
    {
      "cell_type": "markdown",
      "metadata": {
        "id": "view-in-github",
        "colab_type": "text"
      },
      "source": [
        "<a href=\"https://colab.research.google.com/github/carsofferrei/04_data_processing/blob/main/spark_streaming/challenges/final_challenges.ipynb\" target=\"_parent\"><img src=\"https://colab.research.google.com/assets/colab-badge.svg\" alt=\"Open In Colab\"/></a>"
      ]
    },
    {
      "cell_type": "markdown",
      "metadata": {
        "id": "4_GBE9UsyxwK"
      },
      "source": []
    },
    {
      "cell_type": "markdown",
      "metadata": {
        "id": "d9LeYFsPTjAb"
      },
      "source": [
        "# Setting up PySpark"
      ]
    },
    {
      "cell_type": "code",
      "execution_count": 1,
      "metadata": {
        "colab": {
          "base_uri": "https://localhost:8080/"
        },
        "id": "uYXeODL0T1fO",
        "outputId": "4f3fc1ed-11b2-4a87-e148-95b88a01094b"
      },
      "outputs": [
        {
          "output_type": "stream",
          "name": "stdout",
          "text": [
            "Requirement already satisfied: pyspark in /usr/local/lib/python3.10/dist-packages (3.5.3)\n",
            "Requirement already satisfied: py4j==0.10.9.7 in /usr/local/lib/python3.10/dist-packages (from pyspark) (0.10.9.7)\n"
          ]
        }
      ],
      "source": [
        "%pip install pyspark"
      ]
    },
    {
      "cell_type": "markdown",
      "metadata": {
        "id": "Rcybt71kTDNt"
      },
      "source": [
        "# Context\n",
        "Message events are coming from platform message broker (kafka, pubsub, kinesis...).\n",
        "You need to process the data according to the requirements.\n",
        "\n",
        "Message schema:\n",
        "- timestamp\n",
        "- value\n",
        "- event_type\n",
        "- message_id\n",
        "- country_id\n",
        "- user_id\n",
        "\n"
      ]
    },
    {
      "cell_type": "markdown",
      "metadata": {
        "id": "JkyPORKNSYvV"
      },
      "source": [
        "# Challenge 1\n",
        "\n",
        "Step 1\n",
        "- Change exising producer\n",
        "\t- Change parquet location to \"/content/lake/bronze/messages/data\"\n",
        "\t- Add checkpoint (/content/lake/bronze/messages/checkpoint)\n",
        "\t- Delete /content/lake/bronze/messages and reprocess data\n",
        "\t- For reprocessing, run the streaming for at least 1 minute, then stop it\n",
        "\n",
        "Step 2\n",
        "- Implement new stream job to read from messages in bronze layer and split result in two locations\n",
        "\t- \"messages_corrupted\"\n",
        "\t\t- logic: event_status is null, empty or equal to \"NONE\"\n",
        "    - extra logic: add country name by joining message with countries dataset\n",
        "\t\t- partition by \"date\" -extract it from timestamp\n",
        "\t\t- location: /content/lake/silver/messages_corrupted/data\n",
        "\n",
        "\t- \"messages\"\n",
        "\t\t- logic: not corrupted data\n",
        "\t\t- extra logic: add country name by joining message with countries dataset\n",
        "\t\t- partition by \"date\" -extract it from timestamp\n",
        "\t\t- location: /content/lake/silver/messages/data\n",
        "\n",
        "\t- technical requirements\n",
        "\t\t- add checkpint (choose location)\n",
        "\t\t- use StructSchema\n",
        "\t\t- Set trigger interval to 5 seconds\n",
        "\t\t- run streaming for at least 20 seconds, then stop it\n",
        "\n",
        "\t- alternatives\n",
        "\t\t- implementing single streaming job with foreach/- foreachBatch logic to write into two locations\n",
        "\t\t- implementing two streaming jobs, one for messages and another for messages_corrupted\n",
        "\t\t- (paying attention on the paths and checkpoints)\n",
        "\n",
        "\n",
        "  - Check results:\n",
        "    - results from messages in bronze layer should match with the sum of messages+messages_corrupted in the silver layer"
      ]
    },
    {
      "cell_type": "code",
      "execution_count": 2,
      "metadata": {
        "colab": {
          "base_uri": "https://localhost:8080/"
        },
        "id": "Udk3tohSaXOH",
        "outputId": "d43cea7f-0604-4a41-d9d8-2d9f02b79ab3"
      },
      "outputs": [
        {
          "output_type": "stream",
          "name": "stdout",
          "text": [
            "Collecting faker\n",
            "  Downloading Faker-33.1.0-py3-none-any.whl.metadata (15 kB)\n",
            "Requirement already satisfied: python-dateutil>=2.4 in /usr/local/lib/python3.10/dist-packages (from faker) (2.8.2)\n",
            "Requirement already satisfied: typing-extensions in /usr/local/lib/python3.10/dist-packages (from faker) (4.12.2)\n",
            "Requirement already satisfied: six>=1.5 in /usr/local/lib/python3.10/dist-packages (from python-dateutil>=2.4->faker) (1.16.0)\n",
            "Downloading Faker-33.1.0-py3-none-any.whl (1.9 MB)\n",
            "\u001b[?25l   \u001b[90m━━━━━━━━━━━━━━━━━━━━━━━━━━━━━━━━━━━━━━━━\u001b[0m \u001b[32m0.0/1.9 MB\u001b[0m \u001b[31m?\u001b[0m eta \u001b[36m-:--:--\u001b[0m\r\u001b[2K   \u001b[91m━━━\u001b[0m\u001b[90m╺\u001b[0m\u001b[90m━━━━━━━━━━━━━━━━━━━━━━━━━━━━━━━━━━━━\u001b[0m \u001b[32m0.1/1.9 MB\u001b[0m \u001b[31m4.8 MB/s\u001b[0m eta \u001b[36m0:00:01\u001b[0m\r\u001b[2K   \u001b[91m━━━━━━━━━━━━━━━━━━━━━━━━━━━\u001b[0m\u001b[90m╺\u001b[0m\u001b[90m━━━━━━━━━━━━\u001b[0m \u001b[32m1.3/1.9 MB\u001b[0m \u001b[31m18.7 MB/s\u001b[0m eta \u001b[36m0:00:01\u001b[0m\r\u001b[2K   \u001b[90m━━━━━━━━━━━━━━━━━━━━━━━━━━━━━━━━━━━━━━━━\u001b[0m \u001b[32m1.9/1.9 MB\u001b[0m \u001b[31m19.1 MB/s\u001b[0m eta \u001b[36m0:00:00\u001b[0m\n",
            "\u001b[?25hInstalling collected packages: faker\n",
            "Successfully installed faker-33.1.0\n"
          ]
        }
      ],
      "source": [
        "%pip install faker"
      ]
    },
    {
      "cell_type": "code",
      "source": [
        "!mkdir -p /content/lake/bronze\n",
        "!mkdir -p /content/lake/silver\n",
        "!mkdir -p /content/lake/gold"
      ],
      "metadata": {
        "id": "2iC47w7K3lKG",
        "outputId": "d7e1c60e-c530-49f9-85c0-1677d88b3198",
        "colab": {
          "base_uri": "https://localhost:8080/"
        }
      },
      "execution_count": null,
      "outputs": [
        {
          "output_type": "stream",
          "name": "stdout",
          "text": [
            "shell-init: error retrieving current directory: getcwd: cannot access parent directories: No such file or directory\n",
            "shell-init: error retrieving current directory: getcwd: cannot access parent directories: No such file or directory\n",
            "shell-init: error retrieving current directory: getcwd: cannot access parent directories: No such file or directory\n"
          ]
        }
      ]
    },
    {
      "cell_type": "markdown",
      "metadata": {
        "id": "cDGMKwBdi1qy"
      },
      "source": [
        "# Producer"
      ]
    },
    {
      "cell_type": "code",
      "execution_count": 3,
      "metadata": {
        "colab": {
          "base_uri": "https://localhost:8080/"
        },
        "id": "tPCOdivrfhYh",
        "outputId": "3499f76e-58a3-4d9a-8b38-f504fbbacb91"
      },
      "outputs": [
        {
          "output_type": "execute_result",
          "data": {
            "text/plain": [
              "False"
            ]
          },
          "metadata": {},
          "execution_count": 3
        }
      ],
      "source": [
        "import pyspark.sql.functions as F\n",
        "from pyspark.sql import DataFrame\n",
        "from faker import Faker\n",
        "from pyspark.sql import SparkSession\n",
        "\n",
        "spark = SparkSession.builder.appName('Test streaming').getOrCreate()\n",
        "sc = spark.sparkContext\n",
        "\n",
        "fake = Faker()\n",
        "messages = [fake.uuid4() for _ in range(50)]\n",
        "\n",
        "def enrich_data(df, messages=messages):\n",
        "  fake = Faker()\n",
        "  new_columns = {\n",
        "      'event_type': F.lit(fake.random_element(elements=('OPEN', 'RECEIVED', 'SENT', 'CREATED', 'CLICKED', '', 'NONE'))),\n",
        "      'message_id': F.lit(fake.random_element(elements=messages)),\n",
        "      'channel': F.lit(fake.random_element(elements=('CHAT', 'EMAIL', 'SMS', 'PUSH', 'OTHER'))),\n",
        "      'country_id': F.lit(fake.random_int(min=2000, max=2015)),\n",
        "      'user_id': F.lit(fake.random_int(min=1000, max=1050)),\n",
        "  }\n",
        "  df = df.withColumns(new_columns)\n",
        "  return df\n",
        "\n",
        "def insert_messages(df: DataFrame, batch_id):\n",
        "  enrich = enrich_data(df)\n",
        "  enrich.write.mode(\"append\").format(\"parquet\").save(\"/content/lake/bronze/messages/data\")\n",
        "\n",
        "# read stream\n",
        "df_stream = spark.readStream.format(\"rate\").option(\"rowsPerSecond\", 1).load()\n",
        "\n",
        "# write stream\n",
        "query = (df_stream\n",
        "         .writeStream\n",
        "         .outputMode('append')\n",
        "         .option('checkpointLocation', \"/content/lake/bronze/checkpoint\")\n",
        "         .trigger(processingTime='1 seconds')\n",
        "         .foreachBatch(insert_messages)\n",
        "         .start()\n",
        ")\n",
        "\n",
        "query.awaitTermination(60)\n"
      ]
    },
    {
      "cell_type": "code",
      "source": [
        "query.isActive"
      ],
      "metadata": {
        "colab": {
          "base_uri": "https://localhost:8080/"
        },
        "id": "mpa6uFkUfUgJ",
        "outputId": "d2fe910f-cc70-4062-8460-659103c9f0be"
      },
      "execution_count": 4,
      "outputs": [
        {
          "output_type": "execute_result",
          "data": {
            "text/plain": [
              "True"
            ]
          },
          "metadata": {},
          "execution_count": 4
        }
      ]
    },
    {
      "cell_type": "code",
      "execution_count": 5,
      "metadata": {
        "id": "KNyUK3yplDhg"
      },
      "outputs": [],
      "source": [
        "query.stop()"
      ]
    },
    {
      "cell_type": "code",
      "execution_count": 7,
      "metadata": {
        "id": "ZWQExsnzlMFe",
        "colab": {
          "base_uri": "https://localhost:8080/"
        },
        "outputId": "6d98b8d3-c8f6-42e1-950a-f9ef338b9fd8"
      },
      "outputs": [
        {
          "output_type": "stream",
          "name": "stdout",
          "text": [
            "+--------------------+-----+----------+--------------------+-------+----------+-------+\n",
            "|           timestamp|value|event_type|          message_id|channel|country_id|user_id|\n",
            "+--------------------+-----+----------+--------------------+-------+----------+-------+\n",
            "|2024-12-10 21:38:...|    0|      NONE|3aeb6332-394f-4f9...|    SMS|      2015|   1029|\n",
            "|2024-12-10 21:38:...|    2|      NONE|3aeb6332-394f-4f9...|    SMS|      2015|   1029|\n",
            "|2024-12-10 21:38:...|    1|      NONE|3aeb6332-394f-4f9...|    SMS|      2015|   1029|\n",
            "|2024-12-10 21:38:...|    3|      NONE|3aeb6332-394f-4f9...|    SMS|      2015|   1029|\n",
            "|2024-12-10 21:39:...|   70|  RECEIVED|5a404e2d-0a37-4a3...|  EMAIL|      2010|   1013|\n",
            "|2024-12-10 21:38:...|   32|  RECEIVED|15aa6dbe-8ddd-468...|  EMAIL|      2006|   1017|\n",
            "|2024-12-10 21:39:...|   69|  RECEIVED|7efcb726-4d35-4f8...|  OTHER|      2004|   1042|\n",
            "|2024-12-10 21:38:...|    4|  RECEIVED|810166bd-4fc9-485...|  OTHER|      2000|   1013|\n",
            "|2024-12-10 21:38:...|   19|  RECEIVED|50de4c58-1ba5-4fd...|  OTHER|      2008|   1019|\n",
            "|2024-12-10 21:38:...|   22|   CLICKED|85203df2-4b21-4e7...|  EMAIL|      2004|   1033|\n",
            "|2024-12-10 21:38:...|   50|  RECEIVED|e38a6746-1a86-406...|   PUSH|      2006|   1006|\n",
            "|2024-12-10 21:38:...|    5|   CLICKED|4c74efcb-0e67-458...|  EMAIL|      2008|   1035|\n",
            "|2024-12-10 21:38:...|    6|  RECEIVED|15aa6dbe-8ddd-468...|   PUSH|      2002|   1035|\n",
            "|2024-12-10 21:38:...|   34|  RECEIVED|4bd4cb2e-e0a8-47e...|   CHAT|      2006|   1013|\n",
            "|2024-12-10 21:39:...|   78|  RECEIVED|7efcb726-4d35-4f8...|   CHAT|      2000|   1017|\n",
            "|2024-12-10 21:39:...|   74|   CREATED|3ea0c157-3eca-4af...|  EMAIL|      2013|   1037|\n",
            "|2024-12-10 21:38:...|   18|  RECEIVED|c2456276-8566-485...|   PUSH|      2011|   1009|\n",
            "|2024-12-10 21:38:...|   52|  RECEIVED|8f208f2e-7e0b-46d...|   PUSH|      2013|   1031|\n",
            "|2024-12-10 21:39:...|   82|  RECEIVED|b1da7cf9-defa-4a5...|   CHAT|      2005|   1031|\n",
            "|2024-12-10 21:38:...|    8|  RECEIVED|2ff05fc4-4572-435...|   CHAT|      2011|   1000|\n",
            "+--------------------+-----+----------+--------------------+-------+----------+-------+\n",
            "only showing top 20 rows\n",
            "\n"
          ]
        }
      ],
      "source": [
        "df = spark.read.format(\"parquet\").load(\"lake/bronze/messages/data/*\")\n",
        "df.show()"
      ]
    },
    {
      "cell_type": "markdown",
      "metadata": {
        "id": "RraxHCycMdEZ"
      },
      "source": [
        "# Additional datasets"
      ]
    },
    {
      "cell_type": "code",
      "execution_count": 8,
      "metadata": {
        "id": "cfsus3dxMcQI"
      },
      "outputs": [],
      "source": [
        "countries = [\n",
        "    {\"country_id\": 2000, \"country\": \"Brazil\"},\n",
        "    {\"country_id\": 2001, \"country\": \"Portugal\"},\n",
        "    {\"country_id\": 2002, \"country\": \"Spain\"},\n",
        "    {\"country_id\": 2003, \"country\": \"Germany\"},\n",
        "    {\"country_id\": 2004, \"country\": \"France\"},\n",
        "    {\"country_id\": 2005, \"country\": \"Italy\"},\n",
        "    {\"country_id\": 2006, \"country\": \"United Kingdom\"},\n",
        "    {\"country_id\": 2007, \"country\": \"United States\"},\n",
        "    {\"country_id\": 2008, \"country\": \"Canada\"},\n",
        "    {\"country_id\": 2009, \"country\": \"Australia\"},\n",
        "    {\"country_id\": 2010, \"country\": \"Japan\"},\n",
        "    {\"country_id\": 2011, \"country\": \"China\"},\n",
        "    {\"country_id\": 2012, \"country\": \"India\"},\n",
        "    {\"country_id\": 2013, \"country\": \"South Korea\"},\n",
        "    {\"country_id\": 2014, \"country\": \"Russia\"},\n",
        "    {\"country_id\": 2015, \"country\": \"Argentina\"}\n",
        "]\n",
        "\n",
        "countries = spark.createDataFrame(countries)"
      ]
    },
    {
      "cell_type": "markdown",
      "metadata": {
        "id": "Pg2nx03_Sn62"
      },
      "source": []
    },
    {
      "cell_type": "markdown",
      "metadata": {
        "id": "swvPj9hVpzNf"
      },
      "source": [
        "# Streaming Messages x Messages Corrupted"
      ]
    },
    {
      "cell_type": "code",
      "source": [
        "from pyspark.sql.functions import *\n",
        "from pyspark.sql.types import *\n",
        "\n",
        "def cleansing_silver(df: DataFrame):\n",
        "  messages = spark.read.format(\"parquet\").load(\"lake/bronze/messages/data/*\")\n",
        "  print(f\"DataFrame from bronze have {messages.count()} rows\")\n",
        "\n",
        "  print(f\"Joining country information to dataframe\")\n",
        "  messages = messages.join(countries, \"country_id\", \"left\")\n",
        "  messages = messages.withColumn(\"date\", col('timestamp').cast(\"date\"))\n",
        "\n",
        "  print(f'Filtering corrupted messages')\n",
        "  corrupted_df = messages.filter((col(\"event_type\").isNull() |\n",
        "                              (col(\"event_type\") == \"\") |\n",
        "                              (col(\"event_type\") == \"NONE\")\n",
        "                              ))\n",
        "  print(f'Saving corrupted messages on: /content/lake/silver/messages_corrupted/data')\n",
        "  corrupted_df.write.mode(\"append\").format(\"parquet\").partitionBy(\"date\").save(\"/content/lake/silver/messages_corrupted/data\")\n",
        "  print(f\"Corrupted DataFrame have {corrupted_df.count()} rows\")\n",
        "\n",
        "  print(f'Creating dataframe without messages')\n",
        "  clean_df = messages.filter(~(col(\"event_type\").isNull() |\n",
        "                          (col(\"event_type\") == \"\") |\n",
        "                          (col(\"event_type\") == \"NONE\"))\n",
        "                        )\n",
        "  print(f'Saving corrupted messages on: /content/lake/silver/messages/data')\n",
        "  clean_df.write.mode(\"append\").format(\"parquet\").partitionBy(\"date\").save(\"/content/lake/silver/messages/data\")\n",
        "  print(f\"Clean DataFrame have {clean_df.count()} rows\")"
      ],
      "metadata": {
        "id": "pY0wlHElmE5C",
        "outputId": "65bbee80-fd3b-4b51-ed54-e4978a04cb21",
        "colab": {
          "base_uri": "https://localhost:8080/"
        }
      },
      "execution_count": 16,
      "outputs": [
        {
          "output_type": "stream",
          "name": "stdout",
          "text": [
            "DataFrame from bronze have 85 rows\n",
            "Filtering corrupted messages\n",
            "Saving corrupted messages on: /content/lake/silver/messages_corrupted/data\n",
            "Creating dataframe without messages\n",
            "Saving corrupted messages on: /content/lake/silver/messages/data\n",
            "Corrupted DataFrame have 26 rows\n",
            "Clean DataFrame have 59 rows\n"
          ]
        }
      ]
    },
    {
      "cell_type": "code",
      "source": [
        "clean_schema = StructType([StructField('timestamp', TimestampType(), True),\n",
        "                     StructField('date', DateType(), True),\n",
        "                     StructField('user_id', IntegerType(), True),\n",
        "                     StructField('value', IntegerType(), True),\n",
        "                     StructField('event_type', StringType(), True),\n",
        "                     StructField('channel', StringType(), True),\n",
        "                     StructField('message_id', StringType(), True),\n",
        "                     StructField('country_id', IntegerType(), True),\n",
        "                     StructField('country', StringType(), True),\n",
        "                    ])\n",
        "\n",
        "# Read the streaming data\n",
        "messages = (spark.readStream\n",
        "               .format(\"parquet\")\n",
        "               .schema(clean_schema)\n",
        "               .load(\"content/lake/bronze/messages/data/*\")\n",
        ")\n",
        "\n",
        "# Write the streaming data with partitioning\n",
        "query = (messages.writeStream\n",
        "         .format(\"parquet\")\n",
        "         .outputMode(\"append\")\n",
        "         .option(\"checkpointLocation\", \"/content/lake/silver/messages/_checkpoints/\")\n",
        "         .trigger(processingTime='1 seconds')\n",
        "         .foreachBatch(cleansing_silver)\n",
        "         .start()\n",
        ")\n"
      ],
      "metadata": {
        "id": "i-I5VUWnim8g"
      },
      "execution_count": 17,
      "outputs": []
    },
    {
      "cell_type": "code",
      "source": [
        "from pyspark.sql.functions import *\n",
        "from pyspark.sql.types import *\n",
        "import time\n",
        "\n",
        "def cleansing_silver(df: DataFrame):\n",
        "    if df.isEmpty():\n",
        "        print(\"No data in the current batch.\")\n",
        "        return\n",
        "\n",
        "    print(f\"Processing batch with {df.count()} rows.\")\n",
        "\n",
        "    # Join with countries\n",
        "    df = df.join(broadcast(countries), \"country_id\", \"left\")\n",
        "    df = df.withColumn(\"date\", col('timestamp').cast(\"date\"))\n",
        "\n",
        "    print(f'Filtering corrupted messages...')\n",
        "    corrupted_df = messages.filter((col(\"event_type\").isNull() |\n",
        "                              (col(\"event_type\") == \"\") |\n",
        "                              (col(\"event_type\") == \"NONE\")\n",
        "                              ))\n",
        "\n",
        "    try:\n",
        "        print(f'Saving corrupted messages...')\n",
        "        corrupted_df.write.mode(\"append\").format(\"parquet\").partitionBy(\"date\").save(\"/content/lake/silver/messages_corrupted/data\")\n",
        "        print(f\"Corrupted DataFrame has {corrupted_df.count()} rows.\")\n",
        "    except Exception as e:\n",
        "        print(f\"Error saving corrupted messages: {e}\")\n",
        "\n",
        "    print(f'Creating dataframe without corrupted messages...')\n",
        "    clean_df = messages.filter(~(col(\"event_type\").isNull() |\n",
        "                          (col(\"event_type\") == \"\") |\n",
        "                          (col(\"event_type\") == \"NONE\"))\n",
        "                        )\n",
        "\n",
        "    try:\n",
        "        print(f'Saving clean messages...')\n",
        "        clean_df.write.mode(\"append\").format(\"parquet\").partitionBy(\"date\").save(\"/content/lake/silver/messages/data\")\n",
        "        print(f\"Clean DataFrame has {clean_df.count()} rows.\")\n",
        "    except Exception as e:\n",
        "        print(f\"Error saving clean messages: {e}\")\n",
        "\n",
        "\n",
        "print(f'Define streaming schema...')\n",
        "clean_schema = StructType([\n",
        "    StructField('timestamp', TimestampType(), True),\n",
        "    StructField('date', DateType(), True),\n",
        "    StructField('user_id', IntegerType(), True),\n",
        "    StructField('value', IntegerType(), True),\n",
        "    StructField('event_type', StringType(), True),\n",
        "    StructField('channel', StringType(), True),\n",
        "    StructField('message_id', StringType(), True),\n",
        "    StructField('country_id', IntegerType(), True),\n",
        "    StructField('country', StringType(), True),\n",
        "])\n",
        "\n",
        "print(f'Read the streaming data...')\n",
        "messages = (spark.readStream\n",
        "               .format(\"parquet\")\n",
        "               .schema(clean_schema)\n",
        "               .load(\"content/lake/bronze/messages/data/*\")\n",
        ")\n",
        "\n",
        "print(f'Write the streaming data and guarantee a checkpoint...')\n",
        "query = (messages.writeStream\n",
        "         .format(\"parquet\")\n",
        "         .outputMode(\"append\")\n",
        "         .option(\"checkpointLocation\", \"/content/lake/silver/messages/_checkpoints/\")\n",
        "         .trigger(processingTime='5 seconds')\n",
        "         .foreachBatch(cleansing_silver)\n",
        "         .start()\n",
        ")\n",
        "\n",
        "time.sleep(20)\n",
        "query.stop()"
      ],
      "metadata": {
        "id": "6PyBvauUlNNo"
      },
      "execution_count": null,
      "outputs": []
    },
    {
      "cell_type": "code",
      "source": [
        "def validate_results():\n",
        "    bronze_count = spark.read.format(\"parquet\").load(\"content/lake/bronze/messages/data/*\").count()\n",
        "    clean_count = spark.read.format(\"parquet\").load(\"/content/lake/silver/messages/data\").count()\n",
        "    corrupted_count = spark.read.format(\"parquet\").load(\"/content/lake/silver/messages_corrupted/data\").count()\n",
        "\n",
        "    assert bronze_count == clean_count + corrupted_count, \"Counts do not match!\"\n",
        "    print(\"Validation passed: Bronze = Clean + Corrupted\")"
      ],
      "metadata": {
        "id": "zaionqh2mIZt"
      },
      "execution_count": null,
      "outputs": []
    },
    {
      "cell_type": "code",
      "execution_count": null,
      "metadata": {
        "colab": {
          "base_uri": "https://localhost:8080/"
        },
        "id": "ZAHIZeZMlpoH",
        "outputId": "112472fb-eda9-4fb0-e7f4-365f08940886"
      },
      "outputs": [
        {
          "data": {
            "text/plain": [
              "False"
            ]
          },
          "execution_count": 151,
          "metadata": {},
          "output_type": "execute_result"
        }
      ],
      "source": [
        "# TODO"
      ]
    },
    {
      "cell_type": "code",
      "source": [
        "df = spark.read.format(\"parquet\").load(\"lake/silver/messages/data/*\")\n",
        "df.show()"
      ],
      "metadata": {
        "colab": {
          "base_uri": "https://localhost:8080/"
        },
        "id": "qE7HftCXrxfm",
        "outputId": "9a3d2ce6-4693-4047-b4c7-45cb781d754a"
      },
      "execution_count": null,
      "outputs": [
        {
          "output_type": "stream",
          "name": "stdout",
          "text": [
            "+--------------------+----------+\n",
            "|           timestamp|event_type|\n",
            "+--------------------+----------+\n",
            "|2024-12-09 22:34:...|  RECEIVED|\n",
            "|2024-12-09 22:34:...|  RECEIVED|\n",
            "|2024-12-09 22:33:...|  RECEIVED|\n",
            "|2024-12-09 22:34:...|  RECEIVED|\n",
            "|2024-12-09 22:34:...|  RECEIVED|\n",
            "|2024-12-09 22:34:...|  RECEIVED|\n",
            "|2024-12-09 22:34:...|  RECEIVED|\n",
            "|2024-12-09 22:34:...|   CLICKED|\n",
            "|2024-12-09 22:34:...|   CREATED|\n",
            "|2024-12-09 22:33:...|   CLICKED|\n",
            "|2024-12-09 22:34:...|  RECEIVED|\n",
            "|2024-12-09 22:34:...|   CREATED|\n",
            "|2024-12-09 22:34:...|   CLICKED|\n",
            "|2024-12-09 22:34:...|   CLICKED|\n",
            "|2024-12-09 22:34:...|   CREATED|\n",
            "|2024-12-09 22:33:...|   CREATED|\n",
            "|2024-12-09 22:33:...|   CLICKED|\n",
            "|2024-12-09 22:33:...|   CLICKED|\n",
            "|2024-12-09 22:34:...|   CREATED|\n",
            "|2024-12-09 22:33:...|  RECEIVED|\n",
            "+--------------------+----------+\n",
            "only showing top 20 rows\n",
            "\n"
          ]
        }
      ]
    },
    {
      "cell_type": "markdown",
      "metadata": {
        "id": "jLK9jpjCu3xE"
      },
      "source": [
        "## Checking data"
      ]
    },
    {
      "cell_type": "code",
      "execution_count": null,
      "metadata": {
        "id": "nk8seEvbmvcU"
      },
      "outputs": [],
      "source": [
        "# TODO"
      ]
    },
    {
      "cell_type": "markdown",
      "metadata": {
        "id": "rfxIlBISSvRP"
      },
      "source": [
        "# Challenge 2\n",
        "\n",
        "- Run business report\n",
        "- But first, there is a bug in the system which is causing some duplicated messages, we need to exclude these lines from the report\n",
        "\n",
        "- removing duplicates logic:\n",
        "  - Identify possible duplicates on message_id, event_type and channel\n",
        "  - in case of duplicates, consider only the first message (occurrence by timestamp)\n",
        "  - Ex:\n",
        "    In table below, the correct message to consider is the second line\n",
        "\n",
        "```\n",
        "    message_id | channel | event_type | timestamp\n",
        "    123        | CHAT    | CREATED    | 10:10:01\n",
        "    123        | CHAT    | CREATED    | 07:56:45 (first occurrence)\n",
        "    123        | CHAT    | CREATED    | 08:13:33\n",
        "```\n",
        "\n",
        "- After cleaning the data we're able to create the busines report"
      ]
    },
    {
      "cell_type": "code",
      "execution_count": null,
      "metadata": {
        "id": "R3J9XyOHhqvU"
      },
      "outputs": [],
      "source": [
        "# dedup data\n",
        "from pyspark.sql import functions as F\n",
        "from pyspark.sql.window import Window\n",
        "df = spark.read.format(\"parquet\").load(\"content/lake/silver/messages\")\n",
        "dedup = df.withColumn(\"row_number\", F.row_number().over(Window.partitionBy(\"message_id\", \"event_type\", \"channel\").orderBy(\"timestamp\"))).filter(\"row_number = 1\").drop(\"row_number\")"
      ]
    },
    {
      "cell_type": "markdown",
      "metadata": {
        "id": "RF9L9i25lk74"
      },
      "source": [
        "### Report 1\n",
        "  - Aggregate data by date, event_type and channel\n",
        "  - Count number of messages\n",
        "  - pivot event_type from rows into columns\n",
        "  - schema expected:\n",
        "  \n",
        "```\n",
        "|      date|channel|CLICKED|CREATED|OPEN|RECEIVED|SENT|\n",
        "+----------+-------+-------+-------+----+--------+----+\n",
        "|2024-12-03|    SMS|      4|      4|   1|       1|   5|\n",
        "|2024-12-03|   CHAT|      3|      7|   5|       8|   4|\n",
        "|2024-12-03|   PUSH|   NULL|      3|   4|       3|   4|\n",
        "```"
      ]
    },
    {
      "cell_type": "code",
      "execution_count": null,
      "metadata": {
        "id": "UPHSMSXnTKgu"
      },
      "outputs": [],
      "source": [
        "# report 1\n",
        "# TODO"
      ]
    },
    {
      "cell_type": "markdown",
      "metadata": {
        "id": "bxwOawo2lwQH"
      },
      "source": [
        "## Report 2\n",
        "\n",
        "- Identify the most active users by channel (sorted by number of iterations)\n",
        "- schema expected:\n",
        "\n",
        "```\n",
        "+-------+----------+----+-----+-----+----+---+\n",
        "|user_id|iterations|CHAT|EMAIL|OTHER|PUSH|SMS|\n",
        "+-------+----------+----+-----+-----+----+---+\n",
        "|   1022|         5|   2|    0|    1|   0|  2|\n",
        "|   1004|         4|   1|    1|    1|   1|  0|\n",
        "|   1013|         4|   0|    0|    2|   1|  1|\n",
        "|   1020|         4|   2|    0|    1|   1|  0|\n",
        "```\n"
      ]
    },
    {
      "cell_type": "code",
      "execution_count": null,
      "metadata": {
        "id": "rsS7bkAJmWsW"
      },
      "outputs": [],
      "source": [
        "# report 2\n",
        "# TODO"
      ]
    },
    {
      "cell_type": "markdown",
      "metadata": {
        "id": "a9_kzDbDwDOS"
      },
      "source": [
        "# Challenge 3"
      ]
    },
    {
      "cell_type": "code",
      "execution_count": null,
      "metadata": {
        "id": "Ef0RjFTxwE5y"
      },
      "outputs": [],
      "source": [
        "# Theoretical question:\n",
        "\n",
        "# A new usecase requires the message data to be aggregate in near real time\n",
        "# They want to build a dashboard embedded in the platform website to analyze message data in low latency (few minutes)\n",
        "# This application will access directly the data aggregated by streaming process\n",
        "\n",
        "# Q1:\n",
        "- What would be your suggestion to achieve that using Spark Structure Streaming?\n",
        "Or would you choose a different data processing tool?\n",
        "\n",
        "- Which storage would you use and why? (database?, data lake?, kafka?)\n",
        "\n"
      ]
    }
  ],
  "metadata": {
    "colab": {
      "provenance": [],
      "include_colab_link": true
    },
    "kernelspec": {
      "display_name": "Python 3",
      "name": "python3"
    },
    "language_info": {
      "name": "python"
    }
  },
  "nbformat": 4,
  "nbformat_minor": 0
}